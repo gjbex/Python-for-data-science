{
 "cells": [
  {
   "cell_type": "markdown",
   "id": "b446e11b-74fd-47e2-a586-0935b6069d3c",
   "metadata": {},
   "source": [
    "## Requirements"
   ]
  },
  {
   "cell_type": "code",
   "execution_count": 3,
   "id": "c9f1da30-f441-4aaa-b91c-c1b6cf3b934d",
   "metadata": {},
   "outputs": [],
   "source": [
    "import datetime\n",
    "import pandas as pd\n",
    "import polars as pl"
   ]
  },
  {
   "cell_type": "markdown",
   "id": "58cbdd87-d4f9-4866-9d5e-92a291f31731",
   "metadata": {},
   "source": [
    "## Reading CSV data"
   ]
  },
  {
   "cell_type": "markdown",
   "id": "51af18b4-fbf3-442c-8728-7c2881ce9975",
   "metadata": {},
   "source": [
    "The file `large_data_0001.csv` is not part of this repository due to its size.  It can be generated using the `create_csv_data.py` script.  However, note that this takes a couple of minutes for 2,500,000 rows and 100 columns."
   ]
  },
  {
   "cell_type": "code",
   "execution_count": 4,
   "id": "a2edcb93-917c-4450-8516-8799a4be9e3a",
   "metadata": {},
   "outputs": [],
   "source": [
    "file_name = 'large_data_0001.csv'"
   ]
  },
  {
   "cell_type": "code",
   "execution_count": 7,
   "id": "0dae0538-b515-43eb-a6e7-3c912fdec520",
   "metadata": {},
   "outputs": [
    {
     "name": "stdout",
     "output_type": "stream",
     "text": [
      "CPU times: user 3.48 s, sys: 1.75 s, total: 5.22 s\n",
      "Wall time: 890 ms\n"
     ]
    }
   ],
   "source": [
    "%time df_polars = pl.read_csv('large_data_0001.csv', try_parse_dates=True)"
   ]
  },
  {
   "cell_type": "code",
   "execution_count": 8,
   "id": "41066023-b80e-46be-bd3d-538edc93f88e",
   "metadata": {},
   "outputs": [
    {
     "name": "stdout",
     "output_type": "stream",
     "text": [
      "CPU times: user 8.52 s, sys: 2.33 s, total: 10.9 s\n",
      "Wall time: 10.8 s\n"
     ]
    }
   ],
   "source": [
    "%time df_pandas = pd.read_csv(file_name, parse_dates=['timestamp',])"
   ]
  },
  {
   "cell_type": "markdown",
   "id": "754c3fb2-2b75-495a-beb0-e262f72f95f6",
   "metadata": {},
   "source": [
    "Note that polars is clearly much faster and using multiple threads as the CPU time exceeds the walltime by a factor of 4."
   ]
  },
  {
   "cell_type": "code",
   "execution_count": 10,
   "id": "da4a3d72-7628-472a-950a-363696daabae",
   "metadata": {},
   "outputs": [
    {
     "name": "stdout",
     "output_type": "stream",
     "text": [
      "<class 'pandas.core.frame.DataFrame'>\n",
      "RangeIndex: 788323 entries, 0 to 788322\n",
      "Columns: 101 entries, timestamp to C100\n",
      "dtypes: datetime64[ns](1), float64(100)\n",
      "memory usage: 607.5 MB\n"
     ]
    }
   ],
   "source": [
    "df_pandas.info()"
   ]
  },
  {
   "cell_type": "code",
   "execution_count": 11,
   "id": "73bb42e3-67ad-47e5-a5b6-00fec8de08cf",
   "metadata": {},
   "outputs": [
    {
     "data": {
      "text/plain": [
       "636964984"
      ]
     },
     "execution_count": 11,
     "metadata": {},
     "output_type": "execute_result"
    }
   ],
   "source": [
    "df_polars.estimated_size()"
   ]
  },
  {
   "cell_type": "markdown",
   "id": "9a5865ee-19aa-43ee-8e39-cbd899e794d4",
   "metadata": {},
   "source": [
    "The size of the dataframes in memory is comparable.\n",
    "\n",
    "The data consists of a single column with timestamps, and 100 columns of random double precision floating point values."
   ]
  },
  {
   "cell_type": "markdown",
   "id": "111abd49-2975-4450-84cc-5ad8f56777ba",
   "metadata": {},
   "source": [
    "## Group by"
   ]
  },
  {
   "cell_type": "markdown",
   "id": "b3a73562-136c-4e9f-9889-4eb68824e501",
   "metadata": {},
   "source": [
    "To compare performance"
   ]
  },
  {
   "cell_type": "code",
   "execution_count": 24,
   "id": "c2e3e5b5-5433-439a-be0e-892444a08200",
   "metadata": {
    "scrolled": true
   },
   "outputs": [],
   "source": [
    "days_pandas = df_pandas.groupby(df_pandas.timestamp.dt.day).mean().drop('timestamp', axis=1)"
   ]
  },
  {
   "cell_type": "code",
   "execution_count": 25,
   "id": "e79e25e0-40a1-4465-9fc8-e2dacf6ac306",
   "metadata": {},
   "outputs": [
    {
     "data": {
      "text/html": [
       "<div>\n",
       "<style scoped>\n",
       "    .dataframe tbody tr th:only-of-type {\n",
       "        vertical-align: middle;\n",
       "    }\n",
       "\n",
       "    .dataframe tbody tr th {\n",
       "        vertical-align: top;\n",
       "    }\n",
       "\n",
       "    .dataframe thead th {\n",
       "        text-align: right;\n",
       "    }\n",
       "</style>\n",
       "<table border=\"1\" class=\"dataframe\">\n",
       "  <thead>\n",
       "    <tr style=\"text-align: right;\">\n",
       "      <th></th>\n",
       "      <th>C1</th>\n",
       "      <th>C2</th>\n",
       "      <th>C3</th>\n",
       "      <th>C4</th>\n",
       "      <th>C5</th>\n",
       "      <th>C6</th>\n",
       "      <th>C7</th>\n",
       "      <th>C8</th>\n",
       "      <th>C9</th>\n",
       "      <th>C10</th>\n",
       "      <th>...</th>\n",
       "      <th>C91</th>\n",
       "      <th>C92</th>\n",
       "      <th>C93</th>\n",
       "      <th>C94</th>\n",
       "      <th>C95</th>\n",
       "      <th>C96</th>\n",
       "      <th>C97</th>\n",
       "      <th>C98</th>\n",
       "      <th>C99</th>\n",
       "      <th>C100</th>\n",
       "    </tr>\n",
       "    <tr>\n",
       "      <th>timestamp</th>\n",
       "      <th></th>\n",
       "      <th></th>\n",
       "      <th></th>\n",
       "      <th></th>\n",
       "      <th></th>\n",
       "      <th></th>\n",
       "      <th></th>\n",
       "      <th></th>\n",
       "      <th></th>\n",
       "      <th></th>\n",
       "      <th></th>\n",
       "      <th></th>\n",
       "      <th></th>\n",
       "      <th></th>\n",
       "      <th></th>\n",
       "      <th></th>\n",
       "      <th></th>\n",
       "      <th></th>\n",
       "      <th></th>\n",
       "      <th></th>\n",
       "      <th></th>\n",
       "    </tr>\n",
       "  </thead>\n",
       "  <tbody>\n",
       "    <tr>\n",
       "      <th>8</th>\n",
       "      <td>1.616301</td>\n",
       "      <td>1.300036</td>\n",
       "      <td>0.817093</td>\n",
       "      <td>-0.913630</td>\n",
       "      <td>0.535643</td>\n",
       "      <td>-0.429099</td>\n",
       "      <td>1.379245</td>\n",
       "      <td>1.250309</td>\n",
       "      <td>0.573959</td>\n",
       "      <td>1.237401</td>\n",
       "      <td>...</td>\n",
       "      <td>1.028077</td>\n",
       "      <td>0.495149</td>\n",
       "      <td>0.427012</td>\n",
       "      <td>1.460489</td>\n",
       "      <td>1.121102</td>\n",
       "      <td>0.547403</td>\n",
       "      <td>0.544154</td>\n",
       "      <td>0.869386</td>\n",
       "      <td>0.418865</td>\n",
       "      <td>0.095361</td>\n",
       "    </tr>\n",
       "    <tr>\n",
       "      <th>9</th>\n",
       "      <td>1.786842</td>\n",
       "      <td>-0.056498</td>\n",
       "      <td>1.201573</td>\n",
       "      <td>-3.228591</td>\n",
       "      <td>0.872878</td>\n",
       "      <td>-1.875540</td>\n",
       "      <td>0.358851</td>\n",
       "      <td>1.010238</td>\n",
       "      <td>0.715874</td>\n",
       "      <td>0.827519</td>\n",
       "      <td>...</td>\n",
       "      <td>-0.706015</td>\n",
       "      <td>-1.444457</td>\n",
       "      <td>2.049320</td>\n",
       "      <td>3.110629</td>\n",
       "      <td>0.452043</td>\n",
       "      <td>0.017991</td>\n",
       "      <td>1.616743</td>\n",
       "      <td>2.704365</td>\n",
       "      <td>1.580477</td>\n",
       "      <td>0.372258</td>\n",
       "    </tr>\n",
       "    <tr>\n",
       "      <th>10</th>\n",
       "      <td>1.166582</td>\n",
       "      <td>-1.765113</td>\n",
       "      <td>2.616493</td>\n",
       "      <td>-4.584708</td>\n",
       "      <td>0.898354</td>\n",
       "      <td>-1.781852</td>\n",
       "      <td>-1.061848</td>\n",
       "      <td>3.123990</td>\n",
       "      <td>-1.051368</td>\n",
       "      <td>0.092403</td>\n",
       "      <td>...</td>\n",
       "      <td>-0.666805</td>\n",
       "      <td>-0.931251</td>\n",
       "      <td>5.258575</td>\n",
       "      <td>4.489650</td>\n",
       "      <td>0.336976</td>\n",
       "      <td>-2.257478</td>\n",
       "      <td>2.266737</td>\n",
       "      <td>3.005411</td>\n",
       "      <td>0.266224</td>\n",
       "      <td>0.728347</td>\n",
       "    </tr>\n",
       "    <tr>\n",
       "      <th>11</th>\n",
       "      <td>0.684858</td>\n",
       "      <td>0.075567</td>\n",
       "      <td>3.814915</td>\n",
       "      <td>-5.174099</td>\n",
       "      <td>-1.534156</td>\n",
       "      <td>-0.894954</td>\n",
       "      <td>-2.950941</td>\n",
       "      <td>6.056719</td>\n",
       "      <td>-2.593477</td>\n",
       "      <td>0.549919</td>\n",
       "      <td>...</td>\n",
       "      <td>-0.150487</td>\n",
       "      <td>-0.922968</td>\n",
       "      <td>4.638803</td>\n",
       "      <td>6.565021</td>\n",
       "      <td>-2.114639</td>\n",
       "      <td>-2.469373</td>\n",
       "      <td>2.944349</td>\n",
       "      <td>1.892101</td>\n",
       "      <td>0.343170</td>\n",
       "      <td>-0.247440</td>\n",
       "    </tr>\n",
       "    <tr>\n",
       "      <th>12</th>\n",
       "      <td>1.235231</td>\n",
       "      <td>1.158072</td>\n",
       "      <td>3.888712</td>\n",
       "      <td>-3.935502</td>\n",
       "      <td>-1.398850</td>\n",
       "      <td>0.489980</td>\n",
       "      <td>-3.206239</td>\n",
       "      <td>6.448509</td>\n",
       "      <td>-3.039776</td>\n",
       "      <td>-2.741378</td>\n",
       "      <td>...</td>\n",
       "      <td>2.216628</td>\n",
       "      <td>-0.647440</td>\n",
       "      <td>3.961334</td>\n",
       "      <td>8.398948</td>\n",
       "      <td>-4.383207</td>\n",
       "      <td>-1.800691</td>\n",
       "      <td>1.611947</td>\n",
       "      <td>0.446160</td>\n",
       "      <td>1.459684</td>\n",
       "      <td>1.974048</td>\n",
       "    </tr>\n",
       "    <tr>\n",
       "      <th>13</th>\n",
       "      <td>2.143065</td>\n",
       "      <td>0.349599</td>\n",
       "      <td>2.831058</td>\n",
       "      <td>-4.061167</td>\n",
       "      <td>-0.497423</td>\n",
       "      <td>2.322625</td>\n",
       "      <td>-3.918994</td>\n",
       "      <td>5.501107</td>\n",
       "      <td>-4.203526</td>\n",
       "      <td>-4.138458</td>\n",
       "      <td>...</td>\n",
       "      <td>4.040739</td>\n",
       "      <td>0.269732</td>\n",
       "      <td>2.153507</td>\n",
       "      <td>8.603117</td>\n",
       "      <td>-3.973901</td>\n",
       "      <td>-2.322601</td>\n",
       "      <td>1.501349</td>\n",
       "      <td>-0.178385</td>\n",
       "      <td>1.480074</td>\n",
       "      <td>3.288867</td>\n",
       "    </tr>\n",
       "    <tr>\n",
       "      <th>14</th>\n",
       "      <td>3.689370</td>\n",
       "      <td>0.905805</td>\n",
       "      <td>1.035925</td>\n",
       "      <td>-2.450461</td>\n",
       "      <td>0.197875</td>\n",
       "      <td>3.995446</td>\n",
       "      <td>-4.549313</td>\n",
       "      <td>6.753407</td>\n",
       "      <td>-5.230918</td>\n",
       "      <td>-5.653404</td>\n",
       "      <td>...</td>\n",
       "      <td>3.530662</td>\n",
       "      <td>1.607023</td>\n",
       "      <td>-1.462408</td>\n",
       "      <td>6.047800</td>\n",
       "      <td>-6.236200</td>\n",
       "      <td>-4.593256</td>\n",
       "      <td>1.584021</td>\n",
       "      <td>-0.868583</td>\n",
       "      <td>3.156440</td>\n",
       "      <td>3.118407</td>\n",
       "    </tr>\n",
       "    <tr>\n",
       "      <th>15</th>\n",
       "      <td>5.932281</td>\n",
       "      <td>2.894121</td>\n",
       "      <td>-0.157428</td>\n",
       "      <td>0.432282</td>\n",
       "      <td>1.267441</td>\n",
       "      <td>3.859335</td>\n",
       "      <td>-6.094502</td>\n",
       "      <td>5.347022</td>\n",
       "      <td>-4.258348</td>\n",
       "      <td>-3.587544</td>\n",
       "      <td>...</td>\n",
       "      <td>4.367099</td>\n",
       "      <td>-0.078792</td>\n",
       "      <td>-1.947600</td>\n",
       "      <td>6.475665</td>\n",
       "      <td>-8.298667</td>\n",
       "      <td>-7.190138</td>\n",
       "      <td>2.670641</td>\n",
       "      <td>-3.040704</td>\n",
       "      <td>5.743192</td>\n",
       "      <td>2.828484</td>\n",
       "    </tr>\n",
       "    <tr>\n",
       "      <th>16</th>\n",
       "      <td>7.517741</td>\n",
       "      <td>-0.668608</td>\n",
       "      <td>-2.349386</td>\n",
       "      <td>0.576194</td>\n",
       "      <td>3.205817</td>\n",
       "      <td>3.418862</td>\n",
       "      <td>-5.238684</td>\n",
       "      <td>5.185432</td>\n",
       "      <td>-2.962818</td>\n",
       "      <td>-2.843899</td>\n",
       "      <td>...</td>\n",
       "      <td>6.128017</td>\n",
       "      <td>-0.476227</td>\n",
       "      <td>-2.057771</td>\n",
       "      <td>5.692659</td>\n",
       "      <td>-10.035450</td>\n",
       "      <td>-8.959109</td>\n",
       "      <td>0.893540</td>\n",
       "      <td>-3.915458</td>\n",
       "      <td>6.361079</td>\n",
       "      <td>2.199180</td>\n",
       "    </tr>\n",
       "    <tr>\n",
       "      <th>17</th>\n",
       "      <td>8.268051</td>\n",
       "      <td>-2.470533</td>\n",
       "      <td>-2.288816</td>\n",
       "      <td>0.439305</td>\n",
       "      <td>2.777163</td>\n",
       "      <td>3.453478</td>\n",
       "      <td>-5.221394</td>\n",
       "      <td>6.291019</td>\n",
       "      <td>-4.465589</td>\n",
       "      <td>-2.325201</td>\n",
       "      <td>...</td>\n",
       "      <td>6.942416</td>\n",
       "      <td>0.633056</td>\n",
       "      <td>-2.242300</td>\n",
       "      <td>4.354759</td>\n",
       "      <td>-11.718617</td>\n",
       "      <td>-7.888048</td>\n",
       "      <td>-0.178953</td>\n",
       "      <td>-6.511815</td>\n",
       "      <td>5.713905</td>\n",
       "      <td>3.004642</td>\n",
       "    </tr>\n",
       "  </tbody>\n",
       "</table>\n",
       "<p>10 rows × 100 columns</p>\n",
       "</div>"
      ],
      "text/plain": [
       "                 C1        C2        C3        C4        C5        C6  \\\n",
       "timestamp                                                               \n",
       "8          1.616301  1.300036  0.817093 -0.913630  0.535643 -0.429099   \n",
       "9          1.786842 -0.056498  1.201573 -3.228591  0.872878 -1.875540   \n",
       "10         1.166582 -1.765113  2.616493 -4.584708  0.898354 -1.781852   \n",
       "11         0.684858  0.075567  3.814915 -5.174099 -1.534156 -0.894954   \n",
       "12         1.235231  1.158072  3.888712 -3.935502 -1.398850  0.489980   \n",
       "13         2.143065  0.349599  2.831058 -4.061167 -0.497423  2.322625   \n",
       "14         3.689370  0.905805  1.035925 -2.450461  0.197875  3.995446   \n",
       "15         5.932281  2.894121 -0.157428  0.432282  1.267441  3.859335   \n",
       "16         7.517741 -0.668608 -2.349386  0.576194  3.205817  3.418862   \n",
       "17         8.268051 -2.470533 -2.288816  0.439305  2.777163  3.453478   \n",
       "\n",
       "                 C7        C8        C9       C10  ...       C91       C92  \\\n",
       "timestamp                                          ...                       \n",
       "8          1.379245  1.250309  0.573959  1.237401  ...  1.028077  0.495149   \n",
       "9          0.358851  1.010238  0.715874  0.827519  ... -0.706015 -1.444457   \n",
       "10        -1.061848  3.123990 -1.051368  0.092403  ... -0.666805 -0.931251   \n",
       "11        -2.950941  6.056719 -2.593477  0.549919  ... -0.150487 -0.922968   \n",
       "12        -3.206239  6.448509 -3.039776 -2.741378  ...  2.216628 -0.647440   \n",
       "13        -3.918994  5.501107 -4.203526 -4.138458  ...  4.040739  0.269732   \n",
       "14        -4.549313  6.753407 -5.230918 -5.653404  ...  3.530662  1.607023   \n",
       "15        -6.094502  5.347022 -4.258348 -3.587544  ...  4.367099 -0.078792   \n",
       "16        -5.238684  5.185432 -2.962818 -2.843899  ...  6.128017 -0.476227   \n",
       "17        -5.221394  6.291019 -4.465589 -2.325201  ...  6.942416  0.633056   \n",
       "\n",
       "                C93       C94        C95       C96       C97       C98  \\\n",
       "timestamp                                                                \n",
       "8          0.427012  1.460489   1.121102  0.547403  0.544154  0.869386   \n",
       "9          2.049320  3.110629   0.452043  0.017991  1.616743  2.704365   \n",
       "10         5.258575  4.489650   0.336976 -2.257478  2.266737  3.005411   \n",
       "11         4.638803  6.565021  -2.114639 -2.469373  2.944349  1.892101   \n",
       "12         3.961334  8.398948  -4.383207 -1.800691  1.611947  0.446160   \n",
       "13         2.153507  8.603117  -3.973901 -2.322601  1.501349 -0.178385   \n",
       "14        -1.462408  6.047800  -6.236200 -4.593256  1.584021 -0.868583   \n",
       "15        -1.947600  6.475665  -8.298667 -7.190138  2.670641 -3.040704   \n",
       "16        -2.057771  5.692659 -10.035450 -8.959109  0.893540 -3.915458   \n",
       "17        -2.242300  4.354759 -11.718617 -7.888048 -0.178953 -6.511815   \n",
       "\n",
       "                C99      C100  \n",
       "timestamp                      \n",
       "8          0.418865  0.095361  \n",
       "9          1.580477  0.372258  \n",
       "10         0.266224  0.728347  \n",
       "11         0.343170 -0.247440  \n",
       "12         1.459684  1.974048  \n",
       "13         1.480074  3.288867  \n",
       "14         3.156440  3.118407  \n",
       "15         5.743192  2.828484  \n",
       "16         6.361079  2.199180  \n",
       "17         5.713905  3.004642  \n",
       "\n",
       "[10 rows x 100 columns]"
      ]
     },
     "execution_count": 25,
     "metadata": {},
     "output_type": "execute_result"
    }
   ],
   "source": [
    "days_pandas"
   ]
  },
  {
   "cell_type": "code",
   "execution_count": 18,
   "id": "85de86a0-3aac-41f0-9c8e-12cef85d350c",
   "metadata": {},
   "outputs": [],
   "source": [
    "days_polars = df_polars.group_by_dynamic('timestamp', every='1d').agg(pl.exclude('timestamp').mean())"
   ]
  },
  {
   "cell_type": "code",
   "execution_count": 19,
   "id": "3123a2db-0d59-461f-b8c3-366f6a833c77",
   "metadata": {},
   "outputs": [
    {
     "data": {
      "text/html": [
       "<div><style>\n",
       ".dataframe > thead > tr,\n",
       ".dataframe > tbody > tr {\n",
       "  text-align: right;\n",
       "  white-space: pre-wrap;\n",
       "}\n",
       "</style>\n",
       "<small>shape: (10, 101)</small><table border=\"1\" class=\"dataframe\"><thead><tr><th>timestamp</th><th>C1</th><th>C2</th><th>C3</th><th>C4</th><th>C5</th><th>C6</th><th>C7</th><th>C8</th><th>C9</th><th>C10</th><th>C11</th><th>C12</th><th>C13</th><th>C14</th><th>C15</th><th>C16</th><th>C17</th><th>C18</th><th>C19</th><th>C20</th><th>C21</th><th>C22</th><th>C23</th><th>C24</th><th>C25</th><th>C26</th><th>C27</th><th>C28</th><th>C29</th><th>C30</th><th>C31</th><th>C32</th><th>C33</th><th>C34</th><th>C35</th><th>C36</th><th>&hellip;</th><th>C64</th><th>C65</th><th>C66</th><th>C67</th><th>C68</th><th>C69</th><th>C70</th><th>C71</th><th>C72</th><th>C73</th><th>C74</th><th>C75</th><th>C76</th><th>C77</th><th>C78</th><th>C79</th><th>C80</th><th>C81</th><th>C82</th><th>C83</th><th>C84</th><th>C85</th><th>C86</th><th>C87</th><th>C88</th><th>C89</th><th>C90</th><th>C91</th><th>C92</th><th>C93</th><th>C94</th><th>C95</th><th>C96</th><th>C97</th><th>C98</th><th>C99</th><th>C100</th></tr><tr><td>datetime[μs]</td><td>f64</td><td>f64</td><td>f64</td><td>f64</td><td>f64</td><td>f64</td><td>f64</td><td>f64</td><td>f64</td><td>f64</td><td>f64</td><td>f64</td><td>f64</td><td>f64</td><td>f64</td><td>f64</td><td>f64</td><td>f64</td><td>f64</td><td>f64</td><td>f64</td><td>f64</td><td>f64</td><td>f64</td><td>f64</td><td>f64</td><td>f64</td><td>f64</td><td>f64</td><td>f64</td><td>f64</td><td>f64</td><td>f64</td><td>f64</td><td>f64</td><td>f64</td><td>&hellip;</td><td>f64</td><td>f64</td><td>f64</td><td>f64</td><td>f64</td><td>f64</td><td>f64</td><td>f64</td><td>f64</td><td>f64</td><td>f64</td><td>f64</td><td>f64</td><td>f64</td><td>f64</td><td>f64</td><td>f64</td><td>f64</td><td>f64</td><td>f64</td><td>f64</td><td>f64</td><td>f64</td><td>f64</td><td>f64</td><td>f64</td><td>f64</td><td>f64</td><td>f64</td><td>f64</td><td>f64</td><td>f64</td><td>f64</td><td>f64</td><td>f64</td><td>f64</td><td>f64</td></tr></thead><tbody><tr><td>2024-09-08 00:00:00</td><td>1.616301</td><td>1.300036</td><td>0.817093</td><td>-0.91363</td><td>0.535643</td><td>-0.429099</td><td>1.379245</td><td>1.250309</td><td>0.573959</td><td>1.237401</td><td>0.982781</td><td>1.159419</td><td>0.585748</td><td>2.077831</td><td>1.345749</td><td>1.448089</td><td>1.339835</td><td>1.6741</td><td>1.16905</td><td>1.125851</td><td>1.4459</td><td>1.007367</td><td>1.406774</td><td>1.651724</td><td>2.013898</td><td>0.903761</td><td>1.686244</td><td>2.16086</td><td>0.48558</td><td>0.60199</td><td>0.911072</td><td>1.105152</td><td>1.249857</td><td>2.314174</td><td>-0.020963</td><td>1.621261</td><td>&hellip;</td><td>1.973455</td><td>0.193607</td><td>-0.228364</td><td>2.240416</td><td>0.523938</td><td>-0.060897</td><td>2.703007</td><td>0.729973</td><td>1.013803</td><td>1.009531</td><td>0.740613</td><td>1.451533</td><td>2.310108</td><td>1.665348</td><td>0.983064</td><td>0.342018</td><td>0.904942</td><td>1.264219</td><td>1.118301</td><td>1.154367</td><td>0.917321</td><td>1.626718</td><td>0.423192</td><td>0.455271</td><td>0.949298</td><td>1.498886</td><td>0.752201</td><td>1.028077</td><td>0.495149</td><td>0.427012</td><td>1.460489</td><td>1.121102</td><td>0.547403</td><td>0.544154</td><td>0.869386</td><td>0.418865</td><td>0.095361</td></tr><tr><td>2024-09-09 00:00:00</td><td>1.786842</td><td>-0.056498</td><td>1.201573</td><td>-3.228591</td><td>0.872878</td><td>-1.87554</td><td>0.358851</td><td>1.010238</td><td>0.715874</td><td>0.827519</td><td>2.091645</td><td>1.052777</td><td>-0.118401</td><td>1.590183</td><td>2.055889</td><td>0.140329</td><td>2.170482</td><td>2.159051</td><td>1.638223</td><td>1.479489</td><td>2.707478</td><td>2.720873</td><td>2.553631</td><td>0.043101</td><td>2.904378</td><td>1.331285</td><td>2.855481</td><td>3.873791</td><td>1.276888</td><td>0.344223</td><td>3.335522</td><td>0.844653</td><td>1.134549</td><td>2.265679</td><td>0.05006</td><td>2.27837</td><td>&hellip;</td><td>0.460976</td><td>0.410341</td><td>0.108861</td><td>4.748316</td><td>1.627707</td><td>0.539094</td><td>3.540375</td><td>-0.552004</td><td>3.050409</td><td>0.69322</td><td>2.125061</td><td>0.401773</td><td>3.052611</td><td>1.326555</td><td>1.08147</td><td>-2.080009</td><td>-0.369088</td><td>0.746834</td><td>3.414918</td><td>0.333866</td><td>0.105144</td><td>-0.072555</td><td>-0.910073</td><td>-0.06145</td><td>0.458449</td><td>2.09503</td><td>1.380138</td><td>-0.706015</td><td>-1.444457</td><td>2.04932</td><td>3.110629</td><td>0.452043</td><td>0.017991</td><td>1.616743</td><td>2.704365</td><td>1.580477</td><td>0.372258</td></tr><tr><td>2024-09-10 00:00:00</td><td>1.166582</td><td>-1.765113</td><td>2.616493</td><td>-4.584708</td><td>0.898354</td><td>-1.781852</td><td>-1.061848</td><td>3.12399</td><td>-1.051368</td><td>0.092403</td><td>2.106916</td><td>-0.72748</td><td>0.498398</td><td>1.416709</td><td>0.363319</td><td>-0.391991</td><td>3.839071</td><td>-0.559622</td><td>1.432966</td><td>2.574934</td><td>3.257619</td><td>3.773844</td><td>1.94342</td><td>0.487923</td><td>4.609183</td><td>0.432212</td><td>2.489001</td><td>5.194257</td><td>1.394994</td><td>-1.117632</td><td>5.396862</td><td>1.058438</td><td>-0.544048</td><td>3.556528</td><td>-0.427315</td><td>2.231885</td><td>&hellip;</td><td>-2.881626</td><td>0.569615</td><td>-1.261293</td><td>5.996657</td><td>2.038671</td><td>1.031554</td><td>4.983702</td><td>1.927114</td><td>3.448345</td><td>0.929329</td><td>1.797745</td><td>1.851652</td><td>5.041373</td><td>2.039314</td><td>3.29611</td><td>-1.226162</td><td>0.158645</td><td>-1.090539</td><td>4.955187</td><td>-0.847299</td><td>2.466571</td><td>-0.566162</td><td>-0.115582</td><td>-1.271779</td><td>-0.900249</td><td>1.29768</td><td>-0.05552</td><td>-0.666805</td><td>-0.931251</td><td>5.258575</td><td>4.48965</td><td>0.336976</td><td>-2.257478</td><td>2.266737</td><td>3.005411</td><td>0.266224</td><td>0.728347</td></tr><tr><td>2024-09-11 00:00:00</td><td>0.684858</td><td>0.075567</td><td>3.814915</td><td>-5.174099</td><td>-1.534156</td><td>-0.894954</td><td>-2.950941</td><td>6.056719</td><td>-2.593477</td><td>0.549919</td><td>3.437001</td><td>-2.011032</td><td>1.015086</td><td>1.589247</td><td>-1.553823</td><td>-1.732432</td><td>5.557026</td><td>-0.534163</td><td>1.742049</td><td>2.292838</td><td>2.839152</td><td>2.494044</td><td>4.129099</td><td>3.513298</td><td>5.858024</td><td>0.533401</td><td>3.977967</td><td>3.367904</td><td>0.175142</td><td>-1.95852</td><td>5.924509</td><td>3.221549</td><td>-2.133666</td><td>2.881073</td><td>-0.571055</td><td>0.948886</td><td>&hellip;</td><td>-4.786809</td><td>1.142252</td><td>-3.188121</td><td>6.507497</td><td>-0.666797</td><td>0.535986</td><td>4.66567</td><td>3.929653</td><td>2.002436</td><td>2.061943</td><td>1.742559</td><td>3.647125</td><td>6.660319</td><td>0.926644</td><td>3.59704</td><td>-0.11981</td><td>0.077828</td><td>-3.857305</td><td>6.467044</td><td>-2.50863</td><td>2.708966</td><td>1.772397</td><td>0.719615</td><td>-1.489783</td><td>-2.405882</td><td>0.509248</td><td>-1.610418</td><td>-0.150487</td><td>-0.922968</td><td>4.638803</td><td>6.565021</td><td>-2.114639</td><td>-2.469373</td><td>2.944349</td><td>1.892101</td><td>0.34317</td><td>-0.24744</td></tr><tr><td>2024-09-12 00:00:00</td><td>1.235231</td><td>1.158072</td><td>3.888712</td><td>-3.935502</td><td>-1.39885</td><td>0.48998</td><td>-3.206239</td><td>6.448509</td><td>-3.039776</td><td>-2.741378</td><td>3.292258</td><td>-1.328935</td><td>1.091565</td><td>3.241458</td><td>-1.942603</td><td>-2.442468</td><td>4.576457</td><td>-0.607023</td><td>3.264525</td><td>2.481576</td><td>3.089234</td><td>1.256887</td><td>4.097257</td><td>4.340677</td><td>4.585012</td><td>0.637519</td><td>4.171094</td><td>0.218176</td><td>-3.239449</td><td>0.180732</td><td>4.846397</td><td>4.185399</td><td>-2.495979</td><td>3.723028</td><td>2.443621</td><td>-0.20868</td><td>&hellip;</td><td>-3.441645</td><td>1.108775</td><td>-1.878083</td><td>6.426544</td><td>-2.17253</td><td>2.38261</td><td>4.544575</td><td>5.203969</td><td>1.507189</td><td>3.275772</td><td>1.413667</td><td>3.411534</td><td>6.781933</td><td>0.198718</td><td>2.15762</td><td>1.793607</td><td>-1.232916</td><td>-4.271413</td><td>7.815731</td><td>-3.907045</td><td>3.654803</td><td>3.66498</td><td>1.935722</td><td>-0.288148</td><td>-3.070293</td><td>-0.746518</td><td>-1.875368</td><td>2.216628</td><td>-0.64744</td><td>3.961334</td><td>8.398948</td><td>-4.383207</td><td>-1.800691</td><td>1.611947</td><td>0.44616</td><td>1.459684</td><td>1.974048</td></tr><tr><td>2024-09-13 00:00:00</td><td>2.143065</td><td>0.349599</td><td>2.831058</td><td>-4.061167</td><td>-0.497423</td><td>2.322625</td><td>-3.918994</td><td>5.501107</td><td>-4.203526</td><td>-4.138458</td><td>2.289986</td><td>-0.387025</td><td>0.51745</td><td>3.327066</td><td>-0.729529</td><td>-4.005852</td><td>5.455174</td><td>-0.766733</td><td>1.826089</td><td>2.457233</td><td>2.775518</td><td>-2.161288</td><td>2.321094</td><td>6.338865</td><td>3.58725</td><td>1.011957</td><td>2.155379</td><td>-2.228234</td><td>-1.870754</td><td>1.196543</td><td>2.069739</td><td>5.737658</td><td>-2.350389</td><td>6.229373</td><td>6.908057</td><td>1.81484</td><td>&hellip;</td><td>-3.649144</td><td>-0.495649</td><td>-2.05956</td><td>6.667012</td><td>-3.24819</td><td>2.73069</td><td>4.887371</td><td>6.925909</td><td>2.023793</td><td>5.549064</td><td>0.025296</td><td>4.60181</td><td>5.296645</td><td>0.77579</td><td>5.825648</td><td>1.947121</td><td>-0.602369</td><td>-4.279528</td><td>8.019723</td><td>-2.550035</td><td>3.023903</td><td>3.01404</td><td>1.207319</td><td>-2.977805</td><td>-2.334758</td><td>-1.400146</td><td>-2.24348</td><td>4.040739</td><td>0.269732</td><td>2.153507</td><td>8.603117</td><td>-3.973901</td><td>-2.322601</td><td>1.501349</td><td>-0.178385</td><td>1.480074</td><td>3.288867</td></tr><tr><td>2024-09-14 00:00:00</td><td>3.68937</td><td>0.905805</td><td>1.035925</td><td>-2.450461</td><td>0.197875</td><td>3.995446</td><td>-4.549313</td><td>6.753407</td><td>-5.230918</td><td>-5.653404</td><td>2.938637</td><td>0.153726</td><td>1.197427</td><td>2.067732</td><td>-1.365605</td><td>-5.68802</td><td>4.539515</td><td>-1.777085</td><td>1.622908</td><td>3.525372</td><td>0.698851</td><td>-3.145046</td><td>1.997584</td><td>5.499385</td><td>3.285727</td><td>-1.987387</td><td>2.055214</td><td>-3.124402</td><td>-0.366389</td><td>1.446609</td><td>1.710554</td><td>6.587202</td><td>0.062492</td><td>7.041162</td><td>5.291422</td><td>1.38144</td><td>&hellip;</td><td>-3.494436</td><td>-1.194484</td><td>-1.848601</td><td>8.443746</td><td>-2.532608</td><td>2.584296</td><td>5.737177</td><td>10.316784</td><td>0.414589</td><td>4.43434</td><td>-0.519822</td><td>5.738226</td><td>5.924964</td><td>0.894796</td><td>5.122497</td><td>2.079483</td><td>0.913236</td><td>-2.081347</td><td>9.135655</td><td>-1.885221</td><td>1.692249</td><td>3.962532</td><td>1.388968</td><td>-1.824095</td><td>-4.063396</td><td>1.790472</td><td>-3.882066</td><td>3.530662</td><td>1.607023</td><td>-1.462408</td><td>6.0478</td><td>-6.2362</td><td>-4.593256</td><td>1.584021</td><td>-0.868583</td><td>3.15644</td><td>3.118407</td></tr><tr><td>2024-09-15 00:00:00</td><td>5.932281</td><td>2.894121</td><td>-0.157428</td><td>0.432282</td><td>1.267441</td><td>3.859335</td><td>-6.094502</td><td>5.347022</td><td>-4.258348</td><td>-3.587544</td><td>3.663918</td><td>-4.18298</td><td>1.212095</td><td>3.61274</td><td>-0.61018</td><td>-4.451037</td><td>2.743829</td><td>-3.875607</td><td>1.029112</td><td>5.290608</td><td>1.67304</td><td>-2.656575</td><td>2.080336</td><td>4.628141</td><td>1.544832</td><td>-1.280446</td><td>3.877778</td><td>-2.796863</td><td>-1.458438</td><td>1.727956</td><td>-1.082872</td><td>7.785599</td><td>1.103394</td><td>8.09311</td><td>4.422299</td><td>-0.447836</td><td>&hellip;</td><td>-1.69825</td><td>-0.576541</td><td>-1.86137</td><td>8.697586</td><td>-3.124559</td><td>2.479545</td><td>6.906934</td><td>10.803066</td><td>0.282833</td><td>2.284327</td><td>-0.326932</td><td>7.172197</td><td>5.945314</td><td>3.088151</td><td>2.197997</td><td>-0.27037</td><td>-1.429124</td><td>-1.30821</td><td>11.043346</td><td>-3.719491</td><td>-0.113464</td><td>4.767791</td><td>2.506543</td><td>-2.080722</td><td>-2.380697</td><td>2.936742</td><td>-6.838807</td><td>4.367099</td><td>-0.078792</td><td>-1.9476</td><td>6.475665</td><td>-8.298667</td><td>-7.190138</td><td>2.670641</td><td>-3.040704</td><td>5.743192</td><td>2.828484</td></tr><tr><td>2024-09-16 00:00:00</td><td>7.517741</td><td>-0.668608</td><td>-2.349386</td><td>0.576194</td><td>3.205817</td><td>3.418862</td><td>-5.238684</td><td>5.185432</td><td>-2.962818</td><td>-2.843899</td><td>4.891795</td><td>-4.547975</td><td>1.541345</td><td>2.686747</td><td>-0.905386</td><td>-3.911697</td><td>2.195091</td><td>-5.593515</td><td>0.622991</td><td>4.658961</td><td>1.252889</td><td>-4.243377</td><td>3.599806</td><td>5.847883</td><td>-0.225521</td><td>-1.491861</td><td>4.306071</td><td>-1.05586</td><td>-4.476028</td><td>4.9063</td><td>-3.422875</td><td>6.70291</td><td>-0.115326</td><td>10.419873</td><td>5.171338</td><td>-1.505992</td><td>&hellip;</td><td>-1.140233</td><td>-0.409036</td><td>-2.908541</td><td>9.416229</td><td>-4.08284</td><td>5.125313</td><td>7.58932</td><td>10.250572</td><td>-0.558202</td><td>2.438107</td><td>-1.391983</td><td>10.640271</td><td>4.15382</td><td>4.113465</td><td>2.457383</td><td>-2.969235</td><td>-1.040482</td><td>-2.388332</td><td>7.528498</td><td>-6.64598</td><td>0.688663</td><td>5.440681</td><td>2.436438</td><td>-2.117734</td><td>-3.446317</td><td>1.096174</td><td>-7.180263</td><td>6.128017</td><td>-0.476227</td><td>-2.057771</td><td>5.692659</td><td>-10.03545</td><td>-8.959109</td><td>0.89354</td><td>-3.915458</td><td>6.361079</td><td>2.19918</td></tr><tr><td>2024-09-17 00:00:00</td><td>8.268051</td><td>-2.470533</td><td>-2.288816</td><td>0.439305</td><td>2.777163</td><td>3.453478</td><td>-5.221394</td><td>6.291019</td><td>-4.465589</td><td>-2.325201</td><td>4.4229</td><td>-6.556634</td><td>0.562967</td><td>1.414037</td><td>-0.563072</td><td>-2.355096</td><td>1.524032</td><td>-4.137663</td><td>2.088169</td><td>4.103109</td><td>0.953313</td><td>-3.695529</td><td>4.471817</td><td>7.70909</td><td>-1.842608</td><td>-2.125707</td><td>4.269358</td><td>0.21231</td><td>-4.837307</td><td>3.963298</td><td>-3.396995</td><td>4.917516</td><td>-1.507746</td><td>10.185949</td><td>7.713718</td><td>-2.489582</td><td>&hellip;</td><td>-2.92</td><td>-1.0288</td><td>-1.021764</td><td>9.170211</td><td>-4.298342</td><td>6.045182</td><td>8.165771</td><td>9.693711</td><td>-1.630529</td><td>2.791592</td><td>-1.688646</td><td>11.959492</td><td>1.889026</td><td>3.290468</td><td>2.151743</td><td>-3.97619</td><td>-0.332475</td><td>-3.876011</td><td>7.277666</td><td>-7.432629</td><td>0.214592</td><td>2.865362</td><td>3.299368</td><td>-0.088393</td><td>-3.592759</td><td>2.012585</td><td>-7.478848</td><td>6.942416</td><td>0.633056</td><td>-2.2423</td><td>4.354759</td><td>-11.718617</td><td>-7.888048</td><td>-0.178953</td><td>-6.511815</td><td>5.713905</td><td>3.004642</td></tr></tbody></table></div>"
      ],
      "text/plain": [
       "shape: (10, 101)\n",
       "┌─────────────┬──────────┬───────────┬───────────┬───┬───────────┬───────────┬──────────┬──────────┐\n",
       "│ timestamp   ┆ C1       ┆ C2        ┆ C3        ┆ … ┆ C97       ┆ C98       ┆ C99      ┆ C100     │\n",
       "│ ---         ┆ ---      ┆ ---       ┆ ---       ┆   ┆ ---       ┆ ---       ┆ ---      ┆ ---      │\n",
       "│ datetime[μs ┆ f64      ┆ f64       ┆ f64       ┆   ┆ f64       ┆ f64       ┆ f64      ┆ f64      │\n",
       "│ ]           ┆          ┆           ┆           ┆   ┆           ┆           ┆          ┆          │\n",
       "╞═════════════╪══════════╪═══════════╪═══════════╪═══╪═══════════╪═══════════╪══════════╪══════════╡\n",
       "│ 2024-09-08  ┆ 1.616301 ┆ 1.300036  ┆ 0.817093  ┆ … ┆ 0.544154  ┆ 0.869386  ┆ 0.418865 ┆ 0.095361 │\n",
       "│ 00:00:00    ┆          ┆           ┆           ┆   ┆           ┆           ┆          ┆          │\n",
       "│ 2024-09-09  ┆ 1.786842 ┆ -0.056498 ┆ 1.201573  ┆ … ┆ 1.616743  ┆ 2.704365  ┆ 1.580477 ┆ 0.372258 │\n",
       "│ 00:00:00    ┆          ┆           ┆           ┆   ┆           ┆           ┆          ┆          │\n",
       "│ 2024-09-10  ┆ 1.166582 ┆ -1.765113 ┆ 2.616493  ┆ … ┆ 2.266737  ┆ 3.005411  ┆ 0.266224 ┆ 0.728347 │\n",
       "│ 00:00:00    ┆          ┆           ┆           ┆   ┆           ┆           ┆          ┆          │\n",
       "│ 2024-09-11  ┆ 0.684858 ┆ 0.075567  ┆ 3.814915  ┆ … ┆ 2.944349  ┆ 1.892101  ┆ 0.34317  ┆ -0.24744 │\n",
       "│ 00:00:00    ┆          ┆           ┆           ┆   ┆           ┆           ┆          ┆          │\n",
       "│ 2024-09-12  ┆ 1.235231 ┆ 1.158072  ┆ 3.888712  ┆ … ┆ 1.611947  ┆ 0.44616   ┆ 1.459684 ┆ 1.974048 │\n",
       "│ 00:00:00    ┆          ┆           ┆           ┆   ┆           ┆           ┆          ┆          │\n",
       "│ 2024-09-13  ┆ 2.143065 ┆ 0.349599  ┆ 2.831058  ┆ … ┆ 1.501349  ┆ -0.178385 ┆ 1.480074 ┆ 3.288867 │\n",
       "│ 00:00:00    ┆          ┆           ┆           ┆   ┆           ┆           ┆          ┆          │\n",
       "│ 2024-09-14  ┆ 3.68937  ┆ 0.905805  ┆ 1.035925  ┆ … ┆ 1.584021  ┆ -0.868583 ┆ 3.15644  ┆ 3.118407 │\n",
       "│ 00:00:00    ┆          ┆           ┆           ┆   ┆           ┆           ┆          ┆          │\n",
       "│ 2024-09-15  ┆ 5.932281 ┆ 2.894121  ┆ -0.157428 ┆ … ┆ 2.670641  ┆ -3.040704 ┆ 5.743192 ┆ 2.828484 │\n",
       "│ 00:00:00    ┆          ┆           ┆           ┆   ┆           ┆           ┆          ┆          │\n",
       "│ 2024-09-16  ┆ 7.517741 ┆ -0.668608 ┆ -2.349386 ┆ … ┆ 0.89354   ┆ -3.915458 ┆ 6.361079 ┆ 2.19918  │\n",
       "│ 00:00:00    ┆          ┆           ┆           ┆   ┆           ┆           ┆          ┆          │\n",
       "│ 2024-09-17  ┆ 8.268051 ┆ -2.470533 ┆ -2.288816 ┆ … ┆ -0.178953 ┆ -6.511815 ┆ 5.713905 ┆ 3.004642 │\n",
       "│ 00:00:00    ┆          ┆           ┆           ┆   ┆           ┆           ┆          ┆          │\n",
       "└─────────────┴──────────┴───────────┴───────────┴───┴───────────┴───────────┴──────────┴──────────┘"
      ]
     },
     "execution_count": 19,
     "metadata": {},
     "output_type": "execute_result"
    }
   ],
   "source": [
    "days_polars"
   ]
  },
  {
   "cell_type": "code",
   "execution_count": 26,
   "id": "43bd0340-1db7-4959-b472-24bb748d341e",
   "metadata": {
    "scrolled": true
   },
   "outputs": [
    {
     "name": "stdout",
     "output_type": "stream",
     "text": [
      "612 ms ± 15.5 ms per loop (mean ± std. dev. of 7 runs, 1 loop each)\n"
     ]
    }
   ],
   "source": [
    "%timeit days_pandas = df_pandas.groupby(df_pandas.timestamp.dt.day).mean().drop('timestamp', axis=1)"
   ]
  },
  {
   "cell_type": "code",
   "execution_count": 27,
   "id": "7ea05246-c4dc-45a0-880c-51aff2aedac3",
   "metadata": {},
   "outputs": [
    {
     "name": "stdout",
     "output_type": "stream",
     "text": [
      "130 ms ± 2.18 ms per loop (mean ± std. dev. of 7 runs, 1 loop each)\n"
     ]
    }
   ],
   "source": [
    "%timeit days_polars = df_polars.group_by_dynamic('timestamp', every='1d').agg(pl.exclude('timestamp').mean())"
   ]
  },
  {
   "cell_type": "code",
   "execution_count": 28,
   "id": "b6ea2c6d-b63b-4413-b455-445446bc8a54",
   "metadata": {},
   "outputs": [
    {
     "name": "stdout",
     "output_type": "stream",
     "text": [
      "255 ms ± 2.15 ms per loop (mean ± std. dev. of 7 runs, 1 loop each)\n"
     ]
    }
   ],
   "source": [
    "%timeit df_pandas['avg'] = df_pandas[[f'C{i}' for i in range(1, 101)]].sum(axis=1)"
   ]
  },
  {
   "cell_type": "code",
   "execution_count": 29,
   "id": "679aa3bb-5bf8-47db-b421-8a316883767c",
   "metadata": {},
   "outputs": [
    {
     "name": "stdout",
     "output_type": "stream",
     "text": [
      "54.5 ms ± 1.59 ms per loop (mean ± std. dev. of 7 runs, 10 loops each)\n"
     ]
    }
   ],
   "source": [
    "%timeit df_polars.select(pl.all(), pl.mean_horizontal(pl.exclude('timestamp')).alias('avg'))"
   ]
  },
  {
   "cell_type": "markdown",
   "id": "644a340b-c3c7-4ea9-95cd-5feb39545e08",
   "metadata": {},
   "source": [
    "On these operations, polars is faster as well."
   ]
  }
 ],
 "metadata": {
  "kernelspec": {
   "display_name": "Python 3 (ipykernel)",
   "language": "python",
   "name": "python3"
  },
  "language_info": {
   "codemirror_mode": {
    "name": "ipython",
    "version": 3
   },
   "file_extension": ".py",
   "mimetype": "text/x-python",
   "name": "python",
   "nbconvert_exporter": "python",
   "pygments_lexer": "ipython3",
   "version": "3.12.5"
  }
 },
 "nbformat": 4,
 "nbformat_minor": 5
}
