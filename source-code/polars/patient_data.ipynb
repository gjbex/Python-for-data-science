{
 "cells": [
  {
   "cell_type": "markdown",
   "metadata": {},
   "source": [
    "# Analyzing patient data (extended version)"
   ]
  },
  {
   "cell_type": "markdown",
   "metadata": {},
   "source": [
    "## Preliminaries"
   ]
  },
  {
   "cell_type": "markdown",
   "metadata": {},
   "source": [
    "Load the required modules."
   ]
  },
  {
   "cell_type": "code",
   "execution_count": 1,
   "metadata": {
    "tags": []
   },
   "outputs": [],
   "source": [
    "from datetime import datetime\n",
    "import matplotlib.pyplot as plt\n",
    "import numpy as np\n",
    "import polars as pl\n",
    "import seaborn as sns\n",
    "%matplotlib inline"
   ]
  },
  {
   "cell_type": "markdown",
   "metadata": {},
   "source": [
    "## Motivation"
   ]
  },
  {
   "cell_type": "markdown",
   "metadata": {},
   "source": [
    "Since `polars` is often mentioned as a better alternative to `pandas` it is interesting to see how they stack up when coming from a `pandas` background.\n",
    "\n",
    "Things currently (2024-09) missing:\n",
    "* multi-level indices\n",
    "* convenient plotting\n",
    "* date-time data is not as convenient to query\n",
    "* only linear interpolation, no automatic fill forward or backward"
   ]
  },
  {
   "cell_type": "markdown",
   "metadata": {},
   "source": [
    "## Data set description"
   ]
  },
  {
   "cell_type": "markdown",
   "metadata": {},
   "source": [
    "The data consists of two spreadsheets.\n",
    "\n",
    "The first is data on patients gathered during an experimental trial.  The patients' temperature is measured at one-hour intervals, and each hour, the patients receive a dose of a drug to reduce fever.  The first column is a patient ID, the second is the dose, the third the datetime information, and the fourth the body temperature.\n",
    "\n",
    "The second spreadsheet is metadata on the patients.  The first column is the patient ID, which should be consistent with that in the first spreadsheet, the second column denotes the gender of the patient, the third an experimental condition."
   ]
  },
  {
   "cell_type": "markdown",
   "metadata": {},
   "source": [
    "## Experiment data"
   ]
  },
  {
   "cell_type": "markdown",
   "metadata": {},
   "source": [
    "Read the data set as a pandas `DataFrame` from an Excel spreadsheet.  The data is in the file `patient_experiment.xlsx`."
   ]
  },
  {
   "cell_type": "code",
   "execution_count": 2,
   "metadata": {
    "tags": []
   },
   "outputs": [],
   "source": [
    "experiment_data = pl.read_excel('data/patient_experiment.xlsx')"
   ]
  },
  {
   "cell_type": "markdown",
   "metadata": {},
   "source": [
    "Let's explore the data set a bit."
   ]
  },
  {
   "cell_type": "code",
   "execution_count": 5,
   "metadata": {
    "scrolled": true,
    "tags": []
   },
   "outputs": [
    {
     "data": {
      "text/html": [
       "<div><style>\n",
       ".dataframe > thead > tr,\n",
       ".dataframe > tbody > tr {\n",
       "  text-align: right;\n",
       "  white-space: pre-wrap;\n",
       "}\n",
       "</style>\n",
       "<small>shape: (9, 5)</small><table border=\"1\" class=\"dataframe\"><thead><tr><th>statistic</th><th>patient</th><th>dose</th><th>date</th><th>temperature</th></tr><tr><td>str</td><td>f64</td><td>f64</td><td>str</td><td>f64</td></tr></thead><tbody><tr><td>&quot;count&quot;</td><td>62.0</td><td>61.0</td><td>&quot;62&quot;</td><td>61.0</td></tr><tr><td>&quot;null_count&quot;</td><td>0.0</td><td>1.0</td><td>&quot;0&quot;</td><td>1.0</td></tr><tr><td>&quot;mean&quot;</td><td>4.983871</td><td>2.278689</td><td>&quot;2012-10-02 12:57:05.806000&quot;</td><td>37.881967</td></tr><tr><td>&quot;std&quot;</td><td>2.620799</td><td>2.989599</td><td>null</td><td>1.081127</td></tr><tr><td>&quot;min&quot;</td><td>1.0</td><td>0.0</td><td>&quot;2012-10-02 10:00:00&quot;</td><td>35.9</td></tr><tr><td>&quot;25%&quot;</td><td>3.0</td><td>0.0</td><td>&quot;2012-10-02 11:00:00&quot;</td><td>37.1</td></tr><tr><td>&quot;50%&quot;</td><td>5.0</td><td>1.0</td><td>&quot;2012-10-02 13:00:00&quot;</td><td>37.7</td></tr><tr><td>&quot;75%&quot;</td><td>7.0</td><td>4.0</td><td>&quot;2012-10-02 15:00:00&quot;</td><td>38.3</td></tr><tr><td>&quot;max&quot;</td><td>9.0</td><td>12.0</td><td>&quot;2012-10-02 16:00:00&quot;</td><td>40.7</td></tr></tbody></table></div>"
      ],
      "text/plain": [
       "shape: (9, 5)\n",
       "┌────────────┬──────────┬──────────┬────────────────────────────┬─────────────┐\n",
       "│ statistic  ┆ patient  ┆ dose     ┆ date                       ┆ temperature │\n",
       "│ ---        ┆ ---      ┆ ---      ┆ ---                        ┆ ---         │\n",
       "│ str        ┆ f64      ┆ f64      ┆ str                        ┆ f64         │\n",
       "╞════════════╪══════════╪══════════╪════════════════════════════╪═════════════╡\n",
       "│ count      ┆ 62.0     ┆ 61.0     ┆ 62                         ┆ 61.0        │\n",
       "│ null_count ┆ 0.0      ┆ 1.0      ┆ 0                          ┆ 1.0         │\n",
       "│ mean       ┆ 4.983871 ┆ 2.278689 ┆ 2012-10-02 12:57:05.806000 ┆ 37.881967   │\n",
       "│ std        ┆ 2.620799 ┆ 2.989599 ┆ null                       ┆ 1.081127    │\n",
       "│ min        ┆ 1.0      ┆ 0.0      ┆ 2012-10-02 10:00:00        ┆ 35.9        │\n",
       "│ 25%        ┆ 3.0      ┆ 0.0      ┆ 2012-10-02 11:00:00        ┆ 37.1        │\n",
       "│ 50%        ┆ 5.0      ┆ 1.0      ┆ 2012-10-02 13:00:00        ┆ 37.7        │\n",
       "│ 75%        ┆ 7.0      ┆ 4.0      ┆ 2012-10-02 15:00:00        ┆ 38.3        │\n",
       "│ max        ┆ 9.0      ┆ 12.0     ┆ 2012-10-02 16:00:00        ┆ 40.7        │\n",
       "└────────────┴──────────┴──────────┴────────────────────────────┴─────────────┘"
      ]
     },
     "execution_count": 5,
     "metadata": {},
     "output_type": "execute_result"
    }
   ],
   "source": [
    "experiment_data.describe()"
   ]
  },
  {
   "cell_type": "markdown",
   "metadata": {},
   "source": [
    "`experiment_data` contains 4 columns, and 62 rows, and there seems to be missing data for `dose` and `temperature` since these columns have only 61 entries.  We also get descriptive statistics aoub the olumns."
   ]
  },
  {
   "cell_type": "markdown",
   "metadata": {},
   "source": [
    "Let's check the first few and last few rows."
   ]
  },
  {
   "cell_type": "code",
   "execution_count": 13,
   "metadata": {
    "scrolled": true,
    "tags": []
   },
   "outputs": [
    {
     "data": {
      "text/html": [
       "<div><style>\n",
       ".dataframe > thead > tr,\n",
       ".dataframe > tbody > tr {\n",
       "  text-align: right;\n",
       "  white-space: pre-wrap;\n",
       "}\n",
       "</style>\n",
       "<small>shape: (5, 4)</small><table border=\"1\" class=\"dataframe\"><thead><tr><th>patient</th><th>dose</th><th>date</th><th>temperature</th></tr><tr><td>i64</td><td>i64</td><td>datetime[ms]</td><td>f64</td></tr></thead><tbody><tr><td>1</td><td>0</td><td>2012-10-02 10:00:00</td><td>38.3</td></tr><tr><td>1</td><td>2</td><td>2012-10-02 11:00:00</td><td>38.5</td></tr><tr><td>1</td><td>2</td><td>2012-10-02 12:00:00</td><td>38.1</td></tr><tr><td>1</td><td>2</td><td>2012-10-02 13:00:00</td><td>37.3</td></tr><tr><td>1</td><td>0</td><td>2012-10-02 14:00:00</td><td>37.5</td></tr></tbody></table></div>"
      ],
      "text/plain": [
       "shape: (5, 4)\n",
       "┌─────────┬──────┬─────────────────────┬─────────────┐\n",
       "│ patient ┆ dose ┆ date                ┆ temperature │\n",
       "│ ---     ┆ ---  ┆ ---                 ┆ ---         │\n",
       "│ i64     ┆ i64  ┆ datetime[ms]        ┆ f64         │\n",
       "╞═════════╪══════╪═════════════════════╪═════════════╡\n",
       "│ 1       ┆ 0    ┆ 2012-10-02 10:00:00 ┆ 38.3        │\n",
       "│ 1       ┆ 2    ┆ 2012-10-02 11:00:00 ┆ 38.5        │\n",
       "│ 1       ┆ 2    ┆ 2012-10-02 12:00:00 ┆ 38.1        │\n",
       "│ 1       ┆ 2    ┆ 2012-10-02 13:00:00 ┆ 37.3        │\n",
       "│ 1       ┆ 0    ┆ 2012-10-02 14:00:00 ┆ 37.5        │\n",
       "└─────────┴──────┴─────────────────────┴─────────────┘"
      ]
     },
     "execution_count": 13,
     "metadata": {},
     "output_type": "execute_result"
    }
   ],
   "source": [
    "experiment_data.head()"
   ]
  },
  {
   "cell_type": "code",
   "execution_count": 5,
   "metadata": {
    "tags": []
   },
   "outputs": [
    {
     "data": {
      "text/html": [
       "<div>\n",
       "<style scoped>\n",
       "    .dataframe tbody tr th:only-of-type {\n",
       "        vertical-align: middle;\n",
       "    }\n",
       "\n",
       "    .dataframe tbody tr th {\n",
       "        vertical-align: top;\n",
       "    }\n",
       "\n",
       "    .dataframe thead th {\n",
       "        text-align: right;\n",
       "    }\n",
       "</style>\n",
       "<table border=\"1\" class=\"dataframe\">\n",
       "  <thead>\n",
       "    <tr style=\"text-align: right;\">\n",
       "      <th></th>\n",
       "      <th>patient</th>\n",
       "      <th>dose</th>\n",
       "      <th>date</th>\n",
       "      <th>temperature</th>\n",
       "    </tr>\n",
       "  </thead>\n",
       "  <tbody>\n",
       "    <tr>\n",
       "      <th>57</th>\n",
       "      <td>9</td>\n",
       "      <td>12.0</td>\n",
       "      <td>2012-10-02 12:00:00</td>\n",
       "      <td>40.2</td>\n",
       "    </tr>\n",
       "    <tr>\n",
       "      <th>58</th>\n",
       "      <td>9</td>\n",
       "      <td>4.0</td>\n",
       "      <td>2012-10-02 13:00:00</td>\n",
       "      <td>39.1</td>\n",
       "    </tr>\n",
       "    <tr>\n",
       "      <th>59</th>\n",
       "      <td>9</td>\n",
       "      <td>4.0</td>\n",
       "      <td>2012-10-02 14:00:00</td>\n",
       "      <td>37.9</td>\n",
       "    </tr>\n",
       "    <tr>\n",
       "      <th>60</th>\n",
       "      <td>9</td>\n",
       "      <td>0.0</td>\n",
       "      <td>2012-10-02 15:00:00</td>\n",
       "      <td>37.1</td>\n",
       "    </tr>\n",
       "    <tr>\n",
       "      <th>61</th>\n",
       "      <td>9</td>\n",
       "      <td>0.0</td>\n",
       "      <td>2012-10-02 16:00:00</td>\n",
       "      <td>37.3</td>\n",
       "    </tr>\n",
       "  </tbody>\n",
       "</table>\n",
       "</div>"
      ],
      "text/plain": [
       "    patient  dose                date  temperature\n",
       "57        9  12.0 2012-10-02 12:00:00         40.2\n",
       "58        9   4.0 2012-10-02 13:00:00         39.1\n",
       "59        9   4.0 2012-10-02 14:00:00         37.9\n",
       "60        9   0.0 2012-10-02 15:00:00         37.1\n",
       "61        9   0.0 2012-10-02 16:00:00         37.3"
      ]
     },
     "execution_count": 5,
     "metadata": {},
     "output_type": "execute_result"
    }
   ],
   "source": [
    "experiment_data.tail()"
   ]
  },
  {
   "cell_type": "markdown",
   "metadata": {},
   "source": [
    "It seems that we have 9 patients, but lets verify that."
   ]
  },
  {
   "cell_type": "code",
   "execution_count": 5,
   "metadata": {
    "tags": []
   },
   "outputs": [
    {
     "data": {
      "text/html": [
       "<div><style>\n",
       ".dataframe > thead > tr,\n",
       ".dataframe > tbody > tr {\n",
       "  text-align: right;\n",
       "  white-space: pre-wrap;\n",
       "}\n",
       "</style>\n",
       "<small>shape: (9, 1)</small><table border=\"1\" class=\"dataframe\"><thead><tr><th>patient</th></tr><tr><td>i64</td></tr></thead><tbody><tr><td>1</td></tr><tr><td>2</td></tr><tr><td>3</td></tr><tr><td>4</td></tr><tr><td>5</td></tr><tr><td>6</td></tr><tr><td>7</td></tr><tr><td>8</td></tr><tr><td>9</td></tr></tbody></table></div>"
      ],
      "text/plain": [
       "shape: (9, 1)\n",
       "┌─────────┐\n",
       "│ patient │\n",
       "│ ---     │\n",
       "│ i64     │\n",
       "╞═════════╡\n",
       "│ 1       │\n",
       "│ 2       │\n",
       "│ 3       │\n",
       "│ 4       │\n",
       "│ 5       │\n",
       "│ 6       │\n",
       "│ 7       │\n",
       "│ 8       │\n",
       "│ 9       │\n",
       "└─────────┘"
      ]
     },
     "execution_count": 5,
     "metadata": {},
     "output_type": "execute_result"
    }
   ],
   "source": [
    "experiment_data.select(pl.col('patient').unique())"
   ]
  },
  {
   "cell_type": "markdown",
   "metadata": {},
   "source": [
    "Let's check whether the number of measurements is equal for all 9 patients."
   ]
  },
  {
   "cell_type": "code",
   "execution_count": 25,
   "metadata": {
    "tags": []
   },
   "outputs": [
    {
     "data": {
      "text/html": [
       "<div><style>\n",
       ".dataframe > thead > tr,\n",
       ".dataframe > tbody > tr {\n",
       "  text-align: right;\n",
       "  white-space: pre-wrap;\n",
       "}\n",
       "</style>\n",
       "<small>shape: (9, 2)</small><table border=\"1\" class=\"dataframe\"><thead><tr><th>patient</th><th>count</th></tr><tr><td>i64</td><td>u32</td></tr></thead><tbody><tr><td>1</td><td>7</td></tr><tr><td>2</td><td>7</td></tr><tr><td>3</td><td>7</td></tr><tr><td>4</td><td>7</td></tr><tr><td>5</td><td>7</td></tr><tr><td>6</td><td>6</td></tr><tr><td>7</td><td>7</td></tr><tr><td>8</td><td>7</td></tr><tr><td>9</td><td>7</td></tr></tbody></table></div>"
      ],
      "text/plain": [
       "shape: (9, 2)\n",
       "┌─────────┬───────┐\n",
       "│ patient ┆ count │\n",
       "│ ---     ┆ ---   │\n",
       "│ i64     ┆ u32   │\n",
       "╞═════════╪═══════╡\n",
       "│ 1       ┆ 7     │\n",
       "│ 2       ┆ 7     │\n",
       "│ 3       ┆ 7     │\n",
       "│ 4       ┆ 7     │\n",
       "│ 5       ┆ 7     │\n",
       "│ 6       ┆ 6     │\n",
       "│ 7       ┆ 7     │\n",
       "│ 8       ┆ 7     │\n",
       "│ 9       ┆ 7     │\n",
       "└─────────┴───────┘"
      ]
     },
     "execution_count": 25,
     "metadata": {},
     "output_type": "execute_result"
    }
   ],
   "source": [
    "experiment_data.group_by('patient', maintain_order=True).agg(pl.col('patient').count().alias('count'))"
   ]
  },
  {
   "cell_type": "markdown",
   "metadata": {},
   "source": [
    "For all patients but one there are 7 measurements, for one there are only six."
   ]
  },
  {
   "cell_type": "code",
   "execution_count": 29,
   "metadata": {
    "tags": []
   },
   "outputs": [
    {
     "data": {
      "text/html": [
       "<div><style>\n",
       ".dataframe > thead > tr,\n",
       ".dataframe > tbody > tr {\n",
       "  text-align: right;\n",
       "  white-space: pre-wrap;\n",
       "}\n",
       "</style>\n",
       "<small>shape: (7, 1)</small><table border=\"1\" class=\"dataframe\"><thead><tr><th>date</th></tr><tr><td>datetime[ms]</td></tr></thead><tbody><tr><td>2012-10-02 10:00:00</td></tr><tr><td>2012-10-02 11:00:00</td></tr><tr><td>2012-10-02 12:00:00</td></tr><tr><td>2012-10-02 13:00:00</td></tr><tr><td>2012-10-02 14:00:00</td></tr><tr><td>2012-10-02 15:00:00</td></tr><tr><td>2012-10-02 16:00:00</td></tr></tbody></table></div>"
      ],
      "text/plain": [
       "shape: (7, 1)\n",
       "┌─────────────────────┐\n",
       "│ date                │\n",
       "│ ---                 │\n",
       "│ datetime[ms]        │\n",
       "╞═════════════════════╡\n",
       "│ 2012-10-02 10:00:00 │\n",
       "│ 2012-10-02 11:00:00 │\n",
       "│ 2012-10-02 12:00:00 │\n",
       "│ 2012-10-02 13:00:00 │\n",
       "│ 2012-10-02 14:00:00 │\n",
       "│ 2012-10-02 15:00:00 │\n",
       "│ 2012-10-02 16:00:00 │\n",
       "└─────────────────────┘"
      ]
     },
     "execution_count": 29,
     "metadata": {},
     "output_type": "execute_result"
    }
   ],
   "source": [
    "experiment_data.filter(\n",
    "    pl.col('patient') == 1,\n",
    ").select(\n",
    "    pl.col('date'),\n",
    ")"
   ]
  },
  {
   "cell_type": "code",
   "execution_count": 30,
   "metadata": {
    "tags": []
   },
   "outputs": [
    {
     "data": {
      "text/html": [
       "<div><style>\n",
       ".dataframe > thead > tr,\n",
       ".dataframe > tbody > tr {\n",
       "  text-align: right;\n",
       "  white-space: pre-wrap;\n",
       "}\n",
       "</style>\n",
       "<small>shape: (6, 1)</small><table border=\"1\" class=\"dataframe\"><thead><tr><th>date</th></tr><tr><td>datetime[ms]</td></tr></thead><tbody><tr><td>2012-10-02 10:00:00</td></tr><tr><td>2012-10-02 11:00:00</td></tr><tr><td>2012-10-02 12:00:00</td></tr><tr><td>2012-10-02 13:00:00</td></tr><tr><td>2012-10-02 14:00:00</td></tr><tr><td>2012-10-02 15:00:00</td></tr></tbody></table></div>"
      ],
      "text/plain": [
       "shape: (6, 1)\n",
       "┌─────────────────────┐\n",
       "│ date                │\n",
       "│ ---                 │\n",
       "│ datetime[ms]        │\n",
       "╞═════════════════════╡\n",
       "│ 2012-10-02 10:00:00 │\n",
       "│ 2012-10-02 11:00:00 │\n",
       "│ 2012-10-02 12:00:00 │\n",
       "│ 2012-10-02 13:00:00 │\n",
       "│ 2012-10-02 14:00:00 │\n",
       "│ 2012-10-02 15:00:00 │\n",
       "└─────────────────────┘"
      ]
     },
     "execution_count": 30,
     "metadata": {},
     "output_type": "execute_result"
    }
   ],
   "source": [
    "experiment_data.filter(\n",
    "    pl.col('patient') == 6,\n",
    ").select(\n",
    "    pl.col('date'),\n",
    ")"
   ]
  },
  {
   "cell_type": "markdown",
   "metadata": {},
   "source": [
    "It is quite clear we will have to deal with missing data."
   ]
  },
  {
   "cell_type": "markdown",
   "metadata": {},
   "source": [
    "## Analyzing experiment data as a time series"
   ]
  },
  {
   "cell_type": "markdown",
   "metadata": {},
   "source": [
    "We can now rearrange the data for a time series analysis by using the date as an index, and show the patient data as individual columns."
   ]
  },
  {
   "cell_type": "code",
   "execution_count": 3,
   "metadata": {},
   "outputs": [
    {
     "data": {
      "text/html": [
       "<div><style>\n",
       ".dataframe > thead > tr,\n",
       ".dataframe > tbody > tr {\n",
       "  text-align: right;\n",
       "  white-space: pre-wrap;\n",
       "}\n",
       "</style>\n",
       "<small>shape: (7, 19)</small><table border=\"1\" class=\"dataframe\"><thead><tr><th>date</th><th>dose_1</th><th>dose_2</th><th>dose_3</th><th>dose_4</th><th>dose_5</th><th>dose_6</th><th>dose_7</th><th>dose_8</th><th>dose_9</th><th>temperature_1</th><th>temperature_2</th><th>temperature_3</th><th>temperature_4</th><th>temperature_5</th><th>temperature_6</th><th>temperature_7</th><th>temperature_8</th><th>temperature_9</th></tr><tr><td>datetime[ms]</td><td>i64</td><td>i64</td><td>i64</td><td>i64</td><td>i64</td><td>i64</td><td>i64</td><td>i64</td><td>i64</td><td>f64</td><td>f64</td><td>f64</td><td>f64</td><td>f64</td><td>f64</td><td>f64</td><td>f64</td><td>f64</td></tr></thead><tbody><tr><td>2012-10-02 10:00:00</td><td>0</td><td>0</td><td>0</td><td>0</td><td>0</td><td>0</td><td>0</td><td>0</td><td>0</td><td>38.3</td><td>39.3</td><td>37.9</td><td>38.1</td><td>37.9</td><td>37.5</td><td>39.5</td><td>37.8</td><td>38.3</td></tr><tr><td>2012-10-02 11:00:00</td><td>2</td><td>5</td><td>2</td><td>5</td><td>3</td><td>2</td><td>10</td><td>0</td><td>10</td><td>38.5</td><td>39.4</td><td>39.5</td><td>37.2</td><td>39.5</td><td>38.1</td><td>40.7</td><td>37.9</td><td>39.5</td></tr><tr><td>2012-10-02 12:00:00</td><td>2</td><td>5</td><td>5</td><td>5</td><td>7</td><td>3</td><td>5</td><td>0</td><td>12</td><td>38.1</td><td>38.1</td><td>38.3</td><td>36.1</td><td>38.3</td><td>37.9</td><td>39.8</td><td>37.4</td><td>40.2</td></tr><tr><td>2012-10-02 13:00:00</td><td>2</td><td>5</td><td>2</td><td>0</td><td>5</td><td>2</td><td>8</td><td>0</td><td>4</td><td>37.3</td><td>37.3</td><td>null</td><td>35.9</td><td>38.5</td><td>37.7</td><td>40.2</td><td>37.6</td><td>39.1</td></tr><tr><td>2012-10-02 14:00:00</td><td>0</td><td>0</td><td>2</td><td>null</td><td>9</td><td>1</td><td>3</td><td>0</td><td>4</td><td>37.5</td><td>36.8</td><td>37.7</td><td>36.3</td><td>39.4</td><td>37.2</td><td>38.3</td><td>37.3</td><td>37.9</td></tr><tr><td>2012-10-02 15:00:00</td><td>0</td><td>0</td><td>2</td><td>0</td><td>3</td><td>0</td><td>3</td><td>0</td><td>0</td><td>37.1</td><td>36.8</td><td>37.1</td><td>36.6</td><td>37.9</td><td>36.8</td><td>37.6</td><td>37.1</td><td>37.1</td></tr><tr><td>2012-10-02 16:00:00</td><td>0</td><td>0</td><td>0</td><td>0</td><td>0</td><td>null</td><td>1</td><td>0</td><td>0</td><td>36.8</td><td>36.8</td><td>36.7</td><td>36.7</td><td>37.2</td><td>null</td><td>37.3</td><td>36.8</td><td>37.3</td></tr></tbody></table></div>"
      ],
      "text/plain": [
       "shape: (7, 19)\n",
       "┌─────────────┬────────┬────────┬────────┬───┬─────────────┬─────────────┬────────────┬────────────┐\n",
       "│ date        ┆ dose_1 ┆ dose_2 ┆ dose_3 ┆ … ┆ temperature ┆ temperature ┆ temperatur ┆ temperatur │\n",
       "│ ---         ┆ ---    ┆ ---    ┆ ---    ┆   ┆ _6          ┆ _7          ┆ e_8        ┆ e_9        │\n",
       "│ datetime[ms ┆ i64    ┆ i64    ┆ i64    ┆   ┆ ---         ┆ ---         ┆ ---        ┆ ---        │\n",
       "│ ]           ┆        ┆        ┆        ┆   ┆ f64         ┆ f64         ┆ f64        ┆ f64        │\n",
       "╞═════════════╪════════╪════════╪════════╪═══╪═════════════╪═════════════╪════════════╪════════════╡\n",
       "│ 2012-10-02  ┆ 0      ┆ 0      ┆ 0      ┆ … ┆ 37.5        ┆ 39.5        ┆ 37.8       ┆ 38.3       │\n",
       "│ 10:00:00    ┆        ┆        ┆        ┆   ┆             ┆             ┆            ┆            │\n",
       "│ 2012-10-02  ┆ 2      ┆ 5      ┆ 2      ┆ … ┆ 38.1        ┆ 40.7        ┆ 37.9       ┆ 39.5       │\n",
       "│ 11:00:00    ┆        ┆        ┆        ┆   ┆             ┆             ┆            ┆            │\n",
       "│ 2012-10-02  ┆ 2      ┆ 5      ┆ 5      ┆ … ┆ 37.9        ┆ 39.8        ┆ 37.4       ┆ 40.2       │\n",
       "│ 12:00:00    ┆        ┆        ┆        ┆   ┆             ┆             ┆            ┆            │\n",
       "│ 2012-10-02  ┆ 2      ┆ 5      ┆ 2      ┆ … ┆ 37.7        ┆ 40.2        ┆ 37.6       ┆ 39.1       │\n",
       "│ 13:00:00    ┆        ┆        ┆        ┆   ┆             ┆             ┆            ┆            │\n",
       "│ 2012-10-02  ┆ 0      ┆ 0      ┆ 2      ┆ … ┆ 37.2        ┆ 38.3        ┆ 37.3       ┆ 37.9       │\n",
       "│ 14:00:00    ┆        ┆        ┆        ┆   ┆             ┆             ┆            ┆            │\n",
       "│ 2012-10-02  ┆ 0      ┆ 0      ┆ 2      ┆ … ┆ 36.8        ┆ 37.6        ┆ 37.1       ┆ 37.1       │\n",
       "│ 15:00:00    ┆        ┆        ┆        ┆   ┆             ┆             ┆            ┆            │\n",
       "│ 2012-10-02  ┆ 0      ┆ 0      ┆ 0      ┆ … ┆ null        ┆ 37.3        ┆ 36.8       ┆ 37.3       │\n",
       "│ 16:00:00    ┆        ┆        ┆        ┆   ┆             ┆             ┆            ┆            │\n",
       "└─────────────┴────────┴────────┴────────┴───┴─────────────┴─────────────┴────────────┴────────────┘"
      ]
     },
     "execution_count": 3,
     "metadata": {},
     "output_type": "execute_result"
    }
   ],
   "source": [
    "time_series = experiment_data.pivot(index='date',\n",
    "                                    on=['patient'])\n",
    "time_series"
   ]
  },
  {
   "cell_type": "markdown",
   "metadata": {},
   "source": [
    "Note that the missing data for patient 6 has been represented as `null`."
   ]
  },
  {
   "cell_type": "code",
   "execution_count": 6,
   "metadata": {},
   "outputs": [
    {
     "data": {
      "image/png": "[encoded data removed]",
      "text/plain": [
       "<Figure size 640x480 with 1 Axes>"
      ]
     },
     "metadata": {},
     "output_type": "display_data"
    }
   ],
   "source": [
    "for patient in range(1, 10):\n",
    "    plt.plot(time_series.select(pl.col('date')), time_series.select(pl.col(f'temperature_{patient}')), label=f'patient {patient}')\n",
    "plt.legend();"
   ]
  },
  {
   "cell_type": "markdown",
   "metadata": {},
   "source": [
    "Hm, something seems fishy with the data for patient 3, let's visualize it individually."
   ]
  },
  {
   "cell_type": "code",
   "execution_count": 8,
   "metadata": {},
   "outputs": [
    {
     "ename": "ModuleUpgradeRequiredError",
     "evalue": "hvplot>=0.9.1 is required for `.plot`",
     "output_type": "error",
     "traceback": [
      "\u001b[0;31m---------------------------------------------------------------------------\u001b[0m",
      "\u001b[0;31mModuleUpgradeRequiredError\u001b[0m                Traceback (most recent call last)",
      "\u001b[0;32m/tmp/ipykernel_498/2598568739.py\u001b[0m in \u001b[0;36m?\u001b[0;34m()\u001b[0m\n\u001b[0;32m----> 1\u001b[0;31m \u001b[0mtime_series\u001b[0m\u001b[0;34m.\u001b[0m\u001b[0mselect\u001b[0m\u001b[0;34m(\u001b[0m\u001b[0mpl\u001b[0m\u001b[0;34m.\u001b[0m\u001b[0mcol\u001b[0m\u001b[0;34m(\u001b[0m\u001b[0;34m'date'\u001b[0m\u001b[0;34m)\u001b[0m\u001b[0;34m,\u001b[0m \u001b[0mpl\u001b[0m\u001b[0;34m.\u001b[0m\u001b[0mcol\u001b[0m\u001b[0;34m(\u001b[0m\u001b[0;34m'temperature_3'\u001b[0m\u001b[0;34m)\u001b[0m\u001b[0;34m)\u001b[0m\u001b[0;34m.\u001b[0m\u001b[0mplot\u001b[0m\u001b[0;34m.\u001b[0m\u001b[0mline\u001b[0m\u001b[0;34m(\u001b[0m\u001b[0;34m)\u001b[0m\u001b[0;34m;\u001b[0m\u001b[0;34m\u001b[0m\u001b[0;34m\u001b[0m\u001b[0m\n\u001b[0m",
      "\u001b[0;32m~/mambaforge/envs/python_for_data_science/lib/python3.12/site-packages/polars/_utils/unstable.py\u001b[0m in \u001b[0;36m?\u001b[0;34m(*args, **kwargs)\u001b[0m\n\u001b[1;32m     55\u001b[0m         \u001b[0;34m@\u001b[0m\u001b[0mwraps\u001b[0m\u001b[0;34m(\u001b[0m\u001b[0mfunction\u001b[0m\u001b[0;34m)\u001b[0m\u001b[0;34m\u001b[0m\u001b[0;34m\u001b[0m\u001b[0m\n\u001b[1;32m     56\u001b[0m         \u001b[0;32mdef\u001b[0m \u001b[0mwrapper\u001b[0m\u001b[0;34m(\u001b[0m\u001b[0;34m*\u001b[0m\u001b[0margs\u001b[0m\u001b[0;34m:\u001b[0m \u001b[0mP\u001b[0m\u001b[0;34m.\u001b[0m\u001b[0margs\u001b[0m\u001b[0;34m,\u001b[0m \u001b[0;34m**\u001b[0m\u001b[0mkwargs\u001b[0m\u001b[0;34m:\u001b[0m \u001b[0mP\u001b[0m\u001b[0;34m.\u001b[0m\u001b[0mkwargs\u001b[0m\u001b[0;34m)\u001b[0m \u001b[0;34m->\u001b[0m \u001b[0mT\u001b[0m\u001b[0;34m:\u001b[0m\u001b[0;34m\u001b[0m\u001b[0;34m\u001b[0m\u001b[0m\n\u001b[1;32m     57\u001b[0m             \u001b[0missue_unstable_warning\u001b[0m\u001b[0;34m(\u001b[0m\u001b[0;34mf\"\u001b[0m\u001b[0;34m`\u001b[0m\u001b[0;34m{\u001b[0m\u001b[0mfunction\u001b[0m\u001b[0;34m.\u001b[0m\u001b[0m__name__\u001b[0m\u001b[0;34m}\u001b[0m\u001b[0;34m` is considered unstable.\u001b[0m\u001b[0;34m\"\u001b[0m\u001b[0;34m)\u001b[0m\u001b[0;34m\u001b[0m\u001b[0;34m\u001b[0m\u001b[0m\n\u001b[0;32m---> 58\u001b[0;31m             \u001b[0;32mreturn\u001b[0m \u001b[0mfunction\u001b[0m\u001b[0;34m(\u001b[0m\u001b[0;34m*\u001b[0m\u001b[0margs\u001b[0m\u001b[0;34m,\u001b[0m \u001b[0;34m**\u001b[0m\u001b[0mkwargs\u001b[0m\u001b[0;34m)\u001b[0m\u001b[0;34m\u001b[0m\u001b[0;34m\u001b[0m\u001b[0m\n\u001b[0m",
      "\u001b[0;32m~/mambaforge/envs/python_for_data_science/lib/python3.12/site-packages/polars/dataframe/frame.py\u001b[0m in \u001b[0;36m?\u001b[0;34m(self)\u001b[0m\n\u001b[1;32m    648\u001b[0m         if not _HVPLOT_AVAILABLE or parse_version(hvplot.__version__) < parse_version(\n\u001b[1;32m    649\u001b[0m             \u001b[0;34m\"0.9.1\"\u001b[0m\u001b[0;34m\u001b[0m\u001b[0;34m\u001b[0m\u001b[0m\n\u001b[1;32m    650\u001b[0m         \u001b[0;34m)\u001b[0m\u001b[0;34m:\u001b[0m\u001b[0;34m\u001b[0m\u001b[0;34m\u001b[0m\u001b[0m\n\u001b[1;32m    651\u001b[0m             \u001b[0mmsg\u001b[0m \u001b[0;34m=\u001b[0m \u001b[0;34m\"hvplot>=0.9.1 is required for `.plot`\"\u001b[0m\u001b[0;34m\u001b[0m\u001b[0;34m\u001b[0m\u001b[0m\n\u001b[0;32m--> 652\u001b[0;31m             \u001b[0;32mraise\u001b[0m \u001b[0mModuleUpgradeRequiredError\u001b[0m\u001b[0;34m(\u001b[0m\u001b[0mmsg\u001b[0m\u001b[0;34m)\u001b[0m\u001b[0;34m\u001b[0m\u001b[0;34m\u001b[0m\u001b[0m\n\u001b[0m\u001b[1;32m    653\u001b[0m         \u001b[0mhvplot\u001b[0m\u001b[0;34m.\u001b[0m\u001b[0mpost_patch\u001b[0m\u001b[0;34m(\u001b[0m\u001b[0;34m)\u001b[0m\u001b[0;34m\u001b[0m\u001b[0;34m\u001b[0m\u001b[0m\n\u001b[1;32m    654\u001b[0m         \u001b[0;32mreturn\u001b[0m \u001b[0mhvplot\u001b[0m\u001b[0;34m.\u001b[0m\u001b[0mplotting\u001b[0m\u001b[0;34m.\u001b[0m\u001b[0mcore\u001b[0m\u001b[0;34m.\u001b[0m\u001b[0mhvPlotTabularPolars\u001b[0m\u001b[0;34m(\u001b[0m\u001b[0mself\u001b[0m\u001b[0;34m)\u001b[0m\u001b[0;34m\u001b[0m\u001b[0;34m\u001b[0m\u001b[0m\n",
      "\u001b[0;31mModuleUpgradeRequiredError\u001b[0m: hvplot>=0.9.1 is required for `.plot`"
     ]
    }
   ],
   "source": [
    "time_series.select(pl.col('date'), pl.col('temperature_3')).plot.line();"
   ]
  },
  {
   "cell_type": "code",
   "execution_count": 8,
   "metadata": {},
   "outputs": [
    {
     "data": {
      "image/png": "[encoded data removed]",
      "text/plain": [
       "<Figure size 640x480 with 1 Axes>"
      ]
     },
     "metadata": {},
     "output_type": "display_data"
    }
   ],
   "source": [
    "plt.plot(time_series.select(pl.col('date')), time_series.select(pl.col('temperature_3')));"
   ]
  },
  {
   "cell_type": "markdown",
   "metadata": {},
   "source": [
    "The temperature for patient 3 was not measured at 13:00:00, but the dose was recorded. Let's check for other missing data more systematically."
   ]
  },
  {
   "cell_type": "code",
   "execution_count": 17,
   "metadata": {},
   "outputs": [
    {
     "data": {
      "text/html": [
       "<div><style>\n",
       ".dataframe > thead > tr,\n",
       ".dataframe > tbody > tr {\n",
       "  text-align: right;\n",
       "  white-space: pre-wrap;\n",
       "}\n",
       "</style>\n",
       "<small>shape: (7, 2)</small><table border=\"1\" class=\"dataframe\"><thead><tr><th>date</th><th>has_null</th></tr><tr><td>datetime[ms]</td><td>bool</td></tr></thead><tbody><tr><td>2012-10-02 10:00:00</td><td>false</td></tr><tr><td>2012-10-02 11:00:00</td><td>false</td></tr><tr><td>2012-10-02 12:00:00</td><td>false</td></tr><tr><td>2012-10-02 13:00:00</td><td>true</td></tr><tr><td>2012-10-02 14:00:00</td><td>true</td></tr><tr><td>2012-10-02 15:00:00</td><td>false</td></tr><tr><td>2012-10-02 16:00:00</td><td>true</td></tr></tbody></table></div>"
      ],
      "text/plain": [
       "shape: (7, 2)\n",
       "┌─────────────────────┬──────────┐\n",
       "│ date                ┆ has_null │\n",
       "│ ---                 ┆ ---      │\n",
       "│ datetime[ms]        ┆ bool     │\n",
       "╞═════════════════════╪══════════╡\n",
       "│ 2012-10-02 10:00:00 ┆ false    │\n",
       "│ 2012-10-02 11:00:00 ┆ false    │\n",
       "│ 2012-10-02 12:00:00 ┆ false    │\n",
       "│ 2012-10-02 13:00:00 ┆ true     │\n",
       "│ 2012-10-02 14:00:00 ┆ true     │\n",
       "│ 2012-10-02 15:00:00 ┆ false    │\n",
       "│ 2012-10-02 16:00:00 ┆ true     │\n",
       "└─────────────────────┴──────────┘"
      ]
     },
     "execution_count": 17,
     "metadata": {},
     "output_type": "execute_result"
    }
   ],
   "source": [
    "time_series.select(pl.col('date'), pl.any_horizontal(pl.all().is_null()).alias('has_null'))"
   ]
  },
  {
   "cell_type": "markdown",
   "metadata": {},
   "source": [
    "We should take a look at the measurements for 13:00:00 and 14:00:00."
   ]
  },
  {
   "cell_type": "code",
   "execution_count": 24,
   "metadata": {},
   "outputs": [
    {
     "data": {
      "text/html": [
       "<div><style>\n",
       ".dataframe > thead > tr,\n",
       ".dataframe > tbody > tr {\n",
       "  text-align: right;\n",
       "  white-space: pre-wrap;\n",
       "}\n",
       "</style>\n",
       "<small>shape: (1, 19)</small><table border=\"1\" class=\"dataframe\"><thead><tr><th>date</th><th>dose_1</th><th>dose_2</th><th>dose_3</th><th>dose_4</th><th>dose_5</th><th>dose_6</th><th>dose_7</th><th>dose_8</th><th>dose_9</th><th>temperature_1</th><th>temperature_2</th><th>temperature_3</th><th>temperature_4</th><th>temperature_5</th><th>temperature_6</th><th>temperature_7</th><th>temperature_8</th><th>temperature_9</th></tr><tr><td>datetime[ms]</td><td>i64</td><td>i64</td><td>i64</td><td>i64</td><td>i64</td><td>i64</td><td>i64</td><td>i64</td><td>i64</td><td>f64</td><td>f64</td><td>f64</td><td>f64</td><td>f64</td><td>f64</td><td>f64</td><td>f64</td><td>f64</td></tr></thead><tbody><tr><td>2012-10-02 13:00:00</td><td>2</td><td>5</td><td>2</td><td>0</td><td>5</td><td>2</td><td>8</td><td>0</td><td>4</td><td>37.3</td><td>37.3</td><td>null</td><td>35.9</td><td>38.5</td><td>37.7</td><td>40.2</td><td>37.6</td><td>39.1</td></tr></tbody></table></div>"
      ],
      "text/plain": [
       "shape: (1, 19)\n",
       "┌─────────────┬────────┬────────┬────────┬───┬─────────────┬─────────────┬────────────┬────────────┐\n",
       "│ date        ┆ dose_1 ┆ dose_2 ┆ dose_3 ┆ … ┆ temperature ┆ temperature ┆ temperatur ┆ temperatur │\n",
       "│ ---         ┆ ---    ┆ ---    ┆ ---    ┆   ┆ _6          ┆ _7          ┆ e_8        ┆ e_9        │\n",
       "│ datetime[ms ┆ i64    ┆ i64    ┆ i64    ┆   ┆ ---         ┆ ---         ┆ ---        ┆ ---        │\n",
       "│ ]           ┆        ┆        ┆        ┆   ┆ f64         ┆ f64         ┆ f64        ┆ f64        │\n",
       "╞═════════════╪════════╪════════╪════════╪═══╪═════════════╪═════════════╪════════════╪════════════╡\n",
       "│ 2012-10-02  ┆ 2      ┆ 5      ┆ 2      ┆ … ┆ 37.7        ┆ 40.2        ┆ 37.6       ┆ 39.1       │\n",
       "│ 13:00:00    ┆        ┆        ┆        ┆   ┆             ┆             ┆            ┆            │\n",
       "└─────────────┴────────┴────────┴────────┴───┴─────────────┴─────────────┴────────────┴────────────┘"
      ]
     },
     "execution_count": 24,
     "metadata": {},
     "output_type": "execute_result"
    }
   ],
   "source": [
    "time_series.filter(pl.col('date') == datetime.strptime('2012-10-02 13:00:00', '%Y-%m-%d %H:%M:%S'))"
   ]
  },
  {
   "cell_type": "markdown",
   "metadata": {},
   "source": [
    "This was the temperature we were aware of, but at 14:00:00, it seems the dose was not recorded for patient 4."
   ]
  },
  {
   "cell_type": "code",
   "execution_count": 7,
   "metadata": {},
   "outputs": [
    {
     "data": {
      "text/html": [
       "<div><style>\n",
       ".dataframe > thead > tr,\n",
       ".dataframe > tbody > tr {\n",
       "  text-align: right;\n",
       "  white-space: pre-wrap;\n",
       "}\n",
       "</style>\n",
       "<small>shape: (1, 19)</small><table border=\"1\" class=\"dataframe\"><thead><tr><th>date</th><th>dose_1</th><th>dose_2</th><th>dose_3</th><th>dose_4</th><th>dose_5</th><th>dose_6</th><th>dose_7</th><th>dose_8</th><th>dose_9</th><th>temperature_1</th><th>temperature_2</th><th>temperature_3</th><th>temperature_4</th><th>temperature_5</th><th>temperature_6</th><th>temperature_7</th><th>temperature_8</th><th>temperature_9</th></tr><tr><td>datetime[ms]</td><td>i64</td><td>i64</td><td>i64</td><td>i64</td><td>i64</td><td>i64</td><td>i64</td><td>i64</td><td>i64</td><td>f64</td><td>f64</td><td>f64</td><td>f64</td><td>f64</td><td>f64</td><td>f64</td><td>f64</td><td>f64</td></tr></thead><tbody><tr><td>2012-10-02 14:00:00</td><td>0</td><td>0</td><td>2</td><td>null</td><td>9</td><td>1</td><td>3</td><td>0</td><td>4</td><td>37.5</td><td>36.8</td><td>37.7</td><td>36.3</td><td>39.4</td><td>37.2</td><td>38.3</td><td>37.3</td><td>37.9</td></tr></tbody></table></div>"
      ],
      "text/plain": [
       "shape: (1, 19)\n",
       "┌─────────────┬────────┬────────┬────────┬───┬─────────────┬─────────────┬────────────┬────────────┐\n",
       "│ date        ┆ dose_1 ┆ dose_2 ┆ dose_3 ┆ … ┆ temperature ┆ temperature ┆ temperatur ┆ temperatur │\n",
       "│ ---         ┆ ---    ┆ ---    ┆ ---    ┆   ┆ _6          ┆ _7          ┆ e_8        ┆ e_9        │\n",
       "│ datetime[ms ┆ i64    ┆ i64    ┆ i64    ┆   ┆ ---         ┆ ---         ┆ ---        ┆ ---        │\n",
       "│ ]           ┆        ┆        ┆        ┆   ┆ f64         ┆ f64         ┆ f64        ┆ f64        │\n",
       "╞═════════════╪════════╪════════╪════════╪═══╪═════════════╪═════════════╪════════════╪════════════╡\n",
       "│ 2012-10-02  ┆ 0      ┆ 0      ┆ 2      ┆ … ┆ 37.2        ┆ 38.3        ┆ 37.3       ┆ 37.9       │\n",
       "│ 14:00:00    ┆        ┆        ┆        ┆   ┆             ┆             ┆            ┆            │\n",
       "└─────────────┴────────┴────────┴────────┴───┴─────────────┴─────────────┴────────────┴────────────┘"
      ]
     },
     "execution_count": 7,
     "metadata": {},
     "output_type": "execute_result"
    }
   ],
   "source": [
    "time_series.filter(pl.col('date') == datetime.strptime('2012-10-02 14:00:00', '%Y-%m-%d %H:%M:%S'))"
   ]
  },
  {
   "cell_type": "code",
   "execution_count": 9,
   "metadata": {},
   "outputs": [
    {
     "data": {
      "image/png": "[encoded data removed]",
      "text/plain": [
       "<Figure size 640x480 with 1 Axes>"
      ]
     },
     "metadata": {},
     "output_type": "display_data"
    }
   ],
   "source": [
    "plt.plot(time_series.select(pl.col('date')), time_series.select(pl.col('dose_4')));"
   ]
  },
  {
   "cell_type": "markdown",
   "metadata": {},
   "source": [
    "From the plots, it seems reasonable to do a linear interpolation for both missing data points."
   ]
  },
  {
   "cell_type": "code",
   "execution_count": 21,
   "metadata": {},
   "outputs": [
    {
     "data": {
      "image/png": "[encoded data removed]",
      "text/plain": [
       "<Figure size 640x480 with 1 Axes>"
      ]
     },
     "metadata": {},
     "output_type": "display_data"
    }
   ],
   "source": [
    "interpolated_3 = time_series.with_columns(pl.col('temperature_3').interpolate())\n",
    "plt.plot(interpolated_3.select('date'), interpolated_3.select('temperature_3'));"
   ]
  },
  {
   "cell_type": "code",
   "execution_count": 13,
   "metadata": {},
   "outputs": [
    {
     "data": {
      "image/png": "[encoded data removed]",
      "text/plain": [
       "<Figure size 640x480 with 1 Axes>"
      ]
     },
     "metadata": {},
     "output_type": "display_data"
    }
   ],
   "source": [
    "interpolated_4 = time_series.with_columns(pl.col('dose_4').interpolate())\n",
    "plt.plot(interpolated_4.select('date'), interpolated_4.select('dose_4'));"
   ]
  },
  {
   "cell_type": "markdown",
   "metadata": {},
   "source": [
    "Let's do the interpolation on the time series in place."
   ]
  },
  {
   "cell_type": "code",
   "execution_count": 4,
   "metadata": {},
   "outputs": [],
   "source": [
    "time_series = time_series.interpolate()"
   ]
  },
  {
   "cell_type": "markdown",
   "metadata": {},
   "source": [
    "We should have no more missing data, let's verify."
   ]
  },
  {
   "cell_type": "code",
   "execution_count": 17,
   "metadata": {},
   "outputs": [
    {
     "data": {
      "text/html": [
       "<div><style>\n",
       ".dataframe > thead > tr,\n",
       ".dataframe > tbody > tr {\n",
       "  text-align: right;\n",
       "  white-space: pre-wrap;\n",
       "}\n",
       "</style>\n",
       "<small>shape: (7, 2)</small><table border=\"1\" class=\"dataframe\"><thead><tr><th>date</th><th>has_null</th></tr><tr><td>datetime[ms]</td><td>bool</td></tr></thead><tbody><tr><td>2012-10-02 10:00:00</td><td>false</td></tr><tr><td>2012-10-02 11:00:00</td><td>false</td></tr><tr><td>2012-10-02 12:00:00</td><td>false</td></tr><tr><td>2012-10-02 13:00:00</td><td>false</td></tr><tr><td>2012-10-02 14:00:00</td><td>false</td></tr><tr><td>2012-10-02 15:00:00</td><td>false</td></tr><tr><td>2012-10-02 16:00:00</td><td>true</td></tr></tbody></table></div>"
      ],
      "text/plain": [
       "shape: (7, 2)\n",
       "┌─────────────────────┬──────────┐\n",
       "│ date                ┆ has_null │\n",
       "│ ---                 ┆ ---      │\n",
       "│ datetime[ms]        ┆ bool     │\n",
       "╞═════════════════════╪══════════╡\n",
       "│ 2012-10-02 10:00:00 ┆ false    │\n",
       "│ 2012-10-02 11:00:00 ┆ false    │\n",
       "│ 2012-10-02 12:00:00 ┆ false    │\n",
       "│ 2012-10-02 13:00:00 ┆ false    │\n",
       "│ 2012-10-02 14:00:00 ┆ false    │\n",
       "│ 2012-10-02 15:00:00 ┆ false    │\n",
       "│ 2012-10-02 16:00:00 ┆ true     │\n",
       "└─────────────────────┴──────────┘"
      ]
     },
     "execution_count": 17,
     "metadata": {},
     "output_type": "execute_result"
    }
   ],
   "source": [
    "time_series.select(pl.col('date'), pl.any_horizontal(pl.all().is_null()).alias('has_null'))"
   ]
  },
  {
   "cell_type": "markdown",
   "metadata": {},
   "source": [
    "Hm, not quite, data is still missing for the last time point.  Since interpolation is not possible here, we can use the `forward` strategy for `fill_null` instread."
   ]
  },
  {
   "cell_type": "code",
   "execution_count": 5,
   "metadata": {},
   "outputs": [],
   "source": [
    "time_series = time_series.fill_null(strategy='forward')"
   ]
  },
  {
   "cell_type": "markdown",
   "metadata": {},
   "source": [
    "Let's verify what happend for patient 6 with the missing data at the end of the experiment."
   ]
  },
  {
   "cell_type": "code",
   "execution_count": 23,
   "metadata": {},
   "outputs": [
    {
     "data": {
      "image/png": "[encoded data removed]",
      "text/plain": [
       "<Figure size 640x480 with 1 Axes>"
      ]
     },
     "metadata": {},
     "output_type": "display_data"
    }
   ],
   "source": [
    "plt.plot(time_series.select('date'), time_series.select('temperature_6'));"
   ]
  },
  {
   "cell_type": "code",
   "execution_count": 24,
   "metadata": {},
   "outputs": [
    {
     "data": {
      "image/png": "[encoded data removed]",
      "text/plain": [
       "<Figure size 640x480 with 1 Axes>"
      ]
     },
     "metadata": {},
     "output_type": "display_data"
    }
   ],
   "source": [
    "plt.plot(time_series.select('date'), time_series.select('dose_6'));"
   ]
  },
  {
   "cell_type": "markdown",
   "metadata": {},
   "source": [
    "The value is the same for 16h as for 15h, which is reasonable."
   ]
  },
  {
   "cell_type": "markdown",
   "metadata": {},
   "source": [
    "## Derived data"
   ]
  },
  {
   "cell_type": "markdown",
   "metadata": {},
   "source": [
    "Let's add a new column to the time series that represents the average temperature over all patients."
   ]
  },
  {
   "cell_type": "code",
   "execution_count": 30,
   "metadata": {},
   "outputs": [],
   "source": [
    "time_series = time_series.select(pl.all(), pl.mean_horizontal(pl.col(r'^temperature_\\d+$')).alias('avg_temp'))"
   ]
  },
  {
   "cell_type": "code",
   "execution_count": 31,
   "metadata": {},
   "outputs": [
    {
     "data": {
      "image/png": "[encoded data removed]",
      "text/plain": [
       "<Figure size 640x480 with 1 Axes>"
      ]
     },
     "metadata": {},
     "output_type": "display_data"
    }
   ],
   "source": [
    "plt.plot(time_series.select('date'), time_series.select('avg_temp'));"
   ]
  },
  {
   "cell_type": "markdown",
   "metadata": {},
   "source": [
    "Let's also add a column for each patient that shows the cummulative dose for that patient."
   ]
  },
  {
   "cell_type": "code",
   "execution_count": 35,
   "metadata": {},
   "outputs": [],
   "source": [
    "for patient in range(1, 10):\n",
    "    time_series = time_series.select(pl.all(), pl.col(f'dose_{patient}').cum_sum().alias(f'cum_dose_{patient}'))"
   ]
  },
  {
   "cell_type": "code",
   "execution_count": 36,
   "metadata": {},
   "outputs": [
    {
     "data": {
      "text/plain": [
       "<matplotlib.legend.Legend at 0x7f4a30c97d10>"
      ]
     },
     "execution_count": 36,
     "metadata": {},
     "output_type": "execute_result"
    },
    {
     "data": {
      "image/png": "[encoded data removed]",
      "text/plain": [
       "<Figure size 640x480 with 1 Axes>"
      ]
     },
     "metadata": {},
     "output_type": "display_data"
    }
   ],
   "source": [
    "for patient in range(1, 10):\n",
    "    plt.plot(time_series.select('date'), time_series.select(f'cum_dose_{patient}'), label=f'patient {patient}')\n",
    "plt.legend()"
   ]
  },
  {
   "cell_type": "code",
   "execution_count": 27,
   "metadata": {},
   "outputs": [],
   "source": [
    "for patient in time_series.dose.columns:\n",
    "    cumm_dose = time_series.dose[patient].cumsum()\n",
    "    time_series['cumm_dose', patient] = cumm_dose"
   ]
  },
  {
   "cell_type": "markdown",
   "metadata": {},
   "source": [
    "Let's check the maximum temperature and the total dose per patient using a pivot table. We index by patient, while the values should be the dose and the temperature, aggregated as sum and maximum respectively."
   ]
  },
  {
   "cell_type": "code",
   "execution_count": 6,
   "metadata": {},
   "outputs": [
    {
     "data": {
      "text/html": [
       "<div><style>\n",
       ".dataframe > thead > tr,\n",
       ".dataframe > tbody > tr {\n",
       "  text-align: right;\n",
       "  white-space: pre-wrap;\n",
       "}\n",
       "</style>\n",
       "<small>shape: (9, 3)</small><table border=\"1\" class=\"dataframe\"><thead><tr><th>patient</th><th>dose</th><th>temperature</th></tr><tr><td>i64</td><td>i64</td><td>f64</td></tr></thead><tbody><tr><td>8</td><td>0</td><td>37.9</td></tr><tr><td>6</td><td>8</td><td>38.1</td></tr><tr><td>4</td><td>10</td><td>38.1</td></tr><tr><td>1</td><td>6</td><td>38.5</td></tr><tr><td>5</td><td>27</td><td>39.5</td></tr><tr><td>3</td><td>13</td><td>39.5</td></tr><tr><td>2</td><td>15</td><td>39.4</td></tr><tr><td>7</td><td>30</td><td>40.7</td></tr><tr><td>9</td><td>30</td><td>40.2</td></tr></tbody></table></div>"
      ],
      "text/plain": [
       "shape: (9, 3)\n",
       "┌─────────┬──────┬─────────────┐\n",
       "│ patient ┆ dose ┆ temperature │\n",
       "│ ---     ┆ ---  ┆ ---         │\n",
       "│ i64     ┆ i64  ┆ f64         │\n",
       "╞═════════╪══════╪═════════════╡\n",
       "│ 8       ┆ 0    ┆ 37.9        │\n",
       "│ 6       ┆ 8    ┆ 38.1        │\n",
       "│ 4       ┆ 10   ┆ 38.1        │\n",
       "│ 1       ┆ 6    ┆ 38.5        │\n",
       "│ 5       ┆ 27   ┆ 39.5        │\n",
       "│ 3       ┆ 13   ┆ 39.5        │\n",
       "│ 2       ┆ 15   ┆ 39.4        │\n",
       "│ 7       ┆ 30   ┆ 40.7        │\n",
       "│ 9       ┆ 30   ┆ 40.2        │\n",
       "└─────────┴──────┴─────────────┘"
      ]
     },
     "execution_count": 6,
     "metadata": {},
     "output_type": "execute_result"
    }
   ],
   "source": [
    "hypothesis = experiment_data.select('patient', 'dose', 'temperature').group_by('patient').agg(pl.col('dose').sum(), pl.col('temperature').max())\n",
    "hypothesis"
   ]
  },
  {
   "cell_type": "code",
   "execution_count": 9,
   "metadata": {},
   "outputs": [
    {
     "data": {
      "image/png": "[encoded data removed]",
      "text/plain": [
       "<Figure size 640x480 with 1 Axes>"
      ]
     },
     "metadata": {},
     "output_type": "display_data"
    }
   ],
   "source": [
    "plt.plot(hypothesis['temperature'], hypothesis['dose'], 'o');"
   ]
  },
  {
   "cell_type": "markdown",
   "metadata": {},
   "source": [
    "It seems possible that there is a linear relationship between the maximum temperature, and the total dose administered during the experiment. Let's use Seaborn to copmute and display a linear regression on the data."
   ]
  },
  {
   "cell_type": "code",
   "execution_count": 10,
   "metadata": {},
   "outputs": [
    {
     "data": {
      "image/png": "[encoded data removed]",
      "text/plain": [
       "<Figure size 500x500 with 1 Axes>"
      ]
     },
     "metadata": {},
     "output_type": "display_data"
    }
   ],
   "source": [
    "sns.lmplot(x='temperature', y='dose', data=hypothesis);"
   ]
  },
  {
   "cell_type": "markdown",
   "metadata": {},
   "source": [
    "## Metadata"
   ]
  },
  {
   "cell_type": "markdown",
   "metadata": {},
   "source": [
    "There is a second file with metadata on the patients, let's read that as well. The data is in de file `patient_metadata.xlsx`."
   ]
  },
  {
   "cell_type": "code",
   "execution_count": 16,
   "metadata": {
    "tags": []
   },
   "outputs": [
    {
     "data": {
      "text/html": [
       "<div><style>\n",
       ".dataframe > thead > tr,\n",
       ".dataframe > tbody > tr {\n",
       "  text-align: right;\n",
       "  white-space: pre-wrap;\n",
       "}\n",
       "</style>\n",
       "<small>shape: (10, 3)</small><table border=\"1\" class=\"dataframe\"><thead><tr><th>patient</th><th>gender</th><th>condition</th></tr><tr><td>i64</td><td>cat</td><td>cat</td></tr></thead><tbody><tr><td>1</td><td>&quot;M&quot;</td><td>&quot;A&quot;</td></tr><tr><td>2</td><td>&quot;F&quot;</td><td>&quot;A&quot;</td></tr><tr><td>3</td><td>&quot;M&quot;</td><td>&quot;A&quot;</td></tr><tr><td>5</td><td>&quot;M&quot;</td><td>&quot;A&quot;</td></tr><tr><td>6</td><td>&quot;F&quot;</td><td>&quot;B&quot;</td></tr><tr><td>7</td><td>&quot;M&quot;</td><td>&quot;B&quot;</td></tr><tr><td>8</td><td>&quot;F&quot;</td><td>&quot;B&quot;</td></tr><tr><td>9</td><td>&quot;M&quot;</td><td>&quot;B&quot;</td></tr><tr><td>10</td><td>&quot;F&quot;</td><td>&quot;B&quot;</td></tr><tr><td>11</td><td>&quot;M&quot;</td><td>&quot;B&quot;</td></tr></tbody></table></div>"
      ],
      "text/plain": [
       "shape: (10, 3)\n",
       "┌─────────┬────────┬───────────┐\n",
       "│ patient ┆ gender ┆ condition │\n",
       "│ ---     ┆ ---    ┆ ---       │\n",
       "│ i64     ┆ cat    ┆ cat       │\n",
       "╞═════════╪════════╪═══════════╡\n",
       "│ 1       ┆ M      ┆ A         │\n",
       "│ 2       ┆ F      ┆ A         │\n",
       "│ 3       ┆ M      ┆ A         │\n",
       "│ 5       ┆ M      ┆ A         │\n",
       "│ 6       ┆ F      ┆ B         │\n",
       "│ 7       ┆ M      ┆ B         │\n",
       "│ 8       ┆ F      ┆ B         │\n",
       "│ 9       ┆ M      ┆ B         │\n",
       "│ 10      ┆ F      ┆ B         │\n",
       "│ 11      ┆ M      ┆ B         │\n",
       "└─────────┴────────┴───────────┘"
      ]
     },
     "execution_count": 16,
     "metadata": {},
     "output_type": "execute_result"
    }
   ],
   "source": [
    "metadata = pl.read_excel('data/patient_metadata.xlsx', schema_overrides={\n",
    "    'gender': pl.Categorical,\n",
    "    'condition': pl.Categorical,\n",
    "})\n",
    "metadata"
   ]
  },
  {
   "cell_type": "markdown",
   "metadata": {},
   "source": [
    "\n",
    "How many distinct genders and conditions do we have?"
   ]
  },
  {
   "cell_type": "code",
   "execution_count": 17,
   "metadata": {
    "tags": []
   },
   "outputs": [
    {
     "name": "stdout",
     "output_type": "stream",
     "text": [
      "gender : shape: (2,)\n",
      "Series: 'gender' [cat]\n",
      "[\n",
      "\t\"M\"\n",
      "\t\"F\"\n",
      "] -> 2\n",
      "condition : shape: (2,)\n",
      "Series: 'condition' [cat]\n",
      "[\n",
      "\t\"A\"\n",
      "\t\"B\"\n",
      "] -> 2\n"
     ]
    }
   ],
   "source": [
    "for column in ['gender' ,'condition']:\n",
    "    values = metadata[column].unique()\n",
    "    print(column, ':', values, '->', len(values))"
   ]
  },
  {
   "cell_type": "markdown",
   "metadata": {},
   "source": [
    "Gender and condition are categorical data,  `describe` doesn't provide a lot of information."
   ]
  },
  {
   "cell_type": "markdown",
   "metadata": {},
   "source": [
    "Which patients are male, and have condition A?"
   ]
  },
  {
   "cell_type": "code",
   "execution_count": 21,
   "metadata": {},
   "outputs": [
    {
     "data": {
      "text/html": [
       "<div><style>\n",
       ".dataframe > thead > tr,\n",
       ".dataframe > tbody > tr {\n",
       "  text-align: right;\n",
       "  white-space: pre-wrap;\n",
       "}\n",
       "</style>\n",
       "<small>shape: (3, 3)</small><table border=\"1\" class=\"dataframe\"><thead><tr><th>patient</th><th>gender</th><th>condition</th></tr><tr><td>i64</td><td>cat</td><td>cat</td></tr></thead><tbody><tr><td>1</td><td>&quot;M&quot;</td><td>&quot;A&quot;</td></tr><tr><td>3</td><td>&quot;M&quot;</td><td>&quot;A&quot;</td></tr><tr><td>5</td><td>&quot;M&quot;</td><td>&quot;A&quot;</td></tr></tbody></table></div>"
      ],
      "text/plain": [
       "shape: (3, 3)\n",
       "┌─────────┬────────┬───────────┐\n",
       "│ patient ┆ gender ┆ condition │\n",
       "│ ---     ┆ ---    ┆ ---       │\n",
       "│ i64     ┆ cat    ┆ cat       │\n",
       "╞═════════╪════════╪═══════════╡\n",
       "│ 1       ┆ M      ┆ A         │\n",
       "│ 3       ┆ M      ┆ A         │\n",
       "│ 5       ┆ M      ┆ A         │\n",
       "└─────────┴────────┴───────────┘"
      ]
     },
     "execution_count": 21,
     "metadata": {},
     "output_type": "execute_result"
    }
   ],
   "source": [
    "metadata.filter((pl.col('gender') == 'M') & (pl.col('condition') == 'A'))"
   ]
  },
  {
   "cell_type": "markdown",
   "metadata": {},
   "source": [
    "## Merging dataframes"
   ]
  },
  {
   "cell_type": "markdown",
   "metadata": {},
   "source": [
    "The patient IDs in the exerperimental and metadata should correspond, so let merge the dataframes. However, let's first check whether the patient IDs are the same in both dataframes."
   ]
  },
  {
   "cell_type": "code",
   "execution_count": 24,
   "metadata": {
    "tags": []
   },
   "outputs": [
    {
     "name": "stdout",
     "output_type": "stream",
     "text": [
      "{4}\n",
      "{10, 11}\n"
     ]
    }
   ],
   "source": [
    "patients_experiment = set(experiment_data['patient'])\n",
    "patients_metadata = set(metadata['patient'])\n",
    "print(patients_experiment - patients_metadata)\n",
    "print(patients_metadata - patients_experiment)"
   ]
  },
  {
   "cell_type": "markdown",
   "metadata": {},
   "source": [
    "So metadata is missing for patient 4, and there is metadata for patients that were not involved in the experiment (10 and 11).  Since we are not interested in the latter, and should keep the data on patient 4 regardless of metadata, we do a left-join of the data of the experiment, and the metadata."
   ]
  },
  {
   "cell_type": "markdown",
   "metadata": {},
   "source": [
    "How many patients involved in our experiment are male, and how many female?"
   ]
  },
  {
   "cell_type": "code",
   "execution_count": 34,
   "metadata": {
    "tags": []
   },
   "outputs": [
    {
     "data": {
      "text/html": [
       "<div><style>\n",
       ".dataframe > thead > tr,\n",
       ".dataframe > tbody > tr {\n",
       "  text-align: right;\n",
       "  white-space: pre-wrap;\n",
       "}\n",
       "</style>\n",
       "<small>shape: (2, 2)</small><table border=\"1\" class=\"dataframe\"><thead><tr><th>gender</th><th>gender_count</th></tr><tr><td>cat</td><td>u32</td></tr></thead><tbody><tr><td>&quot;M&quot;</td><td>5</td></tr><tr><td>&quot;F&quot;</td><td>3</td></tr></tbody></table></div>"
      ],
      "text/plain": [
       "shape: (2, 2)\n",
       "┌────────┬──────────────┐\n",
       "│ gender ┆ gender_count │\n",
       "│ ---    ┆ ---          │\n",
       "│ cat    ┆ u32          │\n",
       "╞════════╪══════════════╡\n",
       "│ M      ┆ 5            │\n",
       "│ F      ┆ 3            │\n",
       "└────────┴──────────────┘"
      ]
     },
     "execution_count": 34,
     "metadata": {},
     "output_type": "execute_result"
    }
   ],
   "source": [
    "data['patient', 'gender'] \\\n",
    "    .unique() \\\n",
    "    .group_by('gender') \\\n",
    "    .agg(pl.col('gender').count().alias('gender_count')) \\\n",
    "    .drop_nulls()"
   ]
  },
  {
   "cell_type": "markdown",
   "metadata": {},
   "source": [
    "Which patients had a temperature higher than $39^{\\circ}$, and when?  Let's also display the gender."
   ]
  },
  {
   "cell_type": "code",
   "execution_count": 36,
   "metadata": {
    "scrolled": true,
    "tags": []
   },
   "outputs": [
    {
     "data": {
      "text/html": [
       "<div><style>\n",
       ".dataframe > thead > tr,\n",
       ".dataframe > tbody > tr {\n",
       "  text-align: right;\n",
       "  white-space: pre-wrap;\n",
       "}\n",
       "</style>\n",
       "<small>shape: (12, 4)</small><table border=\"1\" class=\"dataframe\"><thead><tr><th>patient</th><th>date</th><th>temperature</th><th>gender</th></tr><tr><td>i64</td><td>datetime[ms]</td><td>f64</td><td>cat</td></tr></thead><tbody><tr><td>2</td><td>2012-10-02 10:00:00</td><td>39.3</td><td>&quot;F&quot;</td></tr><tr><td>2</td><td>2012-10-02 11:00:00</td><td>39.4</td><td>&quot;F&quot;</td></tr><tr><td>3</td><td>2012-10-02 11:00:00</td><td>39.5</td><td>&quot;M&quot;</td></tr><tr><td>5</td><td>2012-10-02 11:00:00</td><td>39.5</td><td>&quot;M&quot;</td></tr><tr><td>5</td><td>2012-10-02 14:00:00</td><td>39.4</td><td>&quot;M&quot;</td></tr><tr><td>&hellip;</td><td>&hellip;</td><td>&hellip;</td><td>&hellip;</td></tr><tr><td>7</td><td>2012-10-02 12:00:00</td><td>39.8</td><td>&quot;M&quot;</td></tr><tr><td>7</td><td>2012-10-02 13:00:00</td><td>40.2</td><td>&quot;M&quot;</td></tr><tr><td>9</td><td>2012-10-02 11:00:00</td><td>39.5</td><td>&quot;M&quot;</td></tr><tr><td>9</td><td>2012-10-02 12:00:00</td><td>40.2</td><td>&quot;M&quot;</td></tr><tr><td>9</td><td>2012-10-02 13:00:00</td><td>39.1</td><td>&quot;M&quot;</td></tr></tbody></table></div>"
      ],
      "text/plain": [
       "shape: (12, 4)\n",
       "┌─────────┬─────────────────────┬─────────────┬────────┐\n",
       "│ patient ┆ date                ┆ temperature ┆ gender │\n",
       "│ ---     ┆ ---                 ┆ ---         ┆ ---    │\n",
       "│ i64     ┆ datetime[ms]        ┆ f64         ┆ cat    │\n",
       "╞═════════╪═════════════════════╪═════════════╪════════╡\n",
       "│ 2       ┆ 2012-10-02 10:00:00 ┆ 39.3        ┆ F      │\n",
       "│ 2       ┆ 2012-10-02 11:00:00 ┆ 39.4        ┆ F      │\n",
       "│ 3       ┆ 2012-10-02 11:00:00 ┆ 39.5        ┆ M      │\n",
       "│ 5       ┆ 2012-10-02 11:00:00 ┆ 39.5        ┆ M      │\n",
       "│ 5       ┆ 2012-10-02 14:00:00 ┆ 39.4        ┆ M      │\n",
       "│ …       ┆ …                   ┆ …           ┆ …      │\n",
       "│ 7       ┆ 2012-10-02 12:00:00 ┆ 39.8        ┆ M      │\n",
       "│ 7       ┆ 2012-10-02 13:00:00 ┆ 40.2        ┆ M      │\n",
       "│ 9       ┆ 2012-10-02 11:00:00 ┆ 39.5        ┆ M      │\n",
       "│ 9       ┆ 2012-10-02 12:00:00 ┆ 40.2        ┆ M      │\n",
       "│ 9       ┆ 2012-10-02 13:00:00 ┆ 39.1        ┆ M      │\n",
       "└─────────┴─────────────────────┴─────────────┴────────┘"
      ]
     },
     "execution_count": 36,
     "metadata": {},
     "output_type": "execute_result"
    }
   ],
   "source": [
    "data['patient', 'date', 'temperature', 'gender'] \\\n",
    "    .filter(pl.col('temperature') > 39.0)"
   ]
  },
  {
   "cell_type": "markdown",
   "metadata": {},
   "source": [
    "Suspiciously many males, let's see how many males versus females had a temperature (at any point)."
   ]
  },
  {
   "cell_type": "code",
   "execution_count": 38,
   "metadata": {},
   "outputs": [
    {
     "data": {
      "text/html": [
       "<div><style>\n",
       ".dataframe > thead > tr,\n",
       ".dataframe > tbody > tr {\n",
       "  text-align: right;\n",
       "  white-space: pre-wrap;\n",
       "}\n",
       "</style>\n",
       "<small>shape: (2, 2)</small><table border=\"1\" class=\"dataframe\"><thead><tr><th>gender</th><th>patient</th></tr><tr><td>cat</td><td>u32</td></tr></thead><tbody><tr><td>&quot;F&quot;</td><td>1</td></tr><tr><td>&quot;M&quot;</td><td>4</td></tr></tbody></table></div>"
      ],
      "text/plain": [
       "shape: (2, 2)\n",
       "┌────────┬─────────┐\n",
       "│ gender ┆ patient │\n",
       "│ ---    ┆ ---     │\n",
       "│ cat    ┆ u32     │\n",
       "╞════════╪═════════╡\n",
       "│ F      ┆ 1       │\n",
       "│ M      ┆ 4       │\n",
       "└────────┴─────────┘"
      ]
     },
     "execution_count": 38,
     "metadata": {},
     "output_type": "execute_result"
    }
   ],
   "source": [
    "data.filter(pl.col('temperature') > 39.0) \\\n",
    "    .select('patient', 'gender').unique() \\\n",
    "    .group_by('gender') \\\n",
    "    .agg(pl.col('patient').count())"
   ]
  },
  {
   "cell_type": "markdown",
   "metadata": {},
   "source": [
    "## Gender differences?"
   ]
  },
  {
   "cell_type": "markdown",
   "metadata": {},
   "source": [
    "There might be a gender influence here. Let's split our data set into male and female patients."
   ]
  },
  {
   "cell_type": "code",
   "execution_count": 48,
   "metadata": {
    "tags": []
   },
   "outputs": [],
   "source": [
    "gender_series = data.drop_nulls().pivot(on=('patient', 'gender',), index='date')"
   ]
  },
  {
   "cell_type": "code",
   "execution_count": 49,
   "metadata": {},
   "outputs": [],
   "source": [
    "gender_series = gender_series.interpolate()\n",
    "gender_series = gender_series.fill_null(strategy='forward')"
   ]
  },
  {
   "cell_type": "code",
   "execution_count": 50,
   "metadata": {
    "scrolled": true
   },
   "outputs": [
    {
     "data": {
      "text/html": [
       "<div><style>\n",
       ".dataframe > thead > tr,\n",
       ".dataframe > tbody > tr {\n",
       "  text-align: right;\n",
       "  white-space: pre-wrap;\n",
       "}\n",
       "</style>\n",
       "<small>shape: (7, 25)</small><table border=\"1\" class=\"dataframe\"><thead><tr><th>date</th><th>dose_{1,&quot;M&quot;}</th><th>dose_{2,&quot;F&quot;}</th><th>dose_{3,&quot;M&quot;}</th><th>dose_{5,&quot;M&quot;}</th><th>dose_{6,&quot;F&quot;}</th><th>dose_{7,&quot;M&quot;}</th><th>dose_{8,&quot;F&quot;}</th><th>dose_{9,&quot;M&quot;}</th><th>temperature_{1,&quot;M&quot;}</th><th>temperature_{2,&quot;F&quot;}</th><th>temperature_{3,&quot;M&quot;}</th><th>temperature_{5,&quot;M&quot;}</th><th>temperature_{6,&quot;F&quot;}</th><th>temperature_{7,&quot;M&quot;}</th><th>temperature_{8,&quot;F&quot;}</th><th>temperature_{9,&quot;M&quot;}</th><th>condition_{1,&quot;M&quot;}</th><th>condition_{2,&quot;F&quot;}</th><th>condition_{3,&quot;M&quot;}</th><th>condition_{5,&quot;M&quot;}</th><th>condition_{6,&quot;F&quot;}</th><th>condition_{7,&quot;M&quot;}</th><th>condition_{8,&quot;F&quot;}</th><th>condition_{9,&quot;M&quot;}</th></tr><tr><td>datetime[ms]</td><td>f64</td><td>f64</td><td>f64</td><td>f64</td><td>f64</td><td>f64</td><td>f64</td><td>f64</td><td>f64</td><td>f64</td><td>f64</td><td>f64</td><td>f64</td><td>f64</td><td>f64</td><td>f64</td><td>cat</td><td>cat</td><td>cat</td><td>cat</td><td>cat</td><td>cat</td><td>cat</td><td>cat</td></tr></thead><tbody><tr><td>2012-10-02 10:00:00</td><td>0.0</td><td>0.0</td><td>0.0</td><td>0.0</td><td>0.0</td><td>0.0</td><td>0.0</td><td>0.0</td><td>38.3</td><td>39.3</td><td>37.9</td><td>37.9</td><td>37.5</td><td>39.5</td><td>37.8</td><td>38.3</td><td>&quot;A&quot;</td><td>&quot;A&quot;</td><td>&quot;A&quot;</td><td>&quot;A&quot;</td><td>&quot;B&quot;</td><td>&quot;B&quot;</td><td>&quot;B&quot;</td><td>&quot;B&quot;</td></tr><tr><td>2012-10-02 11:00:00</td><td>2.0</td><td>5.0</td><td>2.0</td><td>3.0</td><td>2.0</td><td>10.0</td><td>0.0</td><td>10.0</td><td>38.5</td><td>39.4</td><td>39.5</td><td>39.5</td><td>38.1</td><td>40.7</td><td>37.9</td><td>39.5</td><td>&quot;A&quot;</td><td>&quot;A&quot;</td><td>&quot;A&quot;</td><td>&quot;A&quot;</td><td>&quot;B&quot;</td><td>&quot;B&quot;</td><td>&quot;B&quot;</td><td>&quot;B&quot;</td></tr><tr><td>2012-10-02 12:00:00</td><td>2.0</td><td>5.0</td><td>5.0</td><td>7.0</td><td>3.0</td><td>5.0</td><td>0.0</td><td>12.0</td><td>38.1</td><td>38.1</td><td>38.3</td><td>38.3</td><td>37.9</td><td>39.8</td><td>37.4</td><td>40.2</td><td>&quot;A&quot;</td><td>&quot;A&quot;</td><td>&quot;A&quot;</td><td>&quot;A&quot;</td><td>&quot;B&quot;</td><td>&quot;B&quot;</td><td>&quot;B&quot;</td><td>&quot;B&quot;</td></tr><tr><td>2012-10-02 13:00:00</td><td>2.0</td><td>5.0</td><td>3.5</td><td>5.0</td><td>2.0</td><td>8.0</td><td>0.0</td><td>4.0</td><td>37.3</td><td>37.3</td><td>38.0</td><td>38.5</td><td>37.7</td><td>40.2</td><td>37.6</td><td>39.1</td><td>&quot;A&quot;</td><td>&quot;A&quot;</td><td>&quot;A&quot;</td><td>&quot;A&quot;</td><td>&quot;B&quot;</td><td>&quot;B&quot;</td><td>&quot;B&quot;</td><td>&quot;B&quot;</td></tr><tr><td>2012-10-02 14:00:00</td><td>0.0</td><td>0.0</td><td>2.0</td><td>9.0</td><td>1.0</td><td>3.0</td><td>0.0</td><td>4.0</td><td>37.5</td><td>36.8</td><td>37.7</td><td>39.4</td><td>37.2</td><td>38.3</td><td>37.3</td><td>37.9</td><td>&quot;A&quot;</td><td>&quot;A&quot;</td><td>&quot;A&quot;</td><td>&quot;A&quot;</td><td>&quot;B&quot;</td><td>&quot;B&quot;</td><td>&quot;B&quot;</td><td>&quot;B&quot;</td></tr><tr><td>2012-10-02 15:00:00</td><td>0.0</td><td>0.0</td><td>2.0</td><td>3.0</td><td>0.0</td><td>3.0</td><td>0.0</td><td>0.0</td><td>37.1</td><td>36.8</td><td>37.1</td><td>37.9</td><td>36.8</td><td>37.6</td><td>37.1</td><td>37.1</td><td>&quot;A&quot;</td><td>&quot;A&quot;</td><td>&quot;A&quot;</td><td>&quot;A&quot;</td><td>&quot;B&quot;</td><td>&quot;B&quot;</td><td>&quot;B&quot;</td><td>&quot;B&quot;</td></tr><tr><td>2012-10-02 16:00:00</td><td>0.0</td><td>0.0</td><td>0.0</td><td>0.0</td><td>0.0</td><td>1.0</td><td>0.0</td><td>0.0</td><td>36.8</td><td>36.8</td><td>36.7</td><td>37.2</td><td>36.8</td><td>37.3</td><td>36.8</td><td>37.3</td><td>&quot;A&quot;</td><td>&quot;A&quot;</td><td>&quot;A&quot;</td><td>&quot;A&quot;</td><td>&quot;B&quot;</td><td>&quot;B&quot;</td><td>&quot;B&quot;</td><td>&quot;B&quot;</td></tr></tbody></table></div>"
      ],
      "text/plain": [
       "shape: (7, 25)\n",
       "┌───────────┬───────────┬───────────┬───────────┬───┬───────────┬───────────┬───────────┬──────────┐\n",
       "│ date      ┆ dose_{1,\" ┆ dose_{2,\" ┆ dose_{3,\" ┆ … ┆ condition ┆ condition ┆ condition ┆ conditio │\n",
       "│ ---       ┆ M\"}       ┆ F\"}       ┆ M\"}       ┆   ┆ _{6,\"F\"}  ┆ _{7,\"M\"}  ┆ _{8,\"F\"}  ┆ n_{9,\"M\" │\n",
       "│ datetime[ ┆ ---       ┆ ---       ┆ ---       ┆   ┆ ---       ┆ ---       ┆ ---       ┆ }        │\n",
       "│ ms]       ┆ f64       ┆ f64       ┆ f64       ┆   ┆ cat       ┆ cat       ┆ cat       ┆ ---      │\n",
       "│           ┆           ┆           ┆           ┆   ┆           ┆           ┆           ┆ cat      │\n",
       "╞═══════════╪═══════════╪═══════════╪═══════════╪═══╪═══════════╪═══════════╪═══════════╪══════════╡\n",
       "│ 2012-10-0 ┆ 0.0       ┆ 0.0       ┆ 0.0       ┆ … ┆ B         ┆ B         ┆ B         ┆ B        │\n",
       "│ 2         ┆           ┆           ┆           ┆   ┆           ┆           ┆           ┆          │\n",
       "│ 10:00:00  ┆           ┆           ┆           ┆   ┆           ┆           ┆           ┆          │\n",
       "│ 2012-10-0 ┆ 2.0       ┆ 5.0       ┆ 2.0       ┆ … ┆ B         ┆ B         ┆ B         ┆ B        │\n",
       "│ 2         ┆           ┆           ┆           ┆   ┆           ┆           ┆           ┆          │\n",
       "│ 11:00:00  ┆           ┆           ┆           ┆   ┆           ┆           ┆           ┆          │\n",
       "│ 2012-10-0 ┆ 2.0       ┆ 5.0       ┆ 5.0       ┆ … ┆ B         ┆ B         ┆ B         ┆ B        │\n",
       "│ 2         ┆           ┆           ┆           ┆   ┆           ┆           ┆           ┆          │\n",
       "│ 12:00:00  ┆           ┆           ┆           ┆   ┆           ┆           ┆           ┆          │\n",
       "│ 2012-10-0 ┆ 2.0       ┆ 5.0       ┆ 3.5       ┆ … ┆ B         ┆ B         ┆ B         ┆ B        │\n",
       "│ 2         ┆           ┆           ┆           ┆   ┆           ┆           ┆           ┆          │\n",
       "│ 13:00:00  ┆           ┆           ┆           ┆   ┆           ┆           ┆           ┆          │\n",
       "│ 2012-10-0 ┆ 0.0       ┆ 0.0       ┆ 2.0       ┆ … ┆ B         ┆ B         ┆ B         ┆ B        │\n",
       "│ 2         ┆           ┆           ┆           ┆   ┆           ┆           ┆           ┆          │\n",
       "│ 14:00:00  ┆           ┆           ┆           ┆   ┆           ┆           ┆           ┆          │\n",
       "│ 2012-10-0 ┆ 0.0       ┆ 0.0       ┆ 2.0       ┆ … ┆ B         ┆ B         ┆ B         ┆ B        │\n",
       "│ 2         ┆           ┆           ┆           ┆   ┆           ┆           ┆           ┆          │\n",
       "│ 15:00:00  ┆           ┆           ┆           ┆   ┆           ┆           ┆           ┆          │\n",
       "│ 2012-10-0 ┆ 0.0       ┆ 0.0       ┆ 0.0       ┆ … ┆ B         ┆ B         ┆ B         ┆ B        │\n",
       "│ 2         ┆           ┆           ┆           ┆   ┆           ┆           ┆           ┆          │\n",
       "│ 16:00:00  ┆           ┆           ┆           ┆   ┆           ┆           ┆           ┆          │\n",
       "└───────────┴───────────┴───────────┴───────────┴───┴───────────┴───────────┴───────────┴──────────┘"
      ]
     },
     "execution_count": 50,
     "metadata": {},
     "output_type": "execute_result"
    }
   ],
   "source": [
    "gender_series"
   ]
  },
  {
   "cell_type": "markdown",
   "metadata": {},
   "source": [
    "Note that now the data for patient 4 is missing, since the gender is unknown."
   ]
  },
  {
   "cell_type": "markdown",
   "metadata": {},
   "source": [
    "Let's compute the average temperature for male and female patients, compare."
   ]
  },
  {
   "cell_type": "code",
   "execution_count": 54,
   "metadata": {},
   "outputs": [
    {
     "ename": "ColumnNotFoundError",
     "evalue": "\"gender\" not found",
     "output_type": "error",
     "traceback": [
      "\u001b[0;31m---------------------------------------------------------------------------\u001b[0m",
      "\u001b[0;31mTypeError\u001b[0m                                 Traceback (most recent call last)",
      "File \u001b[0;32m~/mambaforge/envs/python_for_data_science/lib/python3.12/site-packages/polars/_utils/construction/series.py:309\u001b[0m, in \u001b[0;36m_construct_series_with_fallbacks\u001b[0;34m(constructor, name, values, dtype, strict)\u001b[0m\n\u001b[1;32m    308\u001b[0m \u001b[38;5;28;01mtry\u001b[39;00m:\n\u001b[0;32m--> 309\u001b[0m     \u001b[38;5;28;01mreturn\u001b[39;00m \u001b[43mconstructor\u001b[49m\u001b[43m(\u001b[49m\u001b[43mname\u001b[49m\u001b[43m,\u001b[49m\u001b[43m \u001b[49m\u001b[43mvalues\u001b[49m\u001b[43m,\u001b[49m\u001b[43m \u001b[49m\u001b[43mstrict\u001b[49m\u001b[43m)\u001b[49m\n\u001b[1;32m    310\u001b[0m \u001b[38;5;28;01mexcept\u001b[39;00m \u001b[38;5;167;01mTypeError\u001b[39;00m:\n",
      "\u001b[0;31mTypeError\u001b[0m: 'str' object cannot be interpreted as an integer",
      "\nDuring handling of the above exception, another exception occurred:\n",
      "\u001b[0;31mTypeError\u001b[0m                                 Traceback (most recent call last)",
      "File \u001b[0;32m~/mambaforge/envs/python_for_data_science/lib/python3.12/site-packages/polars/_utils/getitem.py:164\u001b[0m, in \u001b[0;36mget_df_item_by_key\u001b[0;34m(df, key)\u001b[0m\n\u001b[1;32m    163\u001b[0m \u001b[38;5;28;01mtry\u001b[39;00m:\n\u001b[0;32m--> 164\u001b[0m     \u001b[38;5;28;01mreturn\u001b[39;00m \u001b[43m_select_rows\u001b[49m\u001b[43m(\u001b[49m\u001b[43mdf\u001b[49m\u001b[43m,\u001b[49m\u001b[43m \u001b[49m\u001b[43mkey\u001b[49m\u001b[43m)\u001b[49m  \u001b[38;5;66;03m# type: ignore[arg-type]\u001b[39;00m\n\u001b[1;32m    165\u001b[0m \u001b[38;5;28;01mexcept\u001b[39;00m \u001b[38;5;167;01mTypeError\u001b[39;00m:\n",
      "File \u001b[0;32m~/mambaforge/envs/python_for_data_science/lib/python3.12/site-packages/polars/_utils/getitem.py:303\u001b[0m, in \u001b[0;36m_select_rows\u001b[0;34m(df, key)\u001b[0m\n\u001b[1;32m    302\u001b[0m     _raise_on_boolean_mask()\n\u001b[0;32m--> 303\u001b[0m s \u001b[38;5;241m=\u001b[39m \u001b[43mpl\u001b[49m\u001b[38;5;241;43m.\u001b[39;49m\u001b[43mSeries\u001b[49m\u001b[43m(\u001b[49m\u001b[38;5;124;43m\"\u001b[39;49m\u001b[38;5;124;43m\"\u001b[39;49m\u001b[43m,\u001b[49m\u001b[43m \u001b[49m\u001b[43mkey\u001b[49m\u001b[43m,\u001b[49m\u001b[43m \u001b[49m\u001b[43mdtype\u001b[49m\u001b[38;5;241;43m=\u001b[39;49m\u001b[43mInt64\u001b[49m\u001b[43m)\u001b[49m\n\u001b[1;32m    304\u001b[0m indices \u001b[38;5;241m=\u001b[39m _convert_series_to_indices(s, df\u001b[38;5;241m.\u001b[39mheight)\n",
      "File \u001b[0;32m~/mambaforge/envs/python_for_data_science/lib/python3.12/site-packages/polars/series/series.py:292\u001b[0m, in \u001b[0;36mSeries.__init__\u001b[0;34m(self, name, values, dtype, strict, nan_to_null)\u001b[0m\n\u001b[1;32m    291\u001b[0m \u001b[38;5;28;01mif\u001b[39;00m \u001b[38;5;28misinstance\u001b[39m(values, Sequence):\n\u001b[0;32m--> 292\u001b[0m     \u001b[38;5;28mself\u001b[39m\u001b[38;5;241m.\u001b[39m_s \u001b[38;5;241m=\u001b[39m \u001b[43msequence_to_pyseries\u001b[49m\u001b[43m(\u001b[49m\n\u001b[1;32m    293\u001b[0m \u001b[43m        \u001b[49m\u001b[43mname\u001b[49m\u001b[43m,\u001b[49m\n\u001b[1;32m    294\u001b[0m \u001b[43m        \u001b[49m\u001b[43mvalues\u001b[49m\u001b[43m,\u001b[49m\n\u001b[1;32m    295\u001b[0m \u001b[43m        \u001b[49m\u001b[43mdtype\u001b[49m\u001b[38;5;241;43m=\u001b[39;49m\u001b[43mdtype\u001b[49m\u001b[43m,\u001b[49m\n\u001b[1;32m    296\u001b[0m \u001b[43m        \u001b[49m\u001b[43mstrict\u001b[49m\u001b[38;5;241;43m=\u001b[39;49m\u001b[43mstrict\u001b[49m\u001b[43m,\u001b[49m\n\u001b[1;32m    297\u001b[0m \u001b[43m        \u001b[49m\u001b[43mnan_to_null\u001b[49m\u001b[38;5;241;43m=\u001b[39;49m\u001b[43mnan_to_null\u001b[49m\u001b[43m,\u001b[49m\n\u001b[1;32m    298\u001b[0m \u001b[43m    \u001b[49m\u001b[43m)\u001b[49m\n\u001b[1;32m    300\u001b[0m \u001b[38;5;28;01melif\u001b[39;00m values \u001b[38;5;129;01mis\u001b[39;00m \u001b[38;5;28;01mNone\u001b[39;00m:\n",
      "File \u001b[0;32m~/mambaforge/envs/python_for_data_science/lib/python3.12/site-packages/polars/_utils/construction/series.py:134\u001b[0m, in \u001b[0;36msequence_to_pyseries\u001b[0;34m(name, values, dtype, strict, nan_to_null)\u001b[0m\n\u001b[1;32m    133\u001b[0m constructor \u001b[38;5;241m=\u001b[39m polars_type_to_constructor(dtype)\n\u001b[0;32m--> 134\u001b[0m pyseries \u001b[38;5;241m=\u001b[39m \u001b[43m_construct_series_with_fallbacks\u001b[49m\u001b[43m(\u001b[49m\n\u001b[1;32m    135\u001b[0m \u001b[43m    \u001b[49m\u001b[43mconstructor\u001b[49m\u001b[43m,\u001b[49m\u001b[43m \u001b[49m\u001b[43mname\u001b[49m\u001b[43m,\u001b[49m\u001b[43m \u001b[49m\u001b[43mvalues\u001b[49m\u001b[43m,\u001b[49m\u001b[43m \u001b[49m\u001b[43mdtype\u001b[49m\u001b[43m,\u001b[49m\u001b[43m \u001b[49m\u001b[43mstrict\u001b[49m\u001b[38;5;241;43m=\u001b[39;49m\u001b[43mstrict\u001b[49m\n\u001b[1;32m    136\u001b[0m \u001b[43m\u001b[49m\u001b[43m)\u001b[49m\n\u001b[1;32m    137\u001b[0m \u001b[38;5;28;01mif\u001b[39;00m dtype \u001b[38;5;129;01min\u001b[39;00m (\n\u001b[1;32m    138\u001b[0m     Date,\n\u001b[1;32m    139\u001b[0m     Datetime,\n\u001b[0;32m   (...)\u001b[0m\n\u001b[1;32m    145\u001b[0m     Decimal,\n\u001b[1;32m    146\u001b[0m ):\n",
      "File \u001b[0;32m~/mambaforge/envs/python_for_data_science/lib/python3.12/site-packages/polars/_utils/construction/series.py:314\u001b[0m, in \u001b[0;36m_construct_series_with_fallbacks\u001b[0;34m(constructor, name, values, dtype, strict)\u001b[0m\n\u001b[1;32m    313\u001b[0m \u001b[38;5;28;01melse\u001b[39;00m:\n\u001b[0;32m--> 314\u001b[0m     \u001b[38;5;28;01mreturn\u001b[39;00m \u001b[43mPySeries\u001b[49m\u001b[38;5;241;43m.\u001b[39;49m\u001b[43mnew_from_any_values_and_dtype\u001b[49m\u001b[43m(\u001b[49m\n\u001b[1;32m    315\u001b[0m \u001b[43m        \u001b[49m\u001b[43mname\u001b[49m\u001b[43m,\u001b[49m\u001b[43m \u001b[49m\u001b[43mvalues\u001b[49m\u001b[43m,\u001b[49m\u001b[43m \u001b[49m\u001b[43mdtype\u001b[49m\u001b[43m,\u001b[49m\u001b[43m \u001b[49m\u001b[43mstrict\u001b[49m\u001b[38;5;241;43m=\u001b[39;49m\u001b[43mstrict\u001b[49m\n\u001b[1;32m    316\u001b[0m \u001b[43m    \u001b[49m\u001b[43m)\u001b[49m\n",
      "\u001b[0;31mTypeError\u001b[0m: unexpected value while building Series of type Int64; found value of type String: \"date\"\n\nHint: Try setting `strict=False` to allow passing data with mixed types.",
      "\nDuring handling of the above exception, another exception occurred:\n",
      "\u001b[0;31mColumnNotFoundError\u001b[0m                       Traceback (most recent call last)",
      "Cell \u001b[0;32mIn[54], line 1\u001b[0m\n\u001b[0;32m----> 1\u001b[0m avg_male_temp \u001b[38;5;241m=\u001b[39m \u001b[43mgender_series\u001b[49m\u001b[43m[\u001b[49m\u001b[38;5;124;43m'\u001b[39;49m\u001b[38;5;124;43mdate\u001b[39;49m\u001b[38;5;124;43m'\u001b[39;49m\u001b[43m,\u001b[49m\u001b[43m \u001b[49m\u001b[38;5;124;43m'\u001b[39;49m\u001b[38;5;124;43mgender\u001b[39;49m\u001b[38;5;124;43m'\u001b[39;49m\u001b[43m,\u001b[49m\u001b[43m \u001b[49m\u001b[38;5;124;43m'\u001b[39;49m\u001b[38;5;124;43mtemperature\u001b[39;49m\u001b[38;5;124;43m'\u001b[39;49m\u001b[43m]\u001b[49m\u001b[38;5;241m.\u001b[39mfilter(pl\u001b[38;5;241m.\u001b[39mcol(\u001b[38;5;124m'\u001b[39m\u001b[38;5;124mgender\u001b[39m\u001b[38;5;124m'\u001b[39m) \u001b[38;5;241m==\u001b[39m \u001b[38;5;124m'\u001b[39m\u001b[38;5;124mM\u001b[39m\u001b[38;5;124m'\u001b[39m)\n\u001b[1;32m      2\u001b[0m \u001b[38;5;66;03m#.select(pl.col('date'), pl.col('temperature').mean())\u001b[39;00m\n\u001b[1;32m      3\u001b[0m avg_male_temp\n",
      "File \u001b[0;32m~/mambaforge/envs/python_for_data_science/lib/python3.12/site-packages/polars/dataframe/frame.py:1198\u001b[0m, in \u001b[0;36mDataFrame.__getitem__\u001b[0;34m(self, key)\u001b[0m\n\u001b[1;32m   1184\u001b[0m \u001b[38;5;28;01mdef\u001b[39;00m \u001b[38;5;21m__getitem__\u001b[39m(\n\u001b[1;32m   1185\u001b[0m     \u001b[38;5;28mself\u001b[39m,\n\u001b[1;32m   1186\u001b[0m     key: (\n\u001b[0;32m   (...)\u001b[0m\n\u001b[1;32m   1195\u001b[0m     ),\n\u001b[1;32m   1196\u001b[0m ) \u001b[38;5;241m-\u001b[39m\u001b[38;5;241m>\u001b[39m DataFrame \u001b[38;5;241m|\u001b[39m Series \u001b[38;5;241m|\u001b[39m Any:\n\u001b[1;32m   1197\u001b[0m \u001b[38;5;250m    \u001b[39m\u001b[38;5;124;03m\"\"\"Get part of the DataFrame as a new DataFrame, Series, or scalar.\"\"\"\u001b[39;00m\n\u001b[0;32m-> 1198\u001b[0m     \u001b[38;5;28;01mreturn\u001b[39;00m \u001b[43mget_df_item_by_key\u001b[49m\u001b[43m(\u001b[49m\u001b[38;5;28;43mself\u001b[39;49m\u001b[43m,\u001b[49m\u001b[43m \u001b[49m\u001b[43mkey\u001b[49m\u001b[43m)\u001b[49m\n",
      "File \u001b[0;32m~/mambaforge/envs/python_for_data_science/lib/python3.12/site-packages/polars/_utils/getitem.py:166\u001b[0m, in \u001b[0;36mget_df_item_by_key\u001b[0;34m(df, key)\u001b[0m\n\u001b[1;32m    164\u001b[0m     \u001b[38;5;28;01mreturn\u001b[39;00m _select_rows(df, key)  \u001b[38;5;66;03m# type: ignore[arg-type]\u001b[39;00m\n\u001b[1;32m    165\u001b[0m \u001b[38;5;28;01mexcept\u001b[39;00m \u001b[38;5;167;01mTypeError\u001b[39;00m:\n\u001b[0;32m--> 166\u001b[0m     \u001b[38;5;28;01mreturn\u001b[39;00m \u001b[43m_select_columns\u001b[49m\u001b[43m(\u001b[49m\u001b[43mdf\u001b[49m\u001b[43m,\u001b[49m\u001b[43m \u001b[49m\u001b[43mkey\u001b[49m\u001b[43m)\u001b[49m\n",
      "File \u001b[0;32m~/mambaforge/envs/python_for_data_science/lib/python3.12/site-packages/polars/_utils/getitem.py:214\u001b[0m, in \u001b[0;36m_select_columns\u001b[0;34m(df, key)\u001b[0m\n\u001b[1;32m    212\u001b[0m     \u001b[38;5;28;01mreturn\u001b[39;00m _select_columns_by_index(df, key)  \u001b[38;5;66;03m# type: ignore[arg-type]\u001b[39;00m\n\u001b[1;32m    213\u001b[0m \u001b[38;5;28;01melif\u001b[39;00m \u001b[38;5;28misinstance\u001b[39m(first, \u001b[38;5;28mstr\u001b[39m):\n\u001b[0;32m--> 214\u001b[0m     \u001b[38;5;28;01mreturn\u001b[39;00m \u001b[43m_select_columns_by_name\u001b[49m\u001b[43m(\u001b[49m\u001b[43mdf\u001b[49m\u001b[43m,\u001b[49m\u001b[43m \u001b[49m\u001b[43mkey\u001b[49m\u001b[43m)\u001b[49m  \u001b[38;5;66;03m# type: ignore[arg-type]\u001b[39;00m\n\u001b[1;32m    215\u001b[0m \u001b[38;5;28;01melse\u001b[39;00m:\n\u001b[1;32m    216\u001b[0m     msg \u001b[38;5;241m=\u001b[39m \u001b[38;5;124mf\u001b[39m\u001b[38;5;124m\"\u001b[39m\u001b[38;5;124mcannot select columns using Sequence with elements of type \u001b[39m\u001b[38;5;132;01m{\u001b[39;00m\u001b[38;5;28mtype\u001b[39m(first)\u001b[38;5;241m.\u001b[39m\u001b[38;5;18m__name__\u001b[39m\u001b[38;5;132;01m!r}\u001b[39;00m\u001b[38;5;124m\"\u001b[39m\n",
      "File \u001b[0;32m~/mambaforge/envs/python_for_data_science/lib/python3.12/site-packages/polars/_utils/getitem.py:262\u001b[0m, in \u001b[0;36m_select_columns_by_name\u001b[0;34m(df, key)\u001b[0m\n\u001b[1;32m    261\u001b[0m \u001b[38;5;28;01mdef\u001b[39;00m \u001b[38;5;21m_select_columns_by_name\u001b[39m(df: DataFrame, key: Iterable[\u001b[38;5;28mstr\u001b[39m]) \u001b[38;5;241m-\u001b[39m\u001b[38;5;241m>\u001b[39m DataFrame:\n\u001b[0;32m--> 262\u001b[0m     \u001b[38;5;28;01mreturn\u001b[39;00m df\u001b[38;5;241m.\u001b[39m_from_pydf(\u001b[43mdf\u001b[49m\u001b[38;5;241;43m.\u001b[39;49m\u001b[43m_df\u001b[49m\u001b[38;5;241;43m.\u001b[39;49m\u001b[43mselect\u001b[49m\u001b[43m(\u001b[49m\u001b[43mkey\u001b[49m\u001b[43m)\u001b[49m)\n",
      "\u001b[0;31mColumnNotFoundError\u001b[0m: \"gender\" not found"
     ]
    }
   ],
   "source": [
    "avg_male_temp = gender_series['date', 'gender', 'temperature'].filter(pl.col('gender') == 'M')\n",
    "#.select(pl.col('date'), pl.col('temperature').mean())\n",
    "avg_male_temp"
   ]
  },
  {
   "cell_type": "code",
   "execution_count": 46,
   "metadata": {
    "tags": []
   },
   "outputs": [],
   "source": [
    "avg_male_temp = gender_series.temperature.M.mean(axis=1)\n",
    "avg_female_temp = gender_series.temperature.F.mean(axis=1)"
   ]
  },
  {
   "cell_type": "code",
   "execution_count": 47,
   "metadata": {
    "tags": []
   },
   "outputs": [
    {
     "data": {
      "text/plain": [
       "pandas.core.series.Series"
      ]
     },
     "execution_count": 47,
     "metadata": {},
     "output_type": "execute_result"
    }
   ],
   "source": [
    "type(avg_male_temp)"
   ]
  },
  {
   "cell_type": "markdown",
   "metadata": {},
   "source": [
    "These are two `Series`, we can concatenate these into a single `DataFrame`."
   ]
  },
  {
   "cell_type": "code",
   "execution_count": 48,
   "metadata": {
    "tags": []
   },
   "outputs": [
    {
     "data": {
      "text/html": [
       "<div>\n",
       "<style scoped>\n",
       "    .dataframe tbody tr th:only-of-type {\n",
       "        vertical-align: middle;\n",
       "    }\n",
       "\n",
       "    .dataframe tbody tr th {\n",
       "        vertical-align: top;\n",
       "    }\n",
       "\n",
       "    .dataframe thead th {\n",
       "        text-align: right;\n",
       "    }\n",
       "</style>\n",
       "<table border=\"1\" class=\"dataframe\">\n",
       "  <thead>\n",
       "    <tr style=\"text-align: right;\">\n",
       "      <th></th>\n",
       "      <th>male</th>\n",
       "      <th>female</th>\n",
       "    </tr>\n",
       "    <tr>\n",
       "      <th>date</th>\n",
       "      <th></th>\n",
       "      <th></th>\n",
       "    </tr>\n",
       "  </thead>\n",
       "  <tbody>\n",
       "    <tr>\n",
       "      <th>2012-10-02 10:00:00</th>\n",
       "      <td>38.38</td>\n",
       "      <td>38.200000</td>\n",
       "    </tr>\n",
       "    <tr>\n",
       "      <th>2012-10-02 11:00:00</th>\n",
       "      <td>39.54</td>\n",
       "      <td>38.466667</td>\n",
       "    </tr>\n",
       "    <tr>\n",
       "      <th>2012-10-02 12:00:00</th>\n",
       "      <td>38.94</td>\n",
       "      <td>37.800000</td>\n",
       "    </tr>\n",
       "    <tr>\n",
       "      <th>2012-10-02 13:00:00</th>\n",
       "      <td>38.62</td>\n",
       "      <td>37.533333</td>\n",
       "    </tr>\n",
       "    <tr>\n",
       "      <th>2012-10-02 14:00:00</th>\n",
       "      <td>38.16</td>\n",
       "      <td>37.100000</td>\n",
       "    </tr>\n",
       "    <tr>\n",
       "      <th>2012-10-02 15:00:00</th>\n",
       "      <td>37.36</td>\n",
       "      <td>36.900000</td>\n",
       "    </tr>\n",
       "    <tr>\n",
       "      <th>2012-10-02 16:00:00</th>\n",
       "      <td>37.06</td>\n",
       "      <td>36.800000</td>\n",
       "    </tr>\n",
       "  </tbody>\n",
       "</table>\n",
       "</div>"
      ],
      "text/plain": [
       "                      male     female\n",
       "date                                 \n",
       "2012-10-02 10:00:00  38.38  38.200000\n",
       "2012-10-02 11:00:00  39.54  38.466667\n",
       "2012-10-02 12:00:00  38.94  37.800000\n",
       "2012-10-02 13:00:00  38.62  37.533333\n",
       "2012-10-02 14:00:00  38.16  37.100000\n",
       "2012-10-02 15:00:00  37.36  36.900000\n",
       "2012-10-02 16:00:00  37.06  36.800000"
      ]
     },
     "execution_count": 48,
     "metadata": {},
     "output_type": "execute_result"
    }
   ],
   "source": [
    "temps = pd.concat([avg_male_temp, avg_female_temp],\n",
    "                  axis=1)\n",
    "temps.columns = ['male', 'female']\n",
    "temps"
   ]
  },
  {
   "cell_type": "code",
   "execution_count": 49,
   "metadata": {
    "tags": []
   },
   "outputs": [
    {
     "data": {
      "image/png": "[encoded data removed]",
      "text/plain": [
       "<Figure size 640x480 with 1 Axes>"
      ]
     },
     "metadata": {},
     "output_type": "display_data"
    }
   ],
   "source": [
    "temps.plot();"
   ]
  },
  {
   "cell_type": "markdown",
   "metadata": {},
   "source": [
    "Looks like we are on to something, pity this is not real data."
   ]
  },
  {
   "cell_type": "code",
   "execution_count": 50,
   "metadata": {
    "tags": []
   },
   "outputs": [
    {
     "data": {
      "text/html": [
       "<div>\n",
       "<style scoped>\n",
       "    .dataframe tbody tr th:only-of-type {\n",
       "        vertical-align: middle;\n",
       "    }\n",
       "\n",
       "    .dataframe tbody tr th {\n",
       "        vertical-align: top;\n",
       "    }\n",
       "\n",
       "    .dataframe thead th {\n",
       "        text-align: right;\n",
       "    }\n",
       "</style>\n",
       "<table border=\"1\" class=\"dataframe\">\n",
       "  <thead>\n",
       "    <tr style=\"text-align: right;\">\n",
       "      <th></th>\n",
       "      <th></th>\n",
       "      <th>dose</th>\n",
       "      <th>temperature</th>\n",
       "    </tr>\n",
       "    <tr>\n",
       "      <th>gender</th>\n",
       "      <th>patient</th>\n",
       "      <th></th>\n",
       "      <th></th>\n",
       "    </tr>\n",
       "  </thead>\n",
       "  <tbody>\n",
       "    <tr>\n",
       "      <th rowspan=\"5\" valign=\"top\">M</th>\n",
       "      <th>1</th>\n",
       "      <td>6.0</td>\n",
       "      <td>38.5</td>\n",
       "    </tr>\n",
       "    <tr>\n",
       "      <th>3</th>\n",
       "      <td>13.0</td>\n",
       "      <td>39.5</td>\n",
       "    </tr>\n",
       "    <tr>\n",
       "      <th>5</th>\n",
       "      <td>27.0</td>\n",
       "      <td>39.5</td>\n",
       "    </tr>\n",
       "    <tr>\n",
       "      <th>7</th>\n",
       "      <td>30.0</td>\n",
       "      <td>40.7</td>\n",
       "    </tr>\n",
       "    <tr>\n",
       "      <th>9</th>\n",
       "      <td>30.0</td>\n",
       "      <td>40.2</td>\n",
       "    </tr>\n",
       "    <tr>\n",
       "      <th rowspan=\"3\" valign=\"top\">F</th>\n",
       "      <th>2</th>\n",
       "      <td>15.0</td>\n",
       "      <td>39.4</td>\n",
       "    </tr>\n",
       "    <tr>\n",
       "      <th>6</th>\n",
       "      <td>8.0</td>\n",
       "      <td>38.1</td>\n",
       "    </tr>\n",
       "    <tr>\n",
       "      <th>8</th>\n",
       "      <td>0.0</td>\n",
       "      <td>37.9</td>\n",
       "    </tr>\n",
       "  </tbody>\n",
       "</table>\n",
       "</div>"
      ],
      "text/plain": [
       "                dose  temperature\n",
       "gender patient                   \n",
       "M      1         6.0         38.5\n",
       "       3        13.0         39.5\n",
       "       5        27.0         39.5\n",
       "       7        30.0         40.7\n",
       "       9        30.0         40.2\n",
       "F      2        15.0         39.4\n",
       "       6         8.0         38.1\n",
       "       8         0.0         37.9"
      ]
     },
     "execution_count": 50,
     "metadata": {},
     "output_type": "execute_result"
    }
   ],
   "source": [
    "gender_hypothesis = data.pivot_table(index=['gender', 'patient'],\n",
    "                                     values=['temperature', 'dose'],\n",
    "                                     aggfunc={'temperature': 'max',\n",
    "                                              'dose': 'sum'},\n",
    "                                     observed=True)\n",
    "gender_hypothesis"
   ]
  },
  {
   "cell_type": "markdown",
   "metadata": {},
   "source": [
    "## Conditions"
   ]
  },
  {
   "cell_type": "markdown",
   "metadata": {},
   "source": [
    "However, we didn't take the patients' condition into account yet. Let's check how many patients have a specific condition."
   ]
  },
  {
   "cell_type": "code",
   "execution_count": 51,
   "metadata": {
    "tags": []
   },
   "outputs": [
    {
     "data": {
      "text/html": [
       "<div>\n",
       "<style scoped>\n",
       "    .dataframe tbody tr th:only-of-type {\n",
       "        vertical-align: middle;\n",
       "    }\n",
       "\n",
       "    .dataframe tbody tr th {\n",
       "        vertical-align: top;\n",
       "    }\n",
       "\n",
       "    .dataframe thead th {\n",
       "        text-align: right;\n",
       "    }\n",
       "</style>\n",
       "<table border=\"1\" class=\"dataframe\">\n",
       "  <thead>\n",
       "    <tr style=\"text-align: right;\">\n",
       "      <th></th>\n",
       "      <th>patient</th>\n",
       "    </tr>\n",
       "    <tr>\n",
       "      <th>condition</th>\n",
       "      <th></th>\n",
       "    </tr>\n",
       "  </thead>\n",
       "  <tbody>\n",
       "    <tr>\n",
       "      <th>A</th>\n",
       "      <td>4</td>\n",
       "    </tr>\n",
       "    <tr>\n",
       "      <th>B</th>\n",
       "      <td>4</td>\n",
       "    </tr>\n",
       "  </tbody>\n",
       "</table>\n",
       "</div>"
      ],
      "text/plain": [
       "           patient\n",
       "condition         \n",
       "A                4\n",
       "B                4"
      ]
     },
     "execution_count": 51,
     "metadata": {},
     "output_type": "execute_result"
    }
   ],
   "source": [
    "data[['patient', 'condition']] \\\n",
    "    .drop_duplicates() \\\n",
    "    .groupby('condition', observed=False) \\\n",
    "    .count()"
   ]
  },
  {
   "cell_type": "markdown",
   "metadata": {},
   "source": [
    "What is the distribution of the condition with respect to the patients's gender?"
   ]
  },
  {
   "cell_type": "code",
   "execution_count": 52,
   "metadata": {
    "tags": []
   },
   "outputs": [
    {
     "data": {
      "text/html": [
       "<div>\n",
       "<style scoped>\n",
       "    .dataframe tbody tr th:only-of-type {\n",
       "        vertical-align: middle;\n",
       "    }\n",
       "\n",
       "    .dataframe tbody tr th {\n",
       "        vertical-align: top;\n",
       "    }\n",
       "\n",
       "    .dataframe thead th {\n",
       "        text-align: right;\n",
       "    }\n",
       "</style>\n",
       "<table border=\"1\" class=\"dataframe\">\n",
       "  <thead>\n",
       "    <tr style=\"text-align: right;\">\n",
       "      <th></th>\n",
       "      <th></th>\n",
       "      <th>patient</th>\n",
       "    </tr>\n",
       "    <tr>\n",
       "      <th>condition</th>\n",
       "      <th>gender</th>\n",
       "      <th></th>\n",
       "    </tr>\n",
       "  </thead>\n",
       "  <tbody>\n",
       "    <tr>\n",
       "      <th rowspan=\"2\" valign=\"top\">A</th>\n",
       "      <th>F</th>\n",
       "      <td>1</td>\n",
       "    </tr>\n",
       "    <tr>\n",
       "      <th>M</th>\n",
       "      <td>3</td>\n",
       "    </tr>\n",
       "    <tr>\n",
       "      <th rowspan=\"2\" valign=\"top\">B</th>\n",
       "      <th>F</th>\n",
       "      <td>2</td>\n",
       "    </tr>\n",
       "    <tr>\n",
       "      <th>M</th>\n",
       "      <td>2</td>\n",
       "    </tr>\n",
       "  </tbody>\n",
       "</table>\n",
       "</div>"
      ],
      "text/plain": [
       "                  patient\n",
       "condition gender         \n",
       "A         F             1\n",
       "          M             3\n",
       "B         F             2\n",
       "          M             2"
      ]
     },
     "execution_count": 52,
     "metadata": {},
     "output_type": "execute_result"
    }
   ],
   "source": [
    "data[['patient', 'condition', 'gender']] \\\n",
    "    .drop_duplicates() \\\n",
    "    .groupby(['condition', 'gender'], observed=False) \\\n",
    "    .count()"
   ]
  },
  {
   "cell_type": "markdown",
   "metadata": {},
   "source": [
    "This data can be conveniently visualized using a bar plot."
   ]
  },
  {
   "cell_type": "code",
   "execution_count": 53,
   "metadata": {
    "tags": []
   },
   "outputs": [
    {
     "data": {
      "image/png": "[encoded data removed]",
      "text/plain": [
       "<Figure size 640x480 with 1 Axes>"
      ]
     },
     "metadata": {},
     "output_type": "display_data"
    }
   ],
   "source": [
    "data[['patient', 'condition', 'gender']] \\\n",
    "    .drop_duplicates() \\\n",
    "    .groupby(['condition', 'gender'], observed=False) \\\n",
    "    .count().plot.bar();"
   ]
  },
  {
   "cell_type": "markdown",
   "metadata": {},
   "source": [
    "## From numbers to categories"
   ]
  },
  {
   "cell_type": "markdown",
   "metadata": {},
   "source": [
    "Let's create an extra column in the `DataFrame` that is categorical, and represents the status of the patients in terms of fever."
   ]
  },
  {
   "cell_type": "code",
   "execution_count": 54,
   "metadata": {
    "tags": []
   },
   "outputs": [],
   "source": [
    "data['status'] = pd.cut(data.temperature,\n",
    "                        bins=[35.5, 37.5, 39.0, 43.0],\n",
    "                        labels=['normal', 'fever', 'high fever'])"
   ]
  },
  {
   "cell_type": "code",
   "execution_count": 55,
   "metadata": {
    "tags": []
   },
   "outputs": [
    {
     "data": {
      "text/html": [
       "<div>\n",
       "<style scoped>\n",
       "    .dataframe tbody tr th:only-of-type {\n",
       "        vertical-align: middle;\n",
       "    }\n",
       "\n",
       "    .dataframe tbody tr th {\n",
       "        vertical-align: top;\n",
       "    }\n",
       "\n",
       "    .dataframe thead th {\n",
       "        text-align: right;\n",
       "    }\n",
       "</style>\n",
       "<table border=\"1\" class=\"dataframe\">\n",
       "  <thead>\n",
       "    <tr style=\"text-align: right;\">\n",
       "      <th></th>\n",
       "      <th>patient</th>\n",
       "      <th>dose</th>\n",
       "      <th>date</th>\n",
       "      <th>temperature</th>\n",
       "      <th>gender</th>\n",
       "      <th>condition</th>\n",
       "      <th>status</th>\n",
       "    </tr>\n",
       "  </thead>\n",
       "  <tbody>\n",
       "    <tr>\n",
       "      <th>0</th>\n",
       "      <td>1</td>\n",
       "      <td>0.0</td>\n",
       "      <td>2012-10-02 10:00:00</td>\n",
       "      <td>38.3</td>\n",
       "      <td>M</td>\n",
       "      <td>A</td>\n",
       "      <td>fever</td>\n",
       "    </tr>\n",
       "    <tr>\n",
       "      <th>1</th>\n",
       "      <td>1</td>\n",
       "      <td>2.0</td>\n",
       "      <td>2012-10-02 11:00:00</td>\n",
       "      <td>38.5</td>\n",
       "      <td>M</td>\n",
       "      <td>A</td>\n",
       "      <td>fever</td>\n",
       "    </tr>\n",
       "    <tr>\n",
       "      <th>2</th>\n",
       "      <td>1</td>\n",
       "      <td>2.0</td>\n",
       "      <td>2012-10-02 12:00:00</td>\n",
       "      <td>38.1</td>\n",
       "      <td>M</td>\n",
       "      <td>A</td>\n",
       "      <td>fever</td>\n",
       "    </tr>\n",
       "    <tr>\n",
       "      <th>3</th>\n",
       "      <td>1</td>\n",
       "      <td>2.0</td>\n",
       "      <td>2012-10-02 13:00:00</td>\n",
       "      <td>37.3</td>\n",
       "      <td>M</td>\n",
       "      <td>A</td>\n",
       "      <td>normal</td>\n",
       "    </tr>\n",
       "    <tr>\n",
       "      <th>4</th>\n",
       "      <td>1</td>\n",
       "      <td>0.0</td>\n",
       "      <td>2012-10-02 14:00:00</td>\n",
       "      <td>37.5</td>\n",
       "      <td>M</td>\n",
       "      <td>A</td>\n",
       "      <td>normal</td>\n",
       "    </tr>\n",
       "  </tbody>\n",
       "</table>\n",
       "</div>"
      ],
      "text/plain": [
       "   patient  dose                date  temperature gender condition  status\n",
       "0        1   0.0 2012-10-02 10:00:00         38.3      M         A   fever\n",
       "1        1   2.0 2012-10-02 11:00:00         38.5      M         A   fever\n",
       "2        1   2.0 2012-10-02 12:00:00         38.1      M         A   fever\n",
       "3        1   2.0 2012-10-02 13:00:00         37.3      M         A  normal\n",
       "4        1   0.0 2012-10-02 14:00:00         37.5      M         A  normal"
      ]
     },
     "execution_count": 55,
     "metadata": {},
     "output_type": "execute_result"
    }
   ],
   "source": [
    "data.head()"
   ]
  },
  {
   "cell_type": "code",
   "execution_count": 56,
   "metadata": {
    "scrolled": true,
    "tags": []
   },
   "outputs": [
    {
     "name": "stdout",
     "output_type": "stream",
     "text": [
      "<class 'pandas.core.frame.DataFrame'>\n",
      "Int64Index: 62 entries, 0 to 61\n",
      "Data columns (total 7 columns):\n",
      " #   Column       Non-Null Count  Dtype         \n",
      "---  ------       --------------  -----         \n",
      " 0   patient      62 non-null     int64         \n",
      " 1   dose         61 non-null     float64       \n",
      " 2   date         62 non-null     datetime64[ns]\n",
      " 3   temperature  61 non-null     float64       \n",
      " 4   gender       55 non-null     category      \n",
      " 5   condition    55 non-null     category      \n",
      " 6   status       61 non-null     category      \n",
      "dtypes: category(3), datetime64[ns](1), float64(2), int64(1)\n",
      "memory usage: 3.0 KB\n"
     ]
    }
   ],
   "source": [
    "data.info()"
   ]
  },
  {
   "cell_type": "code",
   "execution_count": 57,
   "metadata": {
    "tags": []
   },
   "outputs": [
    {
     "data": {
      "text/plain": [
       "count         61\n",
       "unique         3\n",
       "top       normal\n",
       "freq          27\n",
       "Name: status, dtype: object"
      ]
     },
     "execution_count": 57,
     "metadata": {},
     "output_type": "execute_result"
    }
   ],
   "source": [
    "data.status.describe()"
   ]
  },
  {
   "cell_type": "markdown",
   "metadata": {},
   "source": [
    "A similar query to the one we did before can now be done on the `status` attribute."
   ]
  },
  {
   "cell_type": "code",
   "execution_count": 58,
   "metadata": {
    "tags": []
   },
   "outputs": [
    {
     "data": {
      "text/html": [
       "<div>\n",
       "<style scoped>\n",
       "    .dataframe tbody tr th:only-of-type {\n",
       "        vertical-align: middle;\n",
       "    }\n",
       "\n",
       "    .dataframe tbody tr th {\n",
       "        vertical-align: top;\n",
       "    }\n",
       "\n",
       "    .dataframe thead th {\n",
       "        text-align: right;\n",
       "    }\n",
       "</style>\n",
       "<table border=\"1\" class=\"dataframe\">\n",
       "  <thead>\n",
       "    <tr style=\"text-align: right;\">\n",
       "      <th></th>\n",
       "      <th>patient</th>\n",
       "      <th>dose</th>\n",
       "      <th>date</th>\n",
       "      <th>temperature</th>\n",
       "      <th>gender</th>\n",
       "      <th>condition</th>\n",
       "      <th>status</th>\n",
       "    </tr>\n",
       "  </thead>\n",
       "  <tbody>\n",
       "    <tr>\n",
       "      <th>7</th>\n",
       "      <td>2</td>\n",
       "      <td>0.0</td>\n",
       "      <td>2012-10-02 10:00:00</td>\n",
       "      <td>39.3</td>\n",
       "      <td>F</td>\n",
       "      <td>A</td>\n",
       "      <td>high fever</td>\n",
       "    </tr>\n",
       "    <tr>\n",
       "      <th>8</th>\n",
       "      <td>2</td>\n",
       "      <td>5.0</td>\n",
       "      <td>2012-10-02 11:00:00</td>\n",
       "      <td>39.4</td>\n",
       "      <td>F</td>\n",
       "      <td>A</td>\n",
       "      <td>high fever</td>\n",
       "    </tr>\n",
       "    <tr>\n",
       "      <th>15</th>\n",
       "      <td>3</td>\n",
       "      <td>2.0</td>\n",
       "      <td>2012-10-02 11:00:00</td>\n",
       "      <td>39.5</td>\n",
       "      <td>M</td>\n",
       "      <td>A</td>\n",
       "      <td>high fever</td>\n",
       "    </tr>\n",
       "    <tr>\n",
       "      <th>29</th>\n",
       "      <td>5</td>\n",
       "      <td>3.0</td>\n",
       "      <td>2012-10-02 11:00:00</td>\n",
       "      <td>39.5</td>\n",
       "      <td>M</td>\n",
       "      <td>A</td>\n",
       "      <td>high fever</td>\n",
       "    </tr>\n",
       "    <tr>\n",
       "      <th>32</th>\n",
       "      <td>5</td>\n",
       "      <td>9.0</td>\n",
       "      <td>2012-10-02 14:00:00</td>\n",
       "      <td>39.4</td>\n",
       "      <td>M</td>\n",
       "      <td>A</td>\n",
       "      <td>high fever</td>\n",
       "    </tr>\n",
       "    <tr>\n",
       "      <th>41</th>\n",
       "      <td>7</td>\n",
       "      <td>0.0</td>\n",
       "      <td>2012-10-02 10:00:00</td>\n",
       "      <td>39.5</td>\n",
       "      <td>M</td>\n",
       "      <td>B</td>\n",
       "      <td>high fever</td>\n",
       "    </tr>\n",
       "    <tr>\n",
       "      <th>42</th>\n",
       "      <td>7</td>\n",
       "      <td>10.0</td>\n",
       "      <td>2012-10-02 11:00:00</td>\n",
       "      <td>40.7</td>\n",
       "      <td>M</td>\n",
       "      <td>B</td>\n",
       "      <td>high fever</td>\n",
       "    </tr>\n",
       "    <tr>\n",
       "      <th>43</th>\n",
       "      <td>7</td>\n",
       "      <td>5.0</td>\n",
       "      <td>2012-10-02 12:00:00</td>\n",
       "      <td>39.8</td>\n",
       "      <td>M</td>\n",
       "      <td>B</td>\n",
       "      <td>high fever</td>\n",
       "    </tr>\n",
       "    <tr>\n",
       "      <th>44</th>\n",
       "      <td>7</td>\n",
       "      <td>8.0</td>\n",
       "      <td>2012-10-02 13:00:00</td>\n",
       "      <td>40.2</td>\n",
       "      <td>M</td>\n",
       "      <td>B</td>\n",
       "      <td>high fever</td>\n",
       "    </tr>\n",
       "    <tr>\n",
       "      <th>56</th>\n",
       "      <td>9</td>\n",
       "      <td>10.0</td>\n",
       "      <td>2012-10-02 11:00:00</td>\n",
       "      <td>39.5</td>\n",
       "      <td>M</td>\n",
       "      <td>B</td>\n",
       "      <td>high fever</td>\n",
       "    </tr>\n",
       "    <tr>\n",
       "      <th>57</th>\n",
       "      <td>9</td>\n",
       "      <td>12.0</td>\n",
       "      <td>2012-10-02 12:00:00</td>\n",
       "      <td>40.2</td>\n",
       "      <td>M</td>\n",
       "      <td>B</td>\n",
       "      <td>high fever</td>\n",
       "    </tr>\n",
       "    <tr>\n",
       "      <th>58</th>\n",
       "      <td>9</td>\n",
       "      <td>4.0</td>\n",
       "      <td>2012-10-02 13:00:00</td>\n",
       "      <td>39.1</td>\n",
       "      <td>M</td>\n",
       "      <td>B</td>\n",
       "      <td>high fever</td>\n",
       "    </tr>\n",
       "  </tbody>\n",
       "</table>\n",
       "</div>"
      ],
      "text/plain": [
       "    patient  dose                date  temperature gender condition  \\\n",
       "7         2   0.0 2012-10-02 10:00:00         39.3      F         A   \n",
       "8         2   5.0 2012-10-02 11:00:00         39.4      F         A   \n",
       "15        3   2.0 2012-10-02 11:00:00         39.5      M         A   \n",
       "29        5   3.0 2012-10-02 11:00:00         39.5      M         A   \n",
       "32        5   9.0 2012-10-02 14:00:00         39.4      M         A   \n",
       "41        7   0.0 2012-10-02 10:00:00         39.5      M         B   \n",
       "42        7  10.0 2012-10-02 11:00:00         40.7      M         B   \n",
       "43        7   5.0 2012-10-02 12:00:00         39.8      M         B   \n",
       "44        7   8.0 2012-10-02 13:00:00         40.2      M         B   \n",
       "56        9  10.0 2012-10-02 11:00:00         39.5      M         B   \n",
       "57        9  12.0 2012-10-02 12:00:00         40.2      M         B   \n",
       "58        9   4.0 2012-10-02 13:00:00         39.1      M         B   \n",
       "\n",
       "        status  \n",
       "7   high fever  \n",
       "8   high fever  \n",
       "15  high fever  \n",
       "29  high fever  \n",
       "32  high fever  \n",
       "41  high fever  \n",
       "42  high fever  \n",
       "43  high fever  \n",
       "44  high fever  \n",
       "56  high fever  \n",
       "57  high fever  \n",
       "58  high fever  "
      ]
     },
     "execution_count": 58,
     "metadata": {},
     "output_type": "execute_result"
    }
   ],
   "source": [
    "data.loc[data.status == 'high fever']"
   ]
  },
  {
   "cell_type": "markdown",
   "metadata": {},
   "source": [
    "The patients with high fever are given by:"
   ]
  },
  {
   "cell_type": "code",
   "execution_count": 59,
   "metadata": {
    "tags": []
   },
   "outputs": [
    {
     "data": {
      "text/plain": [
       "7     2\n",
       "15    3\n",
       "29    5\n",
       "41    7\n",
       "56    9\n",
       "Name: patient, dtype: int64"
      ]
     },
     "execution_count": 59,
     "metadata": {},
     "output_type": "execute_result"
    }
   ],
   "source": [
    "data[['patient', 'status']] \\\n",
    "    .loc[data.status == 'high fever'] \\\n",
    "    .drop_duplicates()['patient']"
   ]
  },
  {
   "cell_type": "markdown",
   "metadata": {},
   "source": [
    "This result is the same as for the query we performed earlier."
   ]
  }
 ],
 "metadata": {
  "kernelspec": {
   "display_name": "Python 3 (ipykernel)",
   "language": "python",
   "name": "python3"
  },
  "language_info": {
   "codemirror_mode": {
    "name": "ipython",
    "version": 3
   },
   "file_extension": ".py",
   "mimetype": "text/x-python",
   "name": "python",
   "nbconvert_exporter": "python",
   "pygments_lexer": "ipython3",
   "version": "3.12.5"
  }
 },
 "nbformat": 4,
 "nbformat_minor": 4
}
