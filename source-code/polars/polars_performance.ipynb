{
 "cells": [
  {
   "cell_type": "markdown",
   "id": "e71c1e54-8bd6-4fb1-820d-27b6aea418a6",
   "metadata": {},
   "source": [
    "## Requiremnts"
   ]
  },
  {
   "cell_type": "markdown",
   "id": "0c359662-791c-41db-9bcb-9ca08d166a92",
   "metadata": {},
   "source": [
    "To clearly make the distinction between pandas and Rapids dataframes, we import the modules without aliasing in this notebook."
   ]
  },
  {
   "cell_type": "code",
   "execution_count": 1,
   "id": "0578a41f",
   "metadata": {},
   "outputs": [],
   "source": [
    "import pandas as pd\n",
    "import polars as pl\n",
    "import numpy as np"
   ]
  },
  {
   "cell_type": "markdown",
   "id": "cf66ff7f-ffac-4d07-9d6d-5eee2c3b0270",
   "metadata": {},
   "source": [
    "## Creating dataframes"
   ]
  },
  {
   "cell_type": "markdown",
   "id": "50c1b912-028c-4370-b62c-0c1ed24660a4",
   "metadata": {},
   "source": [
    "In order to do some performance tests, we create some dataframes with a substantial amount of data.  The pandas dataframe will be assigned to the variable `df`, the Rapids dataframe in `cf`."
   ]
  },
  {
   "cell_type": "code",
   "execution_count": 2,
   "id": "5b68c0f2-b8ce-4522-ae2f-f74c90f34043",
   "metadata": {},
   "outputs": [],
   "source": [
    "nr_rows = 20_000_000\n",
    "data = {\n",
    "    'A': np.random.uniform(0.0, 1.0, size=nr_rows),\n",
    "    'B': np.random.uniform(0.0, 1.0, size=nr_rows),\n",
    "    'C': np.random.uniform(0.0, 1.0, size=nr_rows),\n",
    "}"
   ]
  },
  {
   "cell_type": "code",
   "execution_count": 3,
   "id": "3b87e5e7",
   "metadata": {},
   "outputs": [],
   "source": [
    "df_pd = pd.DataFrame(data)"
   ]
  },
  {
   "cell_type": "markdown",
   "id": "108aeeb5-40fd-43cf-8c7e-62c82007ec2e",
   "metadata": {},
   "source": [
    "The Rapids dataframe is created in exactly the same way."
   ]
  },
  {
   "cell_type": "code",
   "execution_count": 4,
   "id": "bfebd01c",
   "metadata": {},
   "outputs": [],
   "source": [
    "df_pl = pl.DataFrame(data)"
   ]
  },
  {
   "cell_type": "markdown",
   "id": "39a554e0-74ca-4604-ac12-65b9e966ee53",
   "metadata": {},
   "source": [
    "It is interesting to check the datatypes used in the pandas and the Rapids dataframe, they are identical."
   ]
  },
  {
   "cell_type": "code",
   "execution_count": 5,
   "id": "5d5d23b7-65c0-459a-85b8-9faba771797d",
   "metadata": {},
   "outputs": [
    {
     "name": "stdout",
     "output_type": "stream",
     "text": [
      "<class 'pandas.core.frame.DataFrame'>\n",
      "RangeIndex: 20000000 entries, 0 to 19999999\n",
      "Data columns (total 3 columns):\n",
      " #   Column  Dtype  \n",
      "---  ------  -----  \n",
      " 0   A       float64\n",
      " 1   B       float64\n",
      " 2   C       float64\n",
      "dtypes: float64(3)\n",
      "memory usage: 457.8 MB\n"
     ]
    }
   ],
   "source": [
    "df_pd.info()"
   ]
  },
  {
   "cell_type": "code",
   "execution_count": 6,
   "id": "cc8ae333-aaa2-40bf-90a5-db0197bd36da",
   "metadata": {},
   "outputs": [
    {
     "data": {
      "text/html": [
       "<div><style>\n",
       ".dataframe > thead > tr,\n",
       ".dataframe > tbody > tr {\n",
       "  text-align: right;\n",
       "  white-space: pre-wrap;\n",
       "}\n",
       "</style>\n",
       "<small>shape: (9, 4)</small><table border=\"1\" class=\"dataframe\"><thead><tr><th>statistic</th><th>A</th><th>B</th><th>C</th></tr><tr><td>str</td><td>f64</td><td>f64</td><td>f64</td></tr></thead><tbody><tr><td>&quot;count&quot;</td><td>2e7</td><td>2e7</td><td>2e7</td></tr><tr><td>&quot;null_count&quot;</td><td>0.0</td><td>0.0</td><td>0.0</td></tr><tr><td>&quot;mean&quot;</td><td>0.499988</td><td>0.499994</td><td>0.499855</td></tr><tr><td>&quot;std&quot;</td><td>0.288707</td><td>0.288642</td><td>0.288642</td></tr><tr><td>&quot;min&quot;</td><td>5.8407e-8</td><td>8.3080e-8</td><td>4.3475e-8</td></tr><tr><td>&quot;25%&quot;</td><td>0.249857</td><td>0.250089</td><td>0.249803</td></tr><tr><td>&quot;50%&quot;</td><td>0.499964</td><td>0.499873</td><td>0.499878</td></tr><tr><td>&quot;75%&quot;</td><td>0.750029</td><td>0.749927</td><td>0.749737</td></tr><tr><td>&quot;max&quot;</td><td>1.0</td><td>1.0</td><td>1.0</td></tr></tbody></table></div>"
      ],
      "text/plain": [
       "shape: (9, 4)\n",
       "┌────────────┬───────────┬───────────┬───────────┐\n",
       "│ statistic  ┆ A         ┆ B         ┆ C         │\n",
       "│ ---        ┆ ---       ┆ ---       ┆ ---       │\n",
       "│ str        ┆ f64       ┆ f64       ┆ f64       │\n",
       "╞════════════╪═══════════╪═══════════╪═══════════╡\n",
       "│ count      ┆ 2e7       ┆ 2e7       ┆ 2e7       │\n",
       "│ null_count ┆ 0.0       ┆ 0.0       ┆ 0.0       │\n",
       "│ mean       ┆ 0.499988  ┆ 0.499994  ┆ 0.499855  │\n",
       "│ std        ┆ 0.288707  ┆ 0.288642  ┆ 0.288642  │\n",
       "│ min        ┆ 5.8407e-8 ┆ 8.3080e-8 ┆ 4.3475e-8 │\n",
       "│ 25%        ┆ 0.249857  ┆ 0.250089  ┆ 0.249803  │\n",
       "│ 50%        ┆ 0.499964  ┆ 0.499873  ┆ 0.499878  │\n",
       "│ 75%        ┆ 0.750029  ┆ 0.749927  ┆ 0.749737  │\n",
       "│ max        ┆ 1.0       ┆ 1.0       ┆ 1.0       │\n",
       "└────────────┴───────────┴───────────┴───────────┘"
      ]
     },
     "execution_count": 6,
     "metadata": {},
     "output_type": "execute_result"
    }
   ],
   "source": [
    "df_pl.describe()"
   ]
  },
  {
   "cell_type": "code",
   "execution_count": 7,
   "id": "9adee88e-8e8e-4109-b547-cd4a6260aab6",
   "metadata": {},
   "outputs": [
    {
     "data": {
      "text/plain": [
       "480000000"
      ]
     },
     "execution_count": 7,
     "metadata": {},
     "output_type": "execute_result"
    }
   ],
   "source": [
    "df_pl.estimated_size()"
   ]
  },
  {
   "cell_type": "markdown",
   "id": "d3450d89-9ed4-4d49-9c47-be03e32b21cd",
   "metadata": {},
   "source": [
    "The size of the dataframes is almost identical."
   ]
  },
  {
   "cell_type": "markdown",
   "id": "9e36a39b-746e-453e-8745-f184ba4d8884",
   "metadata": {},
   "source": [
    "## Applying functions"
   ]
  },
  {
   "cell_type": "markdown",
   "id": "e1624e43-7417-4d8b-bfa2-fa4112dc52b2",
   "metadata": {},
   "source": [
    "We can time the difference between the pandas and cudf when computing the columnwise average."
   ]
  },
  {
   "cell_type": "code",
   "execution_count": 8,
   "id": "824a1bd7",
   "metadata": {},
   "outputs": [
    {
     "name": "stdout",
     "output_type": "stream",
     "text": [
      "27.6 ms ± 1.6 ms per loop (mean ± std. dev. of 7 runs, 10 loops each)\n"
     ]
    }
   ],
   "source": [
    "%timeit df_pd.A.mean()"
   ]
  },
  {
   "cell_type": "code",
   "execution_count": 9,
   "id": "72799009",
   "metadata": {
    "scrolled": true
   },
   "outputs": [
    {
     "name": "stdout",
     "output_type": "stream",
     "text": [
      "7.79 ms ± 300 μs per loop (mean ± std. dev. of 7 runs, 100 loops each)\n"
     ]
    }
   ],
   "source": [
    "%timeit df_pl['A'].mean()"
   ]
  },
  {
   "cell_type": "markdown",
   "id": "cf9e2a69-805e-42fc-be95-57aa1d5e9819",
   "metadata": {},
   "source": [
    "It is clear that on average the computation on a polars dataframe is a factor of 3 faster."
   ]
  },
  {
   "cell_type": "markdown",
   "id": "d7ee6142-348b-46c3-9aeb-0f2cdd8554fa",
   "metadata": {},
   "source": [
    "Computing the rowwise average is substantially slower due to the data structure used to represent the dataframe."
   ]
  },
  {
   "cell_type": "code",
   "execution_count": 10,
   "id": "5750eacf-65ff-421e-8411-28632e16b45e",
   "metadata": {},
   "outputs": [
    {
     "name": "stdout",
     "output_type": "stream",
     "text": [
      "1.37 s ± 53.1 ms per loop (mean ± std. dev. of 7 runs, 1 loop each)\n"
     ]
    }
   ],
   "source": [
    "%timeit df_pd.mean(axis=1)"
   ]
  },
  {
   "cell_type": "code",
   "execution_count": 11,
   "id": "f20a7435-30f1-4275-bdaa-05a03147fa4f",
   "metadata": {},
   "outputs": [
    {
     "name": "stdout",
     "output_type": "stream",
     "text": [
      "424 ms ± 78.9 ms per loop (mean ± std. dev. of 7 runs, 1 loop each)\n"
     ]
    }
   ],
   "source": [
    "%timeit df_pl.select(pl.mean_horizontal(pl.all().alias('mean')))"
   ]
  },
  {
   "cell_type": "markdown",
   "id": "8057e6ec-426c-433d-9fad-0c45c2e85dc3",
   "metadata": {},
   "source": [
    "Again, polars outperforms the pandas implementation by a factor of 4."
   ]
  },
  {
   "cell_type": "markdown",
   "id": "e2b51073-dbd0-4626-a9b3-b7045bc60191",
   "metadata": {},
   "source": [
    "## Creating new columns"
   ]
  },
  {
   "cell_type": "markdown",
   "id": "92e6487c-8829-49da-b2ca-1f61fc6d082d",
   "metadata": {},
   "source": [
    "We can create a new column in a dataframe using an arithmetic expression on other columns."
   ]
  },
  {
   "cell_type": "code",
   "execution_count": 12,
   "id": "4da9c37d",
   "metadata": {},
   "outputs": [
    {
     "name": "stdout",
     "output_type": "stream",
     "text": [
      "132 ms ± 7.88 ms per loop (mean ± std. dev. of 7 runs, 10 loops each)\n"
     ]
    }
   ],
   "source": [
    "%timeit df_pd['D'] = 2.1*df_pd.A + 3.5*df_pd.B"
   ]
  },
  {
   "cell_type": "code",
   "execution_count": 13,
   "id": "47cfbe57-1651-4055-9fef-5b7fdf301fb3",
   "metadata": {},
   "outputs": [
    {
     "name": "stdout",
     "output_type": "stream",
     "text": [
      "90.3 ms ± 8.01 ms per loop (mean ± std. dev. of 7 runs, 10 loops each)\n"
     ]
    }
   ],
   "source": [
    "%timeit df_pl.select((2.1*pl.col('A') + 3.5*pl.col('B').alias('D')))"
   ]
  },
  {
   "cell_type": "markdown",
   "id": "86178635-c2d7-4755-96fc-d20ddc72126f",
   "metadata": {},
   "source": [
    "Again, the polars dataframe outperformns the pandas version by a substantial factor."
   ]
  },
  {
   "cell_type": "markdown",
   "id": "90699f98-c1ec-4299-a3bb-87657a1a4245",
   "metadata": {},
   "source": [
    "## Categorical data"
   ]
  },
  {
   "cell_type": "markdown",
   "id": "0d8ec942-36db-45c1-a8ea-eb78c6bbab29",
   "metadata": {},
   "source": [
    "We can introduce a column that contains categorical data by using the `cut` function.  In this case, we bin column A, using 5 categories.  First we time the operation without storing the resulting values, then we store them in a new column, `'label'` for further testing."
   ]
  },
  {
   "cell_type": "code",
   "execution_count": 14,
   "id": "f1ceb5ff-74e7-4085-b97f-d5858c461122",
   "metadata": {},
   "outputs": [
    {
     "name": "stdout",
     "output_type": "stream",
     "text": [
      "392 ms ± 37 ms per loop (mean ± std. dev. of 7 runs, 1 loop each)\n"
     ]
    }
   ],
   "source": [
    "%timeit pd.cut(df_pd.A, [0.0, 0.2, 0.4, 0.6, 0.8, 1.0], ['c1', 'c2', 'c3', 'c4', 'c5'])"
   ]
  },
  {
   "cell_type": "code",
   "execution_count": 15,
   "id": "62950877-016e-40db-85bb-1e3d30833d64",
   "metadata": {},
   "outputs": [
    {
     "name": "stdout",
     "output_type": "stream",
     "text": [
      "468 ms ± 2.42 ms per loop (mean ± std. dev. of 7 runs, 1 loop each)\n"
     ]
    }
   ],
   "source": [
    "%timeit df_pl.select(pl.col('A').cut([0.2, 0.4, 0.6, 0.8, ], labels=['c1', 'c2', 'c3', 'c4', 'c5']))"
   ]
  },
  {
   "cell_type": "markdown",
   "id": "ed413f0a-fedd-4778-ba9b-c7df0a5d7f10",
   "metadata": {},
   "source": [
    "Interestingly, the `cut` operation is less efficient for polars."
   ]
  },
  {
   "cell_type": "code",
   "execution_count": 16,
   "id": "13e88da7",
   "metadata": {},
   "outputs": [],
   "source": [
    "df_pd['label'] = pd.cut(df_pd.A, [0.0, 0.2, 0.4, 0.6, 0.8, 1.0],\n",
    "                         labels=['c1', 'c2', 'c3', 'c4', 'c5'])"
   ]
  },
  {
   "cell_type": "code",
   "execution_count": 17,
   "id": "f62ebc4e-7965-43e5-9d89-95c7ab8d145b",
   "metadata": {},
   "outputs": [],
   "source": [
    "df_pl = df_pl.select(pl.all(), pl.col('A').cut([0.2, 0.4, 0.6, 0.8, ],\n",
    "                                               labels=['c1', 'c2', 'c3', 'c4', 'c5']).alias('label'))"
   ]
  },
  {
   "cell_type": "markdown",
   "id": "7937e8ba-556c-4d54-abc6-631e99f7ac86",
   "metadata": {},
   "source": [
    "## Group-by"
   ]
  },
  {
   "cell_type": "markdown",
   "id": "f08c71c7-447a-43cc-aec8-e5fb4dffbc52",
   "metadata": {},
   "source": [
    "Group-by operations are the bread and butter of data science, so we can check the performance using the column of categorical data we just added to the dataframes."
   ]
  },
  {
   "cell_type": "code",
   "execution_count": 18,
   "id": "f68e3dd2",
   "metadata": {},
   "outputs": [
    {
     "name": "stdout",
     "output_type": "stream",
     "text": [
      "149 ms ± 5.7 ms per loop (mean ± std. dev. of 7 runs, 10 loops each)\n"
     ]
    }
   ],
   "source": [
    "%timeit df_pd[['label', 'A']].groupby('label', observed=False).mean()"
   ]
  },
  {
   "cell_type": "code",
   "execution_count": 19,
   "id": "c36569a0",
   "metadata": {},
   "outputs": [
    {
     "name": "stdout",
     "output_type": "stream",
     "text": [
      "53.8 ms ± 817 μs per loop (mean ± std. dev. of 7 runs, 10 loops each)\n"
     ]
    }
   ],
   "source": [
    "%timeit df_pl['label', 'A'].group_by('label').mean()"
   ]
  },
  {
   "cell_type": "markdown",
   "id": "44d34095-13f1-45bd-a638-20a749317dc1",
   "metadata": {},
   "source": [
    "## Pivots"
   ]
  },
  {
   "cell_type": "code",
   "execution_count": 20,
   "id": "21ae7d18-7854-4e3e-a7fd-68160f0e4463",
   "metadata": {},
   "outputs": [
    {
     "data": {
      "text/html": [
       "<div>\n",
       "<style scoped>\n",
       "    .dataframe tbody tr th:only-of-type {\n",
       "        vertical-align: middle;\n",
       "    }\n",
       "\n",
       "    .dataframe tbody tr th {\n",
       "        vertical-align: top;\n",
       "    }\n",
       "\n",
       "    .dataframe thead th {\n",
       "        text-align: right;\n",
       "    }\n",
       "</style>\n",
       "<table border=\"1\" class=\"dataframe\">\n",
       "  <thead>\n",
       "    <tr style=\"text-align: right;\">\n",
       "      <th></th>\n",
       "      <th>A</th>\n",
       "      <th>B</th>\n",
       "      <th>C</th>\n",
       "    </tr>\n",
       "    <tr>\n",
       "      <th>label</th>\n",
       "      <th></th>\n",
       "      <th></th>\n",
       "      <th></th>\n",
       "    </tr>\n",
       "  </thead>\n",
       "  <tbody>\n",
       "    <tr>\n",
       "      <th>c1</th>\n",
       "      <td>0.100000</td>\n",
       "      <td>0.500254</td>\n",
       "      <td>0.499845</td>\n",
       "    </tr>\n",
       "    <tr>\n",
       "      <th>c2</th>\n",
       "      <td>0.299966</td>\n",
       "      <td>0.500130</td>\n",
       "      <td>0.500010</td>\n",
       "    </tr>\n",
       "    <tr>\n",
       "      <th>c3</th>\n",
       "      <td>0.500008</td>\n",
       "      <td>0.499618</td>\n",
       "      <td>0.499957</td>\n",
       "    </tr>\n",
       "    <tr>\n",
       "      <th>c4</th>\n",
       "      <td>0.699962</td>\n",
       "      <td>0.500000</td>\n",
       "      <td>0.499635</td>\n",
       "    </tr>\n",
       "    <tr>\n",
       "      <th>c5</th>\n",
       "      <td>0.899959</td>\n",
       "      <td>0.499968</td>\n",
       "      <td>0.499828</td>\n",
       "    </tr>\n",
       "  </tbody>\n",
       "</table>\n",
       "</div>"
      ],
      "text/plain": [
       "              A         B         C\n",
       "label                              \n",
       "c1     0.100000  0.500254  0.499845\n",
       "c2     0.299966  0.500130  0.500010\n",
       "c3     0.500008  0.499618  0.499957\n",
       "c4     0.699962  0.500000  0.499635\n",
       "c5     0.899959  0.499968  0.499828"
      ]
     },
     "execution_count": 20,
     "metadata": {},
     "output_type": "execute_result"
    }
   ],
   "source": [
    "pd.pivot_table(df_pd, index='label', values=['A', 'B', 'C'], aggfunc='mean', observed=False)"
   ]
  },
  {
   "cell_type": "code",
   "execution_count": 21,
   "id": "04d7d69d-a6db-4885-8eac-82f78d50818b",
   "metadata": {},
   "outputs": [
    {
     "data": {
      "text/html": [
       "<div><style>\n",
       ".dataframe > thead > tr,\n",
       ".dataframe > tbody > tr {\n",
       "  text-align: right;\n",
       "  white-space: pre-wrap;\n",
       "}\n",
       "</style>\n",
       "<small>shape: (0, 0)</small><table border=\"1\" class=\"dataframe\"><thead><tr></tr><tr></tr></thead><tbody></tbody></table></div>"
      ],
      "text/plain": [
       "shape: (0, 0)\n",
       "┌┐\n",
       "╞╡\n",
       "└┘"
      ]
     },
     "execution_count": 21,
     "metadata": {},
     "output_type": "execute_result"
    }
   ],
   "source": [
    "df_pl.pivot(['A', 'B', 'C'], index='label', aggregate_function='mean')"
   ]
  },
  {
   "cell_type": "markdown",
   "id": "b0c2cbbe-2ee5-46ff-91ee-024acf4a76d5",
   "metadata": {},
   "source": [
    "Unfortunately, for pivot tables, the `cudf` implementation is quite different from the pandas implementation.  However, the pivot operation on the pandas dataframe can be implemented using a simple `groupby`, folloed by applying `mean`."
   ]
  },
  {
   "cell_type": "code",
   "execution_count": 22,
   "id": "d0f31120-5a4b-443e-b105-1e9f244524c2",
   "metadata": {},
   "outputs": [
    {
     "data": {
      "text/html": [
       "<div><style>\n",
       ".dataframe > thead > tr,\n",
       ".dataframe > tbody > tr {\n",
       "  text-align: right;\n",
       "  white-space: pre-wrap;\n",
       "}\n",
       "</style>\n",
       "<small>shape: (5, 4)</small><table border=\"1\" class=\"dataframe\"><thead><tr><th>label</th><th>A</th><th>B</th><th>C</th></tr><tr><td>cat</td><td>f64</td><td>f64</td><td>f64</td></tr></thead><tbody><tr><td>&quot;c2&quot;</td><td>0.299966</td><td>0.50013</td><td>0.50001</td></tr><tr><td>&quot;c4&quot;</td><td>0.699962</td><td>0.5</td><td>0.499635</td></tr><tr><td>&quot;c3&quot;</td><td>0.500008</td><td>0.499618</td><td>0.499957</td></tr><tr><td>&quot;c1&quot;</td><td>0.1</td><td>0.500254</td><td>0.499845</td></tr><tr><td>&quot;c5&quot;</td><td>0.899959</td><td>0.499968</td><td>0.499828</td></tr></tbody></table></div>"
      ],
      "text/plain": [
       "shape: (5, 4)\n",
       "┌───────┬──────────┬──────────┬──────────┐\n",
       "│ label ┆ A        ┆ B        ┆ C        │\n",
       "│ ---   ┆ ---      ┆ ---      ┆ ---      │\n",
       "│ cat   ┆ f64      ┆ f64      ┆ f64      │\n",
       "╞═══════╪══════════╪══════════╪══════════╡\n",
       "│ c2    ┆ 0.299966 ┆ 0.50013  ┆ 0.50001  │\n",
       "│ c4    ┆ 0.699962 ┆ 0.5      ┆ 0.499635 │\n",
       "│ c3    ┆ 0.500008 ┆ 0.499618 ┆ 0.499957 │\n",
       "│ c1    ┆ 0.1      ┆ 0.500254 ┆ 0.499845 │\n",
       "│ c5    ┆ 0.899959 ┆ 0.499968 ┆ 0.499828 │\n",
       "└───────┴──────────┴──────────┴──────────┘"
      ]
     },
     "execution_count": 22,
     "metadata": {},
     "output_type": "execute_result"
    }
   ],
   "source": [
    "df_pl['label', 'A', 'B', 'C'].group_by('label', maintain_order=True).mean()"
   ]
  },
  {
   "cell_type": "code",
   "execution_count": 23,
   "id": "c86eb767",
   "metadata": {
    "scrolled": true
   },
   "outputs": [
    {
     "name": "stdout",
     "output_type": "stream",
     "text": [
      "352 ms ± 106 ms per loop (mean ± std. dev. of 7 runs, 1 loop each)\n"
     ]
    }
   ],
   "source": [
    "%timeit pd.pivot_table(df_pd, index='label', \\\n",
    "                       values=['A', 'B', 'C'], \\\n",
    "                       aggfunc='mean', \\\n",
    "                       observed=False)"
   ]
  },
  {
   "cell_type": "code",
   "execution_count": 24,
   "id": "bdef03d0-13ae-442b-bd11-269b415ae6a2",
   "metadata": {},
   "outputs": [
    {
     "name": "stdout",
     "output_type": "stream",
     "text": [
      "133 ms ± 10.7 ms per loop (mean ± std. dev. of 7 runs, 10 loops each)\n"
     ]
    }
   ],
   "source": [
    "%timeit df_pl['label', 'A', 'B', 'C'].group_by('label').mean()"
   ]
  },
  {
   "cell_type": "markdown",
   "id": "132d3e86-3f2b-429c-b71b-fa65be12cd78",
   "metadata": {},
   "source": [
    "## Conclusion"
   ]
  },
  {
   "cell_type": "markdown",
   "id": "a507c65d-9db4-4a93-815f-c948595780c4",
   "metadata": {},
   "source": [
    "Polars outperforms pandas on most operations, though not all.  However, pandas has more features and it is easier to find examples and help."
   ]
  }
 ],
 "metadata": {
  "kernelspec": {
   "display_name": "Python 3 (ipykernel)",
   "language": "python",
   "name": "python3"
  },
  "language_info": {
   "codemirror_mode": {
    "name": "ipython",
    "version": 3
   },
   "file_extension": ".py",
   "mimetype": "text/x-python",
   "name": "python",
   "nbconvert_exporter": "python",
   "pygments_lexer": "ipython3",
   "version": "3.12.5"
  }
 },
 "nbformat": 4,
 "nbformat_minor": 5
}
