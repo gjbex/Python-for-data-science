{
 "cells": [
  {
   "cell_type": "code",
   "execution_count": 1,
   "metadata": {},
   "outputs": [],
   "source": [
    "import altair as alt\n",
    "import numpy as np\n",
    "import pandas as pd\n",
    "import random"
   ]
  },
  {
   "cell_type": "markdown",
   "metadata": {},
   "source": [
    "# Blank map"
   ]
  },
  {
   "cell_type": "code",
   "execution_count": 2,
   "metadata": {},
   "outputs": [],
   "source": [
    "geodata_url = 'https://gist.githubusercontent.com/jandot/ba7eff2e15a38c6f809ba5e8bd8b6977/raw/eb49ce8dd2604e558e10e15d9a3806f114744e80/belgium_municipalities_topojson.json'\n",
    "geodata_feature = 'BE_municipalities'"
   ]
  },
  {
   "cell_type": "markdown",
   "metadata": {},
   "source": [
    "Parameters are GeoJSON URL and feature to use."
   ]
  },
  {
   "cell_type": "code",
   "execution_count": 3,
   "metadata": {},
   "outputs": [],
   "source": [
    "def create_topo_data(url, feature):\n",
    "    return alt.topo_feature(geodata_url, feature)"
   ]
  },
  {
   "cell_type": "code",
   "execution_count": 4,
   "metadata": {},
   "outputs": [],
   "source": [
    "topo_municipalities = create_topo_data(geodata_url, geodata_feature)"
   ]
  },
  {
   "cell_type": "markdown",
   "metadata": {},
   "source": [
    "Parameters would be GeoJSON URL, stroke color and width."
   ]
  },
  {
   "cell_type": "code",
   "execution_count": 5,
   "metadata": {},
   "outputs": [
    {
     "data": {
      "text/html": [
       "\n",
       "<div id=\"altair-viz-def228bcb9a549719cc722ecdbc387da\"></div>\n",
       "<script type=\"text/javascript\">\n",
       "  (function(spec, embedOpt){\n",
       "    let outputDiv = document.currentScript.previousElementSibling;\n",
       "    if (outputDiv.id !== \"altair-viz-def228bcb9a549719cc722ecdbc387da\") {\n",
       "      outputDiv = document.getElementById(\"altair-viz-def228bcb9a549719cc722ecdbc387da\");\n",
       "    }\n",
       "    const paths = {\n",
       "      \"vega\": \"https://cdn.jsdelivr.net/npm//vega@5?noext\",\n",
       "      \"vega-lib\": \"https://cdn.jsdelivr.net/npm//vega-lib?noext\",\n",
       "      \"vega-lite\": \"https://cdn.jsdelivr.net/npm//vega-lite@4.8.1?noext\",\n",
       "      \"vega-embed\": \"https://cdn.jsdelivr.net/npm//vega-embed@6?noext\",\n",
       "    };\n",
       "\n",
       "    function loadScript(lib) {\n",
       "      return new Promise(function(resolve, reject) {\n",
       "        var s = document.createElement('script');\n",
       "        s.src = paths[lib];\n",
       "        s.async = true;\n",
       "        s.onload = () => resolve(paths[lib]);\n",
       "        s.onerror = () => reject(`Error loading script: ${paths[lib]}`);\n",
       "        document.getElementsByTagName(\"head\")[0].appendChild(s);\n",
       "      });\n",
       "    }\n",
       "\n",
       "    function showError(err) {\n",
       "      outputDiv.innerHTML = `<div class=\"error\" style=\"color:red;\">${err}</div>`;\n",
       "      throw err;\n",
       "    }\n",
       "\n",
       "    function displayChart(vegaEmbed) {\n",
       "      vegaEmbed(outputDiv, spec, embedOpt)\n",
       "        .catch(err => showError(`Javascript Error: ${err.message}<br>This usually means there's a typo in your chart specification. See the javascript console for the full traceback.`));\n",
       "    }\n",
       "\n",
       "    if(typeof define === \"function\" && define.amd) {\n",
       "      requirejs.config({paths});\n",
       "      require([\"vega-embed\"], displayChart, err => showError(`Error loading script: ${err.message}`));\n",
       "    } else if (typeof vegaEmbed === \"function\") {\n",
       "      displayChart(vegaEmbed);\n",
       "    } else {\n",
       "      loadScript(\"vega\")\n",
       "        .then(() => loadScript(\"vega-lite\"))\n",
       "        .then(() => loadScript(\"vega-embed\"))\n",
       "        .catch(showError)\n",
       "        .then(() => displayChart(vegaEmbed));\n",
       "    }\n",
       "  })({\"config\": {\"view\": {\"continuousWidth\": 400, \"continuousHeight\": 300}}, \"data\": {\"url\": \"https://gist.githubusercontent.com/jandot/ba7eff2e15a38c6f809ba5e8bd8b6977/raw/eb49ce8dd2604e558e10e15d9a3806f114744e80/belgium_municipalities_topojson.json\", \"format\": {\"feature\": \"BE_municipalities\", \"type\": \"topojson\"}}, \"mark\": {\"type\": \"geoshape\", \"stroke\": \"lightgrey\", \"strokeWidth\": 0.1}, \"encoding\": {}, \"$schema\": \"https://vega.github.io/schema/vega-lite/v4.8.1.json\"}, {\"mode\": \"vega-lite\"});\n",
       "</script>"
      ],
      "text/plain": [
       "alt.Chart(...)"
      ]
     },
     "execution_count": 5,
     "metadata": {},
     "output_type": "execute_result"
    }
   ],
   "source": [
    "alt.Chart(topo_municipalities).mark_geoshape(stroke='lightgrey', strokeWidth=0.1).encode()"
   ]
  },
  {
   "cell_type": "markdown",
   "metadata": {},
   "source": [
    "# Reading data"
   ]
  },
  {
   "cell_type": "markdown",
   "metadata": {},
   "source": [
    "Parameters would be data file URL, data file type, and if necessary file encoding, column separator."
   ]
  },
  {
   "cell_type": "code",
   "execution_count": 6,
   "metadata": {},
   "outputs": [],
   "source": [
    "def read_data(uri, encoding=None, delimiter=None):\n",
    "    if uri.lower().endswith('.csv'):\n",
    "        return pd.read_csv(uri, encoding=encoding, delimiter=delimiter)\n",
    "    elif uri.lower().endswith('.xlsx'):\n",
    "        return pd.read_excel(uri)\n",
    "    else:\n",
    "        raise ValueError(f'file type of \"\"{uri}\"\" is unknown')"
   ]
  },
  {
   "cell_type": "code",
   "execution_count": 7,
   "metadata": {},
   "outputs": [],
   "source": [
    "def validate_data(data):\n",
    "    if len(data.columns) < 2:\n",
    "        raise ValueError('data should have at least a NIS code and a data column')\n",
    "    nis_code_pos = [idx for idx, col_name in enumerate(data.columns) if col_name.lower() == 'niscode']\n",
    "    if len(nis_code_pos) > 1:\n",
    "        raise ValueError('multiple columns have NIS code name')\n",
    "    elif len(nis_code_pos) == 0:\n",
    "        raise ValueError('NIS code column is missing')\n",
    "    else:\n",
    "        columns = list(data.columns)\n",
    "        columns[nis_code_pos[0]] = 'niscode'\n",
    "        data.columns = columns\n",
    "    if data.niscode.dtype != np.int64:\n",
    "        raise ValueError('data type for NIS code is incorret, should be integer')"
   ]
  },
  {
   "cell_type": "code",
   "execution_count": 8,
   "metadata": {},
   "outputs": [],
   "source": [
    "data = read_data('data/Gemeenten-latest.csv', encoding='iso-8859-1', delimiter=';')"
   ]
  },
  {
   "cell_type": "code",
   "execution_count": 9,
   "metadata": {},
   "outputs": [],
   "source": [
    "validate_data(data)"
   ]
  },
  {
   "cell_type": "code",
   "execution_count": 10,
   "metadata": {},
   "outputs": [
    {
     "data": {
      "text/html": [
       "<div>\n",
       "<style scoped>\n",
       "    .dataframe tbody tr th:only-of-type {\n",
       "        vertical-align: middle;\n",
       "    }\n",
       "\n",
       "    .dataframe tbody tr th {\n",
       "        vertical-align: top;\n",
       "    }\n",
       "\n",
       "    .dataframe thead th {\n",
       "        text-align: right;\n",
       "    }\n",
       "</style>\n",
       "<table border=\"1\" class=\"dataframe\">\n",
       "  <thead>\n",
       "    <tr style=\"text-align: right;\">\n",
       "      <th></th>\n",
       "      <th>ID</th>\n",
       "      <th>Gemeente</th>\n",
       "      <th>Bevolking</th>\n",
       "      <th>niscode</th>\n",
       "      <th>DATE</th>\n",
       "      <th>COUNT</th>\n",
       "    </tr>\n",
       "  </thead>\n",
       "  <tbody>\n",
       "    <tr>\n",
       "      <th>0</th>\n",
       "      <td>1</td>\n",
       "      <td>AARTSELAAR</td>\n",
       "      <td>14423</td>\n",
       "      <td>11001</td>\n",
       "      <td>2020-03-31</td>\n",
       "      <td>0</td>\n",
       "    </tr>\n",
       "    <tr>\n",
       "      <th>1</th>\n",
       "      <td>2</td>\n",
       "      <td>ANTWERPEN</td>\n",
       "      <td>527763</td>\n",
       "      <td>11002</td>\n",
       "      <td>2020-03-31</td>\n",
       "      <td>52</td>\n",
       "    </tr>\n",
       "    <tr>\n",
       "      <th>2</th>\n",
       "      <td>3</td>\n",
       "      <td>BOECHOUT</td>\n",
       "      <td>13373</td>\n",
       "      <td>11004</td>\n",
       "      <td>2020-03-31</td>\n",
       "      <td>0</td>\n",
       "    </tr>\n",
       "    <tr>\n",
       "      <th>3</th>\n",
       "      <td>4</td>\n",
       "      <td>BOOM</td>\n",
       "      <td>18526</td>\n",
       "      <td>11005</td>\n",
       "      <td>2020-03-31</td>\n",
       "      <td>1</td>\n",
       "    </tr>\n",
       "    <tr>\n",
       "      <th>4</th>\n",
       "      <td>5</td>\n",
       "      <td>BORSBEEK</td>\n",
       "      <td>10943</td>\n",
       "      <td>11007</td>\n",
       "      <td>2020-03-31</td>\n",
       "      <td>0</td>\n",
       "    </tr>\n",
       "  </tbody>\n",
       "</table>\n",
       "</div>"
      ],
      "text/plain": [
       "   ID    Gemeente  Bevolking  niscode        DATE  COUNT\n",
       "0   1  AARTSELAAR      14423    11001  2020-03-31      0\n",
       "1   2   ANTWERPEN     527763    11002  2020-03-31     52\n",
       "2   3    BOECHOUT      13373    11004  2020-03-31      0\n",
       "3   4        BOOM      18526    11005  2020-03-31      1\n",
       "4   5    BORSBEEK      10943    11007  2020-03-31      0"
      ]
     },
     "execution_count": 10,
     "metadata": {},
     "output_type": "execute_result"
    }
   ],
   "source": [
    "data.head()"
   ]
  },
  {
   "cell_type": "markdown",
   "metadata": {},
   "source": [
    "Select only data from March 31th, 2020."
   ]
  },
  {
   "cell_type": "code",
   "execution_count": 14,
   "metadata": {},
   "outputs": [],
   "source": [
    "data = data.query('DATE == \"2020-03-31\"').copy()"
   ]
  },
  {
   "cell_type": "code",
   "execution_count": 15,
   "metadata": {},
   "outputs": [
    {
     "data": {
      "text/html": [
       "<div>\n",
       "<style scoped>\n",
       "    .dataframe tbody tr th:only-of-type {\n",
       "        vertical-align: middle;\n",
       "    }\n",
       "\n",
       "    .dataframe tbody tr th {\n",
       "        vertical-align: top;\n",
       "    }\n",
       "\n",
       "    .dataframe thead th {\n",
       "        text-align: right;\n",
       "    }\n",
       "</style>\n",
       "<table border=\"1\" class=\"dataframe\">\n",
       "  <thead>\n",
       "    <tr style=\"text-align: right;\">\n",
       "      <th></th>\n",
       "      <th>ID</th>\n",
       "      <th>Gemeente</th>\n",
       "      <th>Bevolking</th>\n",
       "      <th>niscode</th>\n",
       "      <th>DATE</th>\n",
       "      <th>COUNT</th>\n",
       "      <th>color</th>\n",
       "    </tr>\n",
       "  </thead>\n",
       "  <tbody>\n",
       "    <tr>\n",
       "      <th>0</th>\n",
       "      <td>1</td>\n",
       "      <td>AARTSELAAR</td>\n",
       "      <td>14423</td>\n",
       "      <td>11001</td>\n",
       "      <td>2020-03-31</td>\n",
       "      <td>0</td>\n",
       "      <td>green</td>\n",
       "    </tr>\n",
       "    <tr>\n",
       "      <th>1</th>\n",
       "      <td>2</td>\n",
       "      <td>ANTWERPEN</td>\n",
       "      <td>527763</td>\n",
       "      <td>11002</td>\n",
       "      <td>2020-03-31</td>\n",
       "      <td>52</td>\n",
       "      <td>yellow</td>\n",
       "    </tr>\n",
       "    <tr>\n",
       "      <th>2</th>\n",
       "      <td>3</td>\n",
       "      <td>BOECHOUT</td>\n",
       "      <td>13373</td>\n",
       "      <td>11004</td>\n",
       "      <td>2020-03-31</td>\n",
       "      <td>0</td>\n",
       "      <td>red</td>\n",
       "    </tr>\n",
       "    <tr>\n",
       "      <th>3</th>\n",
       "      <td>4</td>\n",
       "      <td>BOOM</td>\n",
       "      <td>18526</td>\n",
       "      <td>11005</td>\n",
       "      <td>2020-03-31</td>\n",
       "      <td>1</td>\n",
       "      <td>blue</td>\n",
       "    </tr>\n",
       "    <tr>\n",
       "      <th>4</th>\n",
       "      <td>5</td>\n",
       "      <td>BORSBEEK</td>\n",
       "      <td>10943</td>\n",
       "      <td>11007</td>\n",
       "      <td>2020-03-31</td>\n",
       "      <td>0</td>\n",
       "      <td>red</td>\n",
       "    </tr>\n",
       "  </tbody>\n",
       "</table>\n",
       "</div>"
      ],
      "text/plain": [
       "   ID    Gemeente  Bevolking  niscode        DATE  COUNT   color\n",
       "0   1  AARTSELAAR      14423    11001  2020-03-31      0   green\n",
       "1   2   ANTWERPEN     527763    11002  2020-03-31     52  yellow\n",
       "2   3    BOECHOUT      13373    11004  2020-03-31      0     red\n",
       "3   4        BOOM      18526    11005  2020-03-31      1    blue\n",
       "4   5    BORSBEEK      10943    11007  2020-03-31      0     red"
      ]
     },
     "execution_count": 15,
     "metadata": {},
     "output_type": "execute_result"
    }
   ],
   "source": [
    "data.head()"
   ]
  },
  {
   "cell_type": "markdown",
   "metadata": {},
   "source": [
    "Add a column with random qualitative data."
   ]
  },
  {
   "cell_type": "code",
   "execution_count": 16,
   "metadata": {},
   "outputs": [],
   "source": [
    "data['color'] = random.choices(['red', 'green', 'blue', 'yellow'], k=len(data))"
   ]
  },
  {
   "cell_type": "code",
   "execution_count": 17,
   "metadata": {},
   "outputs": [
    {
     "data": {
      "text/html": [
       "<div>\n",
       "<style scoped>\n",
       "    .dataframe tbody tr th:only-of-type {\n",
       "        vertical-align: middle;\n",
       "    }\n",
       "\n",
       "    .dataframe tbody tr th {\n",
       "        vertical-align: top;\n",
       "    }\n",
       "\n",
       "    .dataframe thead th {\n",
       "        text-align: right;\n",
       "    }\n",
       "</style>\n",
       "<table border=\"1\" class=\"dataframe\">\n",
       "  <thead>\n",
       "    <tr style=\"text-align: right;\">\n",
       "      <th></th>\n",
       "      <th>ID</th>\n",
       "      <th>Gemeente</th>\n",
       "      <th>Bevolking</th>\n",
       "      <th>niscode</th>\n",
       "      <th>DATE</th>\n",
       "      <th>COUNT</th>\n",
       "      <th>color</th>\n",
       "    </tr>\n",
       "  </thead>\n",
       "  <tbody>\n",
       "    <tr>\n",
       "      <th>0</th>\n",
       "      <td>1</td>\n",
       "      <td>AARTSELAAR</td>\n",
       "      <td>14423</td>\n",
       "      <td>11001</td>\n",
       "      <td>2020-03-31</td>\n",
       "      <td>0</td>\n",
       "      <td>green</td>\n",
       "    </tr>\n",
       "    <tr>\n",
       "      <th>1</th>\n",
       "      <td>2</td>\n",
       "      <td>ANTWERPEN</td>\n",
       "      <td>527763</td>\n",
       "      <td>11002</td>\n",
       "      <td>2020-03-31</td>\n",
       "      <td>52</td>\n",
       "      <td>blue</td>\n",
       "    </tr>\n",
       "    <tr>\n",
       "      <th>2</th>\n",
       "      <td>3</td>\n",
       "      <td>BOECHOUT</td>\n",
       "      <td>13373</td>\n",
       "      <td>11004</td>\n",
       "      <td>2020-03-31</td>\n",
       "      <td>0</td>\n",
       "      <td>yellow</td>\n",
       "    </tr>\n",
       "    <tr>\n",
       "      <th>3</th>\n",
       "      <td>4</td>\n",
       "      <td>BOOM</td>\n",
       "      <td>18526</td>\n",
       "      <td>11005</td>\n",
       "      <td>2020-03-31</td>\n",
       "      <td>1</td>\n",
       "      <td>yellow</td>\n",
       "    </tr>\n",
       "    <tr>\n",
       "      <th>4</th>\n",
       "      <td>5</td>\n",
       "      <td>BORSBEEK</td>\n",
       "      <td>10943</td>\n",
       "      <td>11007</td>\n",
       "      <td>2020-03-31</td>\n",
       "      <td>0</td>\n",
       "      <td>red</td>\n",
       "    </tr>\n",
       "  </tbody>\n",
       "</table>\n",
       "</div>"
      ],
      "text/plain": [
       "   ID    Gemeente  Bevolking  niscode        DATE  COUNT   color\n",
       "0   1  AARTSELAAR      14423    11001  2020-03-31      0   green\n",
       "1   2   ANTWERPEN     527763    11002  2020-03-31     52    blue\n",
       "2   3    BOECHOUT      13373    11004  2020-03-31      0  yellow\n",
       "3   4        BOOM      18526    11005  2020-03-31      1  yellow\n",
       "4   5    BORSBEEK      10943    11007  2020-03-31      0     red"
      ]
     },
     "execution_count": 17,
     "metadata": {},
     "output_type": "execute_result"
    }
   ],
   "source": [
    "data.head()"
   ]
  },
  {
   "cell_type": "code",
   "execution_count": null,
   "metadata": {},
   "outputs": [],
   "source": [
    "data.to_csv('data/data.csv')"
   ]
  },
  {
   "cell_type": "markdown",
   "metadata": {},
   "source": [
    "# Putting data on the map"
   ]
  },
  {
   "cell_type": "markdown",
   "metadata": {},
   "source": [
    "## Quantivative data"
   ]
  },
  {
   "cell_type": "markdown",
   "metadata": {},
   "source": [
    "Parameters would be legend title, color scheme, data domain (min. value, max. value)."
   ]
  },
  {
   "cell_type": "code",
   "execution_count": 27,
   "metadata": {},
   "outputs": [],
   "source": [
    "def guess_data_type(data, columns):\n",
    "    types = dict()\n",
    "    for column in columns:\n",
    "        pandas_type = data[column].dtype\n",
    "        if pandas_type in [np.int32, np.int64, np.float32, np.float64]:\n",
    "            types[column] = 'Q'\n",
    "        else:\n",
    "            types[column] = 'N'\n",
    "    return types"
   ]
  },
  {
   "cell_type": "code",
   "execution_count": 37,
   "metadata": {},
   "outputs": [],
   "source": [
    "def create_plot(topo_data, data, column_name, data_type, tooltips = None,\n",
    "                stroke='lightgrey', strokeWidth=0.5, legend_title=None,\n",
    "                schema='reds'):\n",
    "    if legend_title is None:\n",
    "        legend_title = column_name\n",
    "    if tooltips is None:\n",
    "        lookup = [column_name]\n",
    "    else:\n",
    "        lookup = [column_name] + list(tooltips)\n",
    "    print(lookup)\n",
    "    return alt.Chart(topo_data).mark_geoshape(stroke=stroke, strokeWidth=strokeWidth).encode(\n",
    "                color=alt.Color(f'{column_name}:{data_type}',\n",
    "                                legend=alt.Legend(title=legend_title), \n",
    "                                scale=alt.Scale(scheme=schema)),\n",
    "                tooltip=[f'{cname}:N' for cname in lookup],\n",
    "        ).transform_lookup(\n",
    "            lookup='properties.CODE_INS',\n",
    "            from_=alt.LookupData(data, 'niscode', lookup)\n",
    "        )"
   ]
  },
  {
   "cell_type": "code",
   "execution_count": 38,
   "metadata": {},
   "outputs": [],
   "source": [
    "def create_quantitative_plot(topo_data, data, column_name, tooltips=None,\n",
    "                             stroke='lightgrey', strokeWidth=0.5, legend_title=None,\n",
    "                             schema='reds'):\n",
    "    return create_plot(topo_data, data, column_name, 'Q',\n",
    "                tooltips, stroke, strokeWidth, legend_title, schema)"
   ]
  },
  {
   "cell_type": "code",
   "execution_count": 39,
   "metadata": {},
   "outputs": [
    {
     "name": "stdout",
     "output_type": "stream",
     "text": [
      "['Bevolking', 'Gemeente', 'COUNT']\n"
     ]
    },
    {
     "data": {
      "text/html": [
       "\n",
       "<div id=\"altair-viz-8ff246e62d5841d6a74a72a8ced067a3\"></div>\n",
       "<script type=\"text/javascript\">\n",
       "  (function(spec, embedOpt){\n",
       "    let outputDiv = document.currentScript.previousElementSibling;\n",
       "    if (outputDiv.id !== \"altair-viz-8ff246e62d5841d6a74a72a8ced067a3\") {\n",
       "      outputDiv = document.getElementById(\"altair-viz-8ff246e62d5841d6a74a72a8ced067a3\");\n",
       "    }\n",
       "    const paths = {\n",
       "      \"vega\": \"https://cdn.jsdelivr.net/npm//vega@5?noext\",\n",
       "      \"vega-lib\": \"https://cdn.jsdelivr.net/npm//vega-lib?noext\",\n",
       "      \"vega-lite\": \"https://cdn.jsdelivr.net/npm//vega-lite@4.8.1?noext\",\n",
       "      \"vega-embed\": \"https://cdn.jsdelivr.net/npm//vega-embed@6?noext\",\n",
       "    };\n",
       "\n",
       "    function loadScript(lib) {\n",
       "      return new Promise(function(resolve, reject) {\n",
       "        var s = document.createElement('script');\n",
       "        s.src = paths[lib];\n",
       "        s.async = true;\n",
       "        s.onload = () => resolve(paths[lib]);\n",
       "        s.onerror = () => reject(`Error loading script: ${paths[lib]}`);\n",
       "        document.getElementsByTagName(\"head\")[0].appendChild(s);\n",
       "      });\n",
       "    }\n",
       "\n",
       "    function showError(err) {\n",
       "      outputDiv.innerHTML = `<div class=\"error\" style=\"color:red;\">${err}</div>`;\n",
       "      throw err;\n",
       "    }\n",
       "\n",
       "    function displayChart(vegaEmbed) {\n",
       "      vegaEmbed(outputDiv, spec, embedOpt)\n",
       "        .catch(err => showError(`Javascript Error: ${err.message}<br>This usually means there's a typo in your chart specification. See the javascript console for the full traceback.`));\n",
       "    }\n",
       "\n",
       "    if(typeof define === \"function\" && define.amd) {\n",
       "      requirejs.config({paths});\n",
       "      require([\"vega-embed\"], displayChart, err => showError(`Error loading script: ${err.message}`));\n",
       "    } else if (typeof vegaEmbed === \"function\") {\n",
       "      displayChart(vegaEmbed);\n",
       "    } else {\n",
       "      loadScript(\"vega\")\n",
       "        .then(() => loadScript(\"vega-lite\"))\n",
       "        .then(() => loadScript(\"vega-embed\"))\n",
       "        .catch(showError)\n",
       "        .then(() => displayChart(vegaEmbed));\n",
       "    }\n",
       "  })({\"config\": {\"view\": {\"continuousWidth\": 400, \"continuousHeight\": 300}}, \"data\": {\"url\": \"https://gist.githubusercontent.com/jandot/ba7eff2e15a38c6f809ba5e8bd8b6977/raw/eb49ce8dd2604e558e10e15d9a3806f114744e80/belgium_municipalities_topojson.json\", \"format\": {\"feature\": \"BE_municipalities\", \"type\": \"topojson\"}}, \"mark\": {\"type\": \"geoshape\", \"stroke\": \"lightgrey\", \"strokeWidth\": 0.5}, \"encoding\": {\"color\": {\"type\": \"quantitative\", \"field\": \"Bevolking\", \"legend\": {\"title\": \"Bevolking\"}, \"scale\": {\"scheme\": \"reds\"}}, \"tooltip\": [{\"type\": \"nominal\", \"field\": \"Bevolking\"}, {\"type\": \"nominal\", \"field\": \"Gemeente\"}, {\"type\": \"nominal\", \"field\": \"COUNT\"}]}, \"transform\": [{\"lookup\": \"properties.CODE_INS\", \"from\": {\"data\": {\"name\": \"data-798b590abcab155bd695021ad1fc4534\"}, \"key\": \"niscode\", \"fields\": [\"Bevolking\", \"Gemeente\", \"COUNT\"]}}], \"$schema\": \"https://vega.github.io/schema/vega-lite/v4.8.1.json\", \"datasets\": {\"data-798b590abcab155bd695021ad1fc4534\": [{\"ID\": 1, \"Gemeente\": \"AARTSELAAR\", \"Bevolking\": 14423, \"niscode\": 11001, \"DATE\": \"2020-03-31\", \"COUNT\": 0, \"color\": \"green\"}, {\"ID\": 2, \"Gemeente\": \"ANTWERPEN\", \"Bevolking\": 527763, \"niscode\": 11002, \"DATE\": \"2020-03-31\", \"COUNT\": 52, \"color\": \"blue\"}, {\"ID\": 3, \"Gemeente\": \"BOECHOUT\", \"Bevolking\": 13373, \"niscode\": 11004, \"DATE\": \"2020-03-31\", \"COUNT\": 0, \"color\": \"yellow\"}, {\"ID\": 4, \"Gemeente\": \"BOOM\", \"Bevolking\": 18526, \"niscode\": 11005, \"DATE\": \"2020-03-31\", \"COUNT\": 1, \"color\": \"yellow\"}, {\"ID\": 5, \"Gemeente\": \"BORSBEEK\", \"Bevolking\": 10943, \"niscode\": 11007, \"DATE\": \"2020-03-31\", \"COUNT\": 0, \"color\": \"red\"}, {\"ID\": 6, \"Gemeente\": \"BRASSCHAAT\", \"Bevolking\": 38206, \"niscode\": 11008, \"DATE\": \"2020-03-31\", \"COUNT\": 15, \"color\": \"green\"}, {\"ID\": 7, \"Gemeente\": \"BRECHT\", \"Bevolking\": 29444, \"niscode\": 11009, \"DATE\": \"2020-03-31\", \"COUNT\": 4, \"color\": \"green\"}, {\"ID\": 8, \"Gemeente\": \"EDEGEM\", \"Bevolking\": 22231, \"niscode\": 11013, \"DATE\": \"2020-03-31\", \"COUNT\": 4, \"color\": \"yellow\"}, {\"ID\": 9, \"Gemeente\": \"ESSEN\", \"Bevolking\": 19149, \"niscode\": 11016, \"DATE\": \"2020-03-31\", \"COUNT\": 2, \"color\": \"green\"}, {\"ID\": 10, \"Gemeente\": \"HEMIKSEM\", \"Bevolking\": 11602, \"niscode\": 11018, \"DATE\": \"2020-03-31\", \"COUNT\": 0, \"color\": \"blue\"}, {\"ID\": 11, \"Gemeente\": \"HOVE\", \"Bevolking\": 8277, \"niscode\": 11021, \"DATE\": \"2020-03-31\", \"COUNT\": 1, \"color\": \"yellow\"}, {\"ID\": 12, \"Gemeente\": \"KALMTHOUT\", \"Bevolking\": 18873, \"niscode\": 11022, \"DATE\": \"2020-03-31\", \"COUNT\": 0, \"color\": \"blue\"}, {\"ID\": 13, \"Gemeente\": \"KAPELLEN\", \"Bevolking\": 26980, \"niscode\": 11023, \"DATE\": \"2020-03-31\", \"COUNT\": 1, \"color\": \"blue\"}, {\"ID\": 14, \"Gemeente\": \"KONTICH\", \"Bevolking\": 21184, \"niscode\": 11024, \"DATE\": \"2020-03-31\", \"COUNT\": 0, \"color\": \"red\"}, {\"ID\": 15, \"Gemeente\": \"LINT\", \"Bevolking\": 8635, \"niscode\": 11025, \"DATE\": \"2020-03-31\", \"COUNT\": 0, \"color\": \"blue\"}, {\"ID\": 16, \"Gemeente\": \"MORTSEL\", \"Bevolking\": 26170, \"niscode\": 11029, \"DATE\": \"2020-03-31\", \"COUNT\": 1, \"color\": \"blue\"}, {\"ID\": 17, \"Gemeente\": \"NIEL\", \"Bevolking\": 10527, \"niscode\": 11030, \"DATE\": \"2020-03-31\", \"COUNT\": 2, \"color\": \"yellow\"}, {\"ID\": 18, \"Gemeente\": \"RANST\", \"Bevolking\": 19184, \"niscode\": 11035, \"DATE\": \"2020-03-31\", \"COUNT\": 2, \"color\": \"green\"}, {\"ID\": 19, \"Gemeente\": \"RUMST\", \"Bevolking\": 15051, \"niscode\": 11037, \"DATE\": \"2020-03-31\", \"COUNT\": 1, \"color\": \"red\"}, {\"ID\": 20, \"Gemeente\": \"SCHELLE\", \"Bevolking\": 8534, \"niscode\": 11038, \"DATE\": \"2020-03-31\", \"COUNT\": 0, \"color\": \"green\"}, {\"ID\": 21, \"Gemeente\": \"SCHILDE\", \"Bevolking\": 19879, \"niscode\": 11039, \"DATE\": \"2020-03-31\", \"COUNT\": 1, \"color\": \"blue\"}, {\"ID\": 22, \"Gemeente\": \"SCHOTEN\", \"Bevolking\": 34311, \"niscode\": 11040, \"DATE\": \"2020-03-31\", \"COUNT\": 6, \"color\": \"yellow\"}, {\"ID\": 23, \"Gemeente\": \"STABROEK\", \"Bevolking\": 18770, \"niscode\": 11044, \"DATE\": \"2020-03-31\", \"COUNT\": 4, \"color\": \"blue\"}, {\"ID\": 24, \"Gemeente\": \"WIJNEGEM\", \"Bevolking\": 9981, \"niscode\": 11050, \"DATE\": \"2020-03-31\", \"COUNT\": 0, \"color\": \"green\"}, {\"ID\": 25, \"Gemeente\": \"WOMMELGEM\", \"Bevolking\": 12936, \"niscode\": 11052, \"DATE\": \"2020-03-31\", \"COUNT\": 1, \"color\": \"blue\"}, {\"ID\": 26, \"Gemeente\": \"WUUSTWEZEL\", \"Bevolking\": 21203, \"niscode\": 11053, \"DATE\": \"2020-03-31\", \"COUNT\": 2, \"color\": \"blue\"}, {\"ID\": 27, \"Gemeente\": \"ZANDHOVEN\", \"Bevolking\": 13063, \"niscode\": 11054, \"DATE\": \"2020-03-31\", \"COUNT\": 0, \"color\": \"green\"}, {\"ID\": 28, \"Gemeente\": \"ZOERSEL\", \"Bevolking\": 22067, \"niscode\": 11055, \"DATE\": \"2020-03-31\", \"COUNT\": 1, \"color\": \"red\"}, {\"ID\": 29, \"Gemeente\": \"ZWIJNDRECHT\", \"Bevolking\": 19146, \"niscode\": 11056, \"DATE\": \"2020-03-31\", \"COUNT\": 0, \"color\": \"yellow\"}, {\"ID\": 30, \"Gemeente\": \"MALLE\", \"Bevolking\": 15594, \"niscode\": 11057, \"DATE\": \"2020-03-31\", \"COUNT\": 2, \"color\": \"red\"}, {\"ID\": 31, \"Gemeente\": \"BERLAAR\", \"Bevolking\": 11658, \"niscode\": 12002, \"DATE\": \"2020-03-31\", \"COUNT\": 3, \"color\": \"yellow\"}, {\"ID\": 32, \"Gemeente\": \"BONHEIDEN\", \"Bevolking\": 15073, \"niscode\": 12005, \"DATE\": \"2020-03-31\", \"COUNT\": 1, \"color\": \"yellow\"}, {\"ID\": 33, \"Gemeente\": \"BORNEM\", \"Bevolking\": 21347, \"niscode\": 12007, \"DATE\": \"2020-03-31\", \"COUNT\": 8, \"color\": \"blue\"}, {\"ID\": 34, \"Gemeente\": \"DUFFEL\", \"Bevolking\": 17661, \"niscode\": 12009, \"DATE\": \"2020-03-31\", \"COUNT\": 3, \"color\": \"green\"}, {\"ID\": 35, \"Gemeente\": \"HEIST-OP-DEN-BERG\", \"Bevolking\": 42937, \"niscode\": 12014, \"DATE\": \"2020-03-31\", \"COUNT\": 0, \"color\": \"yellow\"}, {\"ID\": 36, \"Gemeente\": \"LIER\", \"Bevolking\": 36631, \"niscode\": 12021, \"DATE\": \"2020-03-31\", \"COUNT\": 3, \"color\": \"yellow\"}, {\"ID\": 37, \"Gemeente\": \"MECHELEN\", \"Bevolking\": 86718, \"niscode\": 12025, \"DATE\": \"2020-03-31\", \"COUNT\": 3, \"color\": \"blue\"}, {\"ID\": 38, \"Gemeente\": \"NIJLEN\", \"Bevolking\": 22938, \"niscode\": 12026, \"DATE\": \"2020-03-31\", \"COUNT\": 2, \"color\": \"red\"}, {\"ID\": 39, \"Gemeente\": \"PUTTE\", \"Bevolking\": 17931, \"niscode\": 12029, \"DATE\": \"2020-03-31\", \"COUNT\": 1, \"color\": \"yellow\"}, {\"ID\": 40, \"Gemeente\": \"PUURS\", \"Bevolking\": 17452, \"niscode\": 12030, \"DATE\": \"2020-03-31\", \"COUNT\": 4, \"color\": \"red\"}, {\"ID\": 41, \"Gemeente\": \"SINT-AMANDS\", \"Bevolking\": 8480, \"niscode\": 12034, \"DATE\": \"2020-03-31\", \"COUNT\": 2, \"color\": \"green\"}, {\"ID\": 42, \"Gemeente\": \"SINT-KATELIJNE-WAVER\", \"Bevolking\": 21018, \"niscode\": 12035, \"DATE\": \"2020-03-31\", \"COUNT\": 3, \"color\": \"blue\"}, {\"ID\": 43, \"Gemeente\": \"WILLEBROEK\", \"Bevolking\": 26822, \"niscode\": 12040, \"DATE\": \"2020-03-31\", \"COUNT\": 1, \"color\": \"yellow\"}, {\"ID\": 44, \"Gemeente\": \"ARENDONK\", \"Bevolking\": 13281, \"niscode\": 13001, \"DATE\": \"2020-03-31\", \"COUNT\": 0, \"color\": \"green\"}, {\"ID\": 45, \"Gemeente\": \"BAARLE-HERTOG\", \"Bevolking\": 2845, \"niscode\": 13002, \"DATE\": \"2020-03-31\", \"COUNT\": 0, \"color\": \"blue\"}, {\"ID\": 46, \"Gemeente\": \"BALEN\", \"Bevolking\": 22812, \"niscode\": 13003, \"DATE\": \"2020-03-31\", \"COUNT\": 0, \"color\": \"blue\"}, {\"ID\": 47, \"Gemeente\": \"BEERSE\", \"Bevolking\": 18116, \"niscode\": 13004, \"DATE\": \"2020-03-31\", \"COUNT\": 2, \"color\": \"green\"}, {\"ID\": 48, \"Gemeente\": \"DESSEL\", \"Bevolking\": 9601, \"niscode\": 13006, \"DATE\": \"2020-03-31\", \"COUNT\": 0, \"color\": \"yellow\"}, {\"ID\": 49, \"Gemeente\": \"GEEL\", \"Bevolking\": 40682, \"niscode\": 13008, \"DATE\": \"2020-03-31\", \"COUNT\": 3, \"color\": \"yellow\"}, {\"ID\": 50, \"Gemeente\": \"GROBBENDONK\", \"Bevolking\": 11163, \"niscode\": 13010, \"DATE\": \"2020-03-31\", \"COUNT\": 1, \"color\": \"red\"}, {\"ID\": 51, \"Gemeente\": \"HERENTALS\", \"Bevolking\": 28267, \"niscode\": 13011, \"DATE\": \"2020-03-31\", \"COUNT\": 5, \"color\": \"green\"}, {\"ID\": 52, \"Gemeente\": \"HERENTHOUT\", \"Bevolking\": 9094, \"niscode\": 13012, \"DATE\": \"2020-03-31\", \"COUNT\": 1, \"color\": \"blue\"}, {\"ID\": 53, \"Gemeente\": \"HERSELT\", \"Bevolking\": 14519, \"niscode\": 13013, \"DATE\": \"2020-03-31\", \"COUNT\": 3, \"color\": \"yellow\"}, {\"ID\": 54, \"Gemeente\": \"HOOGSTRATEN\", \"Bevolking\": 21386, \"niscode\": 13014, \"DATE\": \"2020-03-31\", \"COUNT\": 0, \"color\": \"yellow\"}, {\"ID\": 55, \"Gemeente\": \"HULSHOUT\", \"Bevolking\": 10468, \"niscode\": 13016, \"DATE\": \"2020-03-31\", \"COUNT\": 0, \"color\": \"green\"}, {\"ID\": 56, \"Gemeente\": \"KASTERLEE\", \"Bevolking\": 18884, \"niscode\": 13017, \"DATE\": \"2020-03-31\", \"COUNT\": 0, \"color\": \"blue\"}, {\"ID\": 57, \"Gemeente\": \"LILLE\", \"Bevolking\": 16551, \"niscode\": 13019, \"DATE\": \"2020-03-31\", \"COUNT\": 3, \"color\": \"yellow\"}, {\"ID\": 58, \"Gemeente\": \"MEERHOUT\", \"Bevolking\": 10320, \"niscode\": 13021, \"DATE\": \"2020-03-31\", \"COUNT\": 0, \"color\": \"blue\"}, {\"ID\": 59, \"Gemeente\": \"MERKSPLAS\", \"Bevolking\": 8582, \"niscode\": 13023, \"DATE\": \"2020-03-31\", \"COUNT\": 2, \"color\": \"red\"}, {\"ID\": 60, \"Gemeente\": \"MOL\", \"Bevolking\": 37011, \"niscode\": 13025, \"DATE\": \"2020-03-31\", \"COUNT\": 1, \"color\": \"red\"}, {\"ID\": 61, \"Gemeente\": \"OLEN\", \"Bevolking\": 12558, \"niscode\": 13029, \"DATE\": \"2020-03-31\", \"COUNT\": 2, \"color\": \"green\"}, {\"ID\": 62, \"Gemeente\": \"OUD-TURNHOUT\", \"Bevolking\": 13953, \"niscode\": 13031, \"DATE\": \"2020-03-31\", \"COUNT\": 1, \"color\": \"red\"}, {\"ID\": 63, \"Gemeente\": \"RAVELS\", \"Bevolking\": 14988, \"niscode\": 13035, \"DATE\": \"2020-03-31\", \"COUNT\": 1, \"color\": \"green\"}, {\"ID\": 64, \"Gemeente\": \"RETIE\", \"Bevolking\": 11497, \"niscode\": 13036, \"DATE\": \"2020-03-31\", \"COUNT\": 0, \"color\": \"red\"}, {\"ID\": 65, \"Gemeente\": \"RIJKEVORSEL\", \"Bevolking\": 12169, \"niscode\": 13037, \"DATE\": \"2020-03-31\", \"COUNT\": 0, \"color\": \"blue\"}, {\"ID\": 66, \"Gemeente\": \"TURNHOUT\", \"Bevolking\": 45205, \"niscode\": 13040, \"DATE\": \"2020-03-31\", \"COUNT\": 3, \"color\": \"blue\"}, {\"ID\": 67, \"Gemeente\": \"VORSELAAR\", \"Bevolking\": 7932, \"niscode\": 13044, \"DATE\": \"2020-03-31\", \"COUNT\": 0, \"color\": \"yellow\"}, {\"ID\": 68, \"Gemeente\": \"VOSSELAAR\", \"Bevolking\": 11344, \"niscode\": 13046, \"DATE\": \"2020-03-31\", \"COUNT\": 1, \"color\": \"green\"}, {\"ID\": 69, \"Gemeente\": \"WESTERLO\", \"Bevolking\": 25100, \"niscode\": 13049, \"DATE\": \"2020-03-31\", \"COUNT\": 0, \"color\": \"red\"}, {\"ID\": 70, \"Gemeente\": \"LAAKDAL\", \"Bevolking\": 16145, \"niscode\": 13053, \"DATE\": \"2020-03-31\", \"COUNT\": 2, \"color\": \"yellow\"}, {\"ID\": 71, \"Gemeente\": \"ANDERLECHT\", \"Bevolking\": 120009, \"niscode\": 21001, \"DATE\": \"2020-03-31\", \"COUNT\": 14, \"color\": \"yellow\"}, {\"ID\": 72, \"Gemeente\": \"OUDERGEM\", \"Bevolking\": 34342, \"niscode\": 21002, \"DATE\": \"2020-03-31\", \"COUNT\": 4, \"color\": \"blue\"}, {\"ID\": 73, \"Gemeente\": \"SINT-AGATHA-BERCHEM\", \"Bevolking\": 25553, \"niscode\": 21003, \"DATE\": \"2020-03-31\", \"COUNT\": 3, \"color\": \"red\"}, {\"ID\": 74, \"Gemeente\": \"BRUSSEL\", \"Bevolking\": 183287, \"niscode\": 21004, \"DATE\": \"2020-03-31\", \"COUNT\": 11, \"color\": \"blue\"}, {\"ID\": 75, \"Gemeente\": \"ETTERBEEK\", \"Bevolking\": 48194, \"niscode\": 21005, \"DATE\": \"2020-03-31\", \"COUNT\": 9, \"color\": \"yellow\"}, {\"ID\": 76, \"Gemeente\": \"EVERE\", \"Bevolking\": 42444, \"niscode\": 21006, \"DATE\": \"2020-03-31\", \"COUNT\": 8, \"color\": \"red\"}, {\"ID\": 77, \"Gemeente\": \"VORST\", \"Bevolking\": 56441, \"niscode\": 21007, \"DATE\": \"2020-03-31\", \"COUNT\": 11, \"color\": \"green\"}, {\"ID\": 78, \"Gemeente\": \"GANSHOREN\", \"Bevolking\": 25222, \"niscode\": 21008, \"DATE\": \"2020-03-31\", \"COUNT\": 4, \"color\": \"yellow\"}, {\"ID\": 79, \"Gemeente\": \"ELSENE\", \"Bevolking\": 87385, \"niscode\": 21009, \"DATE\": \"2020-03-31\", \"COUNT\": 12, \"color\": \"yellow\"}, {\"ID\": 80, \"Gemeente\": \"JETTE\", \"Bevolking\": 52459, \"niscode\": 21010, \"DATE\": \"2020-03-31\", \"COUNT\": 5, \"color\": \"green\"}, {\"ID\": 81, \"Gemeente\": \"KOEKELBERG\", \"Bevolking\": 21886, \"niscode\": 21011, \"DATE\": \"2020-03-31\", \"COUNT\": 3, \"color\": \"blue\"}, {\"ID\": 82, \"Gemeente\": \"SINT-JANS-MOLENBEEK\", \"Bevolking\": 97365, \"niscode\": 21012, \"DATE\": \"2020-03-31\", \"COUNT\": 9, \"color\": \"blue\"}, {\"ID\": 83, \"Gemeente\": \"SINT-GILLIS\", \"Bevolking\": 49094, \"niscode\": 21013, \"DATE\": \"2020-03-31\", \"COUNT\": 5, \"color\": \"red\"}, {\"ID\": 84, \"Gemeente\": \"SINT-JOOST-TEN-NODE\", \"Bevolking\": 27199, \"niscode\": 21014, \"DATE\": \"2020-03-31\", \"COUNT\": 4, \"color\": \"blue\"}, {\"ID\": 85, \"Gemeente\": \"SCHAARBEEK\", \"Bevolking\": 131548, \"niscode\": 21015, \"DATE\": \"2020-03-31\", \"COUNT\": 8, \"color\": \"yellow\"}, {\"ID\": 86, \"Gemeente\": \"UKKEL\", \"Bevolking\": 83631, \"niscode\": 21016, \"DATE\": \"2020-03-31\", \"COUNT\": 8, \"color\": \"red\"}, {\"ID\": 87, \"Gemeente\": \"WATERMAAL-BOSVOORDE\", \"Bevolking\": 25318, \"niscode\": 21017, \"DATE\": \"2020-03-31\", \"COUNT\": 2, \"color\": \"green\"}, {\"ID\": 88, \"Gemeente\": \"SINT-LAMBRECHTS-WOLUWE\", \"Bevolking\": 57583, \"niscode\": 21018, \"DATE\": \"2020-03-31\", \"COUNT\": 4, \"color\": \"green\"}, {\"ID\": 89, \"Gemeente\": \"SINT-PIETERS-WOLUWE\", \"Bevolking\": 42066, \"niscode\": 21019, \"DATE\": \"2020-03-31\", \"COUNT\": 4, \"color\": \"blue\"}, {\"ID\": 90, \"Gemeente\": \"ASSE\", \"Bevolking\": 33450, \"niscode\": 23002, \"DATE\": \"2020-03-31\", \"COUNT\": 2, \"color\": \"blue\"}, {\"ID\": 91, \"Gemeente\": \"BEERSEL\", \"Bevolking\": 25323, \"niscode\": 23003, \"DATE\": \"2020-03-31\", \"COUNT\": 2, \"color\": \"yellow\"}, {\"ID\": 92, \"Gemeente\": \"BEVER\", \"Bevolking\": 2177, \"niscode\": 23009, \"DATE\": \"2020-03-31\", \"COUNT\": 0, \"color\": \"green\"}, {\"ID\": 93, \"Gemeente\": \"DILBEEK\", \"Bevolking\": 43460, \"niscode\": 23016, \"DATE\": \"2020-03-31\", \"COUNT\": 1, \"color\": \"yellow\"}, {\"ID\": 94, \"Gemeente\": \"GALMAARDEN\", \"Bevolking\": 8840, \"niscode\": 23023, \"DATE\": \"2020-03-31\", \"COUNT\": 0, \"color\": \"red\"}, {\"ID\": 95, \"Gemeente\": \"GOOIK\", \"Bevolking\": 9176, \"niscode\": 23024, \"DATE\": \"2020-03-31\", \"COUNT\": 0, \"color\": \"green\"}, {\"ID\": 96, \"Gemeente\": \"GRIMBERGEN\", \"Bevolking\": 37915, \"niscode\": 23025, \"DATE\": \"2020-03-31\", \"COUNT\": 1, \"color\": \"red\"}, {\"ID\": 97, \"Gemeente\": \"HALLE\", \"Bevolking\": 40178, \"niscode\": 23027, \"DATE\": \"2020-03-31\", \"COUNT\": 2, \"color\": \"green\"}, {\"ID\": 98, \"Gemeente\": \"HERNE\", \"Bevolking\": 6698, \"niscode\": 23032, \"DATE\": \"2020-03-31\", \"COUNT\": 0, \"color\": \"green\"}, {\"ID\": 99, \"Gemeente\": \"HOEILAART\", \"Bevolking\": 11407, \"niscode\": 23033, \"DATE\": \"2020-03-31\", \"COUNT\": 0, \"color\": \"blue\"}, {\"ID\": 100, \"Gemeente\": \"KAMPENHOUT\", \"Bevolking\": 12129, \"niscode\": 23038, \"DATE\": \"2020-03-31\", \"COUNT\": 2, \"color\": \"green\"}, {\"ID\": 101, \"Gemeente\": \"KAPELLE-OP-DEN-BOS\", \"Bevolking\": 9479, \"niscode\": 23039, \"DATE\": \"2020-03-31\", \"COUNT\": 1, \"color\": \"green\"}, {\"ID\": 102, \"Gemeente\": \"LIEDEKERKE\", \"Bevolking\": 13387, \"niscode\": 23044, \"DATE\": \"2020-03-31\", \"COUNT\": 0, \"color\": \"blue\"}, {\"ID\": 103, \"Gemeente\": \"LONDERZEEL\", \"Bevolking\": 18872, \"niscode\": 23045, \"DATE\": \"2020-03-31\", \"COUNT\": 1, \"color\": \"green\"}, {\"ID\": 104, \"Gemeente\": \"MACHELEN\", \"Bevolking\": 15582, \"niscode\": 23047, \"DATE\": \"2020-03-31\", \"COUNT\": 1, \"color\": \"green\"}, {\"ID\": 105, \"Gemeente\": \"MEISE\", \"Bevolking\": 19629, \"niscode\": 23050, \"DATE\": \"2020-03-31\", \"COUNT\": 0, \"color\": \"green\"}, {\"ID\": 106, \"Gemeente\": \"MERCHTEM\", \"Bevolking\": 16757, \"niscode\": 23052, \"DATE\": \"2020-03-31\", \"COUNT\": 1, \"color\": \"blue\"}, {\"ID\": 107, \"Gemeente\": \"OPWIJK\", \"Bevolking\": 14741, \"niscode\": 23060, \"DATE\": \"2020-03-31\", \"COUNT\": 1, \"color\": \"red\"}, {\"ID\": 108, \"Gemeente\": \"OVERIJSE\", \"Bevolking\": 25492, \"niscode\": 23062, \"DATE\": \"2020-03-31\", \"COUNT\": 3, \"color\": \"yellow\"}, {\"ID\": 109, \"Gemeente\": \"PEPINGEN\", \"Bevolking\": 4538, \"niscode\": 23064, \"DATE\": \"2020-03-31\", \"COUNT\": 0, \"color\": \"green\"}, {\"ID\": 110, \"Gemeente\": \"SINT-PIETERS-LEEUW\", \"Bevolking\": 34617, \"niscode\": 23077, \"DATE\": \"2020-03-31\", \"COUNT\": 2, \"color\": \"blue\"}, {\"ID\": 111, \"Gemeente\": \"STEENOKKERZEEL\", \"Bevolking\": 12271, \"niscode\": 23081, \"DATE\": \"2020-03-31\", \"COUNT\": 2, \"color\": \"blue\"}, {\"ID\": 112, \"Gemeente\": \"TERNAT\", \"Bevolking\": 15994, \"niscode\": 23086, \"DATE\": \"2020-03-31\", \"COUNT\": 2, \"color\": \"blue\"}, {\"ID\": 113, \"Gemeente\": \"VILVOORDE\", \"Bevolking\": 45478, \"niscode\": 23088, \"DATE\": \"2020-03-31\", \"COUNT\": 3, \"color\": \"blue\"}, {\"ID\": 114, \"Gemeente\": \"ZAVENTEM\", \"Bevolking\": 34716, \"niscode\": 23094, \"DATE\": \"2020-03-31\", \"COUNT\": 4, \"color\": \"red\"}, {\"ID\": 115, \"Gemeente\": \"ZEMST\", \"Bevolking\": 23264, \"niscode\": 23096, \"DATE\": \"2020-03-31\", \"COUNT\": 4, \"color\": \"blue\"}, {\"ID\": 116, \"Gemeente\": \"ROOSDAAL\", \"Bevolking\": 11662, \"niscode\": 23097, \"DATE\": \"2020-03-31\", \"COUNT\": 3, \"color\": \"green\"}, {\"ID\": 117, \"Gemeente\": \"DROGENBOS\", \"Bevolking\": 5664, \"niscode\": 23098, \"DATE\": \"2020-03-31\", \"COUNT\": 1, \"color\": \"green\"}, {\"ID\": 118, \"Gemeente\": \"KRAAINEM\", \"Bevolking\": 13807, \"niscode\": 23099, \"DATE\": \"2020-03-31\", \"COUNT\": 3, \"color\": \"red\"}, {\"ID\": 119, \"Gemeente\": \"LINKEBEEK\", \"Bevolking\": 4697, \"niscode\": 23100, \"DATE\": \"2020-03-31\", \"COUNT\": 0, \"color\": \"blue\"}, {\"ID\": 120, \"Gemeente\": \"SINT-GENESIUS-RODE\", \"Bevolking\": 18523, \"niscode\": 23101, \"DATE\": \"2020-03-31\", \"COUNT\": 1, \"color\": \"blue\"}, {\"ID\": 121, \"Gemeente\": \"WEMMEL\", \"Bevolking\": 16789, \"niscode\": 23102, \"DATE\": \"2020-03-31\", \"COUNT\": 0, \"color\": \"green\"}, {\"ID\": 122, \"Gemeente\": \"WEZEMBEEK-OPPEM\", \"Bevolking\": 14250, \"niscode\": 23103, \"DATE\": \"2020-03-31\", \"COUNT\": 1, \"color\": \"yellow\"}, {\"ID\": 123, \"Gemeente\": \"LENNIK\", \"Bevolking\": 9102, \"niscode\": 23104, \"DATE\": \"2020-03-31\", \"COUNT\": 0, \"color\": \"yellow\"}, {\"ID\": 124, \"Gemeente\": \"AFFLIGEM\", \"Bevolking\": 13351, \"niscode\": 23105, \"DATE\": \"2020-03-31\", \"COUNT\": 1, \"color\": \"red\"}, {\"ID\": 125, \"Gemeente\": \"AARSCHOT\", \"Bevolking\": 30175, \"niscode\": 24001, \"DATE\": \"2020-03-31\", \"COUNT\": 5, \"color\": \"green\"}, {\"ID\": 126, \"Gemeente\": \"BEGIJNENDIJK\", \"Bevolking\": 10244, \"niscode\": 24007, \"DATE\": \"2020-03-31\", \"COUNT\": 0, \"color\": \"yellow\"}, {\"ID\": 127, \"Gemeente\": \"BEKKEVOORT\", \"Bevolking\": 6327, \"niscode\": 24008, \"DATE\": \"2020-03-31\", \"COUNT\": 0, \"color\": \"blue\"}, {\"ID\": 128, \"Gemeente\": \"BERTEM\", \"Bevolking\": 10135, \"niscode\": 24009, \"DATE\": \"2020-03-31\", \"COUNT\": 1, \"color\": \"red\"}, {\"ID\": 129, \"Gemeente\": \"BIERBEEK\", \"Bevolking\": 10153, \"niscode\": 24011, \"DATE\": \"2020-03-31\", \"COUNT\": 0, \"color\": \"green\"}, {\"ID\": 130, \"Gemeente\": \"BOORTMEERBEEK\", \"Bevolking\": 12621, \"niscode\": 24014, \"DATE\": \"2020-03-31\", \"COUNT\": 0, \"color\": \"blue\"}, {\"ID\": 131, \"Gemeente\": \"BOUTERSEM\", \"Bevolking\": 8234, \"niscode\": 24016, \"DATE\": \"2020-03-31\", \"COUNT\": 0, \"color\": \"green\"}, {\"ID\": 132, \"Gemeente\": \"DIEST\", \"Bevolking\": 24201, \"niscode\": 24020, \"DATE\": \"2020-03-31\", \"COUNT\": 7, \"color\": \"red\"}, {\"ID\": 133, \"Gemeente\": \"GEETBETS\", \"Bevolking\": 6130, \"niscode\": 24028, \"DATE\": \"2020-03-31\", \"COUNT\": 0, \"color\": \"red\"}, {\"ID\": 134, \"Gemeente\": \"HAACHT\", \"Bevolking\": 14834, \"niscode\": 24033, \"DATE\": \"2020-03-31\", \"COUNT\": 2, \"color\": \"red\"}, {\"ID\": 135, \"Gemeente\": \"HERENT\", \"Bevolking\": 21912, \"niscode\": 24038, \"DATE\": \"2020-03-31\", \"COUNT\": 1, \"color\": \"red\"}, {\"ID\": 136, \"Gemeente\": \"HOEGAARDEN\", \"Bevolking\": 6855, \"niscode\": 24041, \"DATE\": \"2020-03-31\", \"COUNT\": 0, \"color\": \"yellow\"}, {\"ID\": 137, \"Gemeente\": \"HOLSBEEK\", \"Bevolking\": 10061, \"niscode\": 24043, \"DATE\": \"2020-03-31\", \"COUNT\": 2, \"color\": \"red\"}, {\"ID\": 138, \"Gemeente\": \"HULDENBERG\", \"Bevolking\": 9941, \"niscode\": 24045, \"DATE\": \"2020-03-31\", \"COUNT\": 1, \"color\": \"green\"}, {\"ID\": 139, \"Gemeente\": \"KEERBERGEN\", \"Bevolking\": 12963, \"niscode\": 24048, \"DATE\": \"2020-03-31\", \"COUNT\": 1, \"color\": \"red\"}, {\"ID\": 140, \"Gemeente\": \"KORTENAKEN\", \"Bevolking\": 7891, \"niscode\": 24054, \"DATE\": \"2020-03-31\", \"COUNT\": 1, \"color\": \"blue\"}, {\"ID\": 141, \"Gemeente\": \"KORTENBERG\", \"Bevolking\": 20293, \"niscode\": 24055, \"DATE\": \"2020-03-31\", \"COUNT\": 0, \"color\": \"red\"}, {\"ID\": 142, \"Gemeente\": \"LANDEN\", \"Bevolking\": 16080, \"niscode\": 24059, \"DATE\": \"2020-03-31\", \"COUNT\": 4, \"color\": \"red\"}, {\"ID\": 143, \"Gemeente\": \"LEUVEN\", \"Bevolking\": 102126, \"niscode\": 24062, \"DATE\": \"2020-03-31\", \"COUNT\": 9, \"color\": \"blue\"}, {\"ID\": 144, \"Gemeente\": \"LUBBEEK\", \"Bevolking\": 14561, \"niscode\": 24066, \"DATE\": \"2020-03-31\", \"COUNT\": 3, \"color\": \"blue\"}, {\"ID\": 145, \"Gemeente\": \"OUD-HEVERLEE\", \"Bevolking\": 11086, \"niscode\": 24086, \"DATE\": \"2020-03-31\", \"COUNT\": 0, \"color\": \"green\"}, {\"ID\": 146, \"Gemeente\": \"ROTSELAAR\", \"Bevolking\": 16999, \"niscode\": 24094, \"DATE\": \"2020-03-31\", \"COUNT\": 1, \"color\": \"red\"}, {\"ID\": 147, \"Gemeente\": \"TERVUREN\", \"Bevolking\": 22699, \"niscode\": 24104, \"DATE\": \"2020-03-31\", \"COUNT\": 4, \"color\": \"yellow\"}, {\"ID\": 148, \"Gemeente\": \"TIENEN\", \"Bevolking\": 35287, \"niscode\": 24107, \"DATE\": \"2020-03-31\", \"COUNT\": 5, \"color\": \"yellow\"}, {\"ID\": 149, \"Gemeente\": \"TREMELO\", \"Bevolking\": 14913, \"niscode\": 24109, \"DATE\": \"2020-03-31\", \"COUNT\": 0, \"color\": \"yellow\"}, {\"ID\": 150, \"Gemeente\": \"ZOUTLEEUW\", \"Bevolking\": 8578, \"niscode\": 24130, \"DATE\": \"2020-03-31\", \"COUNT\": 1, \"color\": \"yellow\"}, {\"ID\": 151, \"Gemeente\": \"LINTER\", \"Bevolking\": 7263, \"niscode\": 24133, \"DATE\": \"2020-03-31\", \"COUNT\": 0, \"color\": \"blue\"}, {\"ID\": 152, \"Gemeente\": \"SCHERPENHEUVEL-ZICHEM\", \"Bevolking\": 23073, \"niscode\": 24134, \"DATE\": \"2020-03-31\", \"COUNT\": 4, \"color\": \"yellow\"}, {\"ID\": 153, \"Gemeente\": \"TIELT-WINGE\", \"Bevolking\": 10783, \"niscode\": 24135, \"DATE\": \"2020-03-31\", \"COUNT\": 2, \"color\": \"red\"}, {\"ID\": 154, \"Gemeente\": \"GLABBEEK\", \"Bevolking\": 5315, \"niscode\": 24137, \"DATE\": \"2020-03-31\", \"COUNT\": 0, \"color\": \"red\"}, {\"ID\": 155, \"Gemeente\": \"BEVEKOM\", \"Bevolking\": 7205, \"niscode\": 25005, \"DATE\": \"2020-03-31\", \"COUNT\": 0, \"color\": \"red\"}, {\"ID\": 156, \"Gemeente\": \"EIGENBRAKEL\", \"Bevolking\": 40168, \"niscode\": 25014, \"DATE\": \"2020-03-31\", \"COUNT\": 2, \"color\": \"green\"}, {\"ID\": 157, \"Gemeente\": \"KASTEELBRAKEL\", \"Bevolking\": 10538, \"niscode\": 25015, \"DATE\": \"2020-03-31\", \"COUNT\": 1, \"color\": \"yellow\"}, {\"ID\": 158, \"Gemeente\": \"CHAUMONT-GISTOUX\", \"Bevolking\": 11626, \"niscode\": 25018, \"DATE\": \"2020-03-31\", \"COUNT\": 1, \"color\": \"green\"}, {\"ID\": 159, \"Gemeente\": \"COURT-SAINT-ETIENNE\", \"Bevolking\": 10581, \"niscode\": 25023, \"DATE\": \"2020-03-31\", \"COUNT\": 0, \"color\": \"yellow\"}, {\"ID\": 160, \"Gemeente\": \"GENEPI\\u00cbN\", \"Bevolking\": 15536, \"niscode\": 25031, \"DATE\": \"2020-03-31\", \"COUNT\": 1, \"color\": \"blue\"}, {\"ID\": 161, \"Gemeente\": \"GRAVEN\", \"Bevolking\": 13871, \"niscode\": 25037, \"DATE\": \"2020-03-31\", \"COUNT\": 0, \"color\": \"yellow\"}, {\"ID\": 162, \"Gemeente\": \"INCOURT\", \"Bevolking\": 5511, \"niscode\": 25043, \"DATE\": \"2020-03-31\", \"COUNT\": 0, \"color\": \"yellow\"}, {\"ID\": 163, \"Gemeente\": \"ITTER\", \"Bevolking\": 6957, \"niscode\": 25044, \"DATE\": \"2020-03-31\", \"COUNT\": 0, \"color\": \"blue\"}, {\"ID\": 164, \"Gemeente\": \"GELDENAKEN\", \"Bevolking\": 14354, \"niscode\": 25048, \"DATE\": \"2020-03-31\", \"COUNT\": 1, \"color\": \"red\"}, {\"ID\": 165, \"Gemeente\": \"TERHULPEN\", \"Bevolking\": 7443, \"niscode\": 25050, \"DATE\": \"2020-03-31\", \"COUNT\": 1, \"color\": \"green\"}, {\"ID\": 166, \"Gemeente\": \"MONT-SAINT-GUIBERT\", \"Bevolking\": 7887, \"niscode\": 25068, \"DATE\": \"2020-03-31\", \"COUNT\": 0, \"color\": \"red\"}, {\"ID\": 167, \"Gemeente\": \"NIJVEL\", \"Bevolking\": 28866, \"niscode\": 25072, \"DATE\": \"2020-03-31\", \"COUNT\": 0, \"color\": \"red\"}, {\"ID\": 168, \"Gemeente\": \"PERWIJS\", \"Bevolking\": 9463, \"niscode\": 25084, \"DATE\": \"2020-03-31\", \"COUNT\": 1, \"color\": \"red\"}, {\"ID\": 169, \"Gemeente\": \"RIXENSART\", \"Bevolking\": 22651, \"niscode\": 25091, \"DATE\": \"2020-03-31\", \"COUNT\": 2, \"color\": \"red\"}, {\"ID\": 170, \"Gemeente\": \"TUBEKE\", \"Bevolking\": 26656, \"niscode\": 25105, \"DATE\": \"2020-03-31\", \"COUNT\": 4, \"color\": \"yellow\"}, {\"ID\": 171, \"Gemeente\": \"VILLERS-LA-VILLE\", \"Bevolking\": 10795, \"niscode\": 25107, \"DATE\": \"2020-03-31\", \"COUNT\": 0, \"color\": \"green\"}, {\"ID\": 172, \"Gemeente\": \"WATERLOO\", \"Bevolking\": 30352, \"niscode\": 25110, \"DATE\": \"2020-03-31\", \"COUNT\": 2, \"color\": \"red\"}, {\"ID\": 173, \"Gemeente\": \"WAVER\", \"Bevolking\": 34757, \"niscode\": 25112, \"DATE\": \"2020-03-31\", \"COUNT\": 2, \"color\": \"green\"}, {\"ID\": 174, \"Gemeente\": \"CHASTRE\", \"Bevolking\": 7688, \"niscode\": 25117, \"DATE\": \"2020-03-31\", \"COUNT\": 1, \"color\": \"red\"}, {\"ID\": 175, \"Gemeente\": \"HELECINE\", \"Bevolking\": 3643, \"niscode\": 25118, \"DATE\": \"2020-03-31\", \"COUNT\": 0, \"color\": \"blue\"}, {\"ID\": 176, \"Gemeente\": \"LASNE\", \"Bevolking\": 14248, \"niscode\": 25119, \"DATE\": \"2020-03-31\", \"COUNT\": 1, \"color\": \"yellow\"}, {\"ID\": 177, \"Gemeente\": \"ORP-JAUCHE\", \"Bevolking\": 8981, \"niscode\": 25120, \"DATE\": \"2020-03-31\", \"COUNT\": 0, \"color\": \"blue\"}, {\"ID\": 178, \"Gemeente\": \"OTTIGNIES-LOUVAIN-LA-NEUVE\", \"Bevolking\": 31330, \"niscode\": 25121, \"DATE\": \"2020-03-31\", \"COUNT\": 1, \"color\": \"blue\"}, {\"ID\": 179, \"Gemeente\": \"RAMILLIES\", \"Bevolking\": 6553, \"niscode\": 25122, \"DATE\": \"2020-03-31\", \"COUNT\": 0, \"color\": \"green\"}, {\"ID\": 180, \"Gemeente\": \"REBECQ\", \"Bevolking\": 10928, \"niscode\": 25123, \"DATE\": \"2020-03-31\", \"COUNT\": 1, \"color\": \"red\"}, {\"ID\": 181, \"Gemeente\": \"WALHAIN\", \"Bevolking\": 7364, \"niscode\": 25124, \"DATE\": \"2020-03-31\", \"COUNT\": 0, \"color\": \"yellow\"}, {\"ID\": 182, \"Gemeente\": \"BEERNEM\", \"Bevolking\": 15814, \"niscode\": 31003, \"DATE\": \"2020-03-31\", \"COUNT\": 1, \"color\": \"blue\"}, {\"ID\": 183, \"Gemeente\": \"BLANKENBERGE\", \"Bevolking\": 20444, \"niscode\": 31004, \"DATE\": \"2020-03-31\", \"COUNT\": 1, \"color\": \"green\"}, {\"ID\": 184, \"Gemeente\": \"BRUGGE\", \"Bevolking\": 118536, \"niscode\": 31005, \"DATE\": \"2020-03-31\", \"COUNT\": 13, \"color\": \"blue\"}, {\"ID\": 185, \"Gemeente\": \"DAMME\", \"Bevolking\": 11018, \"niscode\": 31006, \"DATE\": \"2020-03-31\", \"COUNT\": 1, \"color\": \"red\"}, {\"ID\": 186, \"Gemeente\": \"JABBEKE\", \"Bevolking\": 13863, \"niscode\": 31012, \"DATE\": \"2020-03-31\", \"COUNT\": 0, \"color\": \"green\"}, {\"ID\": 187, \"Gemeente\": \"OOSTKAMP\", \"Bevolking\": 23800, \"niscode\": 31022, \"DATE\": \"2020-03-31\", \"COUNT\": 2, \"color\": \"green\"}, {\"ID\": 188, \"Gemeente\": \"TORHOUT\", \"Bevolking\": 20438, \"niscode\": 31033, \"DATE\": \"2020-03-31\", \"COUNT\": 2, \"color\": \"blue\"}, {\"ID\": 189, \"Gemeente\": \"ZEDELGEM\", \"Bevolking\": 22863, \"niscode\": 31040, \"DATE\": \"2020-03-31\", \"COUNT\": 5, \"color\": \"blue\"}, {\"ID\": 190, \"Gemeente\": \"ZUIENKERKE\", \"Bevolking\": 2707, \"niscode\": 31042, \"DATE\": \"2020-03-31\", \"COUNT\": 0, \"color\": \"blue\"}, {\"ID\": 191, \"Gemeente\": \"KNOKKE-HEIST\", \"Bevolking\": 33023, \"niscode\": 31043, \"DATE\": \"2020-03-31\", \"COUNT\": 2, \"color\": \"red\"}, {\"ID\": 192, \"Gemeente\": \"DIKSMUIDE\", \"Bevolking\": 16826, \"niscode\": 32003, \"DATE\": \"2020-03-31\", \"COUNT\": 2, \"color\": \"blue\"}, {\"ID\": 193, \"Gemeente\": \"HOUTHULST\", \"Bevolking\": 10105, \"niscode\": 32006, \"DATE\": \"2020-03-31\", \"COUNT\": 0, \"color\": \"blue\"}, {\"ID\": 194, \"Gemeente\": \"KOEKELARE\", \"Bevolking\": 8756, \"niscode\": 32010, \"DATE\": \"2020-03-31\", \"COUNT\": 0, \"color\": \"red\"}, {\"ID\": 195, \"Gemeente\": \"KORTEMARK\", \"Bevolking\": 12659, \"niscode\": 32011, \"DATE\": \"2020-03-31\", \"COUNT\": 0, \"color\": \"blue\"}, {\"ID\": 196, \"Gemeente\": \"LO-RENINGE\", \"Bevolking\": 3290, \"niscode\": 32030, \"DATE\": \"2020-03-31\", \"COUNT\": 3, \"color\": \"yellow\"}, {\"ID\": 197, \"Gemeente\": \"IEPER\", \"Bevolking\": 34988, \"niscode\": 33011, \"DATE\": \"2020-03-31\", \"COUNT\": 7, \"color\": \"yellow\"}, {\"ID\": 198, \"Gemeente\": \"MESEN\", \"Bevolking\": 1040, \"niscode\": 33016, \"DATE\": \"2020-03-31\", \"COUNT\": 0, \"color\": \"red\"}, {\"ID\": 199, \"Gemeente\": \"POPERINGE\", \"Bevolking\": 19713, \"niscode\": 33021, \"DATE\": \"2020-03-31\", \"COUNT\": 7, \"color\": \"red\"}, {\"ID\": 200, \"Gemeente\": \"WERVIK\", \"Bevolking\": 18892, \"niscode\": 33029, \"DATE\": \"2020-03-31\", \"COUNT\": 3, \"color\": \"blue\"}, {\"ID\": 201, \"Gemeente\": \"ZONNEBEKE\", \"Bevolking\": 12504, \"niscode\": 33037, \"DATE\": \"2020-03-31\", \"COUNT\": 1, \"color\": \"yellow\"}, {\"ID\": 202, \"Gemeente\": \"HEUVELLAND\", \"Bevolking\": 7924, \"niscode\": 33039, \"DATE\": \"2020-03-31\", \"COUNT\": 0, \"color\": \"blue\"}, {\"ID\": 203, \"Gemeente\": \"LANGEMARK-POELKAPELLE\", \"Bevolking\": 7823, \"niscode\": 33040, \"DATE\": \"2020-03-31\", \"COUNT\": 1, \"color\": \"green\"}, {\"ID\": 204, \"Gemeente\": \"VLETEREN\", \"Bevolking\": 3653, \"niscode\": 33041, \"DATE\": \"2020-03-31\", \"COUNT\": 0, \"color\": \"yellow\"}, {\"ID\": 205, \"Gemeente\": \"ANZEGEM\", \"Bevolking\": 14773, \"niscode\": 34002, \"DATE\": \"2020-03-31\", \"COUNT\": 4, \"color\": \"red\"}, {\"ID\": 206, \"Gemeente\": \"AVELGEM\", \"Bevolking\": 10205, \"niscode\": 34003, \"DATE\": \"2020-03-31\", \"COUNT\": 1, \"color\": \"green\"}, {\"ID\": 207, \"Gemeente\": \"DEERLIJK\", \"Bevolking\": 12080, \"niscode\": 34009, \"DATE\": \"2020-03-31\", \"COUNT\": 9, \"color\": \"yellow\"}, {\"ID\": 208, \"Gemeente\": \"HARELBEKE\", \"Bevolking\": 28474, \"niscode\": 34013, \"DATE\": \"2020-03-31\", \"COUNT\": 3, \"color\": \"green\"}, {\"ID\": 209, \"Gemeente\": \"KORTRIJK\", \"Bevolking\": 77076, \"niscode\": 34022, \"DATE\": \"2020-03-31\", \"COUNT\": 9, \"color\": \"red\"}, {\"ID\": 210, \"Gemeente\": \"KUURNE\", \"Bevolking\": 13674, \"niscode\": 34023, \"DATE\": \"2020-03-31\", \"COUNT\": 4, \"color\": \"red\"}, {\"ID\": 211, \"Gemeente\": \"LENDELEDE\", \"Bevolking\": 5783, \"niscode\": 34025, \"DATE\": \"2020-03-31\", \"COUNT\": 0, \"color\": \"red\"}, {\"ID\": 212, \"Gemeente\": \"MENEN\", \"Bevolking\": 33527, \"niscode\": 34027, \"DATE\": \"2020-03-31\", \"COUNT\": 6, \"color\": \"yellow\"}, {\"ID\": 213, \"Gemeente\": \"WAREGEM\", \"Bevolking\": 38347, \"niscode\": 34040, \"DATE\": \"2020-03-31\", \"COUNT\": 2, \"color\": \"yellow\"}, {\"ID\": 214, \"Gemeente\": \"WEVELGEM\", \"Bevolking\": 31557, \"niscode\": 34041, \"DATE\": \"2020-03-31\", \"COUNT\": 4, \"color\": \"blue\"}, {\"ID\": 215, \"Gemeente\": \"ZWEVEGEM\", \"Bevolking\": 24808, \"niscode\": 34042, \"DATE\": \"2020-03-31\", \"COUNT\": 2, \"color\": \"yellow\"}, {\"ID\": 216, \"Gemeente\": \"SPIERE-HELKIJN\", \"Bevolking\": 2066, \"niscode\": 34043, \"DATE\": \"2020-03-31\", \"COUNT\": 0, \"color\": \"blue\"}, {\"ID\": 217, \"Gemeente\": \"BREDENE\", \"Bevolking\": 18129, \"niscode\": 35002, \"DATE\": \"2020-03-31\", \"COUNT\": 1, \"color\": \"yellow\"}, {\"ID\": 218, \"Gemeente\": \"GISTEL\", \"Bevolking\": 12172, \"niscode\": 35005, \"DATE\": \"2020-03-31\", \"COUNT\": 3, \"color\": \"green\"}, {\"ID\": 219, \"Gemeente\": \"ICHTEGEM\", \"Bevolking\": 14037, \"niscode\": 35006, \"DATE\": \"2020-03-31\", \"COUNT\": 4, \"color\": \"green\"}, {\"ID\": 220, \"Gemeente\": \"MIDDELKERKE\", \"Bevolking\": 19568, \"niscode\": 35011, \"DATE\": \"2020-03-31\", \"COUNT\": 1, \"color\": \"red\"}, {\"ID\": 221, \"Gemeente\": \"OOSTENDE\", \"Bevolking\": 71561, \"niscode\": 35013, \"DATE\": \"2020-03-31\", \"COUNT\": 4, \"color\": \"yellow\"}, {\"ID\": 222, \"Gemeente\": \"OUDENBURG\", \"Bevolking\": 9487, \"niscode\": 35014, \"DATE\": \"2020-03-31\", \"COUNT\": 2, \"color\": \"yellow\"}, {\"ID\": 223, \"Gemeente\": \"DE HAAN\", \"Bevolking\": 12703, \"niscode\": 35029, \"DATE\": \"2020-03-31\", \"COUNT\": 1, \"color\": \"green\"}, {\"ID\": 224, \"Gemeente\": \"HOOGLEDE\", \"Bevolking\": 9977, \"niscode\": 36006, \"DATE\": \"2020-03-31\", \"COUNT\": 2, \"color\": \"blue\"}, {\"ID\": 225, \"Gemeente\": \"INGELMUNSTER\", \"Bevolking\": 11122, \"niscode\": 36007, \"DATE\": \"2020-03-31\", \"COUNT\": 0, \"color\": \"yellow\"}, {\"ID\": 226, \"Gemeente\": \"IZEGEM\", \"Bevolking\": 28311, \"niscode\": 36008, \"DATE\": \"2020-03-31\", \"COUNT\": 3, \"color\": \"red\"}, {\"ID\": 227, \"Gemeente\": \"LEDEGEM\", \"Bevolking\": 9681, \"niscode\": 36010, \"DATE\": \"2020-03-31\", \"COUNT\": 1, \"color\": \"green\"}, {\"ID\": 228, \"Gemeente\": \"LICHTERVELDE\", \"Bevolking\": 8954, \"niscode\": 36011, \"DATE\": \"2020-03-31\", \"COUNT\": 0, \"color\": \"green\"}, {\"ID\": 229, \"Gemeente\": \"MOORSLEDE\", \"Bevolking\": 11429, \"niscode\": 36012, \"DATE\": \"2020-03-31\", \"COUNT\": 2, \"color\": \"green\"}, {\"ID\": 230, \"Gemeente\": \"ROESELARE\", \"Bevolking\": 63402, \"niscode\": 36015, \"DATE\": \"2020-03-31\", \"COUNT\": 11, \"color\": \"yellow\"}, {\"ID\": 231, \"Gemeente\": \"STADEN\", \"Bevolking\": 11515, \"niscode\": 36019, \"DATE\": \"2020-03-31\", \"COUNT\": 0, \"color\": \"blue\"}, {\"ID\": 232, \"Gemeente\": \"DENTERGEM\", \"Bevolking\": 8615, \"niscode\": 37002, \"DATE\": \"2020-03-31\", \"COUNT\": 1, \"color\": \"blue\"}, {\"ID\": 233, \"Gemeente\": \"MEULEBEKE\", \"Bevolking\": 10815, \"niscode\": 37007, \"DATE\": \"2020-03-31\", \"COUNT\": 0, \"color\": \"blue\"}, {\"ID\": 234, \"Gemeente\": \"OOSTROZEBEKE\", \"Bevolking\": 7913, \"niscode\": 37010, \"DATE\": \"2020-03-31\", \"COUNT\": 1, \"color\": \"green\"}, {\"ID\": 235, \"Gemeente\": \"PITTEM\", \"Bevolking\": 6713, \"niscode\": 37011, \"DATE\": \"2020-03-31\", \"COUNT\": 1, \"color\": \"yellow\"}, {\"ID\": 236, \"Gemeente\": \"RUISELEDE\", \"Bevolking\": 5360, \"niscode\": 37012, \"DATE\": \"2020-03-31\", \"COUNT\": 1, \"color\": \"blue\"}, {\"ID\": 237, \"Gemeente\": \"TIELT\", \"Bevolking\": 20600, \"niscode\": 37015, \"DATE\": \"2020-03-31\", \"COUNT\": 2, \"color\": \"blue\"}, {\"ID\": 238, \"Gemeente\": \"WIELSBEKE\", \"Bevolking\": 9820, \"niscode\": 37017, \"DATE\": \"2020-03-31\", \"COUNT\": 2, \"color\": \"blue\"}, {\"ID\": 239, \"Gemeente\": \"WINGENE\", \"Bevolking\": 14410, \"niscode\": 37018, \"DATE\": \"2020-03-31\", \"COUNT\": 3, \"color\": \"green\"}, {\"ID\": 240, \"Gemeente\": \"ARDOOIE\", \"Bevolking\": 9083, \"niscode\": 37020, \"DATE\": \"2020-03-31\", \"COUNT\": 0, \"color\": \"green\"}, {\"ID\": 241, \"Gemeente\": \"ALVERINGEM\", \"Bevolking\": 4992, \"niscode\": 38002, \"DATE\": \"2020-03-31\", \"COUNT\": 1, \"color\": \"blue\"}, {\"ID\": 242, \"Gemeente\": \"DE PANNE\", \"Bevolking\": 11123, \"niscode\": 38008, \"DATE\": \"2020-03-31\", \"COUNT\": 1, \"color\": \"red\"}, {\"ID\": 243, \"Gemeente\": \"KOKSIJDE\", \"Bevolking\": 21869, \"niscode\": 38014, \"DATE\": \"2020-03-31\", \"COUNT\": 2, \"color\": \"blue\"}, {\"ID\": 244, \"Gemeente\": \"NIEUWPOORT\", \"Bevolking\": 11623, \"niscode\": 38016, \"DATE\": \"2020-03-31\", \"COUNT\": 2, \"color\": \"green\"}, {\"ID\": 245, \"Gemeente\": \"VEURNE\", \"Bevolking\": 12096, \"niscode\": 38025, \"DATE\": \"2020-03-31\", \"COUNT\": 0, \"color\": \"green\"}, {\"ID\": 246, \"Gemeente\": \"AALST\", \"Bevolking\": 87204, \"niscode\": 41002, \"DATE\": \"2020-03-31\", \"COUNT\": 1, \"color\": \"red\"}, {\"ID\": 247, \"Gemeente\": \"DENDERLEEUW\", \"Bevolking\": 20532, \"niscode\": 41011, \"DATE\": \"2020-03-31\", \"COUNT\": 0, \"color\": \"green\"}, {\"ID\": 248, \"Gemeente\": \"GERAARDSBERGEN\", \"Bevolking\": 33563, \"niscode\": 41018, \"DATE\": \"2020-03-31\", \"COUNT\": 0, \"color\": \"red\"}, {\"ID\": 249, \"Gemeente\": \"HAALTERT\", \"Bevolking\": 18570, \"niscode\": 41024, \"DATE\": \"2020-03-31\", \"COUNT\": 1, \"color\": \"yellow\"}, {\"ID\": 250, \"Gemeente\": \"HERZELE\", \"Bevolking\": 18175, \"niscode\": 41027, \"DATE\": \"2020-03-31\", \"COUNT\": 0, \"color\": \"green\"}, {\"ID\": 251, \"Gemeente\": \"LEDE\", \"Bevolking\": 18864, \"niscode\": 41034, \"DATE\": \"2020-03-31\", \"COUNT\": 0, \"color\": \"yellow\"}, {\"ID\": 252, \"Gemeente\": \"NINOVE\", \"Bevolking\": 39255, \"niscode\": 41048, \"DATE\": \"2020-03-31\", \"COUNT\": 1, \"color\": \"red\"}, {\"ID\": 253, \"Gemeente\": \"SINT-LIEVENS-HOUTEM\", \"Bevolking\": 10397, \"niscode\": 41063, \"DATE\": \"2020-03-31\", \"COUNT\": 0, \"color\": \"yellow\"}, {\"ID\": 254, \"Gemeente\": \"ZOTTEGEM\", \"Bevolking\": 26685, \"niscode\": 41081, \"DATE\": \"2020-03-31\", \"COUNT\": 1, \"color\": \"green\"}, {\"ID\": 255, \"Gemeente\": \"ERPE-MERE\", \"Bevolking\": 20127, \"niscode\": 41082, \"DATE\": \"2020-03-31\", \"COUNT\": 0, \"color\": \"yellow\"}, {\"ID\": 256, \"Gemeente\": \"BERLARE\", \"Bevolking\": 15090, \"niscode\": 42003, \"DATE\": \"2020-03-31\", \"COUNT\": 0, \"color\": \"yellow\"}, {\"ID\": 257, \"Gemeente\": \"BUGGENHOUT\", \"Bevolking\": 14652, \"niscode\": 42004, \"DATE\": \"2020-03-31\", \"COUNT\": 1, \"color\": \"yellow\"}, {\"ID\": 258, \"Gemeente\": \"DENDERMONDE\", \"Bevolking\": 45849, \"niscode\": 42006, \"DATE\": \"2020-03-31\", \"COUNT\": 5, \"color\": \"red\"}, {\"ID\": 259, \"Gemeente\": \"HAMME\", \"Bevolking\": 24930, \"niscode\": 42008, \"DATE\": \"2020-03-31\", \"COUNT\": 1, \"color\": \"yellow\"}, {\"ID\": 260, \"Gemeente\": \"LAARNE\", \"Bevolking\": 12367, \"niscode\": 42010, \"DATE\": \"2020-03-31\", \"COUNT\": 2, \"color\": \"red\"}, {\"ID\": 261, \"Gemeente\": \"LEBBEKE\", \"Bevolking\": 19531, \"niscode\": 42011, \"DATE\": \"2020-03-31\", \"COUNT\": 0, \"color\": \"blue\"}, {\"ID\": 262, \"Gemeente\": \"WAASMUNSTER\", \"Bevolking\": 10929, \"niscode\": 42023, \"DATE\": \"2020-03-31\", \"COUNT\": 2, \"color\": \"blue\"}, {\"ID\": 263, \"Gemeente\": \"WETTEREN\", \"Bevolking\": 25936, \"niscode\": 42025, \"DATE\": \"2020-03-31\", \"COUNT\": 2, \"color\": \"green\"}, {\"ID\": 264, \"Gemeente\": \"WICHELEN\", \"Bevolking\": 11643, \"niscode\": 42026, \"DATE\": \"2020-03-31\", \"COUNT\": 6, \"color\": \"green\"}, {\"ID\": 265, \"Gemeente\": \"ZELE\", \"Bevolking\": 21322, \"niscode\": 42028, \"DATE\": \"2020-03-31\", \"COUNT\": 0, \"color\": \"yellow\"}, {\"ID\": 266, \"Gemeente\": \"ASSENEDE\", \"Bevolking\": 14289, \"niscode\": 43002, \"DATE\": \"2020-03-31\", \"COUNT\": 0, \"color\": \"blue\"}, {\"ID\": 267, \"Gemeente\": \"EEKLO\", \"Bevolking\": 21276, \"niscode\": 43005, \"DATE\": \"2020-03-31\", \"COUNT\": 0, \"color\": \"yellow\"}, {\"ID\": 268, \"Gemeente\": \"KAPRIJKE\", \"Bevolking\": 6436, \"niscode\": 43007, \"DATE\": \"2020-03-31\", \"COUNT\": 0, \"color\": \"blue\"}, {\"ID\": 269, \"Gemeente\": \"MALDEGEM\", \"Bevolking\": 23957, \"niscode\": 43010, \"DATE\": \"2020-03-31\", \"COUNT\": 0, \"color\": \"green\"}, {\"ID\": 270, \"Gemeente\": \"SINT-LAUREINS\", \"Bevolking\": 6814, \"niscode\": 43014, \"DATE\": \"2020-03-31\", \"COUNT\": 0, \"color\": \"yellow\"}, {\"ID\": 271, \"Gemeente\": \"ZELZATE\", \"Bevolking\": 12889, \"niscode\": 43018, \"DATE\": \"2020-03-31\", \"COUNT\": 0, \"color\": \"red\"}, {\"ID\": 272, \"Gemeente\": \"AALTER\", \"Bevolking\": 20548, \"niscode\": 44001, \"DATE\": \"2020-03-31\", \"COUNT\": 1, \"color\": \"green\"}, {\"ID\": 273, \"Gemeente\": \"DEINZE\", \"Bevolking\": 31085, \"niscode\": 44011, \"DATE\": \"2020-03-31\", \"COUNT\": 1, \"color\": \"blue\"}, {\"ID\": 274, \"Gemeente\": \"DE PINTE\", \"Bevolking\": 10878, \"niscode\": 44012, \"DATE\": \"2020-03-31\", \"COUNT\": 0, \"color\": \"blue\"}, {\"ID\": 275, \"Gemeente\": \"DESTELBERGEN\", \"Bevolking\": 18525, \"niscode\": 44013, \"DATE\": \"2020-03-31\", \"COUNT\": 2, \"color\": \"green\"}, {\"ID\": 276, \"Gemeente\": \"EVERGEM\", \"Bevolking\": 35611, \"niscode\": 44019, \"DATE\": \"2020-03-31\", \"COUNT\": 1, \"color\": \"red\"}, {\"ID\": 277, \"Gemeente\": \"GAVERE\", \"Bevolking\": 12905, \"niscode\": 44020, \"DATE\": \"2020-03-31\", \"COUNT\": 0, \"color\": \"red\"}, {\"ID\": 278, \"Gemeente\": \"GENT\", \"Bevolking\": 263614, \"niscode\": 44021, \"DATE\": \"2020-03-31\", \"COUNT\": 18, \"color\": \"green\"}, {\"ID\": 279, \"Gemeente\": \"KNESSELARE\", \"Bevolking\": 8236, \"niscode\": 44029, \"DATE\": \"2020-03-31\", \"COUNT\": 1, \"color\": \"blue\"}, {\"ID\": 280, \"Gemeente\": \"LOCHRISTI\", \"Bevolking\": 22605, \"niscode\": 44034, \"DATE\": \"2020-03-31\", \"COUNT\": 1, \"color\": \"green\"}, {\"ID\": 281, \"Gemeente\": \"LOVENDEGEM\", \"Bevolking\": 9574, \"niscode\": 44036, \"DATE\": \"2020-03-31\", \"COUNT\": 1, \"color\": \"red\"}, {\"ID\": 282, \"Gemeente\": \"MELLE\", \"Bevolking\": 11803, \"niscode\": 44040, \"DATE\": \"2020-03-31\", \"COUNT\": 2, \"color\": \"green\"}, {\"ID\": 283, \"Gemeente\": \"MERELBEKE\", \"Bevolking\": 24755, \"niscode\": 44043, \"DATE\": \"2020-03-31\", \"COUNT\": 3, \"color\": \"green\"}, {\"ID\": 284, \"Gemeente\": \"MOERBEKE\", \"Bevolking\": 6566, \"niscode\": 44045, \"DATE\": \"2020-03-31\", \"COUNT\": 1, \"color\": \"yellow\"}, {\"ID\": 285, \"Gemeente\": \"NAZARETH\", \"Bevolking\": 11701, \"niscode\": 44048, \"DATE\": \"2020-03-31\", \"COUNT\": 0, \"color\": \"red\"}, {\"ID\": 286, \"Gemeente\": \"NEVELE\", \"Bevolking\": 12179, \"niscode\": 44049, \"DATE\": \"2020-03-31\", \"COUNT\": 0, \"color\": \"blue\"}, {\"ID\": 287, \"Gemeente\": \"OOSTERZELE\", \"Bevolking\": 13678, \"niscode\": 44052, \"DATE\": \"2020-03-31\", \"COUNT\": 1, \"color\": \"blue\"}, {\"ID\": 288, \"Gemeente\": \"SINT-MARTENS-LATEM\", \"Bevolking\": 8366, \"niscode\": 44064, \"DATE\": \"2020-03-31\", \"COUNT\": 1, \"color\": \"red\"}, {\"ID\": 289, \"Gemeente\": \"WAARSCHOOT\", \"Bevolking\": 7967, \"niscode\": 44072, \"DATE\": \"2020-03-31\", \"COUNT\": 1, \"color\": \"red\"}, {\"ID\": 290, \"Gemeente\": \"WACHTEBEKE\", \"Bevolking\": 7812, \"niscode\": 44073, \"DATE\": \"2020-03-31\", \"COUNT\": 2, \"color\": \"yellow\"}, {\"ID\": 291, \"Gemeente\": \"ZOMERGEM\", \"Bevolking\": 8466, \"niscode\": 44080, \"DATE\": \"2020-03-31\", \"COUNT\": 1, \"color\": \"blue\"}, {\"ID\": 292, \"Gemeente\": \"ZULTE\", \"Bevolking\": 15779, \"niscode\": 44081, \"DATE\": \"2020-03-31\", \"COUNT\": 2, \"color\": \"red\"}, {\"ID\": 293, \"Gemeente\": \"KRUISHOUTEM\", \"Bevolking\": 8086, \"niscode\": 45017, \"DATE\": \"2020-03-31\", \"COUNT\": 0, \"color\": \"yellow\"}, {\"ID\": 294, \"Gemeente\": \"OUDENAARDE\", \"Bevolking\": 31587, \"niscode\": 45035, \"DATE\": \"2020-03-31\", \"COUNT\": 5, \"color\": \"green\"}, {\"ID\": 295, \"Gemeente\": \"RONSE\", \"Bevolking\": 26375, \"niscode\": 45041, \"DATE\": \"2020-03-31\", \"COUNT\": 22, \"color\": \"yellow\"}, {\"ID\": 296, \"Gemeente\": \"ZINGEM\", \"Bevolking\": 7552, \"niscode\": 45057, \"DATE\": \"2020-03-31\", \"COUNT\": 0, \"color\": \"red\"}, {\"ID\": 297, \"Gemeente\": \"BRAKEL\", \"Bevolking\": 14809, \"niscode\": 45059, \"DATE\": \"2020-03-31\", \"COUNT\": 2, \"color\": \"yellow\"}, {\"ID\": 298, \"Gemeente\": \"KLUISBERGEN\", \"Bevolking\": 6566, \"niscode\": 45060, \"DATE\": \"2020-03-31\", \"COUNT\": 2, \"color\": \"blue\"}, {\"ID\": 299, \"Gemeente\": \"WORTEGEM-PETEGEM\", \"Bevolking\": 6395, \"niscode\": 45061, \"DATE\": \"2020-03-31\", \"COUNT\": 3, \"color\": \"yellow\"}, {\"ID\": 300, \"Gemeente\": \"HOREBEKE\", \"Bevolking\": 2024, \"niscode\": 45062, \"DATE\": \"2020-03-31\", \"COUNT\": 0, \"color\": \"yellow\"}, {\"ID\": 301, \"Gemeente\": \"LIERDE\", \"Bevolking\": 6573, \"niscode\": 45063, \"DATE\": \"2020-03-31\", \"COUNT\": 0, \"color\": \"green\"}, {\"ID\": 302, \"Gemeente\": \"MAARKEDAL\", \"Bevolking\": 6337, \"niscode\": 45064, \"DATE\": \"2020-03-31\", \"COUNT\": 1, \"color\": \"green\"}, {\"ID\": 303, \"Gemeente\": \"ZWALM\", \"Bevolking\": 8165, \"niscode\": 45065, \"DATE\": \"2020-03-31\", \"COUNT\": 0, \"color\": \"yellow\"}, {\"ID\": 304, \"Gemeente\": \"BEVEREN\", \"Bevolking\": 49000, \"niscode\": 46003, \"DATE\": \"2020-03-31\", \"COUNT\": 3, \"color\": \"green\"}, {\"ID\": 305, \"Gemeente\": \"KRUIBEKE\", \"Bevolking\": 16842, \"niscode\": 46013, \"DATE\": \"2020-03-31\", \"COUNT\": 1, \"color\": \"red\"}, {\"ID\": 306, \"Gemeente\": \"LOKEREN\", \"Bevolking\": 42027, \"niscode\": 46014, \"DATE\": \"2020-03-31\", \"COUNT\": 1, \"color\": \"blue\"}, {\"ID\": 307, \"Gemeente\": \"SINT-GILLIS-WAAS\", \"Bevolking\": 19481, \"niscode\": 46020, \"DATE\": \"2020-03-31\", \"COUNT\": 2, \"color\": \"blue\"}, {\"ID\": 308, \"Gemeente\": \"SINT-NIKLAAS\", \"Bevolking\": 78520, \"niscode\": 46021, \"DATE\": \"2020-03-31\", \"COUNT\": 12, \"color\": \"yellow\"}, {\"ID\": 309, \"Gemeente\": \"STEKENE\", \"Bevolking\": 18677, \"niscode\": 46024, \"DATE\": \"2020-03-31\", \"COUNT\": 0, \"color\": \"yellow\"}, {\"ID\": 310, \"Gemeente\": \"TEMSE\", \"Bevolking\": 30166, \"niscode\": 46025, \"DATE\": \"2020-03-31\", \"COUNT\": 4, \"color\": \"green\"}, {\"ID\": 311, \"Gemeente\": \"AAT\", \"Bevolking\": 29487, \"niscode\": 51004, \"DATE\": \"2020-03-31\", \"COUNT\": 2, \"color\": \"green\"}, {\"ID\": 312, \"Gemeente\": \"BELOEIL\", \"Bevolking\": 14036, \"niscode\": 51008, \"DATE\": \"2020-03-31\", \"COUNT\": 0, \"color\": \"green\"}, {\"ID\": 313, \"Gemeente\": \"BERNISSART\", \"Bevolking\": 11855, \"niscode\": 51009, \"DATE\": \"2020-03-31\", \"COUNT\": 1, \"color\": \"green\"}, {\"ID\": 314, \"Gemeente\": \"BRUGELETTE\", \"Bevolking\": 3712, \"niscode\": 51012, \"DATE\": \"2020-03-31\", \"COUNT\": 1, \"color\": \"blue\"}, {\"ID\": 315, \"Gemeente\": \"CHIEVRES\", \"Bevolking\": 6916, \"niscode\": 51014, \"DATE\": \"2020-03-31\", \"COUNT\": 0, \"color\": \"yellow\"}, {\"ID\": 316, \"Gemeente\": \"ELZELE\", \"Bevolking\": 5995, \"niscode\": 51017, \"DATE\": \"2020-03-31\", \"COUNT\": 0, \"color\": \"yellow\"}, {\"ID\": 317, \"Gemeente\": \"VLOESBERG\", \"Bevolking\": 3429, \"niscode\": 51019, \"DATE\": \"2020-03-31\", \"COUNT\": 2, \"color\": \"green\"}, {\"ID\": 318, \"Gemeente\": \"FRASNES-LEZ-ANVAING\", \"Bevolking\": 11814, \"niscode\": 51065, \"DATE\": \"2020-03-31\", \"COUNT\": 3, \"color\": \"red\"}, {\"ID\": 319, \"Gemeente\": \"CHAPELLE-LEZ-HERLAIMONT\", \"Bevolking\": 14790, \"niscode\": 52010, \"DATE\": \"2020-03-31\", \"COUNT\": 3, \"color\": \"blue\"}, {\"ID\": 320, \"Gemeente\": \"CHARLEROI\", \"Bevolking\": 202376, \"niscode\": 52011, \"DATE\": \"2020-03-31\", \"COUNT\": 3, \"color\": \"yellow\"}, {\"ID\": 321, \"Gemeente\": \"CHATELET\", \"Bevolking\": 35620, \"niscode\": 52012, \"DATE\": \"2020-03-31\", \"COUNT\": 1, \"color\": \"blue\"}, {\"ID\": 322, \"Gemeente\": \"COURCELLES\", \"Bevolking\": 31132, \"niscode\": 52015, \"DATE\": \"2020-03-31\", \"COUNT\": 0, \"color\": \"red\"}, {\"ID\": 323, \"Gemeente\": \"FARCIENNES\", \"Bevolking\": 11249, \"niscode\": 52018, \"DATE\": \"2020-03-31\", \"COUNT\": 0, \"color\": \"blue\"}, {\"ID\": 324, \"Gemeente\": \"FLEURUS\", \"Bevolking\": 23022, \"niscode\": 52021, \"DATE\": \"2020-03-31\", \"COUNT\": 0, \"color\": \"red\"}, {\"ID\": 325, \"Gemeente\": \"FONTAINE-L'EVEQUE\", \"Bevolking\": 17800, \"niscode\": 52022, \"DATE\": \"2020-03-31\", \"COUNT\": 1, \"color\": \"blue\"}, {\"ID\": 326, \"Gemeente\": \"GERPINNES\", \"Bevolking\": 12795, \"niscode\": 52025, \"DATE\": \"2020-03-31\", \"COUNT\": 1, \"color\": \"red\"}, {\"ID\": 327, \"Gemeente\": \"MANAGE\", \"Bevolking\": 23122, \"niscode\": 52043, \"DATE\": \"2020-03-31\", \"COUNT\": 5, \"color\": \"green\"}, {\"ID\": 328, \"Gemeente\": \"MONTIGNY-LE-TILLEUL\", \"Bevolking\": 10124, \"niscode\": 52048, \"DATE\": \"2020-03-31\", \"COUNT\": 1, \"color\": \"blue\"}, {\"ID\": 329, \"Gemeente\": \"PONT-A-CELLES\", \"Bevolking\": 17231, \"niscode\": 52055, \"DATE\": \"2020-03-31\", \"COUNT\": 1, \"color\": \"yellow\"}, {\"ID\": 330, \"Gemeente\": \"SENEFFE\", \"Bevolking\": 11272, \"niscode\": 52063, \"DATE\": \"2020-03-31\", \"COUNT\": 2, \"color\": \"red\"}, {\"ID\": 331, \"Gemeente\": \"AISEAU-PRESLES\", \"Bevolking\": 10736, \"niscode\": 52074, \"DATE\": \"2020-03-31\", \"COUNT\": 1, \"color\": \"green\"}, {\"ID\": 332, \"Gemeente\": \"LES BONS VILLERS\", \"Bevolking\": 9474, \"niscode\": 52075, \"DATE\": \"2020-03-31\", \"COUNT\": 2, \"color\": \"red\"}, {\"ID\": 333, \"Gemeente\": \"BOUSSU\", \"Bevolking\": 19850, \"niscode\": 53014, \"DATE\": \"2020-03-31\", \"COUNT\": 0, \"color\": \"blue\"}, {\"ID\": 334, \"Gemeente\": \"DOUR\", \"Bevolking\": 16515, \"niscode\": 53020, \"DATE\": \"2020-03-31\", \"COUNT\": 3, \"color\": \"red\"}, {\"ID\": 335, \"Gemeente\": \"FRAMERIES\", \"Bevolking\": 21966, \"niscode\": 53028, \"DATE\": \"2020-03-31\", \"COUNT\": 8, \"color\": \"red\"}, {\"ID\": 336, \"Gemeente\": \"HENSIES\", \"Bevolking\": 6859, \"niscode\": 53039, \"DATE\": \"2020-03-31\", \"COUNT\": 1, \"color\": \"red\"}, {\"ID\": 337, \"Gemeente\": \"JURBEKE\", \"Bevolking\": 10538, \"niscode\": 53044, \"DATE\": \"2020-03-31\", \"COUNT\": 0, \"color\": \"red\"}, {\"ID\": 338, \"Gemeente\": \"LENS\", \"Bevolking\": 4579, \"niscode\": 53046, \"DATE\": \"2020-03-31\", \"COUNT\": 1, \"color\": \"yellow\"}, {\"ID\": 339, \"Gemeente\": \"BERGEN\", \"Bevolking\": 95568, \"niscode\": 53053, \"DATE\": \"2020-03-31\", \"COUNT\": 17, \"color\": \"red\"}, {\"ID\": 340, \"Gemeente\": \"QUAREGNON\", \"Bevolking\": 18875, \"niscode\": 53065, \"DATE\": \"2020-03-31\", \"COUNT\": 6, \"color\": \"blue\"}, {\"ID\": 341, \"Gemeente\": \"QUIEVRAIN\", \"Bevolking\": 6730, \"niscode\": 53068, \"DATE\": \"2020-03-31\", \"COUNT\": 1, \"color\": \"yellow\"}, {\"ID\": 342, \"Gemeente\": \"SAINT-GHISLAIN\", \"Bevolking\": 23401, \"niscode\": 53070, \"DATE\": \"2020-03-31\", \"COUNT\": 7, \"color\": \"blue\"}, {\"ID\": 343, \"Gemeente\": \"COLFONTAINE\", \"Bevolking\": 20736, \"niscode\": 53082, \"DATE\": \"2020-03-31\", \"COUNT\": 2, \"color\": \"blue\"}, {\"ID\": 344, \"Gemeente\": \"HONNELLES\", \"Bevolking\": 5159, \"niscode\": 53083, \"DATE\": \"2020-03-31\", \"COUNT\": 1, \"color\": \"yellow\"}, {\"ID\": 345, \"Gemeente\": \"QUEVY\", \"Bevolking\": 8087, \"niscode\": 53084, \"DATE\": \"2020-03-31\", \"COUNT\": 3, \"color\": \"blue\"}, {\"ID\": 346, \"Gemeente\": \"MOESKROEN\", \"Bevolking\": 58234, \"niscode\": 54007, \"DATE\": \"2020-03-31\", \"COUNT\": 6, \"color\": \"blue\"}, {\"ID\": 347, \"Gemeente\": \"KOMEN-WAASTEN\", \"Bevolking\": 18063, \"niscode\": 54010, \"DATE\": \"2020-03-31\", \"COUNT\": 2, \"color\": \"yellow\"}, {\"ID\": 348, \"Gemeente\": \"'S GRAVENBRAKEL\", \"Bevolking\": 22045, \"niscode\": 55004, \"DATE\": \"2020-03-31\", \"COUNT\": 4, \"color\": \"red\"}, {\"ID\": 349, \"Gemeente\": \"EDINGEN\", \"Bevolking\": 13734, \"niscode\": 55010, \"DATE\": \"2020-03-31\", \"COUNT\": 3, \"color\": \"red\"}, {\"ID\": 350, \"Gemeente\": \"LA LOUVIERE\", \"Bevolking\": 80637, \"niscode\": 55022, \"DATE\": \"2020-03-31\", \"COUNT\": 11, \"color\": \"blue\"}, {\"ID\": 351, \"Gemeente\": \"LESSEN\", \"Bevolking\": 18552, \"niscode\": 55023, \"DATE\": \"2020-03-31\", \"COUNT\": 2, \"color\": \"red\"}, {\"ID\": 352, \"Gemeente\": \"LE ROEULX\", \"Bevolking\": 8749, \"niscode\": 55035, \"DATE\": \"2020-03-31\", \"COUNT\": 1, \"color\": \"yellow\"}, {\"ID\": 353, \"Gemeente\": \"OPZULLIK\", \"Bevolking\": 8407, \"niscode\": 55039, \"DATE\": \"2020-03-31\", \"COUNT\": 0, \"color\": \"green\"}, {\"ID\": 354, \"Gemeente\": \"ZINNIK\", \"Bevolking\": 28287, \"niscode\": 55040, \"DATE\": \"2020-03-31\", \"COUNT\": 5, \"color\": \"green\"}, {\"ID\": 355, \"Gemeente\": \"ECAUSSINNES\", \"Bevolking\": 11189, \"niscode\": 55050, \"DATE\": \"2020-03-31\", \"COUNT\": 0, \"color\": \"green\"}, {\"ID\": 356, \"Gemeente\": \"ANDERLUES\", \"Bevolking\": 12370, \"niscode\": 56001, \"DATE\": \"2020-03-31\", \"COUNT\": 2, \"color\": \"red\"}, {\"ID\": 357, \"Gemeente\": \"BEAUMONT\", \"Bevolking\": 7158, \"niscode\": 56005, \"DATE\": \"2020-03-31\", \"COUNT\": 0, \"color\": \"yellow\"}, {\"ID\": 358, \"Gemeente\": \"BINCHE\", \"Bevolking\": 33598, \"niscode\": 56011, \"DATE\": \"2020-03-31\", \"COUNT\": 2, \"color\": \"red\"}, {\"ID\": 359, \"Gemeente\": \"CHIMAY\", \"Bevolking\": 9728, \"niscode\": 56016, \"DATE\": \"2020-03-31\", \"COUNT\": 0, \"color\": \"yellow\"}, {\"ID\": 360, \"Gemeente\": \"ERQUELINNES\", \"Bevolking\": 9972, \"niscode\": 56022, \"DATE\": \"2020-03-31\", \"COUNT\": 0, \"color\": \"green\"}, {\"ID\": 361, \"Gemeente\": \"FROIDCHAPELLE\", \"Bevolking\": 3992, \"niscode\": 56029, \"DATE\": \"2020-03-31\", \"COUNT\": 0, \"color\": \"blue\"}, {\"ID\": 362, \"Gemeente\": \"LOBBES\", \"Bevolking\": 5825, \"niscode\": 56044, \"DATE\": \"2020-03-31\", \"COUNT\": 1, \"color\": \"yellow\"}, {\"ID\": 363, \"Gemeente\": \"MERBES-LE-CHATEAU\", \"Bevolking\": 4213, \"niscode\": 56049, \"DATE\": \"2020-03-31\", \"COUNT\": 0, \"color\": \"green\"}, {\"ID\": 364, \"Gemeente\": \"MOMIGNIES\", \"Bevolking\": 5340, \"niscode\": 56051, \"DATE\": \"2020-03-31\", \"COUNT\": 0, \"color\": \"yellow\"}, {\"ID\": 365, \"Gemeente\": \"THUIN\", \"Bevolking\": 14699, \"niscode\": 56078, \"DATE\": \"2020-03-31\", \"COUNT\": 0, \"color\": \"blue\"}, {\"ID\": 366, \"Gemeente\": \"ESTINNES\", \"Bevolking\": 7715, \"niscode\": 56085, \"DATE\": \"2020-03-31\", \"COUNT\": 0, \"color\": \"blue\"}, {\"ID\": 367, \"Gemeente\": \"HAM-SUR-HEURE-NALINNES\", \"Bevolking\": 13628, \"niscode\": 56086, \"DATE\": \"2020-03-31\", \"COUNT\": 0, \"color\": \"red\"}, {\"ID\": 368, \"Gemeente\": \"MORLANWELZ\", \"Bevolking\": 19019, \"niscode\": 56087, \"DATE\": \"2020-03-31\", \"COUNT\": 6, \"color\": \"green\"}, {\"ID\": 369, \"Gemeente\": \"SIVRY-RANCE\", \"Bevolking\": 4791, \"niscode\": 56088, \"DATE\": \"2020-03-31\", \"COUNT\": 0, \"color\": \"green\"}, {\"ID\": 370, \"Gemeente\": \"ANTOING\", \"Bevolking\": 7720, \"niscode\": 57003, \"DATE\": \"2020-03-31\", \"COUNT\": 3, \"color\": \"yellow\"}, {\"ID\": 371, \"Gemeente\": \"CELLES\", \"Bevolking\": 5695, \"niscode\": 57018, \"DATE\": \"2020-03-31\", \"COUNT\": 0, \"color\": \"green\"}, {\"ID\": 372, \"Gemeente\": \"ESTAIMPUIS\", \"Bevolking\": 10557, \"niscode\": 57027, \"DATE\": \"2020-03-31\", \"COUNT\": 0, \"color\": \"blue\"}, {\"ID\": 373, \"Gemeente\": \"PECQ\", \"Bevolking\": 5767, \"niscode\": 57062, \"DATE\": \"2020-03-31\", \"COUNT\": 0, \"color\": \"blue\"}, {\"ID\": 374, \"Gemeente\": \"PERUWELZ\", \"Bevolking\": 17110, \"niscode\": 57064, \"DATE\": \"2020-03-31\", \"COUNT\": 4, \"color\": \"green\"}, {\"ID\": 375, \"Gemeente\": \"RUMES\", \"Bevolking\": 5223, \"niscode\": 57072, \"DATE\": \"2020-03-31\", \"COUNT\": 0, \"color\": \"blue\"}, {\"ID\": 376, \"Gemeente\": \"DOORNIK\", \"Bevolking\": 68954, \"niscode\": 57081, \"DATE\": \"2020-03-31\", \"COUNT\": 4, \"color\": \"blue\"}, {\"ID\": 377, \"Gemeente\": \"BRUNEHAUT\", \"Bevolking\": 8093, \"niscode\": 57093, \"DATE\": \"2020-03-31\", \"COUNT\": 0, \"color\": \"red\"}, {\"ID\": 378, \"Gemeente\": \"LEUZE-EN-HAINAUT\", \"Bevolking\": 13931, \"niscode\": 57094, \"DATE\": \"2020-03-31\", \"COUNT\": 2, \"color\": \"blue\"}, {\"ID\": 379, \"Gemeente\": \"MONT-DE-L'ENCLUS\", \"Bevolking\": 3790, \"niscode\": 57095, \"DATE\": \"2020-03-31\", \"COUNT\": 0, \"color\": \"red\"}, {\"ID\": 380, \"Gemeente\": \"AMAY\", \"Bevolking\": 14418, \"niscode\": 61003, \"DATE\": \"2020-03-31\", \"COUNT\": 0, \"color\": \"red\"}, {\"ID\": 381, \"Gemeente\": \"BURDINNE\", \"Bevolking\": 3290, \"niscode\": 61010, \"DATE\": \"2020-03-31\", \"COUNT\": 0, \"color\": \"yellow\"}, {\"ID\": 382, \"Gemeente\": \"CLAVIER\", \"Bevolking\": 4645, \"niscode\": 61012, \"DATE\": \"2020-03-31\", \"COUNT\": 2, \"color\": \"red\"}, {\"ID\": 383, \"Gemeente\": \"FERRIERES\", \"Bevolking\": 4997, \"niscode\": 61019, \"DATE\": \"2020-03-31\", \"COUNT\": 0, \"color\": \"blue\"}, {\"ID\": 384, \"Gemeente\": \"HAMOIR\", \"Bevolking\": 3854, \"niscode\": 61024, \"DATE\": \"2020-03-31\", \"COUNT\": 0, \"color\": \"blue\"}, {\"ID\": 385, \"Gemeente\": \"HERON\", \"Bevolking\": 5464, \"niscode\": 61028, \"DATE\": \"2020-03-31\", \"COUNT\": 0, \"color\": \"blue\"}, {\"ID\": 386, \"Gemeente\": \"HOEI\", \"Bevolking\": 21255, \"niscode\": 61031, \"DATE\": \"2020-03-31\", \"COUNT\": 1, \"color\": \"green\"}, {\"ID\": 387, \"Gemeente\": \"MARCHIN\", \"Bevolking\": 5434, \"niscode\": 61039, \"DATE\": \"2020-03-31\", \"COUNT\": 1, \"color\": \"green\"}, {\"ID\": 388, \"Gemeente\": \"MODAVE\", \"Bevolking\": 4208, \"niscode\": 61041, \"DATE\": \"2020-03-31\", \"COUNT\": 0, \"color\": \"green\"}, {\"ID\": 389, \"Gemeente\": \"NANDRIN\", \"Bevolking\": 5758, \"niscode\": 61043, \"DATE\": \"2020-03-31\", \"COUNT\": 4, \"color\": \"blue\"}, {\"ID\": 390, \"Gemeente\": \"OUFFET\", \"Bevolking\": 2796, \"niscode\": 61048, \"DATE\": \"2020-03-31\", \"COUNT\": 0, \"color\": \"blue\"}, {\"ID\": 391, \"Gemeente\": \"VERLAINE\", \"Bevolking\": 4287, \"niscode\": 61063, \"DATE\": \"2020-03-31\", \"COUNT\": 2, \"color\": \"green\"}, {\"ID\": 392, \"Gemeente\": \"VILLERS-LE-BOUILLET\", \"Bevolking\": 6599, \"niscode\": 61068, \"DATE\": \"2020-03-31\", \"COUNT\": 0, \"color\": \"green\"}, {\"ID\": 393, \"Gemeente\": \"WANZE\", \"Bevolking\": 13708, \"niscode\": 61072, \"DATE\": \"2020-03-31\", \"COUNT\": 2, \"color\": \"green\"}, {\"ID\": 394, \"Gemeente\": \"ANTHISNES\", \"Bevolking\": 4202, \"niscode\": 61079, \"DATE\": \"2020-03-31\", \"COUNT\": 1, \"color\": \"blue\"}, {\"ID\": 395, \"Gemeente\": \"ENGIS\", \"Bevolking\": 6211, \"niscode\": 61080, \"DATE\": \"2020-03-31\", \"COUNT\": 2, \"color\": \"yellow\"}, {\"ID\": 396, \"Gemeente\": \"TINLOT\", \"Bevolking\": 2739, \"niscode\": 61081, \"DATE\": \"2020-03-31\", \"COUNT\": 0, \"color\": \"blue\"}, {\"ID\": 397, \"Gemeente\": \"ANS\", \"Bevolking\": 28621, \"niscode\": 62003, \"DATE\": \"2020-03-31\", \"COUNT\": 0, \"color\": \"green\"}, {\"ID\": 398, \"Gemeente\": \"AWANS\", \"Bevolking\": 9231, \"niscode\": 62006, \"DATE\": \"2020-03-31\", \"COUNT\": 1, \"color\": \"yellow\"}, {\"ID\": 399, \"Gemeente\": \"AYWAILLE\", \"Bevolking\": 12382, \"niscode\": 62009, \"DATE\": \"2020-03-31\", \"COUNT\": 1, \"color\": \"red\"}, {\"ID\": 400, \"Gemeente\": \"BITSINGEN\", \"Bevolking\": 8930, \"niscode\": 62011, \"DATE\": \"2020-03-31\", \"COUNT\": 0, \"color\": \"red\"}, {\"ID\": 401, \"Gemeente\": \"BEYNE-HEUSAY\", \"Bevolking\": 11891, \"niscode\": 62015, \"DATE\": \"2020-03-31\", \"COUNT\": 8, \"color\": \"red\"}, {\"ID\": 402, \"Gemeente\": \"CHAUDFONTAINE\", \"Bevolking\": 20860, \"niscode\": 62022, \"DATE\": \"2020-03-31\", \"COUNT\": 2, \"color\": \"red\"}, {\"ID\": 403, \"Gemeente\": \"COMBLAIN-AU-PONT\", \"Bevolking\": 5401, \"niscode\": 62026, \"DATE\": \"2020-03-31\", \"COUNT\": 2, \"color\": \"green\"}, {\"ID\": 404, \"Gemeente\": \"DALHEM\", \"Bevolking\": 7520, \"niscode\": 62027, \"DATE\": \"2020-03-31\", \"COUNT\": 0, \"color\": \"yellow\"}, {\"ID\": 405, \"Gemeente\": \"ESNEUX\", \"Bevolking\": 13023, \"niscode\": 62032, \"DATE\": \"2020-03-31\", \"COUNT\": 9, \"color\": \"blue\"}, {\"ID\": 406, \"Gemeente\": \"FLERON\", \"Bevolking\": 16366, \"niscode\": 62038, \"DATE\": \"2020-03-31\", \"COUNT\": 10, \"color\": \"green\"}, {\"ID\": 407, \"Gemeente\": \"HERSTAL\", \"Bevolking\": 40162, \"niscode\": 62051, \"DATE\": \"2020-03-31\", \"COUNT\": 1, \"color\": \"blue\"}, {\"ID\": 408, \"Gemeente\": \"JUPRELLE\", \"Bevolking\": 9441, \"niscode\": 62060, \"DATE\": \"2020-03-31\", \"COUNT\": 2, \"color\": \"yellow\"}, {\"ID\": 409, \"Gemeente\": \"LUIK\", \"Bevolking\": 196623, \"niscode\": 62063, \"DATE\": \"2020-03-31\", \"COUNT\": 15, \"color\": \"green\"}, {\"ID\": 410, \"Gemeente\": \"OUPEYE\", \"Bevolking\": 25444, \"niscode\": 62079, \"DATE\": \"2020-03-31\", \"COUNT\": 2, \"color\": \"blue\"}, {\"ID\": 411, \"Gemeente\": \"SAINT-NICOLAS (LUIK)\", \"Bevolking\": 24295, \"niscode\": 62093, \"DATE\": \"2020-03-31\", \"COUNT\": 1, \"color\": \"yellow\"}, {\"ID\": 412, \"Gemeente\": \"SERAING\", \"Bevolking\": 64021, \"niscode\": 62096, \"DATE\": \"2020-03-31\", \"COUNT\": 13, \"color\": \"red\"}, {\"ID\": 413, \"Gemeente\": \"SOUMAGNE\", \"Bevolking\": 17032, \"niscode\": 62099, \"DATE\": \"2020-03-31\", \"COUNT\": 3, \"color\": \"red\"}, {\"ID\": 414, \"Gemeente\": \"SPRIMONT\", \"Bevolking\": 14912, \"niscode\": 62100, \"DATE\": \"2020-03-31\", \"COUNT\": 2, \"color\": \"yellow\"}, {\"ID\": 415, \"Gemeente\": \"WEZET\", \"Bevolking\": 17899, \"niscode\": 62108, \"DATE\": \"2020-03-31\", \"COUNT\": 2, \"color\": \"blue\"}, {\"ID\": 416, \"Gemeente\": \"GRACE-HOLLOGNE\", \"Bevolking\": 22775, \"niscode\": 62118, \"DATE\": \"2020-03-31\", \"COUNT\": 2, \"color\": \"yellow\"}, {\"ID\": 417, \"Gemeente\": \"BLEGNY\", \"Bevolking\": 13376, \"niscode\": 62119, \"DATE\": \"2020-03-31\", \"COUNT\": 2, \"color\": \"green\"}, {\"ID\": 418, \"Gemeente\": \"FLEMALLE\", \"Bevolking\": 26408, \"niscode\": 62120, \"DATE\": \"2020-03-31\", \"COUNT\": 12, \"color\": \"green\"}, {\"ID\": 419, \"Gemeente\": \"NEUPRE\", \"Bevolking\": 9965, \"niscode\": 62121, \"DATE\": \"2020-03-31\", \"COUNT\": 3, \"color\": \"red\"}, {\"ID\": 420, \"Gemeente\": \"TROOZ\", \"Bevolking\": 8263, \"niscode\": 62122, \"DATE\": \"2020-03-31\", \"COUNT\": 4, \"color\": \"red\"}, {\"ID\": 421, \"Gemeente\": \"AMEL\", \"Bevolking\": 5479, \"niscode\": 63001, \"DATE\": \"2020-03-31\", \"COUNT\": 1, \"color\": \"blue\"}, {\"ID\": 422, \"Gemeente\": \"AUBEL\", \"Bevolking\": 4253, \"niscode\": 63003, \"DATE\": \"2020-03-31\", \"COUNT\": 0, \"color\": \"blue\"}, {\"ID\": 423, \"Gemeente\": \"BAELEN\", \"Bevolking\": 4486, \"niscode\": 63004, \"DATE\": \"2020-03-31\", \"COUNT\": 0, \"color\": \"blue\"}, {\"ID\": 424, \"Gemeente\": \"B\\u00dcLLINGEN\", \"Bevolking\": 5457, \"niscode\": 63012, \"DATE\": \"2020-03-31\", \"COUNT\": 1, \"color\": \"blue\"}, {\"ID\": 425, \"Gemeente\": \"B\\u00dcTGENBACH\", \"Bevolking\": 5626, \"niscode\": 63013, \"DATE\": \"2020-03-31\", \"COUNT\": 0, \"color\": \"yellow\"}, {\"ID\": 426, \"Gemeente\": \"DISON\", \"Bevolking\": 15230, \"niscode\": 63020, \"DATE\": \"2020-03-31\", \"COUNT\": 1, \"color\": \"red\"}, {\"ID\": 427, \"Gemeente\": \"EUPEN\", \"Bevolking\": 19726, \"niscode\": 63023, \"DATE\": \"2020-03-31\", \"COUNT\": 0, \"color\": \"green\"}, {\"ID\": 428, \"Gemeente\": \"HERVE\", \"Bevolking\": 17628, \"niscode\": 63035, \"DATE\": \"2020-03-31\", \"COUNT\": 3, \"color\": \"green\"}, {\"ID\": 429, \"Gemeente\": \"JALHAY\", \"Bevolking\": 8737, \"niscode\": 63038, \"DATE\": \"2020-03-31\", \"COUNT\": 1, \"color\": \"blue\"}, {\"ID\": 430, \"Gemeente\": \"KELMIS\", \"Bevolking\": 11184, \"niscode\": 63040, \"DATE\": \"2020-03-31\", \"COUNT\": 4, \"color\": \"green\"}, {\"ID\": 431, \"Gemeente\": \"LIERNEUX\", \"Bevolking\": 3565, \"niscode\": 63045, \"DATE\": \"2020-03-31\", \"COUNT\": 0, \"color\": \"blue\"}, {\"ID\": 432, \"Gemeente\": \"LIMBURG\", \"Bevolking\": 5902, \"niscode\": 63046, \"DATE\": \"2020-03-31\", \"COUNT\": 3, \"color\": \"blue\"}, {\"ID\": 433, \"Gemeente\": \"LONTZEN\", \"Bevolking\": 5834, \"niscode\": 63048, \"DATE\": \"2020-03-31\", \"COUNT\": 0, \"color\": \"yellow\"}, {\"ID\": 434, \"Gemeente\": \"MALMEDY\", \"Bevolking\": 12785, \"niscode\": 63049, \"DATE\": \"2020-03-31\", \"COUNT\": 1, \"color\": \"red\"}, {\"ID\": 435, \"Gemeente\": \"OLNE\", \"Bevolking\": 4038, \"niscode\": 63057, \"DATE\": \"2020-03-31\", \"COUNT\": 0, \"color\": \"yellow\"}, {\"ID\": 436, \"Gemeente\": \"PEPINSTER\", \"Bevolking\": 9711, \"niscode\": 63058, \"DATE\": \"2020-03-31\", \"COUNT\": 1, \"color\": \"blue\"}, {\"ID\": 437, \"Gemeente\": \"RAEREN\", \"Bevolking\": 10796, \"niscode\": 63061, \"DATE\": \"2020-03-31\", \"COUNT\": 4, \"color\": \"yellow\"}, {\"ID\": 438, \"Gemeente\": \"SANKT VITH\", \"Bevolking\": 9770, \"niscode\": 63067, \"DATE\": \"2020-03-31\", \"COUNT\": 0, \"color\": \"red\"}, {\"ID\": 439, \"Gemeente\": \"SPA\", \"Bevolking\": 10156, \"niscode\": 63072, \"DATE\": \"2020-03-31\", \"COUNT\": 2, \"color\": \"blue\"}, {\"ID\": 440, \"Gemeente\": \"STAVELOT\", \"Bevolking\": 7142, \"niscode\": 63073, \"DATE\": \"2020-03-31\", \"COUNT\": 0, \"color\": \"blue\"}, {\"ID\": 441, \"Gemeente\": \"STOUMONT\", \"Bevolking\": 3172, \"niscode\": 63075, \"DATE\": \"2020-03-31\", \"COUNT\": 0, \"color\": \"yellow\"}, {\"ID\": 442, \"Gemeente\": \"THEUX\", \"Bevolking\": 12007, \"niscode\": 63076, \"DATE\": \"2020-03-31\", \"COUNT\": 3, \"color\": \"blue\"}, {\"ID\": 443, \"Gemeente\": \"VERVIERS\", \"Bevolking\": 55111, \"niscode\": 63079, \"DATE\": \"2020-03-31\", \"COUNT\": 2, \"color\": \"red\"}, {\"ID\": 444, \"Gemeente\": \"WEISMES\", \"Bevolking\": 7380, \"niscode\": 63080, \"DATE\": \"2020-03-31\", \"COUNT\": 0, \"color\": \"yellow\"}, {\"ID\": 445, \"Gemeente\": \"WELKENRAEDT\", \"Bevolking\": 10060, \"niscode\": 63084, \"DATE\": \"2020-03-31\", \"COUNT\": 0, \"color\": \"red\"}, {\"ID\": 446, \"Gemeente\": \"TROIS-PONTS\", \"Bevolking\": 2560, \"niscode\": 63086, \"DATE\": \"2020-03-31\", \"COUNT\": 0, \"color\": \"yellow\"}, {\"ID\": 447, \"Gemeente\": \"BURG-REULAND\", \"Bevolking\": 3973, \"niscode\": 63087, \"DATE\": \"2020-03-31\", \"COUNT\": 0, \"color\": \"yellow\"}, {\"ID\": 448, \"Gemeente\": \"PLOMBIERES\", \"Bevolking\": 10510, \"niscode\": 63088, \"DATE\": \"2020-03-31\", \"COUNT\": 2, \"color\": \"green\"}, {\"ID\": 449, \"Gemeente\": \"THIMISTER-CLERMONT\", \"Bevolking\": 5684, \"niscode\": 63089, \"DATE\": \"2020-03-31\", \"COUNT\": 0, \"color\": \"yellow\"}, {\"ID\": 450, \"Gemeente\": \"BERLOZ\", \"Bevolking\": 3141, \"niscode\": 64008, \"DATE\": \"2020-03-31\", \"COUNT\": 0, \"color\": \"yellow\"}, {\"ID\": 451, \"Gemeente\": \"BRAIVES\", \"Bevolking\": 6382, \"niscode\": 64015, \"DATE\": \"2020-03-31\", \"COUNT\": 2, \"color\": \"yellow\"}, {\"ID\": 452, \"Gemeente\": \"CRISNEE\", \"Bevolking\": 3464, \"niscode\": 64021, \"DATE\": \"2020-03-31\", \"COUNT\": 0, \"color\": \"yellow\"}, {\"ID\": 453, \"Gemeente\": \"DONCEEL\", \"Bevolking\": 3089, \"niscode\": 64023, \"DATE\": \"2020-03-31\", \"COUNT\": 0, \"color\": \"red\"}, {\"ID\": 454, \"Gemeente\": \"FEXHE-LE-HAUT-CLOCHER\", \"Bevolking\": 3205, \"niscode\": 64025, \"DATE\": \"2020-03-31\", \"COUNT\": 0, \"color\": \"blue\"}, {\"ID\": 455, \"Gemeente\": \"GEER\", \"Bevolking\": 3480, \"niscode\": 64029, \"DATE\": \"2020-03-31\", \"COUNT\": 0, \"color\": \"green\"}, {\"ID\": 456, \"Gemeente\": \"HANNUIT\", \"Bevolking\": 16636, \"niscode\": 64034, \"DATE\": \"2020-03-31\", \"COUNT\": 0, \"color\": \"green\"}, {\"ID\": 457, \"Gemeente\": \"LIJSEM\", \"Bevolking\": 3281, \"niscode\": 64047, \"DATE\": \"2020-03-31\", \"COUNT\": 0, \"color\": \"red\"}, {\"ID\": 458, \"Gemeente\": \"OERLE\", \"Bevolking\": 3902, \"niscode\": 64056, \"DATE\": \"2020-03-31\", \"COUNT\": 0, \"color\": \"red\"}, {\"ID\": 459, \"Gemeente\": \"REMICOURT\", \"Bevolking\": 5974, \"niscode\": 64063, \"DATE\": \"2020-03-31\", \"COUNT\": 0, \"color\": \"yellow\"}, {\"ID\": 460, \"Gemeente\": \"SAINT-GEORGES-SUR-MEUSE\", \"Bevolking\": 6910, \"niscode\": 64065, \"DATE\": \"2020-03-31\", \"COUNT\": 0, \"color\": \"green\"}, {\"ID\": 461, \"Gemeente\": \"BORGWORM\", \"Bevolking\": 15436, \"niscode\": 64074, \"DATE\": \"2020-03-31\", \"COUNT\": 2, \"color\": \"green\"}, {\"ID\": 462, \"Gemeente\": \"WASSEIGES\", \"Bevolking\": 2960, \"niscode\": 64075, \"DATE\": \"2020-03-31\", \"COUNT\": 0, \"color\": \"green\"}, {\"ID\": 463, \"Gemeente\": \"FAIMES\", \"Bevolking\": 3953, \"niscode\": 64076, \"DATE\": \"2020-03-31\", \"COUNT\": 0, \"color\": \"green\"}, {\"ID\": 464, \"Gemeente\": \"AS\", \"Bevolking\": 8241, \"niscode\": 71002, \"DATE\": \"2020-03-31\", \"COUNT\": 1, \"color\": \"yellow\"}, {\"ID\": 465, \"Gemeente\": \"BERINGEN\", \"Bevolking\": 46558, \"niscode\": 71004, \"DATE\": \"2020-03-31\", \"COUNT\": 6, \"color\": \"red\"}, {\"ID\": 466, \"Gemeente\": \"DIEPENBEEK\", \"Bevolking\": 19076, \"niscode\": 71011, \"DATE\": \"2020-03-31\", \"COUNT\": 6, \"color\": \"blue\"}, {\"ID\": 467, \"Gemeente\": \"GENK\", \"Bevolking\": 66349, \"niscode\": 71016, \"DATE\": \"2020-03-31\", \"COUNT\": 17, \"color\": \"red\"}, {\"ID\": 468, \"Gemeente\": \"GINGELOM\", \"Bevolking\": 8368, \"niscode\": 71017, \"DATE\": \"2020-03-31\", \"COUNT\": 2, \"color\": \"yellow\"}, {\"ID\": 469, \"Gemeente\": \"HALEN\", \"Bevolking\": 9488, \"niscode\": 71020, \"DATE\": \"2020-03-31\", \"COUNT\": 1, \"color\": \"green\"}, {\"ID\": 470, \"Gemeente\": \"HASSELT\", \"Bevolking\": 78619, \"niscode\": 71022, \"DATE\": \"2020-03-31\", \"COUNT\": 8, \"color\": \"red\"}, {\"ID\": 471, \"Gemeente\": \"HERK-DE-STAD\", \"Bevolking\": 12647, \"niscode\": 71024, \"DATE\": \"2020-03-31\", \"COUNT\": 1, \"color\": \"yellow\"}, {\"ID\": 472, \"Gemeente\": \"LEOPOLDSBURG\", \"Bevolking\": 15835, \"niscode\": 71034, \"DATE\": \"2020-03-31\", \"COUNT\": 1, \"color\": \"yellow\"}, {\"ID\": 473, \"Gemeente\": \"LUMMEN\", \"Bevolking\": 14967, \"niscode\": 71037, \"DATE\": \"2020-03-31\", \"COUNT\": 0, \"color\": \"yellow\"}, {\"ID\": 474, \"Gemeente\": \"NIEUWERKERKEN\", \"Bevolking\": 6994, \"niscode\": 71045, \"DATE\": \"2020-03-31\", \"COUNT\": 0, \"color\": \"blue\"}, {\"ID\": 475, \"Gemeente\": \"OPGLABBEEK\", \"Bevolking\": 10332, \"niscode\": 71047, \"DATE\": \"2020-03-31\", \"COUNT\": 3, \"color\": \"yellow\"}, {\"ID\": 476, \"Gemeente\": \"SINT-TRUIDEN\", \"Bevolking\": 40637, \"niscode\": 71053, \"DATE\": \"2020-03-31\", \"COUNT\": 18, \"color\": \"yellow\"}, {\"ID\": 477, \"Gemeente\": \"TESSENDERLO\", \"Bevolking\": 18730, \"niscode\": 71057, \"DATE\": \"2020-03-31\", \"COUNT\": 5, \"color\": \"green\"}, {\"ID\": 478, \"Gemeente\": \"ZONHOVEN\", \"Bevolking\": 21324, \"niscode\": 71066, \"DATE\": \"2020-03-31\", \"COUNT\": 5, \"color\": \"yellow\"}, {\"ID\": 479, \"Gemeente\": \"ZUTENDAAL\", \"Bevolking\": 7275, \"niscode\": 71067, \"DATE\": \"2020-03-31\", \"COUNT\": 2, \"color\": \"green\"}, {\"ID\": 480, \"Gemeente\": \"HAM\", \"Bevolking\": 10970, \"niscode\": 71069, \"DATE\": \"2020-03-31\", \"COUNT\": 4, \"color\": \"red\"}, {\"ID\": 481, \"Gemeente\": \"HEUSDEN-ZOLDER\", \"Bevolking\": 33874, \"niscode\": 71070, \"DATE\": \"2020-03-31\", \"COUNT\": 5, \"color\": \"blue\"}, {\"ID\": 482, \"Gemeente\": \"BOCHOLT\", \"Bevolking\": 13148, \"niscode\": 72003, \"DATE\": \"2020-03-31\", \"COUNT\": 1, \"color\": \"green\"}, {\"ID\": 483, \"Gemeente\": \"BREE\", \"Bevolking\": 16160, \"niscode\": 72004, \"DATE\": \"2020-03-31\", \"COUNT\": 2, \"color\": \"green\"}, {\"ID\": 484, \"Gemeente\": \"KINROOI\", \"Bevolking\": 12189, \"niscode\": 72018, \"DATE\": \"2020-03-31\", \"COUNT\": 1, \"color\": \"blue\"}, {\"ID\": 485, \"Gemeente\": \"LOMMEL\", \"Bevolking\": 34218, \"niscode\": 72020, \"DATE\": \"2020-03-31\", \"COUNT\": 4, \"color\": \"yellow\"}, {\"ID\": 486, \"Gemeente\": \"MAASEIK\", \"Bevolking\": 25284, \"niscode\": 72021, \"DATE\": \"2020-03-31\", \"COUNT\": 3, \"color\": \"red\"}, {\"ID\": 487, \"Gemeente\": \"NEERPELT\", \"Bevolking\": 17174, \"niscode\": 72025, \"DATE\": \"2020-03-31\", \"COUNT\": 3, \"color\": \"red\"}, {\"ID\": 488, \"Gemeente\": \"OVERPELT\", \"Bevolking\": 15478, \"niscode\": 72029, \"DATE\": \"2020-03-31\", \"COUNT\": 2, \"color\": \"blue\"}, {\"ID\": 489, \"Gemeente\": \"PEER\", \"Bevolking\": 16285, \"niscode\": 72030, \"DATE\": \"2020-03-31\", \"COUNT\": 3, \"color\": \"yellow\"}, {\"ID\": 490, \"Gemeente\": \"HAMONT-ACHEL\", \"Bevolking\": 14294, \"niscode\": 72037, \"DATE\": \"2020-03-31\", \"COUNT\": 1, \"color\": \"red\"}, {\"ID\": 491, \"Gemeente\": \"HECHTEL-EKSEL\", \"Bevolking\": 12503, \"niscode\": 72038, \"DATE\": \"2020-03-31\", \"COUNT\": 0, \"color\": \"green\"}, {\"ID\": 492, \"Gemeente\": \"HOUTHALEN-HELCHTEREN\", \"Bevolking\": 30540, \"niscode\": 72039, \"DATE\": \"2020-03-31\", \"COUNT\": 2, \"color\": \"green\"}, {\"ID\": 493, \"Gemeente\": \"MEEUWEN-GRUITRODE\", \"Bevolking\": 13091, \"niscode\": 72040, \"DATE\": \"2020-03-31\", \"COUNT\": 4, \"color\": \"blue\"}, {\"ID\": 494, \"Gemeente\": \"DILSEN-STOKKEM\", \"Bevolking\": 20681, \"niscode\": 72041, \"DATE\": \"2020-03-31\", \"COUNT\": 2, \"color\": \"blue\"}, {\"ID\": 495, \"Gemeente\": \"ALKEN\", \"Bevolking\": 11632, \"niscode\": 73001, \"DATE\": \"2020-03-31\", \"COUNT\": 4, \"color\": \"yellow\"}, {\"ID\": 496, \"Gemeente\": \"BILZEN\", \"Bevolking\": 32465, \"niscode\": 73006, \"DATE\": \"2020-03-31\", \"COUNT\": 8, \"color\": \"blue\"}, {\"ID\": 497, \"Gemeente\": \"BORGLOON\", \"Bevolking\": 11010, \"niscode\": 73009, \"DATE\": \"2020-03-31\", \"COUNT\": 4, \"color\": \"blue\"}, {\"ID\": 498, \"Gemeente\": \"HEERS\", \"Bevolking\": 7338, \"niscode\": 73022, \"DATE\": \"2020-03-31\", \"COUNT\": 3, \"color\": \"red\"}, {\"ID\": 499, \"Gemeente\": \"HERSTAPPE\", \"Bevolking\": 79, \"niscode\": 73028, \"DATE\": \"2020-03-31\", \"COUNT\": 0, \"color\": \"green\"}, {\"ID\": 500, \"Gemeente\": \"HOESELT\", \"Bevolking\": 9731, \"niscode\": 73032, \"DATE\": \"2020-03-31\", \"COUNT\": 1, \"color\": \"blue\"}, {\"ID\": 501, \"Gemeente\": \"KORTESSEM\", \"Bevolking\": 8438, \"niscode\": 73040, \"DATE\": \"2020-03-31\", \"COUNT\": 1, \"color\": \"green\"}, {\"ID\": 502, \"Gemeente\": \"LANAKEN\", \"Bevolking\": 25875, \"niscode\": 73042, \"DATE\": \"2020-03-31\", \"COUNT\": 10, \"color\": \"blue\"}, {\"ID\": 503, \"Gemeente\": \"RIEMST\", \"Bevolking\": 16744, \"niscode\": 73066, \"DATE\": \"2020-03-31\", \"COUNT\": 2, \"color\": \"green\"}, {\"ID\": 504, \"Gemeente\": \"TONGEREN\", \"Bevolking\": 31139, \"niscode\": 73083, \"DATE\": \"2020-03-31\", \"COUNT\": 2, \"color\": \"yellow\"}, {\"ID\": 505, \"Gemeente\": \"WELLEN\", \"Bevolking\": 7353, \"niscode\": 73098, \"DATE\": \"2020-03-31\", \"COUNT\": 2, \"color\": \"green\"}, {\"ID\": 506, \"Gemeente\": \"MAASMECHELEN\", \"Bevolking\": 38885, \"niscode\": 73107, \"DATE\": \"2020-03-31\", \"COUNT\": 3, \"color\": \"red\"}, {\"ID\": 507, \"Gemeente\": \"VOEREN\", \"Bevolking\": 4177, \"niscode\": 73109, \"DATE\": \"2020-03-31\", \"COUNT\": 0, \"color\": \"yellow\"}, {\"ID\": 508, \"Gemeente\": \"AARLEN\", \"Bevolking\": 30047, \"niscode\": 81001, \"DATE\": \"2020-03-31\", \"COUNT\": 5, \"color\": \"red\"}, {\"ID\": 509, \"Gemeente\": \"ATTERT\", \"Bevolking\": 5647, \"niscode\": 81003, \"DATE\": \"2020-03-31\", \"COUNT\": 0, \"color\": \"blue\"}, {\"ID\": 510, \"Gemeente\": \"AUBANGE\", \"Bevolking\": 17075, \"niscode\": 81004, \"DATE\": \"2020-03-31\", \"COUNT\": 1, \"color\": \"red\"}, {\"ID\": 511, \"Gemeente\": \"MARTELANGE\", \"Bevolking\": 1857, \"niscode\": 81013, \"DATE\": \"2020-03-31\", \"COUNT\": 0, \"color\": \"red\"}, {\"ID\": 512, \"Gemeente\": \"MESSANCY\", \"Bevolking\": 8266, \"niscode\": 81015, \"DATE\": \"2020-03-31\", \"COUNT\": 0, \"color\": \"blue\"}, {\"ID\": 513, \"Gemeente\": \"BASTENAKEN\", \"Bevolking\": 16271, \"niscode\": 82003, \"DATE\": \"2020-03-31\", \"COUNT\": 1, \"color\": \"red\"}, {\"ID\": 514, \"Gemeente\": \"BERTOGNE\", \"Bevolking\": 3657, \"niscode\": 82005, \"DATE\": \"2020-03-31\", \"COUNT\": 0, \"color\": \"green\"}, {\"ID\": 515, \"Gemeente\": \"FAUVILLERS\", \"Bevolking\": 2316, \"niscode\": 82009, \"DATE\": \"2020-03-31\", \"COUNT\": 0, \"color\": \"yellow\"}, {\"ID\": 516, \"Gemeente\": \"HOUFFALIZE\", \"Bevolking\": 5212, \"niscode\": 82014, \"DATE\": \"2020-03-31\", \"COUNT\": 0, \"color\": \"green\"}, {\"ID\": 517, \"Gemeente\": \"VIELSALM\", \"Bevolking\": 7892, \"niscode\": 82032, \"DATE\": \"2020-03-31\", \"COUNT\": 0, \"color\": \"yellow\"}, {\"ID\": 518, \"Gemeente\": \"VAUX-SUR-SURE\", \"Bevolking\": 5736, \"niscode\": 82036, \"DATE\": \"2020-03-31\", \"COUNT\": 0, \"color\": \"green\"}, {\"ID\": 519, \"Gemeente\": \"GOUVY\", \"Bevolking\": 5393, \"niscode\": 82037, \"DATE\": \"2020-03-31\", \"COUNT\": 0, \"color\": \"yellow\"}, {\"ID\": 520, \"Gemeente\": \"SAINTE-ODE\", \"Bevolking\": 2599, \"niscode\": 82038, \"DATE\": \"2020-03-31\", \"COUNT\": 0, \"color\": \"green\"}, {\"ID\": 521, \"Gemeente\": \"DURBUY\", \"Bevolking\": 11456, \"niscode\": 83012, \"DATE\": \"2020-03-31\", \"COUNT\": 1, \"color\": \"blue\"}, {\"ID\": 522, \"Gemeente\": \"EREZEE\", \"Bevolking\": 3262, \"niscode\": 83013, \"DATE\": \"2020-03-31\", \"COUNT\": 0, \"color\": \"yellow\"}, {\"ID\": 523, \"Gemeente\": \"HOTTON\", \"Bevolking\": 5629, \"niscode\": 83028, \"DATE\": \"2020-03-31\", \"COUNT\": 0, \"color\": \"blue\"}, {\"ID\": 524, \"Gemeente\": \"LA ROCHE-EN-ARDENNE\", \"Bevolking\": 4194, \"niscode\": 83031, \"DATE\": \"2020-03-31\", \"COUNT\": 0, \"color\": \"green\"}, {\"ID\": 525, \"Gemeente\": \"MARCHE-EN-FAMENNE\", \"Bevolking\": 17581, \"niscode\": 83034, \"DATE\": \"2020-03-31\", \"COUNT\": 0, \"color\": \"green\"}, {\"ID\": 526, \"Gemeente\": \"NASSOGNE\", \"Bevolking\": 5568, \"niscode\": 83040, \"DATE\": \"2020-03-31\", \"COUNT\": 0, \"color\": \"blue\"}, {\"ID\": 527, \"Gemeente\": \"RENDEUX\", \"Bevolking\": 2629, \"niscode\": 83044, \"DATE\": \"2020-03-31\", \"COUNT\": 0, \"color\": \"yellow\"}, {\"ID\": 528, \"Gemeente\": \"TENNEVILLE\", \"Bevolking\": 2849, \"niscode\": 83049, \"DATE\": \"2020-03-31\", \"COUNT\": 0, \"color\": \"yellow\"}, {\"ID\": 529, \"Gemeente\": \"MANHAY\", \"Bevolking\": 3565, \"niscode\": 83055, \"DATE\": \"2020-03-31\", \"COUNT\": 0, \"color\": \"yellow\"}, {\"ID\": 530, \"Gemeente\": \"BERTRIX\", \"Bevolking\": 8849, \"niscode\": 84009, \"DATE\": \"2020-03-31\", \"COUNT\": 1, \"color\": \"yellow\"}, {\"ID\": 531, \"Gemeente\": \"BOUILLON\", \"Bevolking\": 5424, \"niscode\": 84010, \"DATE\": \"2020-03-31\", \"COUNT\": 0, \"color\": \"blue\"}, {\"ID\": 532, \"Gemeente\": \"DAVERDISSE\", \"Bevolking\": 1385, \"niscode\": 84016, \"DATE\": \"2020-03-31\", \"COUNT\": 0, \"color\": \"red\"}, {\"ID\": 533, \"Gemeente\": \"HERBEUMONT\", \"Bevolking\": 1646, \"niscode\": 84029, \"DATE\": \"2020-03-31\", \"COUNT\": 0, \"color\": \"yellow\"}, {\"ID\": 534, \"Gemeente\": \"LEGLISE\", \"Bevolking\": 5559, \"niscode\": 84033, \"DATE\": \"2020-03-31\", \"COUNT\": 1, \"color\": \"yellow\"}, {\"ID\": 535, \"Gemeente\": \"LIBIN\", \"Bevolking\": 5247, \"niscode\": 84035, \"DATE\": \"2020-03-31\", \"COUNT\": 0, \"color\": \"yellow\"}, {\"ID\": 536, \"Gemeente\": \"NEUFCHATEAU\", \"Bevolking\": 7779, \"niscode\": 84043, \"DATE\": \"2020-03-31\", \"COUNT\": 1, \"color\": \"green\"}, {\"ID\": 537, \"Gemeente\": \"PALISEUL\", \"Bevolking\": 5393, \"niscode\": 84050, \"DATE\": \"2020-03-31\", \"COUNT\": 0, \"color\": \"green\"}, {\"ID\": 538, \"Gemeente\": \"SAINT-HUBERT\", \"Bevolking\": 5604, \"niscode\": 84059, \"DATE\": \"2020-03-31\", \"COUNT\": 0, \"color\": \"green\"}, {\"ID\": 539, \"Gemeente\": \"TELLIN\", \"Bevolking\": 2447, \"niscode\": 84068, \"DATE\": \"2020-03-31\", \"COUNT\": 0, \"color\": \"blue\"}, {\"ID\": 540, \"Gemeente\": \"WELLIN\", \"Bevolking\": 3113, \"niscode\": 84075, \"DATE\": \"2020-03-31\", \"COUNT\": 0, \"color\": \"red\"}, {\"ID\": 541, \"Gemeente\": \"LIBRAMONT-CHEVIGNY\", \"Bevolking\": 11316, \"niscode\": 84077, \"DATE\": \"2020-03-31\", \"COUNT\": 1, \"color\": \"yellow\"}, {\"ID\": 542, \"Gemeente\": \"CHINY\", \"Bevolking\": 5228, \"niscode\": 85007, \"DATE\": \"2020-03-31\", \"COUNT\": 0, \"color\": \"yellow\"}, {\"ID\": 543, \"Gemeente\": \"ETALLE\", \"Bevolking\": 5958, \"niscode\": 85009, \"DATE\": \"2020-03-31\", \"COUNT\": 0, \"color\": \"red\"}, {\"ID\": 544, \"Gemeente\": \"FLORENVILLE\", \"Bevolking\": 5585, \"niscode\": 85011, \"DATE\": \"2020-03-31\", \"COUNT\": 0, \"color\": \"green\"}, {\"ID\": 545, \"Gemeente\": \"MEIX-DEVANT-VIRTON\", \"Bevolking\": 2805, \"niscode\": 85024, \"DATE\": \"2020-03-31\", \"COUNT\": 0, \"color\": \"red\"}, {\"ID\": 546, \"Gemeente\": \"MUSSON\", \"Bevolking\": 4656, \"niscode\": 85026, \"DATE\": \"2020-03-31\", \"COUNT\": 0, \"color\": \"green\"}, {\"ID\": 547, \"Gemeente\": \"SAINT-LEGER\", \"Bevolking\": 3661, \"niscode\": 85034, \"DATE\": \"2020-03-31\", \"COUNT\": 0, \"color\": \"blue\"}, {\"ID\": 548, \"Gemeente\": \"TINTIGNY\", \"Bevolking\": 4305, \"niscode\": 85039, \"DATE\": \"2020-03-31\", \"COUNT\": 0, \"color\": \"yellow\"}, {\"ID\": 549, \"Gemeente\": \"VIRTON\", \"Bevolking\": 11324, \"niscode\": 85045, \"DATE\": \"2020-03-31\", \"COUNT\": 0, \"color\": \"green\"}, {\"ID\": 550, \"Gemeente\": \"HABAY\", \"Bevolking\": 8478, \"niscode\": 85046, \"DATE\": \"2020-03-31\", \"COUNT\": 0, \"color\": \"yellow\"}, {\"ID\": 551, \"Gemeente\": \"ROUVROY\", \"Bevolking\": 2108, \"niscode\": 85047, \"DATE\": \"2020-03-31\", \"COUNT\": 0, \"color\": \"yellow\"}, {\"ID\": 552, \"Gemeente\": \"ANHEE\", \"Bevolking\": 7142, \"niscode\": 91005, \"DATE\": \"2020-03-31\", \"COUNT\": 0, \"color\": \"yellow\"}, {\"ID\": 553, \"Gemeente\": \"BEAURAING\", \"Bevolking\": 9093, \"niscode\": 91013, \"DATE\": \"2020-03-31\", \"COUNT\": 0, \"color\": \"blue\"}, {\"ID\": 554, \"Gemeente\": \"BIEVRE\", \"Bevolking\": 3368, \"niscode\": 91015, \"DATE\": \"2020-03-31\", \"COUNT\": 0, \"color\": \"blue\"}, {\"ID\": 555, \"Gemeente\": \"CINEY\", \"Bevolking\": 16698, \"niscode\": 91030, \"DATE\": \"2020-03-31\", \"COUNT\": 4, \"color\": \"blue\"}, {\"ID\": 556, \"Gemeente\": \"DINANT\", \"Bevolking\": 13382, \"niscode\": 91034, \"DATE\": \"2020-03-31\", \"COUNT\": 0, \"color\": \"red\"}, {\"ID\": 557, \"Gemeente\": \"GEDINNE\", \"Bevolking\": 4651, \"niscode\": 91054, \"DATE\": \"2020-03-31\", \"COUNT\": 0, \"color\": \"red\"}, {\"ID\": 558, \"Gemeente\": \"HAMOIS\", \"Bevolking\": 7375, \"niscode\": 91059, \"DATE\": \"2020-03-31\", \"COUNT\": 0, \"color\": \"red\"}, {\"ID\": 559, \"Gemeente\": \"HAVELANGE\", \"Bevolking\": 5240, \"niscode\": 91064, \"DATE\": \"2020-03-31\", \"COUNT\": 0, \"color\": \"red\"}, {\"ID\": 560, \"Gemeente\": \"HOUYET\", \"Bevolking\": 5003, \"niscode\": 91072, \"DATE\": \"2020-03-31\", \"COUNT\": 0, \"color\": \"yellow\"}, {\"ID\": 561, \"Gemeente\": \"ONHAYE\", \"Bevolking\": 3231, \"niscode\": 91103, \"DATE\": \"2020-03-31\", \"COUNT\": 1, \"color\": \"green\"}, {\"ID\": 562, \"Gemeente\": \"ROCHEFORT\", \"Bevolking\": 12564, \"niscode\": 91114, \"DATE\": \"2020-03-31\", \"COUNT\": 2, \"color\": \"green\"}, {\"ID\": 563, \"Gemeente\": \"SOMME-LEUZE\", \"Bevolking\": 5794, \"niscode\": 91120, \"DATE\": \"2020-03-31\", \"COUNT\": 0, \"color\": \"red\"}, {\"ID\": 564, \"Gemeente\": \"YVOIR\", \"Bevolking\": 9116, \"niscode\": 91141, \"DATE\": \"2020-03-31\", \"COUNT\": 0, \"color\": \"yellow\"}, {\"ID\": 565, \"Gemeente\": \"HASTIERE\", \"Bevolking\": 6025, \"niscode\": 91142, \"DATE\": \"2020-03-31\", \"COUNT\": 0, \"color\": \"green\"}, {\"ID\": 566, \"Gemeente\": \"VRESSE-SUR-SEMOIS\", \"Bevolking\": 2577, \"niscode\": 91143, \"DATE\": \"2020-03-31\", \"COUNT\": 0, \"color\": \"yellow\"}, {\"ID\": 567, \"Gemeente\": \"ANDENNE\", \"Bevolking\": 27583, \"niscode\": 92003, \"DATE\": \"2020-03-31\", \"COUNT\": 0, \"color\": \"yellow\"}, {\"ID\": 568, \"Gemeente\": \"ASSESSE\", \"Bevolking\": 7098, \"niscode\": 92006, \"DATE\": \"2020-03-31\", \"COUNT\": 0, \"color\": \"green\"}, {\"ID\": 569, \"Gemeente\": \"EGHEZEE\", \"Bevolking\": 16440, \"niscode\": 92035, \"DATE\": \"2020-03-31\", \"COUNT\": 2, \"color\": \"green\"}, {\"ID\": 570, \"Gemeente\": \"FLOREFFE\", \"Bevolking\": 8145, \"niscode\": 92045, \"DATE\": \"2020-03-31\", \"COUNT\": 0, \"color\": \"yellow\"}, {\"ID\": 571, \"Gemeente\": \"FOSSES-LA-VILLE\", \"Bevolking\": 10467, \"niscode\": 92048, \"DATE\": \"2020-03-31\", \"COUNT\": 1, \"color\": \"red\"}, {\"ID\": 572, \"Gemeente\": \"GESVES\", \"Bevolking\": 7207, \"niscode\": 92054, \"DATE\": \"2020-03-31\", \"COUNT\": 0, \"color\": \"red\"}, {\"ID\": 573, \"Gemeente\": \"METTET\", \"Bevolking\": 13157, \"niscode\": 92087, \"DATE\": \"2020-03-31\", \"COUNT\": 0, \"color\": \"green\"}, {\"ID\": 574, \"Gemeente\": \"NAMEN\", \"Bevolking\": 111127, \"niscode\": 92094, \"DATE\": \"2020-03-31\", \"COUNT\": 6, \"color\": \"yellow\"}, {\"ID\": 575, \"Gemeente\": \"OHEY\", \"Bevolking\": 5136, \"niscode\": 92097, \"DATE\": \"2020-03-31\", \"COUNT\": 0, \"color\": \"blue\"}, {\"ID\": 576, \"Gemeente\": \"PROFONDEVILLE\", \"Bevolking\": 12187, \"niscode\": 92101, \"DATE\": \"2020-03-31\", \"COUNT\": 0, \"color\": \"red\"}, {\"ID\": 577, \"Gemeente\": \"SOMBREFFE\", \"Bevolking\": 8493, \"niscode\": 92114, \"DATE\": \"2020-03-31\", \"COUNT\": 0, \"color\": \"green\"}, {\"ID\": 578, \"Gemeente\": \"SAMBREVILLE\", \"Bevolking\": 28353, \"niscode\": 92137, \"DATE\": \"2020-03-31\", \"COUNT\": 0, \"color\": \"red\"}, {\"ID\": 579, \"Gemeente\": \"FERNELMONT\", \"Bevolking\": 8066, \"niscode\": 92138, \"DATE\": \"2020-03-31\", \"COUNT\": 0, \"color\": \"blue\"}, {\"ID\": 580, \"Gemeente\": \"JEMEPPE-SUR-SAMBRE\", \"Bevolking\": 19123, \"niscode\": 92140, \"DATE\": \"2020-03-31\", \"COUNT\": 0, \"color\": \"red\"}, {\"ID\": 581, \"Gemeente\": \"LA BRUYERE\", \"Bevolking\": 9242, \"niscode\": 92141, \"DATE\": \"2020-03-31\", \"COUNT\": 2, \"color\": \"blue\"}, {\"ID\": 582, \"Gemeente\": \"GEMBLOUX\", \"Bevolking\": 26127, \"niscode\": 92142, \"DATE\": \"2020-03-31\", \"COUNT\": 0, \"color\": \"blue\"}, {\"ID\": 583, \"Gemeente\": \"CERFONTAINE\", \"Bevolking\": 4983, \"niscode\": 93010, \"DATE\": \"2020-03-31\", \"COUNT\": 0, \"color\": \"blue\"}, {\"ID\": 584, \"Gemeente\": \"COUVIN\", \"Bevolking\": 13826, \"niscode\": 93014, \"DATE\": \"2020-03-31\", \"COUNT\": 0, \"color\": \"red\"}, {\"ID\": 585, \"Gemeente\": \"DOISCHE\", \"Bevolking\": 2968, \"niscode\": 93018, \"DATE\": \"2020-03-31\", \"COUNT\": 0, \"color\": \"yellow\"}, {\"ID\": 586, \"Gemeente\": \"FLORENNES\", \"Bevolking\": 11261, \"niscode\": 93022, \"DATE\": \"2020-03-31\", \"COUNT\": 0, \"color\": \"blue\"}, {\"ID\": 587, \"Gemeente\": \"PHILIPPEVILLE\", \"Bevolking\": 9185, \"niscode\": 93056, \"DATE\": \"2020-03-31\", \"COUNT\": 0, \"color\": \"blue\"}, {\"ID\": 588, \"Gemeente\": \"WALCOURT\", \"Bevolking\": 18402, \"niscode\": 93088, \"DATE\": \"2020-03-31\", \"COUNT\": 0, \"color\": \"red\"}, {\"ID\": 589, \"Gemeente\": \"VIROINVAL\", \"Bevolking\": 5639, \"niscode\": 93090, \"DATE\": \"2020-03-31\", \"COUNT\": 2, \"color\": \"green\"}]}}, {\"mode\": \"vega-lite\"});\n",
       "</script>"
      ],
      "text/plain": [
       "alt.Chart(...)"
      ]
     },
     "execution_count": 39,
     "metadata": {},
     "output_type": "execute_result"
    }
   ],
   "source": [
    "create_quantitative_plot(topo_data=topo_municipalities, data=data, column_name='Bevolking',\n",
    "                         tooltips=['Gemeente', 'COUNT'])"
   ]
  },
  {
   "cell_type": "markdown",
   "metadata": {},
   "source": [
    "## Nominal data"
   ]
  },
  {
   "cell_type": "markdown",
   "metadata": {},
   "source": [
    "Parameters would be legend title, color scheme."
   ]
  },
  {
   "cell_type": "code",
   "execution_count": null,
   "metadata": {},
   "outputs": [],
   "source": [
    "def create_nominal_plot(topo_data, data, column_name,\n",
    "                             stroke='lightgrey', strokeWidth=0.5, legend_title=None,\n",
    "                             schema='reds'):\n",
    "    return create_plot(topo_data, data, column_name, 'N',\n",
    "                stroke, strokeWidth, legend_title, schema)"
   ]
  },
  {
   "cell_type": "code",
   "execution_count": null,
   "metadata": {},
   "outputs": [],
   "source": [
    "create_nominal_plot(topo_data=topo_municipalities, data=data.query('DATE == \"2020-03-31\"'),\n",
    "                    column_name='color', legend_title='Kleur', schema='category10')"
   ]
  }
 ],
 "metadata": {
  "kernelspec": {
   "display_name": "Python 3",
   "language": "python",
   "name": "python3"
  },
  "language_info": {
   "codemirror_mode": {
    "name": "ipython",
    "version": 3
   },
   "file_extension": ".py",
   "mimetype": "text/x-python",
   "name": "python",
   "nbconvert_exporter": "python",
   "pygments_lexer": "ipython3",
   "version": "3.8.5"
  }
 },
 "nbformat": 4,
 "nbformat_minor": 4
}
