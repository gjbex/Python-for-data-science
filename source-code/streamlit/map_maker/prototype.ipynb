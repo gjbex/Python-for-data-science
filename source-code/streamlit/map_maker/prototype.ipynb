{
 "cells": [
  {
   "cell_type": "code",
   "execution_count": 1,
   "metadata": {},
   "outputs": [],
   "source": [
    "import altair as alt\n",
    "import numpy as np\n",
    "import pandas as pd\n",
    "import random"
   ]
  },
  {
   "cell_type": "markdown",
   "metadata": {},
   "source": [
    "# Blank map"
   ]
  },
  {
   "cell_type": "code",
   "execution_count": 2,
   "metadata": {},
   "outputs": [],
   "source": [
    "geodata_url = 'https://gist.githubusercontent.com/jandot/ba7eff2e15a38c6f809ba5e8bd8b6977/raw/eb49ce8dd2604e558e10e15d9a3806f114744e80/belgium_municipalities_topojson.json'\n",
    "geodata_feature = 'BE_municipalities'"
   ]
  },
  {
   "cell_type": "markdown",
   "metadata": {},
   "source": [
    "Parameters are GeoJSON URL and feature to use."
   ]
  },
  {
   "cell_type": "code",
   "execution_count": 3,
   "metadata": {},
   "outputs": [],
   "source": [
    "def create_topo_data(url, feature):\n",
    "    return alt.topo_feature(geodata_url, feature)"
   ]
  },
  {
   "cell_type": "code",
   "execution_count": 4,
   "metadata": {},
   "outputs": [],
   "source": [
    "topo_municipalities = create_topo_data(geodata_url, geodata_feature)"
   ]
  },
  {
   "cell_type": "markdown",
   "metadata": {},
   "source": [
    "Parameters would be GeoJSON URL, stroke color and width."
   ]
  },
  {
   "cell_type": "code",
   "execution_count": 8,
   "metadata": {},
   "outputs": [
    {
     "data": {
      "text/html": [
       "\n",
       "<div id=\"altair-viz-086dbac3c95d4c3f9da7118360b43431\"></div>\n",
       "<script type=\"text/javascript\">\n",
       "  (function(spec, embedOpt){\n",
       "    let outputDiv = document.currentScript.previousElementSibling;\n",
       "    if (outputDiv.id !== \"altair-viz-086dbac3c95d4c3f9da7118360b43431\") {\n",
       "      outputDiv = document.getElementById(\"altair-viz-086dbac3c95d4c3f9da7118360b43431\");\n",
       "    }\n",
       "    const paths = {\n",
       "      \"vega\": \"https://cdn.jsdelivr.net/npm//vega@5?noext\",\n",
       "      \"vega-lib\": \"https://cdn.jsdelivr.net/npm//vega-lib?noext\",\n",
       "      \"vega-lite\": \"https://cdn.jsdelivr.net/npm//vega-lite@4.8.1?noext\",\n",
       "      \"vega-embed\": \"https://cdn.jsdelivr.net/npm//vega-embed@6?noext\",\n",
       "    };\n",
       "\n",
       "    function loadScript(lib) {\n",
       "      return new Promise(function(resolve, reject) {\n",
       "        var s = document.createElement('script');\n",
       "        s.src = paths[lib];\n",
       "        s.async = true;\n",
       "        s.onload = () => resolve(paths[lib]);\n",
       "        s.onerror = () => reject(`Error loading script: ${paths[lib]}`);\n",
       "        document.getElementsByTagName(\"head\")[0].appendChild(s);\n",
       "      });\n",
       "    }\n",
       "\n",
       "    function showError(err) {\n",
       "      outputDiv.innerHTML = `<div class=\"error\" style=\"color:red;\">${err}</div>`;\n",
       "      throw err;\n",
       "    }\n",
       "\n",
       "    function displayChart(vegaEmbed) {\n",
       "      vegaEmbed(outputDiv, spec, embedOpt)\n",
       "        .catch(err => showError(`Javascript Error: ${err.message}<br>This usually means there's a typo in your chart specification. See the javascript console for the full traceback.`));\n",
       "    }\n",
       "\n",
       "    if(typeof define === \"function\" && define.amd) {\n",
       "      requirejs.config({paths});\n",
       "      require([\"vega-embed\"], displayChart, err => showError(`Error loading script: ${err.message}`));\n",
       "    } else if (typeof vegaEmbed === \"function\") {\n",
       "      displayChart(vegaEmbed);\n",
       "    } else {\n",
       "      loadScript(\"vega\")\n",
       "        .then(() => loadScript(\"vega-lite\"))\n",
       "        .then(() => loadScript(\"vega-embed\"))\n",
       "        .catch(showError)\n",
       "        .then(() => displayChart(vegaEmbed));\n",
       "    }\n",
       "  })({\"config\": {\"view\": {\"continuousWidth\": 400, \"continuousHeight\": 300}}, \"data\": {\"url\": \"https://gist.githubusercontent.com/jandot/ba7eff2e15a38c6f809ba5e8bd8b6977/raw/eb49ce8dd2604e558e10e15d9a3806f114744e80/belgium_municipalities_topojson.json\", \"format\": {\"feature\": \"BE_municipalities\", \"type\": \"topojson\"}}, \"mark\": {\"type\": \"geoshape\", \"stroke\": \"black\", \"strokeWidth\": 0.9}, \"encoding\": {\"color\": {\"value\": \"white\"}}, \"$schema\": \"https://vega.github.io/schema/vega-lite/v4.8.1.json\"}, {\"mode\": \"vega-lite\"});\n",
       "</script>"
      ],
      "text/plain": [
       "alt.Chart(...)"
      ]
     },
     "execution_count": 8,
     "metadata": {},
     "output_type": "execute_result"
    }
   ],
   "source": [
    "alt.Chart(topo_municipalities).mark_geoshape(stroke='black', strokeWidth=0.9).encode(\n",
    "    color=alt.value('white'),\n",
    ")"
   ]
  },
  {
   "cell_type": "markdown",
   "metadata": {},
   "source": [
    "# Reading data"
   ]
  },
  {
   "cell_type": "markdown",
   "metadata": {},
   "source": [
    "Parameters would be data file URL, data file type, and if necessary file encoding, column separator."
   ]
  },
  {
   "cell_type": "code",
   "execution_count": 9,
   "metadata": {},
   "outputs": [],
   "source": [
    "def read_data(uri, encoding=None, delimiter=None):\n",
    "    if uri.lower().endswith('.csv'):\n",
    "        return pd.read_csv(uri, encoding=encoding, delimiter=delimiter)\n",
    "    elif uri.lower().endswith('.xlsx'):\n",
    "        return pd.read_excel(uri)\n",
    "    else:\n",
    "        raise ValueError(f'file type of \"\"{uri}\"\" is unknown')"
   ]
  },
  {
   "cell_type": "code",
   "execution_count": 10,
   "metadata": {},
   "outputs": [],
   "source": [
    "def validate_data(data):\n",
    "    if len(data.columns) < 2:\n",
    "        raise ValueError('data should have at least a NIS code and a data column')\n",
    "    nis_code_pos = [idx for idx, col_name in enumerate(data.columns) if col_name.lower() == 'niscode']\n",
    "    if len(nis_code_pos) > 1:\n",
    "        raise ValueError('multiple columns have NIS code name')\n",
    "    elif len(nis_code_pos) == 0:\n",
    "        raise ValueError('NIS code column is missing')\n",
    "    else:\n",
    "        columns = list(data.columns)\n",
    "        columns[nis_code_pos[0]] = 'niscode'\n",
    "        data.columns = columns\n",
    "    if data.niscode.dtype != np.int64:\n",
    "        raise ValueError('data type for NIS code is incorret, should be integer')"
   ]
  },
  {
   "cell_type": "code",
   "execution_count": 11,
   "metadata": {},
   "outputs": [],
   "source": [
    "data = read_data('data/Gemeenten-latest.csv', encoding='iso-8859-1', delimiter=';')"
   ]
  },
  {
   "cell_type": "code",
   "execution_count": 12,
   "metadata": {},
   "outputs": [],
   "source": [
    "validate_data(data)"
   ]
  },
  {
   "cell_type": "code",
   "execution_count": 13,
   "metadata": {},
   "outputs": [
    {
     "data": {
      "text/html": [
       "<div>\n",
       "<style scoped>\n",
       "    .dataframe tbody tr th:only-of-type {\n",
       "        vertical-align: middle;\n",
       "    }\n",
       "\n",
       "    .dataframe tbody tr th {\n",
       "        vertical-align: top;\n",
       "    }\n",
       "\n",
       "    .dataframe thead th {\n",
       "        text-align: right;\n",
       "    }\n",
       "</style>\n",
       "<table border=\"1\" class=\"dataframe\">\n",
       "  <thead>\n",
       "    <tr style=\"text-align: right;\">\n",
       "      <th></th>\n",
       "      <th>ID</th>\n",
       "      <th>Gemeente</th>\n",
       "      <th>Bevolking</th>\n",
       "      <th>niscode</th>\n",
       "      <th>DATE</th>\n",
       "      <th>COUNT</th>\n",
       "    </tr>\n",
       "  </thead>\n",
       "  <tbody>\n",
       "    <tr>\n",
       "      <th>0</th>\n",
       "      <td>1</td>\n",
       "      <td>AARTSELAAR</td>\n",
       "      <td>14423</td>\n",
       "      <td>11001</td>\n",
       "      <td>2020-03-31</td>\n",
       "      <td>0</td>\n",
       "    </tr>\n",
       "    <tr>\n",
       "      <th>1</th>\n",
       "      <td>2</td>\n",
       "      <td>ANTWERPEN</td>\n",
       "      <td>527763</td>\n",
       "      <td>11002</td>\n",
       "      <td>2020-03-31</td>\n",
       "      <td>52</td>\n",
       "    </tr>\n",
       "    <tr>\n",
       "      <th>2</th>\n",
       "      <td>3</td>\n",
       "      <td>BOECHOUT</td>\n",
       "      <td>13373</td>\n",
       "      <td>11004</td>\n",
       "      <td>2020-03-31</td>\n",
       "      <td>0</td>\n",
       "    </tr>\n",
       "    <tr>\n",
       "      <th>3</th>\n",
       "      <td>4</td>\n",
       "      <td>BOOM</td>\n",
       "      <td>18526</td>\n",
       "      <td>11005</td>\n",
       "      <td>2020-03-31</td>\n",
       "      <td>1</td>\n",
       "    </tr>\n",
       "    <tr>\n",
       "      <th>4</th>\n",
       "      <td>5</td>\n",
       "      <td>BORSBEEK</td>\n",
       "      <td>10943</td>\n",
       "      <td>11007</td>\n",
       "      <td>2020-03-31</td>\n",
       "      <td>0</td>\n",
       "    </tr>\n",
       "  </tbody>\n",
       "</table>\n",
       "</div>"
      ],
      "text/plain": [
       "   ID    Gemeente  Bevolking  niscode        DATE  COUNT\n",
       "0   1  AARTSELAAR      14423    11001  2020-03-31      0\n",
       "1   2   ANTWERPEN     527763    11002  2020-03-31     52\n",
       "2   3    BOECHOUT      13373    11004  2020-03-31      0\n",
       "3   4        BOOM      18526    11005  2020-03-31      1\n",
       "4   5    BORSBEEK      10943    11007  2020-03-31      0"
      ]
     },
     "execution_count": 13,
     "metadata": {},
     "output_type": "execute_result"
    }
   ],
   "source": [
    "data.head()"
   ]
  },
  {
   "cell_type": "markdown",
   "metadata": {},
   "source": [
    "Select only data from March 31th, 2020."
   ]
  },
  {
   "cell_type": "code",
   "execution_count": 14,
   "metadata": {},
   "outputs": [],
   "source": [
    "data = data.query('DATE == \"2020-03-31\"').copy()"
   ]
  },
  {
   "cell_type": "code",
   "execution_count": 15,
   "metadata": {},
   "outputs": [
    {
     "data": {
      "text/html": [
       "<div>\n",
       "<style scoped>\n",
       "    .dataframe tbody tr th:only-of-type {\n",
       "        vertical-align: middle;\n",
       "    }\n",
       "\n",
       "    .dataframe tbody tr th {\n",
       "        vertical-align: top;\n",
       "    }\n",
       "\n",
       "    .dataframe thead th {\n",
       "        text-align: right;\n",
       "    }\n",
       "</style>\n",
       "<table border=\"1\" class=\"dataframe\">\n",
       "  <thead>\n",
       "    <tr style=\"text-align: right;\">\n",
       "      <th></th>\n",
       "      <th>ID</th>\n",
       "      <th>Gemeente</th>\n",
       "      <th>Bevolking</th>\n",
       "      <th>niscode</th>\n",
       "      <th>DATE</th>\n",
       "      <th>COUNT</th>\n",
       "    </tr>\n",
       "  </thead>\n",
       "  <tbody>\n",
       "    <tr>\n",
       "      <th>0</th>\n",
       "      <td>1</td>\n",
       "      <td>AARTSELAAR</td>\n",
       "      <td>14423</td>\n",
       "      <td>11001</td>\n",
       "      <td>2020-03-31</td>\n",
       "      <td>0</td>\n",
       "    </tr>\n",
       "    <tr>\n",
       "      <th>1</th>\n",
       "      <td>2</td>\n",
       "      <td>ANTWERPEN</td>\n",
       "      <td>527763</td>\n",
       "      <td>11002</td>\n",
       "      <td>2020-03-31</td>\n",
       "      <td>52</td>\n",
       "    </tr>\n",
       "    <tr>\n",
       "      <th>2</th>\n",
       "      <td>3</td>\n",
       "      <td>BOECHOUT</td>\n",
       "      <td>13373</td>\n",
       "      <td>11004</td>\n",
       "      <td>2020-03-31</td>\n",
       "      <td>0</td>\n",
       "    </tr>\n",
       "    <tr>\n",
       "      <th>3</th>\n",
       "      <td>4</td>\n",
       "      <td>BOOM</td>\n",
       "      <td>18526</td>\n",
       "      <td>11005</td>\n",
       "      <td>2020-03-31</td>\n",
       "      <td>1</td>\n",
       "    </tr>\n",
       "    <tr>\n",
       "      <th>4</th>\n",
       "      <td>5</td>\n",
       "      <td>BORSBEEK</td>\n",
       "      <td>10943</td>\n",
       "      <td>11007</td>\n",
       "      <td>2020-03-31</td>\n",
       "      <td>0</td>\n",
       "    </tr>\n",
       "  </tbody>\n",
       "</table>\n",
       "</div>"
      ],
      "text/plain": [
       "   ID    Gemeente  Bevolking  niscode        DATE  COUNT\n",
       "0   1  AARTSELAAR      14423    11001  2020-03-31      0\n",
       "1   2   ANTWERPEN     527763    11002  2020-03-31     52\n",
       "2   3    BOECHOUT      13373    11004  2020-03-31      0\n",
       "3   4        BOOM      18526    11005  2020-03-31      1\n",
       "4   5    BORSBEEK      10943    11007  2020-03-31      0"
      ]
     },
     "execution_count": 15,
     "metadata": {},
     "output_type": "execute_result"
    }
   ],
   "source": [
    "data.head()"
   ]
  },
  {
   "cell_type": "markdown",
   "metadata": {},
   "source": [
    "Add a column with random qualitative data."
   ]
  },
  {
   "cell_type": "code",
   "execution_count": 16,
   "metadata": {},
   "outputs": [],
   "source": [
    "data['color'] = random.choices(['red', 'green', 'blue', 'yellow'], k=len(data))"
   ]
  },
  {
   "cell_type": "code",
   "execution_count": 17,
   "metadata": {},
   "outputs": [
    {
     "data": {
      "text/html": [
       "<div>\n",
       "<style scoped>\n",
       "    .dataframe tbody tr th:only-of-type {\n",
       "        vertical-align: middle;\n",
       "    }\n",
       "\n",
       "    .dataframe tbody tr th {\n",
       "        vertical-align: top;\n",
       "    }\n",
       "\n",
       "    .dataframe thead th {\n",
       "        text-align: right;\n",
       "    }\n",
       "</style>\n",
       "<table border=\"1\" class=\"dataframe\">\n",
       "  <thead>\n",
       "    <tr style=\"text-align: right;\">\n",
       "      <th></th>\n",
       "      <th>ID</th>\n",
       "      <th>Gemeente</th>\n",
       "      <th>Bevolking</th>\n",
       "      <th>niscode</th>\n",
       "      <th>DATE</th>\n",
       "      <th>COUNT</th>\n",
       "      <th>color</th>\n",
       "    </tr>\n",
       "  </thead>\n",
       "  <tbody>\n",
       "    <tr>\n",
       "      <th>0</th>\n",
       "      <td>1</td>\n",
       "      <td>AARTSELAAR</td>\n",
       "      <td>14423</td>\n",
       "      <td>11001</td>\n",
       "      <td>2020-03-31</td>\n",
       "      <td>0</td>\n",
       "      <td>red</td>\n",
       "    </tr>\n",
       "    <tr>\n",
       "      <th>1</th>\n",
       "      <td>2</td>\n",
       "      <td>ANTWERPEN</td>\n",
       "      <td>527763</td>\n",
       "      <td>11002</td>\n",
       "      <td>2020-03-31</td>\n",
       "      <td>52</td>\n",
       "      <td>green</td>\n",
       "    </tr>\n",
       "    <tr>\n",
       "      <th>2</th>\n",
       "      <td>3</td>\n",
       "      <td>BOECHOUT</td>\n",
       "      <td>13373</td>\n",
       "      <td>11004</td>\n",
       "      <td>2020-03-31</td>\n",
       "      <td>0</td>\n",
       "      <td>red</td>\n",
       "    </tr>\n",
       "    <tr>\n",
       "      <th>3</th>\n",
       "      <td>4</td>\n",
       "      <td>BOOM</td>\n",
       "      <td>18526</td>\n",
       "      <td>11005</td>\n",
       "      <td>2020-03-31</td>\n",
       "      <td>1</td>\n",
       "      <td>blue</td>\n",
       "    </tr>\n",
       "    <tr>\n",
       "      <th>4</th>\n",
       "      <td>5</td>\n",
       "      <td>BORSBEEK</td>\n",
       "      <td>10943</td>\n",
       "      <td>11007</td>\n",
       "      <td>2020-03-31</td>\n",
       "      <td>0</td>\n",
       "      <td>yellow</td>\n",
       "    </tr>\n",
       "  </tbody>\n",
       "</table>\n",
       "</div>"
      ],
      "text/plain": [
       "   ID    Gemeente  Bevolking  niscode        DATE  COUNT   color\n",
       "0   1  AARTSELAAR      14423    11001  2020-03-31      0     red\n",
       "1   2   ANTWERPEN     527763    11002  2020-03-31     52   green\n",
       "2   3    BOECHOUT      13373    11004  2020-03-31      0     red\n",
       "3   4        BOOM      18526    11005  2020-03-31      1    blue\n",
       "4   5    BORSBEEK      10943    11007  2020-03-31      0  yellow"
      ]
     },
     "execution_count": 17,
     "metadata": {},
     "output_type": "execute_result"
    }
   ],
   "source": [
    "data.head()"
   ]
  },
  {
   "cell_type": "code",
   "execution_count": 18,
   "metadata": {},
   "outputs": [],
   "source": [
    "data.to_csv('data/data.csv')"
   ]
  },
  {
   "cell_type": "markdown",
   "metadata": {},
   "source": [
    "# Putting data on the map"
   ]
  },
  {
   "cell_type": "markdown",
   "metadata": {},
   "source": [
    "## Quantivative data"
   ]
  },
  {
   "cell_type": "markdown",
   "metadata": {},
   "source": [
    "Parameters would be legend title, color scheme, data domain (min. value, max. value)."
   ]
  },
  {
   "cell_type": "code",
   "execution_count": 19,
   "metadata": {},
   "outputs": [],
   "source": [
    "def guess_data_type(data, columns):\n",
    "    types = dict()\n",
    "    for column in columns:\n",
    "        pandas_type = data[column].dtype\n",
    "        if pandas_type in [np.int32, np.int64, np.float32, np.float64]:\n",
    "            types[column] = 'Q'\n",
    "        else:\n",
    "            types[column] = 'N'\n",
    "    return types"
   ]
  },
  {
   "cell_type": "code",
   "execution_count": 141,
   "metadata": {},
   "outputs": [],
   "source": [
    "def create_plot(topo_data, data, column_name, data_type, tooltips = None,\n",
    "                stroke='lightgrey', strokeWidth=0.5, legend_title=None,\n",
    "                schema='reds'):\n",
    "    if legend_title is None:\n",
    "        legend_title = column_name\n",
    "    if tooltips is None:\n",
    "        lookup = [column_name]\n",
    "    else:\n",
    "        lookup = [column_name] + list(tooltips)\n",
    "    base = alt.Chart(topo_data).mark_geoshape().encode(\n",
    "                color=alt.Color(f'{column_name}:{data_type}',\n",
    "                                legend=alt.Legend(title=legend_title), \n",
    "                                scale=alt.Scale(scheme=schema)),\n",
    "                tooltip=[f'{cname}:N' for cname in lookup],\n",
    "        ).transform_lookup(\n",
    "            lookup='properties.CODE_INS',\n",
    "            from_=alt.LookupData(data, 'niscode', lookup)\n",
    "        )\n",
    "    return alt.Chart(topo_data).mark_geoshape(stroke=stroke, strokeWidth=strokeWidth).encode(\n",
    "        # color=alt.value('white'),\n",
    "        opacity=alt.value(0.1),\n",
    "    ) + base\n"
   ]
  },
  {
   "cell_type": "code",
   "execution_count": 142,
   "metadata": {},
   "outputs": [],
   "source": [
    "def create_quantitative_plot(topo_data, data, column_name, tooltips=None,\n",
    "                             stroke='lightgrey', strokeWidth=0.5, legend_title=None,\n",
    "                             schema='reds'):\n",
    "    return create_plot(topo_data, data, column_name, 'Q',\n",
    "                tooltips, stroke, strokeWidth, legend_title, schema)"
   ]
  },
  {
   "cell_type": "code",
   "execution_count": 143,
   "metadata": {},
   "outputs": [
    {
     "data": {
      "text/html": [
       "\n",
       "<div id=\"altair-viz-9bfa2c2503f44ced8ec6ac31734854db\"></div>\n",
       "<script type=\"text/javascript\">\n",
       "  (function(spec, embedOpt){\n",
       "    let outputDiv = document.currentScript.previousElementSibling;\n",
       "    if (outputDiv.id !== \"altair-viz-9bfa2c2503f44ced8ec6ac31734854db\") {\n",
       "      outputDiv = document.getElementById(\"altair-viz-9bfa2c2503f44ced8ec6ac31734854db\");\n",
       "    }\n",
       "    const paths = {\n",
       "      \"vega\": \"https://cdn.jsdelivr.net/npm//vega@5?noext\",\n",
       "      \"vega-lib\": \"https://cdn.jsdelivr.net/npm//vega-lib?noext\",\n",
       "      \"vega-lite\": \"https://cdn.jsdelivr.net/npm//vega-lite@4.8.1?noext\",\n",
       "      \"vega-embed\": \"https://cdn.jsdelivr.net/npm//vega-embed@6?noext\",\n",
       "    };\n",
       "\n",
       "    function loadScript(lib) {\n",
       "      return new Promise(function(resolve, reject) {\n",
       "        var s = document.createElement('script');\n",
       "        s.src = paths[lib];\n",
       "        s.async = true;\n",
       "        s.onload = () => resolve(paths[lib]);\n",
       "        s.onerror = () => reject(`Error loading script: ${paths[lib]}`);\n",
       "        document.getElementsByTagName(\"head\")[0].appendChild(s);\n",
       "      });\n",
       "    }\n",
       "\n",
       "    function showError(err) {\n",
       "      outputDiv.innerHTML = `<div class=\"error\" style=\"color:red;\">${err}</div>`;\n",
       "      throw err;\n",
       "    }\n",
       "\n",
       "    function displayChart(vegaEmbed) {\n",
       "      vegaEmbed(outputDiv, spec, embedOpt)\n",
       "        .catch(err => showError(`Javascript Error: ${err.message}<br>This usually means there's a typo in your chart specification. See the javascript console for the full traceback.`));\n",
       "    }\n",
       "\n",
       "    if(typeof define === \"function\" && define.amd) {\n",
       "      requirejs.config({paths});\n",
       "      require([\"vega-embed\"], displayChart, err => showError(`Error loading script: ${err.message}`));\n",
       "    } else if (typeof vegaEmbed === \"function\") {\n",
       "      displayChart(vegaEmbed);\n",
       "    } else {\n",
       "      loadScript(\"vega\")\n",
       "        .then(() => loadScript(\"vega-lite\"))\n",
       "        .then(() => loadScript(\"vega-embed\"))\n",
       "        .catch(showError)\n",
       "        .then(() => displayChart(vegaEmbed));\n",
       "    }\n",
       "  })({\"config\": {\"view\": {\"continuousWidth\": 400, \"continuousHeight\": 300}}, \"layer\": [{\"mark\": {\"type\": \"geoshape\", \"stroke\": \"lightgrey\", \"strokeWidth\": 0.5}, \"encoding\": {\"opacity\": {\"value\": 0.1}}}, {\"mark\": \"geoshape\", \"encoding\": {\"color\": {\"type\": \"quantitative\", \"field\": \"Bevolking\", \"legend\": {\"title\": \"Bevolking\"}, \"scale\": {\"scheme\": \"reds\"}}, \"tooltip\": [{\"type\": \"nominal\", \"field\": \"Bevolking\"}, {\"type\": \"nominal\", \"field\": \"Gemeente\"}, {\"type\": \"nominal\", \"field\": \"COUNT\"}]}, \"transform\": [{\"lookup\": \"properties.CODE_INS\", \"from\": {\"data\": {\"name\": \"data-b08509c1b6ee05149ed233c88f1aec6f\"}, \"key\": \"niscode\", \"fields\": [\"Bevolking\", \"Gemeente\", \"COUNT\"]}}]}], \"data\": {\"url\": \"https://gist.githubusercontent.com/jandot/ba7eff2e15a38c6f809ba5e8bd8b6977/raw/eb49ce8dd2604e558e10e15d9a3806f114744e80/belgium_municipalities_topojson.json\", \"format\": {\"feature\": \"BE_municipalities\", \"type\": \"topojson\"}}, \"$schema\": \"https://vega.github.io/schema/vega-lite/v4.8.1.json\", \"datasets\": {\"data-b08509c1b6ee05149ed233c88f1aec6f\": [{\"ID\": 1, \"Gemeente\": \"AARTSELAAR\", \"Bevolking\": 14423, \"niscode\": 11001, \"DATE\": \"2020-03-31\", \"COUNT\": 0, \"color\": \"red\"}, {\"ID\": 2, \"Gemeente\": \"ANTWERPEN\", \"Bevolking\": 527763, \"niscode\": 11002, \"DATE\": \"2020-03-31\", \"COUNT\": 52, \"color\": \"green\"}, {\"ID\": 3, \"Gemeente\": \"BOECHOUT\", \"Bevolking\": 13373, \"niscode\": 11004, \"DATE\": \"2020-03-31\", \"COUNT\": 0, \"color\": \"red\"}, {\"ID\": 4, \"Gemeente\": \"BOOM\", \"Bevolking\": 18526, \"niscode\": 11005, \"DATE\": \"2020-03-31\", \"COUNT\": 1, \"color\": \"blue\"}, {\"ID\": 5, \"Gemeente\": \"BORSBEEK\", \"Bevolking\": 10943, \"niscode\": 11007, \"DATE\": \"2020-03-31\", \"COUNT\": 0, \"color\": \"yellow\"}, {\"ID\": 6, \"Gemeente\": \"BRASSCHAAT\", \"Bevolking\": 38206, \"niscode\": 11008, \"DATE\": \"2020-03-31\", \"COUNT\": 15, \"color\": \"red\"}, {\"ID\": 7, \"Gemeente\": \"BRECHT\", \"Bevolking\": 29444, \"niscode\": 11009, \"DATE\": \"2020-03-31\", \"COUNT\": 4, \"color\": \"red\"}, {\"ID\": 8, \"Gemeente\": \"EDEGEM\", \"Bevolking\": 22231, \"niscode\": 11013, \"DATE\": \"2020-03-31\", \"COUNT\": 4, \"color\": \"red\"}, {\"ID\": 9, \"Gemeente\": \"ESSEN\", \"Bevolking\": 19149, \"niscode\": 11016, \"DATE\": \"2020-03-31\", \"COUNT\": 2, \"color\": \"blue\"}, {\"ID\": 10, \"Gemeente\": \"HEMIKSEM\", \"Bevolking\": 11602, \"niscode\": 11018, \"DATE\": \"2020-03-31\", \"COUNT\": 0, \"color\": \"blue\"}, {\"ID\": 11, \"Gemeente\": \"HOVE\", \"Bevolking\": 8277, \"niscode\": 11021, \"DATE\": \"2020-03-31\", \"COUNT\": 1, \"color\": \"yellow\"}, {\"ID\": 12, \"Gemeente\": \"KALMTHOUT\", \"Bevolking\": 18873, \"niscode\": 11022, \"DATE\": \"2020-03-31\", \"COUNT\": 0, \"color\": \"green\"}, {\"ID\": 13, \"Gemeente\": \"KAPELLEN\", \"Bevolking\": 26980, \"niscode\": 11023, \"DATE\": \"2020-03-31\", \"COUNT\": 1, \"color\": \"red\"}, {\"ID\": 14, \"Gemeente\": \"KONTICH\", \"Bevolking\": 21184, \"niscode\": 11024, \"DATE\": \"2020-03-31\", \"COUNT\": 0, \"color\": \"red\"}, {\"ID\": 15, \"Gemeente\": \"LINT\", \"Bevolking\": 8635, \"niscode\": 11025, \"DATE\": \"2020-03-31\", \"COUNT\": 0, \"color\": \"blue\"}, {\"ID\": 16, \"Gemeente\": \"MORTSEL\", \"Bevolking\": 26170, \"niscode\": 11029, \"DATE\": \"2020-03-31\", \"COUNT\": 1, \"color\": \"green\"}, {\"ID\": 17, \"Gemeente\": \"NIEL\", \"Bevolking\": 10527, \"niscode\": 11030, \"DATE\": \"2020-03-31\", \"COUNT\": 2, \"color\": \"red\"}, {\"ID\": 18, \"Gemeente\": \"RANST\", \"Bevolking\": 19184, \"niscode\": 11035, \"DATE\": \"2020-03-31\", \"COUNT\": 2, \"color\": \"blue\"}, {\"ID\": 19, \"Gemeente\": \"RUMST\", \"Bevolking\": 15051, \"niscode\": 11037, \"DATE\": \"2020-03-31\", \"COUNT\": 1, \"color\": \"yellow\"}, {\"ID\": 20, \"Gemeente\": \"SCHELLE\", \"Bevolking\": 8534, \"niscode\": 11038, \"DATE\": \"2020-03-31\", \"COUNT\": 0, \"color\": \"red\"}, {\"ID\": 21, \"Gemeente\": \"SCHILDE\", \"Bevolking\": 19879, \"niscode\": 11039, \"DATE\": \"2020-03-31\", \"COUNT\": 1, \"color\": \"red\"}, {\"ID\": 22, \"Gemeente\": \"SCHOTEN\", \"Bevolking\": 34311, \"niscode\": 11040, \"DATE\": \"2020-03-31\", \"COUNT\": 6, \"color\": \"green\"}, {\"ID\": 23, \"Gemeente\": \"STABROEK\", \"Bevolking\": 18770, \"niscode\": 11044, \"DATE\": \"2020-03-31\", \"COUNT\": 4, \"color\": \"yellow\"}, {\"ID\": 24, \"Gemeente\": \"WIJNEGEM\", \"Bevolking\": 9981, \"niscode\": 11050, \"DATE\": \"2020-03-31\", \"COUNT\": 0, \"color\": \"yellow\"}, {\"ID\": 25, \"Gemeente\": \"WOMMELGEM\", \"Bevolking\": 12936, \"niscode\": 11052, \"DATE\": \"2020-03-31\", \"COUNT\": 1, \"color\": \"green\"}, {\"ID\": 26, \"Gemeente\": \"WUUSTWEZEL\", \"Bevolking\": 21203, \"niscode\": 11053, \"DATE\": \"2020-03-31\", \"COUNT\": 2, \"color\": \"green\"}, {\"ID\": 27, \"Gemeente\": \"ZANDHOVEN\", \"Bevolking\": 13063, \"niscode\": 11054, \"DATE\": \"2020-03-31\", \"COUNT\": 0, \"color\": \"red\"}, {\"ID\": 28, \"Gemeente\": \"ZOERSEL\", \"Bevolking\": 22067, \"niscode\": 11055, \"DATE\": \"2020-03-31\", \"COUNT\": 1, \"color\": \"blue\"}, {\"ID\": 29, \"Gemeente\": \"ZWIJNDRECHT\", \"Bevolking\": 19146, \"niscode\": 11056, \"DATE\": \"2020-03-31\", \"COUNT\": 0, \"color\": \"green\"}, {\"ID\": 30, \"Gemeente\": \"MALLE\", \"Bevolking\": 15594, \"niscode\": 11057, \"DATE\": \"2020-03-31\", \"COUNT\": 2, \"color\": \"green\"}, {\"ID\": 31, \"Gemeente\": \"BERLAAR\", \"Bevolking\": 11658, \"niscode\": 12002, \"DATE\": \"2020-03-31\", \"COUNT\": 3, \"color\": \"green\"}, {\"ID\": 32, \"Gemeente\": \"BONHEIDEN\", \"Bevolking\": 15073, \"niscode\": 12005, \"DATE\": \"2020-03-31\", \"COUNT\": 1, \"color\": \"blue\"}, {\"ID\": 33, \"Gemeente\": \"BORNEM\", \"Bevolking\": 21347, \"niscode\": 12007, \"DATE\": \"2020-03-31\", \"COUNT\": 8, \"color\": \"red\"}, {\"ID\": 34, \"Gemeente\": \"DUFFEL\", \"Bevolking\": 17661, \"niscode\": 12009, \"DATE\": \"2020-03-31\", \"COUNT\": 3, \"color\": \"red\"}, {\"ID\": 35, \"Gemeente\": \"HEIST-OP-DEN-BERG\", \"Bevolking\": 42937, \"niscode\": 12014, \"DATE\": \"2020-03-31\", \"COUNT\": 0, \"color\": \"blue\"}, {\"ID\": 36, \"Gemeente\": \"LIER\", \"Bevolking\": 36631, \"niscode\": 12021, \"DATE\": \"2020-03-31\", \"COUNT\": 3, \"color\": \"yellow\"}, {\"ID\": 37, \"Gemeente\": \"MECHELEN\", \"Bevolking\": 86718, \"niscode\": 12025, \"DATE\": \"2020-03-31\", \"COUNT\": 3, \"color\": \"blue\"}, {\"ID\": 38, \"Gemeente\": \"NIJLEN\", \"Bevolking\": 22938, \"niscode\": 12026, \"DATE\": \"2020-03-31\", \"COUNT\": 2, \"color\": \"blue\"}, {\"ID\": 39, \"Gemeente\": \"PUTTE\", \"Bevolking\": 17931, \"niscode\": 12029, \"DATE\": \"2020-03-31\", \"COUNT\": 1, \"color\": \"blue\"}, {\"ID\": 40, \"Gemeente\": \"PUURS\", \"Bevolking\": 17452, \"niscode\": 12030, \"DATE\": \"2020-03-31\", \"COUNT\": 4, \"color\": \"red\"}, {\"ID\": 41, \"Gemeente\": \"SINT-AMANDS\", \"Bevolking\": 8480, \"niscode\": 12034, \"DATE\": \"2020-03-31\", \"COUNT\": 2, \"color\": \"red\"}, {\"ID\": 42, \"Gemeente\": \"SINT-KATELIJNE-WAVER\", \"Bevolking\": 21018, \"niscode\": 12035, \"DATE\": \"2020-03-31\", \"COUNT\": 3, \"color\": \"blue\"}, {\"ID\": 43, \"Gemeente\": \"WILLEBROEK\", \"Bevolking\": 26822, \"niscode\": 12040, \"DATE\": \"2020-03-31\", \"COUNT\": 1, \"color\": \"blue\"}, {\"ID\": 44, \"Gemeente\": \"ARENDONK\", \"Bevolking\": 13281, \"niscode\": 13001, \"DATE\": \"2020-03-31\", \"COUNT\": 0, \"color\": \"red\"}, {\"ID\": 45, \"Gemeente\": \"BAARLE-HERTOG\", \"Bevolking\": 2845, \"niscode\": 13002, \"DATE\": \"2020-03-31\", \"COUNT\": 0, \"color\": \"blue\"}, {\"ID\": 46, \"Gemeente\": \"BALEN\", \"Bevolking\": 22812, \"niscode\": 13003, \"DATE\": \"2020-03-31\", \"COUNT\": 0, \"color\": \"red\"}, {\"ID\": 47, \"Gemeente\": \"BEERSE\", \"Bevolking\": 18116, \"niscode\": 13004, \"DATE\": \"2020-03-31\", \"COUNT\": 2, \"color\": \"green\"}, {\"ID\": 48, \"Gemeente\": \"DESSEL\", \"Bevolking\": 9601, \"niscode\": 13006, \"DATE\": \"2020-03-31\", \"COUNT\": 0, \"color\": \"blue\"}, {\"ID\": 49, \"Gemeente\": \"GEEL\", \"Bevolking\": 40682, \"niscode\": 13008, \"DATE\": \"2020-03-31\", \"COUNT\": 3, \"color\": \"blue\"}, {\"ID\": 50, \"Gemeente\": \"GROBBENDONK\", \"Bevolking\": 11163, \"niscode\": 13010, \"DATE\": \"2020-03-31\", \"COUNT\": 1, \"color\": \"blue\"}, {\"ID\": 51, \"Gemeente\": \"HERENTALS\", \"Bevolking\": 28267, \"niscode\": 13011, \"DATE\": \"2020-03-31\", \"COUNT\": 5, \"color\": \"yellow\"}, {\"ID\": 52, \"Gemeente\": \"HERENTHOUT\", \"Bevolking\": 9094, \"niscode\": 13012, \"DATE\": \"2020-03-31\", \"COUNT\": 1, \"color\": \"red\"}, {\"ID\": 53, \"Gemeente\": \"HERSELT\", \"Bevolking\": 14519, \"niscode\": 13013, \"DATE\": \"2020-03-31\", \"COUNT\": 3, \"color\": \"yellow\"}, {\"ID\": 54, \"Gemeente\": \"HOOGSTRATEN\", \"Bevolking\": 21386, \"niscode\": 13014, \"DATE\": \"2020-03-31\", \"COUNT\": 0, \"color\": \"yellow\"}, {\"ID\": 55, \"Gemeente\": \"HULSHOUT\", \"Bevolking\": 10468, \"niscode\": 13016, \"DATE\": \"2020-03-31\", \"COUNT\": 0, \"color\": \"green\"}, {\"ID\": 56, \"Gemeente\": \"KASTERLEE\", \"Bevolking\": 18884, \"niscode\": 13017, \"DATE\": \"2020-03-31\", \"COUNT\": 0, \"color\": \"blue\"}, {\"ID\": 57, \"Gemeente\": \"LILLE\", \"Bevolking\": 16551, \"niscode\": 13019, \"DATE\": \"2020-03-31\", \"COUNT\": 3, \"color\": \"blue\"}, {\"ID\": 58, \"Gemeente\": \"MEERHOUT\", \"Bevolking\": 10320, \"niscode\": 13021, \"DATE\": \"2020-03-31\", \"COUNT\": 0, \"color\": \"blue\"}, {\"ID\": 59, \"Gemeente\": \"MERKSPLAS\", \"Bevolking\": 8582, \"niscode\": 13023, \"DATE\": \"2020-03-31\", \"COUNT\": 2, \"color\": \"red\"}, {\"ID\": 60, \"Gemeente\": \"MOL\", \"Bevolking\": 37011, \"niscode\": 13025, \"DATE\": \"2020-03-31\", \"COUNT\": 1, \"color\": \"yellow\"}, {\"ID\": 61, \"Gemeente\": \"OLEN\", \"Bevolking\": 12558, \"niscode\": 13029, \"DATE\": \"2020-03-31\", \"COUNT\": 2, \"color\": \"red\"}, {\"ID\": 62, \"Gemeente\": \"OUD-TURNHOUT\", \"Bevolking\": 13953, \"niscode\": 13031, \"DATE\": \"2020-03-31\", \"COUNT\": 1, \"color\": \"blue\"}, {\"ID\": 63, \"Gemeente\": \"RAVELS\", \"Bevolking\": 14988, \"niscode\": 13035, \"DATE\": \"2020-03-31\", \"COUNT\": 1, \"color\": \"green\"}, {\"ID\": 64, \"Gemeente\": \"RETIE\", \"Bevolking\": 11497, \"niscode\": 13036, \"DATE\": \"2020-03-31\", \"COUNT\": 0, \"color\": \"red\"}, {\"ID\": 65, \"Gemeente\": \"RIJKEVORSEL\", \"Bevolking\": 12169, \"niscode\": 13037, \"DATE\": \"2020-03-31\", \"COUNT\": 0, \"color\": \"blue\"}, {\"ID\": 66, \"Gemeente\": \"TURNHOUT\", \"Bevolking\": 45205, \"niscode\": 13040, \"DATE\": \"2020-03-31\", \"COUNT\": 3, \"color\": \"red\"}, {\"ID\": 67, \"Gemeente\": \"VORSELAAR\", \"Bevolking\": 7932, \"niscode\": 13044, \"DATE\": \"2020-03-31\", \"COUNT\": 0, \"color\": \"yellow\"}, {\"ID\": 68, \"Gemeente\": \"VOSSELAAR\", \"Bevolking\": 11344, \"niscode\": 13046, \"DATE\": \"2020-03-31\", \"COUNT\": 1, \"color\": \"red\"}, {\"ID\": 69, \"Gemeente\": \"WESTERLO\", \"Bevolking\": 25100, \"niscode\": 13049, \"DATE\": \"2020-03-31\", \"COUNT\": 0, \"color\": \"yellow\"}, {\"ID\": 70, \"Gemeente\": \"LAAKDAL\", \"Bevolking\": 16145, \"niscode\": 13053, \"DATE\": \"2020-03-31\", \"COUNT\": 2, \"color\": \"yellow\"}, {\"ID\": 71, \"Gemeente\": \"ANDERLECHT\", \"Bevolking\": 120009, \"niscode\": 21001, \"DATE\": \"2020-03-31\", \"COUNT\": 14, \"color\": \"blue\"}, {\"ID\": 72, \"Gemeente\": \"OUDERGEM\", \"Bevolking\": 34342, \"niscode\": 21002, \"DATE\": \"2020-03-31\", \"COUNT\": 4, \"color\": \"green\"}, {\"ID\": 73, \"Gemeente\": \"SINT-AGATHA-BERCHEM\", \"Bevolking\": 25553, \"niscode\": 21003, \"DATE\": \"2020-03-31\", \"COUNT\": 3, \"color\": \"blue\"}, {\"ID\": 74, \"Gemeente\": \"BRUSSEL\", \"Bevolking\": 183287, \"niscode\": 21004, \"DATE\": \"2020-03-31\", \"COUNT\": 11, \"color\": \"blue\"}, {\"ID\": 75, \"Gemeente\": \"ETTERBEEK\", \"Bevolking\": 48194, \"niscode\": 21005, \"DATE\": \"2020-03-31\", \"COUNT\": 9, \"color\": \"yellow\"}, {\"ID\": 76, \"Gemeente\": \"EVERE\", \"Bevolking\": 42444, \"niscode\": 21006, \"DATE\": \"2020-03-31\", \"COUNT\": 8, \"color\": \"green\"}, {\"ID\": 77, \"Gemeente\": \"VORST\", \"Bevolking\": 56441, \"niscode\": 21007, \"DATE\": \"2020-03-31\", \"COUNT\": 11, \"color\": \"red\"}, {\"ID\": 78, \"Gemeente\": \"GANSHOREN\", \"Bevolking\": 25222, \"niscode\": 21008, \"DATE\": \"2020-03-31\", \"COUNT\": 4, \"color\": \"green\"}, {\"ID\": 79, \"Gemeente\": \"ELSENE\", \"Bevolking\": 87385, \"niscode\": 21009, \"DATE\": \"2020-03-31\", \"COUNT\": 12, \"color\": \"red\"}, {\"ID\": 80, \"Gemeente\": \"JETTE\", \"Bevolking\": 52459, \"niscode\": 21010, \"DATE\": \"2020-03-31\", \"COUNT\": 5, \"color\": \"red\"}, {\"ID\": 81, \"Gemeente\": \"KOEKELBERG\", \"Bevolking\": 21886, \"niscode\": 21011, \"DATE\": \"2020-03-31\", \"COUNT\": 3, \"color\": \"red\"}, {\"ID\": 82, \"Gemeente\": \"SINT-JANS-MOLENBEEK\", \"Bevolking\": 97365, \"niscode\": 21012, \"DATE\": \"2020-03-31\", \"COUNT\": 9, \"color\": \"yellow\"}, {\"ID\": 83, \"Gemeente\": \"SINT-GILLIS\", \"Bevolking\": 49094, \"niscode\": 21013, \"DATE\": \"2020-03-31\", \"COUNT\": 5, \"color\": \"yellow\"}, {\"ID\": 84, \"Gemeente\": \"SINT-JOOST-TEN-NODE\", \"Bevolking\": 27199, \"niscode\": 21014, \"DATE\": \"2020-03-31\", \"COUNT\": 4, \"color\": \"red\"}, {\"ID\": 85, \"Gemeente\": \"SCHAARBEEK\", \"Bevolking\": 131548, \"niscode\": 21015, \"DATE\": \"2020-03-31\", \"COUNT\": 8, \"color\": \"blue\"}, {\"ID\": 86, \"Gemeente\": \"UKKEL\", \"Bevolking\": 83631, \"niscode\": 21016, \"DATE\": \"2020-03-31\", \"COUNT\": 8, \"color\": \"blue\"}, {\"ID\": 87, \"Gemeente\": \"WATERMAAL-BOSVOORDE\", \"Bevolking\": 25318, \"niscode\": 21017, \"DATE\": \"2020-03-31\", \"COUNT\": 2, \"color\": \"blue\"}, {\"ID\": 88, \"Gemeente\": \"SINT-LAMBRECHTS-WOLUWE\", \"Bevolking\": 57583, \"niscode\": 21018, \"DATE\": \"2020-03-31\", \"COUNT\": 4, \"color\": \"yellow\"}, {\"ID\": 89, \"Gemeente\": \"SINT-PIETERS-WOLUWE\", \"Bevolking\": 42066, \"niscode\": 21019, \"DATE\": \"2020-03-31\", \"COUNT\": 4, \"color\": \"red\"}, {\"ID\": 90, \"Gemeente\": \"ASSE\", \"Bevolking\": 33450, \"niscode\": 23002, \"DATE\": \"2020-03-31\", \"COUNT\": 2, \"color\": \"yellow\"}, {\"ID\": 91, \"Gemeente\": \"BEERSEL\", \"Bevolking\": 25323, \"niscode\": 23003, \"DATE\": \"2020-03-31\", \"COUNT\": 2, \"color\": \"yellow\"}, {\"ID\": 92, \"Gemeente\": \"BEVER\", \"Bevolking\": 2177, \"niscode\": 23009, \"DATE\": \"2020-03-31\", \"COUNT\": 0, \"color\": \"blue\"}, {\"ID\": 93, \"Gemeente\": \"DILBEEK\", \"Bevolking\": 43460, \"niscode\": 23016, \"DATE\": \"2020-03-31\", \"COUNT\": 1, \"color\": \"yellow\"}, {\"ID\": 94, \"Gemeente\": \"GALMAARDEN\", \"Bevolking\": 8840, \"niscode\": 23023, \"DATE\": \"2020-03-31\", \"COUNT\": 0, \"color\": \"red\"}, {\"ID\": 95, \"Gemeente\": \"GOOIK\", \"Bevolking\": 9176, \"niscode\": 23024, \"DATE\": \"2020-03-31\", \"COUNT\": 0, \"color\": \"blue\"}, {\"ID\": 96, \"Gemeente\": \"GRIMBERGEN\", \"Bevolking\": 37915, \"niscode\": 23025, \"DATE\": \"2020-03-31\", \"COUNT\": 1, \"color\": \"green\"}, {\"ID\": 97, \"Gemeente\": \"HALLE\", \"Bevolking\": 40178, \"niscode\": 23027, \"DATE\": \"2020-03-31\", \"COUNT\": 2, \"color\": \"yellow\"}, {\"ID\": 98, \"Gemeente\": \"HERNE\", \"Bevolking\": 6698, \"niscode\": 23032, \"DATE\": \"2020-03-31\", \"COUNT\": 0, \"color\": \"yellow\"}, {\"ID\": 99, \"Gemeente\": \"HOEILAART\", \"Bevolking\": 11407, \"niscode\": 23033, \"DATE\": \"2020-03-31\", \"COUNT\": 0, \"color\": \"green\"}, {\"ID\": 100, \"Gemeente\": \"KAMPENHOUT\", \"Bevolking\": 12129, \"niscode\": 23038, \"DATE\": \"2020-03-31\", \"COUNT\": 2, \"color\": \"blue\"}, {\"ID\": 101, \"Gemeente\": \"KAPELLE-OP-DEN-BOS\", \"Bevolking\": 9479, \"niscode\": 23039, \"DATE\": \"2020-03-31\", \"COUNT\": 1, \"color\": \"red\"}, {\"ID\": 102, \"Gemeente\": \"LIEDEKERKE\", \"Bevolking\": 13387, \"niscode\": 23044, \"DATE\": \"2020-03-31\", \"COUNT\": 0, \"color\": \"yellow\"}, {\"ID\": 103, \"Gemeente\": \"LONDERZEEL\", \"Bevolking\": 18872, \"niscode\": 23045, \"DATE\": \"2020-03-31\", \"COUNT\": 1, \"color\": \"blue\"}, {\"ID\": 104, \"Gemeente\": \"MACHELEN\", \"Bevolking\": 15582, \"niscode\": 23047, \"DATE\": \"2020-03-31\", \"COUNT\": 1, \"color\": \"yellow\"}, {\"ID\": 105, \"Gemeente\": \"MEISE\", \"Bevolking\": 19629, \"niscode\": 23050, \"DATE\": \"2020-03-31\", \"COUNT\": 0, \"color\": \"yellow\"}, {\"ID\": 106, \"Gemeente\": \"MERCHTEM\", \"Bevolking\": 16757, \"niscode\": 23052, \"DATE\": \"2020-03-31\", \"COUNT\": 1, \"color\": \"blue\"}, {\"ID\": 107, \"Gemeente\": \"OPWIJK\", \"Bevolking\": 14741, \"niscode\": 23060, \"DATE\": \"2020-03-31\", \"COUNT\": 1, \"color\": \"blue\"}, {\"ID\": 108, \"Gemeente\": \"OVERIJSE\", \"Bevolking\": 25492, \"niscode\": 23062, \"DATE\": \"2020-03-31\", \"COUNT\": 3, \"color\": \"red\"}, {\"ID\": 109, \"Gemeente\": \"PEPINGEN\", \"Bevolking\": 4538, \"niscode\": 23064, \"DATE\": \"2020-03-31\", \"COUNT\": 0, \"color\": \"yellow\"}, {\"ID\": 110, \"Gemeente\": \"SINT-PIETERS-LEEUW\", \"Bevolking\": 34617, \"niscode\": 23077, \"DATE\": \"2020-03-31\", \"COUNT\": 2, \"color\": \"green\"}, {\"ID\": 111, \"Gemeente\": \"STEENOKKERZEEL\", \"Bevolking\": 12271, \"niscode\": 23081, \"DATE\": \"2020-03-31\", \"COUNT\": 2, \"color\": \"red\"}, {\"ID\": 112, \"Gemeente\": \"TERNAT\", \"Bevolking\": 15994, \"niscode\": 23086, \"DATE\": \"2020-03-31\", \"COUNT\": 2, \"color\": \"red\"}, {\"ID\": 113, \"Gemeente\": \"VILVOORDE\", \"Bevolking\": 45478, \"niscode\": 23088, \"DATE\": \"2020-03-31\", \"COUNT\": 3, \"color\": \"yellow\"}, {\"ID\": 114, \"Gemeente\": \"ZAVENTEM\", \"Bevolking\": 34716, \"niscode\": 23094, \"DATE\": \"2020-03-31\", \"COUNT\": 4, \"color\": \"green\"}, {\"ID\": 115, \"Gemeente\": \"ZEMST\", \"Bevolking\": 23264, \"niscode\": 23096, \"DATE\": \"2020-03-31\", \"COUNT\": 4, \"color\": \"green\"}, {\"ID\": 116, \"Gemeente\": \"ROOSDAAL\", \"Bevolking\": 11662, \"niscode\": 23097, \"DATE\": \"2020-03-31\", \"COUNT\": 3, \"color\": \"yellow\"}, {\"ID\": 117, \"Gemeente\": \"DROGENBOS\", \"Bevolking\": 5664, \"niscode\": 23098, \"DATE\": \"2020-03-31\", \"COUNT\": 1, \"color\": \"red\"}, {\"ID\": 118, \"Gemeente\": \"KRAAINEM\", \"Bevolking\": 13807, \"niscode\": 23099, \"DATE\": \"2020-03-31\", \"COUNT\": 3, \"color\": \"yellow\"}, {\"ID\": 119, \"Gemeente\": \"LINKEBEEK\", \"Bevolking\": 4697, \"niscode\": 23100, \"DATE\": \"2020-03-31\", \"COUNT\": 0, \"color\": \"red\"}, {\"ID\": 120, \"Gemeente\": \"SINT-GENESIUS-RODE\", \"Bevolking\": 18523, \"niscode\": 23101, \"DATE\": \"2020-03-31\", \"COUNT\": 1, \"color\": \"red\"}, {\"ID\": 121, \"Gemeente\": \"WEMMEL\", \"Bevolking\": 16789, \"niscode\": 23102, \"DATE\": \"2020-03-31\", \"COUNT\": 0, \"color\": \"yellow\"}, {\"ID\": 122, \"Gemeente\": \"WEZEMBEEK-OPPEM\", \"Bevolking\": 14250, \"niscode\": 23103, \"DATE\": \"2020-03-31\", \"COUNT\": 1, \"color\": \"red\"}, {\"ID\": 123, \"Gemeente\": \"LENNIK\", \"Bevolking\": 9102, \"niscode\": 23104, \"DATE\": \"2020-03-31\", \"COUNT\": 0, \"color\": \"green\"}, {\"ID\": 124, \"Gemeente\": \"AFFLIGEM\", \"Bevolking\": 13351, \"niscode\": 23105, \"DATE\": \"2020-03-31\", \"COUNT\": 1, \"color\": \"blue\"}, {\"ID\": 125, \"Gemeente\": \"AARSCHOT\", \"Bevolking\": 30175, \"niscode\": 24001, \"DATE\": \"2020-03-31\", \"COUNT\": 5, \"color\": \"yellow\"}, {\"ID\": 126, \"Gemeente\": \"BEGIJNENDIJK\", \"Bevolking\": 10244, \"niscode\": 24007, \"DATE\": \"2020-03-31\", \"COUNT\": 0, \"color\": \"yellow\"}, {\"ID\": 127, \"Gemeente\": \"BEKKEVOORT\", \"Bevolking\": 6327, \"niscode\": 24008, \"DATE\": \"2020-03-31\", \"COUNT\": 0, \"color\": \"yellow\"}, {\"ID\": 128, \"Gemeente\": \"BERTEM\", \"Bevolking\": 10135, \"niscode\": 24009, \"DATE\": \"2020-03-31\", \"COUNT\": 1, \"color\": \"yellow\"}, {\"ID\": 129, \"Gemeente\": \"BIERBEEK\", \"Bevolking\": 10153, \"niscode\": 24011, \"DATE\": \"2020-03-31\", \"COUNT\": 0, \"color\": \"blue\"}, {\"ID\": 130, \"Gemeente\": \"BOORTMEERBEEK\", \"Bevolking\": 12621, \"niscode\": 24014, \"DATE\": \"2020-03-31\", \"COUNT\": 0, \"color\": \"red\"}, {\"ID\": 131, \"Gemeente\": \"BOUTERSEM\", \"Bevolking\": 8234, \"niscode\": 24016, \"DATE\": \"2020-03-31\", \"COUNT\": 0, \"color\": \"green\"}, {\"ID\": 132, \"Gemeente\": \"DIEST\", \"Bevolking\": 24201, \"niscode\": 24020, \"DATE\": \"2020-03-31\", \"COUNT\": 7, \"color\": \"yellow\"}, {\"ID\": 133, \"Gemeente\": \"GEETBETS\", \"Bevolking\": 6130, \"niscode\": 24028, \"DATE\": \"2020-03-31\", \"COUNT\": 0, \"color\": \"green\"}, {\"ID\": 134, \"Gemeente\": \"HAACHT\", \"Bevolking\": 14834, \"niscode\": 24033, \"DATE\": \"2020-03-31\", \"COUNT\": 2, \"color\": \"green\"}, {\"ID\": 135, \"Gemeente\": \"HERENT\", \"Bevolking\": 21912, \"niscode\": 24038, \"DATE\": \"2020-03-31\", \"COUNT\": 1, \"color\": \"yellow\"}, {\"ID\": 136, \"Gemeente\": \"HOEGAARDEN\", \"Bevolking\": 6855, \"niscode\": 24041, \"DATE\": \"2020-03-31\", \"COUNT\": 0, \"color\": \"yellow\"}, {\"ID\": 137, \"Gemeente\": \"HOLSBEEK\", \"Bevolking\": 10061, \"niscode\": 24043, \"DATE\": \"2020-03-31\", \"COUNT\": 2, \"color\": \"red\"}, {\"ID\": 138, \"Gemeente\": \"HULDENBERG\", \"Bevolking\": 9941, \"niscode\": 24045, \"DATE\": \"2020-03-31\", \"COUNT\": 1, \"color\": \"yellow\"}, {\"ID\": 139, \"Gemeente\": \"KEERBERGEN\", \"Bevolking\": 12963, \"niscode\": 24048, \"DATE\": \"2020-03-31\", \"COUNT\": 1, \"color\": \"green\"}, {\"ID\": 140, \"Gemeente\": \"KORTENAKEN\", \"Bevolking\": 7891, \"niscode\": 24054, \"DATE\": \"2020-03-31\", \"COUNT\": 1, \"color\": \"yellow\"}, {\"ID\": 141, \"Gemeente\": \"KORTENBERG\", \"Bevolking\": 20293, \"niscode\": 24055, \"DATE\": \"2020-03-31\", \"COUNT\": 0, \"color\": \"green\"}, {\"ID\": 142, \"Gemeente\": \"LANDEN\", \"Bevolking\": 16080, \"niscode\": 24059, \"DATE\": \"2020-03-31\", \"COUNT\": 4, \"color\": \"blue\"}, {\"ID\": 143, \"Gemeente\": \"LEUVEN\", \"Bevolking\": 102126, \"niscode\": 24062, \"DATE\": \"2020-03-31\", \"COUNT\": 9, \"color\": \"blue\"}, {\"ID\": 144, \"Gemeente\": \"LUBBEEK\", \"Bevolking\": 14561, \"niscode\": 24066, \"DATE\": \"2020-03-31\", \"COUNT\": 3, \"color\": \"yellow\"}, {\"ID\": 145, \"Gemeente\": \"OUD-HEVERLEE\", \"Bevolking\": 11086, \"niscode\": 24086, \"DATE\": \"2020-03-31\", \"COUNT\": 0, \"color\": \"red\"}, {\"ID\": 146, \"Gemeente\": \"ROTSELAAR\", \"Bevolking\": 16999, \"niscode\": 24094, \"DATE\": \"2020-03-31\", \"COUNT\": 1, \"color\": \"yellow\"}, {\"ID\": 147, \"Gemeente\": \"TERVUREN\", \"Bevolking\": 22699, \"niscode\": 24104, \"DATE\": \"2020-03-31\", \"COUNT\": 4, \"color\": \"red\"}, {\"ID\": 148, \"Gemeente\": \"TIENEN\", \"Bevolking\": 35287, \"niscode\": 24107, \"DATE\": \"2020-03-31\", \"COUNT\": 5, \"color\": \"red\"}, {\"ID\": 149, \"Gemeente\": \"TREMELO\", \"Bevolking\": 14913, \"niscode\": 24109, \"DATE\": \"2020-03-31\", \"COUNT\": 0, \"color\": \"red\"}, {\"ID\": 150, \"Gemeente\": \"ZOUTLEEUW\", \"Bevolking\": 8578, \"niscode\": 24130, \"DATE\": \"2020-03-31\", \"COUNT\": 1, \"color\": \"blue\"}, {\"ID\": 151, \"Gemeente\": \"LINTER\", \"Bevolking\": 7263, \"niscode\": 24133, \"DATE\": \"2020-03-31\", \"COUNT\": 0, \"color\": \"yellow\"}, {\"ID\": 152, \"Gemeente\": \"SCHERPENHEUVEL-ZICHEM\", \"Bevolking\": 23073, \"niscode\": 24134, \"DATE\": \"2020-03-31\", \"COUNT\": 4, \"color\": \"yellow\"}, {\"ID\": 153, \"Gemeente\": \"TIELT-WINGE\", \"Bevolking\": 10783, \"niscode\": 24135, \"DATE\": \"2020-03-31\", \"COUNT\": 2, \"color\": \"blue\"}, {\"ID\": 154, \"Gemeente\": \"GLABBEEK\", \"Bevolking\": 5315, \"niscode\": 24137, \"DATE\": \"2020-03-31\", \"COUNT\": 0, \"color\": \"blue\"}, {\"ID\": 155, \"Gemeente\": \"BEVEKOM\", \"Bevolking\": 7205, \"niscode\": 25005, \"DATE\": \"2020-03-31\", \"COUNT\": 0, \"color\": \"blue\"}, {\"ID\": 156, \"Gemeente\": \"EIGENBRAKEL\", \"Bevolking\": 40168, \"niscode\": 25014, \"DATE\": \"2020-03-31\", \"COUNT\": 2, \"color\": \"blue\"}, {\"ID\": 157, \"Gemeente\": \"KASTEELBRAKEL\", \"Bevolking\": 10538, \"niscode\": 25015, \"DATE\": \"2020-03-31\", \"COUNT\": 1, \"color\": \"green\"}, {\"ID\": 158, \"Gemeente\": \"CHAUMONT-GISTOUX\", \"Bevolking\": 11626, \"niscode\": 25018, \"DATE\": \"2020-03-31\", \"COUNT\": 1, \"color\": \"yellow\"}, {\"ID\": 159, \"Gemeente\": \"COURT-SAINT-ETIENNE\", \"Bevolking\": 10581, \"niscode\": 25023, \"DATE\": \"2020-03-31\", \"COUNT\": 0, \"color\": \"green\"}, {\"ID\": 160, \"Gemeente\": \"GENEPI\\u00cbN\", \"Bevolking\": 15536, \"niscode\": 25031, \"DATE\": \"2020-03-31\", \"COUNT\": 1, \"color\": \"yellow\"}, {\"ID\": 161, \"Gemeente\": \"GRAVEN\", \"Bevolking\": 13871, \"niscode\": 25037, \"DATE\": \"2020-03-31\", \"COUNT\": 0, \"color\": \"yellow\"}, {\"ID\": 162, \"Gemeente\": \"INCOURT\", \"Bevolking\": 5511, \"niscode\": 25043, \"DATE\": \"2020-03-31\", \"COUNT\": 0, \"color\": \"red\"}, {\"ID\": 163, \"Gemeente\": \"ITTER\", \"Bevolking\": 6957, \"niscode\": 25044, \"DATE\": \"2020-03-31\", \"COUNT\": 0, \"color\": \"red\"}, {\"ID\": 164, \"Gemeente\": \"GELDENAKEN\", \"Bevolking\": 14354, \"niscode\": 25048, \"DATE\": \"2020-03-31\", \"COUNT\": 1, \"color\": \"yellow\"}, {\"ID\": 165, \"Gemeente\": \"TERHULPEN\", \"Bevolking\": 7443, \"niscode\": 25050, \"DATE\": \"2020-03-31\", \"COUNT\": 1, \"color\": \"green\"}, {\"ID\": 166, \"Gemeente\": \"MONT-SAINT-GUIBERT\", \"Bevolking\": 7887, \"niscode\": 25068, \"DATE\": \"2020-03-31\", \"COUNT\": 0, \"color\": \"red\"}, {\"ID\": 167, \"Gemeente\": \"NIJVEL\", \"Bevolking\": 28866, \"niscode\": 25072, \"DATE\": \"2020-03-31\", \"COUNT\": 0, \"color\": \"yellow\"}, {\"ID\": 168, \"Gemeente\": \"PERWIJS\", \"Bevolking\": 9463, \"niscode\": 25084, \"DATE\": \"2020-03-31\", \"COUNT\": 1, \"color\": \"green\"}, {\"ID\": 169, \"Gemeente\": \"RIXENSART\", \"Bevolking\": 22651, \"niscode\": 25091, \"DATE\": \"2020-03-31\", \"COUNT\": 2, \"color\": \"red\"}, {\"ID\": 170, \"Gemeente\": \"TUBEKE\", \"Bevolking\": 26656, \"niscode\": 25105, \"DATE\": \"2020-03-31\", \"COUNT\": 4, \"color\": \"yellow\"}, {\"ID\": 171, \"Gemeente\": \"VILLERS-LA-VILLE\", \"Bevolking\": 10795, \"niscode\": 25107, \"DATE\": \"2020-03-31\", \"COUNT\": 0, \"color\": \"red\"}, {\"ID\": 172, \"Gemeente\": \"WATERLOO\", \"Bevolking\": 30352, \"niscode\": 25110, \"DATE\": \"2020-03-31\", \"COUNT\": 2, \"color\": \"red\"}, {\"ID\": 173, \"Gemeente\": \"WAVER\", \"Bevolking\": 34757, \"niscode\": 25112, \"DATE\": \"2020-03-31\", \"COUNT\": 2, \"color\": \"green\"}, {\"ID\": 174, \"Gemeente\": \"CHASTRE\", \"Bevolking\": 7688, \"niscode\": 25117, \"DATE\": \"2020-03-31\", \"COUNT\": 1, \"color\": \"green\"}, {\"ID\": 175, \"Gemeente\": \"HELECINE\", \"Bevolking\": 3643, \"niscode\": 25118, \"DATE\": \"2020-03-31\", \"COUNT\": 0, \"color\": \"yellow\"}, {\"ID\": 176, \"Gemeente\": \"LASNE\", \"Bevolking\": 14248, \"niscode\": 25119, \"DATE\": \"2020-03-31\", \"COUNT\": 1, \"color\": \"red\"}, {\"ID\": 177, \"Gemeente\": \"ORP-JAUCHE\", \"Bevolking\": 8981, \"niscode\": 25120, \"DATE\": \"2020-03-31\", \"COUNT\": 0, \"color\": \"red\"}, {\"ID\": 178, \"Gemeente\": \"OTTIGNIES-LOUVAIN-LA-NEUVE\", \"Bevolking\": 31330, \"niscode\": 25121, \"DATE\": \"2020-03-31\", \"COUNT\": 1, \"color\": \"blue\"}, {\"ID\": 179, \"Gemeente\": \"RAMILLIES\", \"Bevolking\": 6553, \"niscode\": 25122, \"DATE\": \"2020-03-31\", \"COUNT\": 0, \"color\": \"red\"}, {\"ID\": 180, \"Gemeente\": \"REBECQ\", \"Bevolking\": 10928, \"niscode\": 25123, \"DATE\": \"2020-03-31\", \"COUNT\": 1, \"color\": \"green\"}, {\"ID\": 181, \"Gemeente\": \"WALHAIN\", \"Bevolking\": 7364, \"niscode\": 25124, \"DATE\": \"2020-03-31\", \"COUNT\": 0, \"color\": \"green\"}, {\"ID\": 182, \"Gemeente\": \"BEERNEM\", \"Bevolking\": 15814, \"niscode\": 31003, \"DATE\": \"2020-03-31\", \"COUNT\": 1, \"color\": \"red\"}, {\"ID\": 183, \"Gemeente\": \"BLANKENBERGE\", \"Bevolking\": 20444, \"niscode\": 31004, \"DATE\": \"2020-03-31\", \"COUNT\": 1, \"color\": \"green\"}, {\"ID\": 184, \"Gemeente\": \"BRUGGE\", \"Bevolking\": 118536, \"niscode\": 31005, \"DATE\": \"2020-03-31\", \"COUNT\": 13, \"color\": \"blue\"}, {\"ID\": 185, \"Gemeente\": \"DAMME\", \"Bevolking\": 11018, \"niscode\": 31006, \"DATE\": \"2020-03-31\", \"COUNT\": 1, \"color\": \"green\"}, {\"ID\": 186, \"Gemeente\": \"JABBEKE\", \"Bevolking\": 13863, \"niscode\": 31012, \"DATE\": \"2020-03-31\", \"COUNT\": 0, \"color\": \"red\"}, {\"ID\": 187, \"Gemeente\": \"OOSTKAMP\", \"Bevolking\": 23800, \"niscode\": 31022, \"DATE\": \"2020-03-31\", \"COUNT\": 2, \"color\": \"yellow\"}, {\"ID\": 188, \"Gemeente\": \"TORHOUT\", \"Bevolking\": 20438, \"niscode\": 31033, \"DATE\": \"2020-03-31\", \"COUNT\": 2, \"color\": \"blue\"}, {\"ID\": 189, \"Gemeente\": \"ZEDELGEM\", \"Bevolking\": 22863, \"niscode\": 31040, \"DATE\": \"2020-03-31\", \"COUNT\": 5, \"color\": \"red\"}, {\"ID\": 190, \"Gemeente\": \"ZUIENKERKE\", \"Bevolking\": 2707, \"niscode\": 31042, \"DATE\": \"2020-03-31\", \"COUNT\": 0, \"color\": \"yellow\"}, {\"ID\": 191, \"Gemeente\": \"KNOKKE-HEIST\", \"Bevolking\": 33023, \"niscode\": 31043, \"DATE\": \"2020-03-31\", \"COUNT\": 2, \"color\": \"green\"}, {\"ID\": 192, \"Gemeente\": \"DIKSMUIDE\", \"Bevolking\": 16826, \"niscode\": 32003, \"DATE\": \"2020-03-31\", \"COUNT\": 2, \"color\": \"red\"}, {\"ID\": 193, \"Gemeente\": \"HOUTHULST\", \"Bevolking\": 10105, \"niscode\": 32006, \"DATE\": \"2020-03-31\", \"COUNT\": 0, \"color\": \"red\"}, {\"ID\": 194, \"Gemeente\": \"KOEKELARE\", \"Bevolking\": 8756, \"niscode\": 32010, \"DATE\": \"2020-03-31\", \"COUNT\": 0, \"color\": \"yellow\"}, {\"ID\": 195, \"Gemeente\": \"KORTEMARK\", \"Bevolking\": 12659, \"niscode\": 32011, \"DATE\": \"2020-03-31\", \"COUNT\": 0, \"color\": \"red\"}, {\"ID\": 196, \"Gemeente\": \"LO-RENINGE\", \"Bevolking\": 3290, \"niscode\": 32030, \"DATE\": \"2020-03-31\", \"COUNT\": 3, \"color\": \"red\"}, {\"ID\": 197, \"Gemeente\": \"IEPER\", \"Bevolking\": 34988, \"niscode\": 33011, \"DATE\": \"2020-03-31\", \"COUNT\": 7, \"color\": \"red\"}, {\"ID\": 198, \"Gemeente\": \"MESEN\", \"Bevolking\": 1040, \"niscode\": 33016, \"DATE\": \"2020-03-31\", \"COUNT\": 0, \"color\": \"blue\"}, {\"ID\": 199, \"Gemeente\": \"POPERINGE\", \"Bevolking\": 19713, \"niscode\": 33021, \"DATE\": \"2020-03-31\", \"COUNT\": 7, \"color\": \"green\"}, {\"ID\": 200, \"Gemeente\": \"WERVIK\", \"Bevolking\": 18892, \"niscode\": 33029, \"DATE\": \"2020-03-31\", \"COUNT\": 3, \"color\": \"yellow\"}, {\"ID\": 201, \"Gemeente\": \"ZONNEBEKE\", \"Bevolking\": 12504, \"niscode\": 33037, \"DATE\": \"2020-03-31\", \"COUNT\": 1, \"color\": \"red\"}, {\"ID\": 202, \"Gemeente\": \"HEUVELLAND\", \"Bevolking\": 7924, \"niscode\": 33039, \"DATE\": \"2020-03-31\", \"COUNT\": 0, \"color\": \"green\"}, {\"ID\": 203, \"Gemeente\": \"LANGEMARK-POELKAPELLE\", \"Bevolking\": 7823, \"niscode\": 33040, \"DATE\": \"2020-03-31\", \"COUNT\": 1, \"color\": \"blue\"}, {\"ID\": 204, \"Gemeente\": \"VLETEREN\", \"Bevolking\": 3653, \"niscode\": 33041, \"DATE\": \"2020-03-31\", \"COUNT\": 0, \"color\": \"green\"}, {\"ID\": 205, \"Gemeente\": \"ANZEGEM\", \"Bevolking\": 14773, \"niscode\": 34002, \"DATE\": \"2020-03-31\", \"COUNT\": 4, \"color\": \"yellow\"}, {\"ID\": 206, \"Gemeente\": \"AVELGEM\", \"Bevolking\": 10205, \"niscode\": 34003, \"DATE\": \"2020-03-31\", \"COUNT\": 1, \"color\": \"blue\"}, {\"ID\": 207, \"Gemeente\": \"DEERLIJK\", \"Bevolking\": 12080, \"niscode\": 34009, \"DATE\": \"2020-03-31\", \"COUNT\": 9, \"color\": \"yellow\"}, {\"ID\": 208, \"Gemeente\": \"HARELBEKE\", \"Bevolking\": 28474, \"niscode\": 34013, \"DATE\": \"2020-03-31\", \"COUNT\": 3, \"color\": \"green\"}, {\"ID\": 209, \"Gemeente\": \"KORTRIJK\", \"Bevolking\": 77076, \"niscode\": 34022, \"DATE\": \"2020-03-31\", \"COUNT\": 9, \"color\": \"blue\"}, {\"ID\": 210, \"Gemeente\": \"KUURNE\", \"Bevolking\": 13674, \"niscode\": 34023, \"DATE\": \"2020-03-31\", \"COUNT\": 4, \"color\": \"blue\"}, {\"ID\": 211, \"Gemeente\": \"LENDELEDE\", \"Bevolking\": 5783, \"niscode\": 34025, \"DATE\": \"2020-03-31\", \"COUNT\": 0, \"color\": \"blue\"}, {\"ID\": 212, \"Gemeente\": \"MENEN\", \"Bevolking\": 33527, \"niscode\": 34027, \"DATE\": \"2020-03-31\", \"COUNT\": 6, \"color\": \"blue\"}, {\"ID\": 213, \"Gemeente\": \"WAREGEM\", \"Bevolking\": 38347, \"niscode\": 34040, \"DATE\": \"2020-03-31\", \"COUNT\": 2, \"color\": \"blue\"}, {\"ID\": 214, \"Gemeente\": \"WEVELGEM\", \"Bevolking\": 31557, \"niscode\": 34041, \"DATE\": \"2020-03-31\", \"COUNT\": 4, \"color\": \"blue\"}, {\"ID\": 215, \"Gemeente\": \"ZWEVEGEM\", \"Bevolking\": 24808, \"niscode\": 34042, \"DATE\": \"2020-03-31\", \"COUNT\": 2, \"color\": \"yellow\"}, {\"ID\": 216, \"Gemeente\": \"SPIERE-HELKIJN\", \"Bevolking\": 2066, \"niscode\": 34043, \"DATE\": \"2020-03-31\", \"COUNT\": 0, \"color\": \"green\"}, {\"ID\": 217, \"Gemeente\": \"BREDENE\", \"Bevolking\": 18129, \"niscode\": 35002, \"DATE\": \"2020-03-31\", \"COUNT\": 1, \"color\": \"red\"}, {\"ID\": 218, \"Gemeente\": \"GISTEL\", \"Bevolking\": 12172, \"niscode\": 35005, \"DATE\": \"2020-03-31\", \"COUNT\": 3, \"color\": \"blue\"}, {\"ID\": 219, \"Gemeente\": \"ICHTEGEM\", \"Bevolking\": 14037, \"niscode\": 35006, \"DATE\": \"2020-03-31\", \"COUNT\": 4, \"color\": \"green\"}, {\"ID\": 220, \"Gemeente\": \"MIDDELKERKE\", \"Bevolking\": 19568, \"niscode\": 35011, \"DATE\": \"2020-03-31\", \"COUNT\": 1, \"color\": \"green\"}, {\"ID\": 221, \"Gemeente\": \"OOSTENDE\", \"Bevolking\": 71561, \"niscode\": 35013, \"DATE\": \"2020-03-31\", \"COUNT\": 4, \"color\": \"blue\"}, {\"ID\": 222, \"Gemeente\": \"OUDENBURG\", \"Bevolking\": 9487, \"niscode\": 35014, \"DATE\": \"2020-03-31\", \"COUNT\": 2, \"color\": \"red\"}, {\"ID\": 223, \"Gemeente\": \"DE HAAN\", \"Bevolking\": 12703, \"niscode\": 35029, \"DATE\": \"2020-03-31\", \"COUNT\": 1, \"color\": \"green\"}, {\"ID\": 224, \"Gemeente\": \"HOOGLEDE\", \"Bevolking\": 9977, \"niscode\": 36006, \"DATE\": \"2020-03-31\", \"COUNT\": 2, \"color\": \"yellow\"}, {\"ID\": 225, \"Gemeente\": \"INGELMUNSTER\", \"Bevolking\": 11122, \"niscode\": 36007, \"DATE\": \"2020-03-31\", \"COUNT\": 0, \"color\": \"red\"}, {\"ID\": 226, \"Gemeente\": \"IZEGEM\", \"Bevolking\": 28311, \"niscode\": 36008, \"DATE\": \"2020-03-31\", \"COUNT\": 3, \"color\": \"yellow\"}, {\"ID\": 227, \"Gemeente\": \"LEDEGEM\", \"Bevolking\": 9681, \"niscode\": 36010, \"DATE\": \"2020-03-31\", \"COUNT\": 1, \"color\": \"yellow\"}, {\"ID\": 228, \"Gemeente\": \"LICHTERVELDE\", \"Bevolking\": 8954, \"niscode\": 36011, \"DATE\": \"2020-03-31\", \"COUNT\": 0, \"color\": \"yellow\"}, {\"ID\": 229, \"Gemeente\": \"MOORSLEDE\", \"Bevolking\": 11429, \"niscode\": 36012, \"DATE\": \"2020-03-31\", \"COUNT\": 2, \"color\": \"red\"}, {\"ID\": 230, \"Gemeente\": \"ROESELARE\", \"Bevolking\": 63402, \"niscode\": 36015, \"DATE\": \"2020-03-31\", \"COUNT\": 11, \"color\": \"blue\"}, {\"ID\": 231, \"Gemeente\": \"STADEN\", \"Bevolking\": 11515, \"niscode\": 36019, \"DATE\": \"2020-03-31\", \"COUNT\": 0, \"color\": \"yellow\"}, {\"ID\": 232, \"Gemeente\": \"DENTERGEM\", \"Bevolking\": 8615, \"niscode\": 37002, \"DATE\": \"2020-03-31\", \"COUNT\": 1, \"color\": \"red\"}, {\"ID\": 233, \"Gemeente\": \"MEULEBEKE\", \"Bevolking\": 10815, \"niscode\": 37007, \"DATE\": \"2020-03-31\", \"COUNT\": 0, \"color\": \"yellow\"}, {\"ID\": 234, \"Gemeente\": \"OOSTROZEBEKE\", \"Bevolking\": 7913, \"niscode\": 37010, \"DATE\": \"2020-03-31\", \"COUNT\": 1, \"color\": \"green\"}, {\"ID\": 235, \"Gemeente\": \"PITTEM\", \"Bevolking\": 6713, \"niscode\": 37011, \"DATE\": \"2020-03-31\", \"COUNT\": 1, \"color\": \"green\"}, {\"ID\": 236, \"Gemeente\": \"RUISELEDE\", \"Bevolking\": 5360, \"niscode\": 37012, \"DATE\": \"2020-03-31\", \"COUNT\": 1, \"color\": \"green\"}, {\"ID\": 237, \"Gemeente\": \"TIELT\", \"Bevolking\": 20600, \"niscode\": 37015, \"DATE\": \"2020-03-31\", \"COUNT\": 2, \"color\": \"blue\"}, {\"ID\": 238, \"Gemeente\": \"WIELSBEKE\", \"Bevolking\": 9820, \"niscode\": 37017, \"DATE\": \"2020-03-31\", \"COUNT\": 2, \"color\": \"blue\"}, {\"ID\": 239, \"Gemeente\": \"WINGENE\", \"Bevolking\": 14410, \"niscode\": 37018, \"DATE\": \"2020-03-31\", \"COUNT\": 3, \"color\": \"red\"}, {\"ID\": 240, \"Gemeente\": \"ARDOOIE\", \"Bevolking\": 9083, \"niscode\": 37020, \"DATE\": \"2020-03-31\", \"COUNT\": 0, \"color\": \"yellow\"}, {\"ID\": 241, \"Gemeente\": \"ALVERINGEM\", \"Bevolking\": 4992, \"niscode\": 38002, \"DATE\": \"2020-03-31\", \"COUNT\": 1, \"color\": \"green\"}, {\"ID\": 242, \"Gemeente\": \"DE PANNE\", \"Bevolking\": 11123, \"niscode\": 38008, \"DATE\": \"2020-03-31\", \"COUNT\": 1, \"color\": \"green\"}, {\"ID\": 243, \"Gemeente\": \"KOKSIJDE\", \"Bevolking\": 21869, \"niscode\": 38014, \"DATE\": \"2020-03-31\", \"COUNT\": 2, \"color\": \"green\"}, {\"ID\": 244, \"Gemeente\": \"NIEUWPOORT\", \"Bevolking\": 11623, \"niscode\": 38016, \"DATE\": \"2020-03-31\", \"COUNT\": 2, \"color\": \"red\"}, {\"ID\": 245, \"Gemeente\": \"VEURNE\", \"Bevolking\": 12096, \"niscode\": 38025, \"DATE\": \"2020-03-31\", \"COUNT\": 0, \"color\": \"yellow\"}, {\"ID\": 246, \"Gemeente\": \"AALST\", \"Bevolking\": 87204, \"niscode\": 41002, \"DATE\": \"2020-03-31\", \"COUNT\": 1, \"color\": \"yellow\"}, {\"ID\": 247, \"Gemeente\": \"DENDERLEEUW\", \"Bevolking\": 20532, \"niscode\": 41011, \"DATE\": \"2020-03-31\", \"COUNT\": 0, \"color\": \"red\"}, {\"ID\": 248, \"Gemeente\": \"GERAARDSBERGEN\", \"Bevolking\": 33563, \"niscode\": 41018, \"DATE\": \"2020-03-31\", \"COUNT\": 0, \"color\": \"blue\"}, {\"ID\": 249, \"Gemeente\": \"HAALTERT\", \"Bevolking\": 18570, \"niscode\": 41024, \"DATE\": \"2020-03-31\", \"COUNT\": 1, \"color\": \"yellow\"}, {\"ID\": 250, \"Gemeente\": \"HERZELE\", \"Bevolking\": 18175, \"niscode\": 41027, \"DATE\": \"2020-03-31\", \"COUNT\": 0, \"color\": \"blue\"}, {\"ID\": 251, \"Gemeente\": \"LEDE\", \"Bevolking\": 18864, \"niscode\": 41034, \"DATE\": \"2020-03-31\", \"COUNT\": 0, \"color\": \"yellow\"}, {\"ID\": 252, \"Gemeente\": \"NINOVE\", \"Bevolking\": 39255, \"niscode\": 41048, \"DATE\": \"2020-03-31\", \"COUNT\": 1, \"color\": \"green\"}, {\"ID\": 253, \"Gemeente\": \"SINT-LIEVENS-HOUTEM\", \"Bevolking\": 10397, \"niscode\": 41063, \"DATE\": \"2020-03-31\", \"COUNT\": 0, \"color\": \"red\"}, {\"ID\": 254, \"Gemeente\": \"ZOTTEGEM\", \"Bevolking\": 26685, \"niscode\": 41081, \"DATE\": \"2020-03-31\", \"COUNT\": 1, \"color\": \"green\"}, {\"ID\": 255, \"Gemeente\": \"ERPE-MERE\", \"Bevolking\": 20127, \"niscode\": 41082, \"DATE\": \"2020-03-31\", \"COUNT\": 0, \"color\": \"yellow\"}, {\"ID\": 256, \"Gemeente\": \"BERLARE\", \"Bevolking\": 15090, \"niscode\": 42003, \"DATE\": \"2020-03-31\", \"COUNT\": 0, \"color\": \"blue\"}, {\"ID\": 257, \"Gemeente\": \"BUGGENHOUT\", \"Bevolking\": 14652, \"niscode\": 42004, \"DATE\": \"2020-03-31\", \"COUNT\": 1, \"color\": \"blue\"}, {\"ID\": 258, \"Gemeente\": \"DENDERMONDE\", \"Bevolking\": 45849, \"niscode\": 42006, \"DATE\": \"2020-03-31\", \"COUNT\": 5, \"color\": \"blue\"}, {\"ID\": 259, \"Gemeente\": \"HAMME\", \"Bevolking\": 24930, \"niscode\": 42008, \"DATE\": \"2020-03-31\", \"COUNT\": 1, \"color\": \"yellow\"}, {\"ID\": 260, \"Gemeente\": \"LAARNE\", \"Bevolking\": 12367, \"niscode\": 42010, \"DATE\": \"2020-03-31\", \"COUNT\": 2, \"color\": \"red\"}, {\"ID\": 261, \"Gemeente\": \"LEBBEKE\", \"Bevolking\": 19531, \"niscode\": 42011, \"DATE\": \"2020-03-31\", \"COUNT\": 0, \"color\": \"blue\"}, {\"ID\": 262, \"Gemeente\": \"WAASMUNSTER\", \"Bevolking\": 10929, \"niscode\": 42023, \"DATE\": \"2020-03-31\", \"COUNT\": 2, \"color\": \"yellow\"}, {\"ID\": 263, \"Gemeente\": \"WETTEREN\", \"Bevolking\": 25936, \"niscode\": 42025, \"DATE\": \"2020-03-31\", \"COUNT\": 2, \"color\": \"blue\"}, {\"ID\": 264, \"Gemeente\": \"WICHELEN\", \"Bevolking\": 11643, \"niscode\": 42026, \"DATE\": \"2020-03-31\", \"COUNT\": 6, \"color\": \"red\"}, {\"ID\": 265, \"Gemeente\": \"ZELE\", \"Bevolking\": 21322, \"niscode\": 42028, \"DATE\": \"2020-03-31\", \"COUNT\": 0, \"color\": \"yellow\"}, {\"ID\": 266, \"Gemeente\": \"ASSENEDE\", \"Bevolking\": 14289, \"niscode\": 43002, \"DATE\": \"2020-03-31\", \"COUNT\": 0, \"color\": \"blue\"}, {\"ID\": 267, \"Gemeente\": \"EEKLO\", \"Bevolking\": 21276, \"niscode\": 43005, \"DATE\": \"2020-03-31\", \"COUNT\": 0, \"color\": \"blue\"}, {\"ID\": 268, \"Gemeente\": \"KAPRIJKE\", \"Bevolking\": 6436, \"niscode\": 43007, \"DATE\": \"2020-03-31\", \"COUNT\": 0, \"color\": \"blue\"}, {\"ID\": 269, \"Gemeente\": \"MALDEGEM\", \"Bevolking\": 23957, \"niscode\": 43010, \"DATE\": \"2020-03-31\", \"COUNT\": 0, \"color\": \"blue\"}, {\"ID\": 270, \"Gemeente\": \"SINT-LAUREINS\", \"Bevolking\": 6814, \"niscode\": 43014, \"DATE\": \"2020-03-31\", \"COUNT\": 0, \"color\": \"red\"}, {\"ID\": 271, \"Gemeente\": \"ZELZATE\", \"Bevolking\": 12889, \"niscode\": 43018, \"DATE\": \"2020-03-31\", \"COUNT\": 0, \"color\": \"blue\"}, {\"ID\": 272, \"Gemeente\": \"AALTER\", \"Bevolking\": 20548, \"niscode\": 44001, \"DATE\": \"2020-03-31\", \"COUNT\": 1, \"color\": \"red\"}, {\"ID\": 273, \"Gemeente\": \"DEINZE\", \"Bevolking\": 31085, \"niscode\": 44011, \"DATE\": \"2020-03-31\", \"COUNT\": 1, \"color\": \"yellow\"}, {\"ID\": 274, \"Gemeente\": \"DE PINTE\", \"Bevolking\": 10878, \"niscode\": 44012, \"DATE\": \"2020-03-31\", \"COUNT\": 0, \"color\": \"green\"}, {\"ID\": 275, \"Gemeente\": \"DESTELBERGEN\", \"Bevolking\": 18525, \"niscode\": 44013, \"DATE\": \"2020-03-31\", \"COUNT\": 2, \"color\": \"red\"}, {\"ID\": 276, \"Gemeente\": \"EVERGEM\", \"Bevolking\": 35611, \"niscode\": 44019, \"DATE\": \"2020-03-31\", \"COUNT\": 1, \"color\": \"yellow\"}, {\"ID\": 277, \"Gemeente\": \"GAVERE\", \"Bevolking\": 12905, \"niscode\": 44020, \"DATE\": \"2020-03-31\", \"COUNT\": 0, \"color\": \"red\"}, {\"ID\": 278, \"Gemeente\": \"GENT\", \"Bevolking\": 263614, \"niscode\": 44021, \"DATE\": \"2020-03-31\", \"COUNT\": 18, \"color\": \"red\"}, {\"ID\": 279, \"Gemeente\": \"KNESSELARE\", \"Bevolking\": 8236, \"niscode\": 44029, \"DATE\": \"2020-03-31\", \"COUNT\": 1, \"color\": \"yellow\"}, {\"ID\": 280, \"Gemeente\": \"LOCHRISTI\", \"Bevolking\": 22605, \"niscode\": 44034, \"DATE\": \"2020-03-31\", \"COUNT\": 1, \"color\": \"red\"}, {\"ID\": 281, \"Gemeente\": \"LOVENDEGEM\", \"Bevolking\": 9574, \"niscode\": 44036, \"DATE\": \"2020-03-31\", \"COUNT\": 1, \"color\": \"yellow\"}, {\"ID\": 282, \"Gemeente\": \"MELLE\", \"Bevolking\": 11803, \"niscode\": 44040, \"DATE\": \"2020-03-31\", \"COUNT\": 2, \"color\": \"red\"}, {\"ID\": 283, \"Gemeente\": \"MERELBEKE\", \"Bevolking\": 24755, \"niscode\": 44043, \"DATE\": \"2020-03-31\", \"COUNT\": 3, \"color\": \"green\"}, {\"ID\": 284, \"Gemeente\": \"MOERBEKE\", \"Bevolking\": 6566, \"niscode\": 44045, \"DATE\": \"2020-03-31\", \"COUNT\": 1, \"color\": \"blue\"}, {\"ID\": 285, \"Gemeente\": \"NAZARETH\", \"Bevolking\": 11701, \"niscode\": 44048, \"DATE\": \"2020-03-31\", \"COUNT\": 0, \"color\": \"red\"}, {\"ID\": 286, \"Gemeente\": \"NEVELE\", \"Bevolking\": 12179, \"niscode\": 44049, \"DATE\": \"2020-03-31\", \"COUNT\": 0, \"color\": \"green\"}, {\"ID\": 287, \"Gemeente\": \"OOSTERZELE\", \"Bevolking\": 13678, \"niscode\": 44052, \"DATE\": \"2020-03-31\", \"COUNT\": 1, \"color\": \"blue\"}, {\"ID\": 288, \"Gemeente\": \"SINT-MARTENS-LATEM\", \"Bevolking\": 8366, \"niscode\": 44064, \"DATE\": \"2020-03-31\", \"COUNT\": 1, \"color\": \"blue\"}, {\"ID\": 289, \"Gemeente\": \"WAARSCHOOT\", \"Bevolking\": 7967, \"niscode\": 44072, \"DATE\": \"2020-03-31\", \"COUNT\": 1, \"color\": \"red\"}, {\"ID\": 290, \"Gemeente\": \"WACHTEBEKE\", \"Bevolking\": 7812, \"niscode\": 44073, \"DATE\": \"2020-03-31\", \"COUNT\": 2, \"color\": \"red\"}, {\"ID\": 291, \"Gemeente\": \"ZOMERGEM\", \"Bevolking\": 8466, \"niscode\": 44080, \"DATE\": \"2020-03-31\", \"COUNT\": 1, \"color\": \"green\"}, {\"ID\": 292, \"Gemeente\": \"ZULTE\", \"Bevolking\": 15779, \"niscode\": 44081, \"DATE\": \"2020-03-31\", \"COUNT\": 2, \"color\": \"blue\"}, {\"ID\": 293, \"Gemeente\": \"KRUISHOUTEM\", \"Bevolking\": 8086, \"niscode\": 45017, \"DATE\": \"2020-03-31\", \"COUNT\": 0, \"color\": \"yellow\"}, {\"ID\": 294, \"Gemeente\": \"OUDENAARDE\", \"Bevolking\": 31587, \"niscode\": 45035, \"DATE\": \"2020-03-31\", \"COUNT\": 5, \"color\": \"yellow\"}, {\"ID\": 295, \"Gemeente\": \"RONSE\", \"Bevolking\": 26375, \"niscode\": 45041, \"DATE\": \"2020-03-31\", \"COUNT\": 22, \"color\": \"red\"}, {\"ID\": 296, \"Gemeente\": \"ZINGEM\", \"Bevolking\": 7552, \"niscode\": 45057, \"DATE\": \"2020-03-31\", \"COUNT\": 0, \"color\": \"blue\"}, {\"ID\": 297, \"Gemeente\": \"BRAKEL\", \"Bevolking\": 14809, \"niscode\": 45059, \"DATE\": \"2020-03-31\", \"COUNT\": 2, \"color\": \"yellow\"}, {\"ID\": 298, \"Gemeente\": \"KLUISBERGEN\", \"Bevolking\": 6566, \"niscode\": 45060, \"DATE\": \"2020-03-31\", \"COUNT\": 2, \"color\": \"yellow\"}, {\"ID\": 299, \"Gemeente\": \"WORTEGEM-PETEGEM\", \"Bevolking\": 6395, \"niscode\": 45061, \"DATE\": \"2020-03-31\", \"COUNT\": 3, \"color\": \"red\"}, {\"ID\": 300, \"Gemeente\": \"HOREBEKE\", \"Bevolking\": 2024, \"niscode\": 45062, \"DATE\": \"2020-03-31\", \"COUNT\": 0, \"color\": \"green\"}, {\"ID\": 301, \"Gemeente\": \"LIERDE\", \"Bevolking\": 6573, \"niscode\": 45063, \"DATE\": \"2020-03-31\", \"COUNT\": 0, \"color\": \"red\"}, {\"ID\": 302, \"Gemeente\": \"MAARKEDAL\", \"Bevolking\": 6337, \"niscode\": 45064, \"DATE\": \"2020-03-31\", \"COUNT\": 1, \"color\": \"yellow\"}, {\"ID\": 303, \"Gemeente\": \"ZWALM\", \"Bevolking\": 8165, \"niscode\": 45065, \"DATE\": \"2020-03-31\", \"COUNT\": 0, \"color\": \"yellow\"}, {\"ID\": 304, \"Gemeente\": \"BEVEREN\", \"Bevolking\": 49000, \"niscode\": 46003, \"DATE\": \"2020-03-31\", \"COUNT\": 3, \"color\": \"red\"}, {\"ID\": 305, \"Gemeente\": \"KRUIBEKE\", \"Bevolking\": 16842, \"niscode\": 46013, \"DATE\": \"2020-03-31\", \"COUNT\": 1, \"color\": \"red\"}, {\"ID\": 306, \"Gemeente\": \"LOKEREN\", \"Bevolking\": 42027, \"niscode\": 46014, \"DATE\": \"2020-03-31\", \"COUNT\": 1, \"color\": \"green\"}, {\"ID\": 307, \"Gemeente\": \"SINT-GILLIS-WAAS\", \"Bevolking\": 19481, \"niscode\": 46020, \"DATE\": \"2020-03-31\", \"COUNT\": 2, \"color\": \"yellow\"}, {\"ID\": 308, \"Gemeente\": \"SINT-NIKLAAS\", \"Bevolking\": 78520, \"niscode\": 46021, \"DATE\": \"2020-03-31\", \"COUNT\": 12, \"color\": \"blue\"}, {\"ID\": 309, \"Gemeente\": \"STEKENE\", \"Bevolking\": 18677, \"niscode\": 46024, \"DATE\": \"2020-03-31\", \"COUNT\": 0, \"color\": \"yellow\"}, {\"ID\": 310, \"Gemeente\": \"TEMSE\", \"Bevolking\": 30166, \"niscode\": 46025, \"DATE\": \"2020-03-31\", \"COUNT\": 4, \"color\": \"red\"}, {\"ID\": 311, \"Gemeente\": \"AAT\", \"Bevolking\": 29487, \"niscode\": 51004, \"DATE\": \"2020-03-31\", \"COUNT\": 2, \"color\": \"red\"}, {\"ID\": 312, \"Gemeente\": \"BELOEIL\", \"Bevolking\": 14036, \"niscode\": 51008, \"DATE\": \"2020-03-31\", \"COUNT\": 0, \"color\": \"blue\"}, {\"ID\": 313, \"Gemeente\": \"BERNISSART\", \"Bevolking\": 11855, \"niscode\": 51009, \"DATE\": \"2020-03-31\", \"COUNT\": 1, \"color\": \"yellow\"}, {\"ID\": 314, \"Gemeente\": \"BRUGELETTE\", \"Bevolking\": 3712, \"niscode\": 51012, \"DATE\": \"2020-03-31\", \"COUNT\": 1, \"color\": \"red\"}, {\"ID\": 315, \"Gemeente\": \"CHIEVRES\", \"Bevolking\": 6916, \"niscode\": 51014, \"DATE\": \"2020-03-31\", \"COUNT\": 0, \"color\": \"green\"}, {\"ID\": 316, \"Gemeente\": \"ELZELE\", \"Bevolking\": 5995, \"niscode\": 51017, \"DATE\": \"2020-03-31\", \"COUNT\": 0, \"color\": \"green\"}, {\"ID\": 317, \"Gemeente\": \"VLOESBERG\", \"Bevolking\": 3429, \"niscode\": 51019, \"DATE\": \"2020-03-31\", \"COUNT\": 2, \"color\": \"blue\"}, {\"ID\": 318, \"Gemeente\": \"FRASNES-LEZ-ANVAING\", \"Bevolking\": 11814, \"niscode\": 51065, \"DATE\": \"2020-03-31\", \"COUNT\": 3, \"color\": \"green\"}, {\"ID\": 319, \"Gemeente\": \"CHAPELLE-LEZ-HERLAIMONT\", \"Bevolking\": 14790, \"niscode\": 52010, \"DATE\": \"2020-03-31\", \"COUNT\": 3, \"color\": \"yellow\"}, {\"ID\": 320, \"Gemeente\": \"CHARLEROI\", \"Bevolking\": 202376, \"niscode\": 52011, \"DATE\": \"2020-03-31\", \"COUNT\": 3, \"color\": \"green\"}, {\"ID\": 321, \"Gemeente\": \"CHATELET\", \"Bevolking\": 35620, \"niscode\": 52012, \"DATE\": \"2020-03-31\", \"COUNT\": 1, \"color\": \"blue\"}, {\"ID\": 322, \"Gemeente\": \"COURCELLES\", \"Bevolking\": 31132, \"niscode\": 52015, \"DATE\": \"2020-03-31\", \"COUNT\": 0, \"color\": \"blue\"}, {\"ID\": 323, \"Gemeente\": \"FARCIENNES\", \"Bevolking\": 11249, \"niscode\": 52018, \"DATE\": \"2020-03-31\", \"COUNT\": 0, \"color\": \"blue\"}, {\"ID\": 324, \"Gemeente\": \"FLEURUS\", \"Bevolking\": 23022, \"niscode\": 52021, \"DATE\": \"2020-03-31\", \"COUNT\": 0, \"color\": \"blue\"}, {\"ID\": 325, \"Gemeente\": \"FONTAINE-L'EVEQUE\", \"Bevolking\": 17800, \"niscode\": 52022, \"DATE\": \"2020-03-31\", \"COUNT\": 1, \"color\": \"yellow\"}, {\"ID\": 326, \"Gemeente\": \"GERPINNES\", \"Bevolking\": 12795, \"niscode\": 52025, \"DATE\": \"2020-03-31\", \"COUNT\": 1, \"color\": \"yellow\"}, {\"ID\": 327, \"Gemeente\": \"MANAGE\", \"Bevolking\": 23122, \"niscode\": 52043, \"DATE\": \"2020-03-31\", \"COUNT\": 5, \"color\": \"blue\"}, {\"ID\": 328, \"Gemeente\": \"MONTIGNY-LE-TILLEUL\", \"Bevolking\": 10124, \"niscode\": 52048, \"DATE\": \"2020-03-31\", \"COUNT\": 1, \"color\": \"red\"}, {\"ID\": 329, \"Gemeente\": \"PONT-A-CELLES\", \"Bevolking\": 17231, \"niscode\": 52055, \"DATE\": \"2020-03-31\", \"COUNT\": 1, \"color\": \"green\"}, {\"ID\": 330, \"Gemeente\": \"SENEFFE\", \"Bevolking\": 11272, \"niscode\": 52063, \"DATE\": \"2020-03-31\", \"COUNT\": 2, \"color\": \"yellow\"}, {\"ID\": 331, \"Gemeente\": \"AISEAU-PRESLES\", \"Bevolking\": 10736, \"niscode\": 52074, \"DATE\": \"2020-03-31\", \"COUNT\": 1, \"color\": \"yellow\"}, {\"ID\": 332, \"Gemeente\": \"LES BONS VILLERS\", \"Bevolking\": 9474, \"niscode\": 52075, \"DATE\": \"2020-03-31\", \"COUNT\": 2, \"color\": \"yellow\"}, {\"ID\": 333, \"Gemeente\": \"BOUSSU\", \"Bevolking\": 19850, \"niscode\": 53014, \"DATE\": \"2020-03-31\", \"COUNT\": 0, \"color\": \"blue\"}, {\"ID\": 334, \"Gemeente\": \"DOUR\", \"Bevolking\": 16515, \"niscode\": 53020, \"DATE\": \"2020-03-31\", \"COUNT\": 3, \"color\": \"red\"}, {\"ID\": 335, \"Gemeente\": \"FRAMERIES\", \"Bevolking\": 21966, \"niscode\": 53028, \"DATE\": \"2020-03-31\", \"COUNT\": 8, \"color\": \"blue\"}, {\"ID\": 336, \"Gemeente\": \"HENSIES\", \"Bevolking\": 6859, \"niscode\": 53039, \"DATE\": \"2020-03-31\", \"COUNT\": 1, \"color\": \"green\"}, {\"ID\": 337, \"Gemeente\": \"JURBEKE\", \"Bevolking\": 10538, \"niscode\": 53044, \"DATE\": \"2020-03-31\", \"COUNT\": 0, \"color\": \"yellow\"}, {\"ID\": 338, \"Gemeente\": \"LENS\", \"Bevolking\": 4579, \"niscode\": 53046, \"DATE\": \"2020-03-31\", \"COUNT\": 1, \"color\": \"green\"}, {\"ID\": 339, \"Gemeente\": \"BERGEN\", \"Bevolking\": 95568, \"niscode\": 53053, \"DATE\": \"2020-03-31\", \"COUNT\": 17, \"color\": \"blue\"}, {\"ID\": 340, \"Gemeente\": \"QUAREGNON\", \"Bevolking\": 18875, \"niscode\": 53065, \"DATE\": \"2020-03-31\", \"COUNT\": 6, \"color\": \"yellow\"}, {\"ID\": 341, \"Gemeente\": \"QUIEVRAIN\", \"Bevolking\": 6730, \"niscode\": 53068, \"DATE\": \"2020-03-31\", \"COUNT\": 1, \"color\": \"green\"}, {\"ID\": 342, \"Gemeente\": \"SAINT-GHISLAIN\", \"Bevolking\": 23401, \"niscode\": 53070, \"DATE\": \"2020-03-31\", \"COUNT\": 7, \"color\": \"green\"}, {\"ID\": 343, \"Gemeente\": \"COLFONTAINE\", \"Bevolking\": 20736, \"niscode\": 53082, \"DATE\": \"2020-03-31\", \"COUNT\": 2, \"color\": \"yellow\"}, {\"ID\": 344, \"Gemeente\": \"HONNELLES\", \"Bevolking\": 5159, \"niscode\": 53083, \"DATE\": \"2020-03-31\", \"COUNT\": 1, \"color\": \"green\"}, {\"ID\": 345, \"Gemeente\": \"QUEVY\", \"Bevolking\": 8087, \"niscode\": 53084, \"DATE\": \"2020-03-31\", \"COUNT\": 3, \"color\": \"green\"}, {\"ID\": 346, \"Gemeente\": \"MOESKROEN\", \"Bevolking\": 58234, \"niscode\": 54007, \"DATE\": \"2020-03-31\", \"COUNT\": 6, \"color\": \"blue\"}, {\"ID\": 347, \"Gemeente\": \"KOMEN-WAASTEN\", \"Bevolking\": 18063, \"niscode\": 54010, \"DATE\": \"2020-03-31\", \"COUNT\": 2, \"color\": \"yellow\"}, {\"ID\": 348, \"Gemeente\": \"'S GRAVENBRAKEL\", \"Bevolking\": 22045, \"niscode\": 55004, \"DATE\": \"2020-03-31\", \"COUNT\": 4, \"color\": \"blue\"}, {\"ID\": 349, \"Gemeente\": \"EDINGEN\", \"Bevolking\": 13734, \"niscode\": 55010, \"DATE\": \"2020-03-31\", \"COUNT\": 3, \"color\": \"yellow\"}, {\"ID\": 350, \"Gemeente\": \"LA LOUVIERE\", \"Bevolking\": 80637, \"niscode\": 55022, \"DATE\": \"2020-03-31\", \"COUNT\": 11, \"color\": \"red\"}, {\"ID\": 351, \"Gemeente\": \"LESSEN\", \"Bevolking\": 18552, \"niscode\": 55023, \"DATE\": \"2020-03-31\", \"COUNT\": 2, \"color\": \"blue\"}, {\"ID\": 352, \"Gemeente\": \"LE ROEULX\", \"Bevolking\": 8749, \"niscode\": 55035, \"DATE\": \"2020-03-31\", \"COUNT\": 1, \"color\": \"green\"}, {\"ID\": 353, \"Gemeente\": \"OPZULLIK\", \"Bevolking\": 8407, \"niscode\": 55039, \"DATE\": \"2020-03-31\", \"COUNT\": 0, \"color\": \"green\"}, {\"ID\": 354, \"Gemeente\": \"ZINNIK\", \"Bevolking\": 28287, \"niscode\": 55040, \"DATE\": \"2020-03-31\", \"COUNT\": 5, \"color\": \"blue\"}, {\"ID\": 355, \"Gemeente\": \"ECAUSSINNES\", \"Bevolking\": 11189, \"niscode\": 55050, \"DATE\": \"2020-03-31\", \"COUNT\": 0, \"color\": \"red\"}, {\"ID\": 356, \"Gemeente\": \"ANDERLUES\", \"Bevolking\": 12370, \"niscode\": 56001, \"DATE\": \"2020-03-31\", \"COUNT\": 2, \"color\": \"green\"}, {\"ID\": 357, \"Gemeente\": \"BEAUMONT\", \"Bevolking\": 7158, \"niscode\": 56005, \"DATE\": \"2020-03-31\", \"COUNT\": 0, \"color\": \"red\"}, {\"ID\": 358, \"Gemeente\": \"BINCHE\", \"Bevolking\": 33598, \"niscode\": 56011, \"DATE\": \"2020-03-31\", \"COUNT\": 2, \"color\": \"green\"}, {\"ID\": 359, \"Gemeente\": \"CHIMAY\", \"Bevolking\": 9728, \"niscode\": 56016, \"DATE\": \"2020-03-31\", \"COUNT\": 0, \"color\": \"red\"}, {\"ID\": 360, \"Gemeente\": \"ERQUELINNES\", \"Bevolking\": 9972, \"niscode\": 56022, \"DATE\": \"2020-03-31\", \"COUNT\": 0, \"color\": \"green\"}, {\"ID\": 361, \"Gemeente\": \"FROIDCHAPELLE\", \"Bevolking\": 3992, \"niscode\": 56029, \"DATE\": \"2020-03-31\", \"COUNT\": 0, \"color\": \"red\"}, {\"ID\": 362, \"Gemeente\": \"LOBBES\", \"Bevolking\": 5825, \"niscode\": 56044, \"DATE\": \"2020-03-31\", \"COUNT\": 1, \"color\": \"green\"}, {\"ID\": 363, \"Gemeente\": \"MERBES-LE-CHATEAU\", \"Bevolking\": 4213, \"niscode\": 56049, \"DATE\": \"2020-03-31\", \"COUNT\": 0, \"color\": \"blue\"}, {\"ID\": 364, \"Gemeente\": \"MOMIGNIES\", \"Bevolking\": 5340, \"niscode\": 56051, \"DATE\": \"2020-03-31\", \"COUNT\": 0, \"color\": \"blue\"}, {\"ID\": 365, \"Gemeente\": \"THUIN\", \"Bevolking\": 14699, \"niscode\": 56078, \"DATE\": \"2020-03-31\", \"COUNT\": 0, \"color\": \"blue\"}, {\"ID\": 366, \"Gemeente\": \"ESTINNES\", \"Bevolking\": 7715, \"niscode\": 56085, \"DATE\": \"2020-03-31\", \"COUNT\": 0, \"color\": \"green\"}, {\"ID\": 367, \"Gemeente\": \"HAM-SUR-HEURE-NALINNES\", \"Bevolking\": 13628, \"niscode\": 56086, \"DATE\": \"2020-03-31\", \"COUNT\": 0, \"color\": \"green\"}, {\"ID\": 368, \"Gemeente\": \"MORLANWELZ\", \"Bevolking\": 19019, \"niscode\": 56087, \"DATE\": \"2020-03-31\", \"COUNT\": 6, \"color\": \"red\"}, {\"ID\": 369, \"Gemeente\": \"SIVRY-RANCE\", \"Bevolking\": 4791, \"niscode\": 56088, \"DATE\": \"2020-03-31\", \"COUNT\": 0, \"color\": \"yellow\"}, {\"ID\": 370, \"Gemeente\": \"ANTOING\", \"Bevolking\": 7720, \"niscode\": 57003, \"DATE\": \"2020-03-31\", \"COUNT\": 3, \"color\": \"blue\"}, {\"ID\": 371, \"Gemeente\": \"CELLES\", \"Bevolking\": 5695, \"niscode\": 57018, \"DATE\": \"2020-03-31\", \"COUNT\": 0, \"color\": \"yellow\"}, {\"ID\": 372, \"Gemeente\": \"ESTAIMPUIS\", \"Bevolking\": 10557, \"niscode\": 57027, \"DATE\": \"2020-03-31\", \"COUNT\": 0, \"color\": \"yellow\"}, {\"ID\": 373, \"Gemeente\": \"PECQ\", \"Bevolking\": 5767, \"niscode\": 57062, \"DATE\": \"2020-03-31\", \"COUNT\": 0, \"color\": \"blue\"}, {\"ID\": 374, \"Gemeente\": \"PERUWELZ\", \"Bevolking\": 17110, \"niscode\": 57064, \"DATE\": \"2020-03-31\", \"COUNT\": 4, \"color\": \"blue\"}, {\"ID\": 375, \"Gemeente\": \"RUMES\", \"Bevolking\": 5223, \"niscode\": 57072, \"DATE\": \"2020-03-31\", \"COUNT\": 0, \"color\": \"red\"}, {\"ID\": 376, \"Gemeente\": \"DOORNIK\", \"Bevolking\": 68954, \"niscode\": 57081, \"DATE\": \"2020-03-31\", \"COUNT\": 4, \"color\": \"green\"}, {\"ID\": 377, \"Gemeente\": \"BRUNEHAUT\", \"Bevolking\": 8093, \"niscode\": 57093, \"DATE\": \"2020-03-31\", \"COUNT\": 0, \"color\": \"red\"}, {\"ID\": 378, \"Gemeente\": \"LEUZE-EN-HAINAUT\", \"Bevolking\": 13931, \"niscode\": 57094, \"DATE\": \"2020-03-31\", \"COUNT\": 2, \"color\": \"blue\"}, {\"ID\": 379, \"Gemeente\": \"MONT-DE-L'ENCLUS\", \"Bevolking\": 3790, \"niscode\": 57095, \"DATE\": \"2020-03-31\", \"COUNT\": 0, \"color\": \"red\"}, {\"ID\": 380, \"Gemeente\": \"AMAY\", \"Bevolking\": 14418, \"niscode\": 61003, \"DATE\": \"2020-03-31\", \"COUNT\": 0, \"color\": \"blue\"}, {\"ID\": 381, \"Gemeente\": \"BURDINNE\", \"Bevolking\": 3290, \"niscode\": 61010, \"DATE\": \"2020-03-31\", \"COUNT\": 0, \"color\": \"red\"}, {\"ID\": 382, \"Gemeente\": \"CLAVIER\", \"Bevolking\": 4645, \"niscode\": 61012, \"DATE\": \"2020-03-31\", \"COUNT\": 2, \"color\": \"red\"}, {\"ID\": 383, \"Gemeente\": \"FERRIERES\", \"Bevolking\": 4997, \"niscode\": 61019, \"DATE\": \"2020-03-31\", \"COUNT\": 0, \"color\": \"blue\"}, {\"ID\": 384, \"Gemeente\": \"HAMOIR\", \"Bevolking\": 3854, \"niscode\": 61024, \"DATE\": \"2020-03-31\", \"COUNT\": 0, \"color\": \"blue\"}, {\"ID\": 385, \"Gemeente\": \"HERON\", \"Bevolking\": 5464, \"niscode\": 61028, \"DATE\": \"2020-03-31\", \"COUNT\": 0, \"color\": \"green\"}, {\"ID\": 386, \"Gemeente\": \"HOEI\", \"Bevolking\": 21255, \"niscode\": 61031, \"DATE\": \"2020-03-31\", \"COUNT\": 1, \"color\": \"yellow\"}, {\"ID\": 387, \"Gemeente\": \"MARCHIN\", \"Bevolking\": 5434, \"niscode\": 61039, \"DATE\": \"2020-03-31\", \"COUNT\": 1, \"color\": \"blue\"}, {\"ID\": 388, \"Gemeente\": \"MODAVE\", \"Bevolking\": 4208, \"niscode\": 61041, \"DATE\": \"2020-03-31\", \"COUNT\": 0, \"color\": \"green\"}, {\"ID\": 389, \"Gemeente\": \"NANDRIN\", \"Bevolking\": 5758, \"niscode\": 61043, \"DATE\": \"2020-03-31\", \"COUNT\": 4, \"color\": \"blue\"}, {\"ID\": 390, \"Gemeente\": \"OUFFET\", \"Bevolking\": 2796, \"niscode\": 61048, \"DATE\": \"2020-03-31\", \"COUNT\": 0, \"color\": \"red\"}, {\"ID\": 391, \"Gemeente\": \"VERLAINE\", \"Bevolking\": 4287, \"niscode\": 61063, \"DATE\": \"2020-03-31\", \"COUNT\": 2, \"color\": \"yellow\"}, {\"ID\": 392, \"Gemeente\": \"VILLERS-LE-BOUILLET\", \"Bevolking\": 6599, \"niscode\": 61068, \"DATE\": \"2020-03-31\", \"COUNT\": 0, \"color\": \"red\"}, {\"ID\": 393, \"Gemeente\": \"WANZE\", \"Bevolking\": 13708, \"niscode\": 61072, \"DATE\": \"2020-03-31\", \"COUNT\": 2, \"color\": \"red\"}, {\"ID\": 394, \"Gemeente\": \"ANTHISNES\", \"Bevolking\": 4202, \"niscode\": 61079, \"DATE\": \"2020-03-31\", \"COUNT\": 1, \"color\": \"yellow\"}, {\"ID\": 395, \"Gemeente\": \"ENGIS\", \"Bevolking\": 6211, \"niscode\": 61080, \"DATE\": \"2020-03-31\", \"COUNT\": 2, \"color\": \"blue\"}, {\"ID\": 396, \"Gemeente\": \"TINLOT\", \"Bevolking\": 2739, \"niscode\": 61081, \"DATE\": \"2020-03-31\", \"COUNT\": 0, \"color\": \"blue\"}, {\"ID\": 397, \"Gemeente\": \"ANS\", \"Bevolking\": 28621, \"niscode\": 62003, \"DATE\": \"2020-03-31\", \"COUNT\": 0, \"color\": \"red\"}, {\"ID\": 398, \"Gemeente\": \"AWANS\", \"Bevolking\": 9231, \"niscode\": 62006, \"DATE\": \"2020-03-31\", \"COUNT\": 1, \"color\": \"blue\"}, {\"ID\": 399, \"Gemeente\": \"AYWAILLE\", \"Bevolking\": 12382, \"niscode\": 62009, \"DATE\": \"2020-03-31\", \"COUNT\": 1, \"color\": \"blue\"}, {\"ID\": 400, \"Gemeente\": \"BITSINGEN\", \"Bevolking\": 8930, \"niscode\": 62011, \"DATE\": \"2020-03-31\", \"COUNT\": 0, \"color\": \"green\"}, {\"ID\": 401, \"Gemeente\": \"BEYNE-HEUSAY\", \"Bevolking\": 11891, \"niscode\": 62015, \"DATE\": \"2020-03-31\", \"COUNT\": 8, \"color\": \"red\"}, {\"ID\": 402, \"Gemeente\": \"CHAUDFONTAINE\", \"Bevolking\": 20860, \"niscode\": 62022, \"DATE\": \"2020-03-31\", \"COUNT\": 2, \"color\": \"yellow\"}, {\"ID\": 403, \"Gemeente\": \"COMBLAIN-AU-PONT\", \"Bevolking\": 5401, \"niscode\": 62026, \"DATE\": \"2020-03-31\", \"COUNT\": 2, \"color\": \"green\"}, {\"ID\": 404, \"Gemeente\": \"DALHEM\", \"Bevolking\": 7520, \"niscode\": 62027, \"DATE\": \"2020-03-31\", \"COUNT\": 0, \"color\": \"green\"}, {\"ID\": 405, \"Gemeente\": \"ESNEUX\", \"Bevolking\": 13023, \"niscode\": 62032, \"DATE\": \"2020-03-31\", \"COUNT\": 9, \"color\": \"red\"}, {\"ID\": 406, \"Gemeente\": \"FLERON\", \"Bevolking\": 16366, \"niscode\": 62038, \"DATE\": \"2020-03-31\", \"COUNT\": 10, \"color\": \"yellow\"}, {\"ID\": 407, \"Gemeente\": \"HERSTAL\", \"Bevolking\": 40162, \"niscode\": 62051, \"DATE\": \"2020-03-31\", \"COUNT\": 1, \"color\": \"green\"}, {\"ID\": 408, \"Gemeente\": \"JUPRELLE\", \"Bevolking\": 9441, \"niscode\": 62060, \"DATE\": \"2020-03-31\", \"COUNT\": 2, \"color\": \"green\"}, {\"ID\": 409, \"Gemeente\": \"LUIK\", \"Bevolking\": 196623, \"niscode\": 62063, \"DATE\": \"2020-03-31\", \"COUNT\": 15, \"color\": \"blue\"}, {\"ID\": 410, \"Gemeente\": \"OUPEYE\", \"Bevolking\": 25444, \"niscode\": 62079, \"DATE\": \"2020-03-31\", \"COUNT\": 2, \"color\": \"yellow\"}, {\"ID\": 411, \"Gemeente\": \"SAINT-NICOLAS (LUIK)\", \"Bevolking\": 24295, \"niscode\": 62093, \"DATE\": \"2020-03-31\", \"COUNT\": 1, \"color\": \"blue\"}, {\"ID\": 412, \"Gemeente\": \"SERAING\", \"Bevolking\": 64021, \"niscode\": 62096, \"DATE\": \"2020-03-31\", \"COUNT\": 13, \"color\": \"green\"}, {\"ID\": 413, \"Gemeente\": \"SOUMAGNE\", \"Bevolking\": 17032, \"niscode\": 62099, \"DATE\": \"2020-03-31\", \"COUNT\": 3, \"color\": \"red\"}, {\"ID\": 414, \"Gemeente\": \"SPRIMONT\", \"Bevolking\": 14912, \"niscode\": 62100, \"DATE\": \"2020-03-31\", \"COUNT\": 2, \"color\": \"yellow\"}, {\"ID\": 415, \"Gemeente\": \"WEZET\", \"Bevolking\": 17899, \"niscode\": 62108, \"DATE\": \"2020-03-31\", \"COUNT\": 2, \"color\": \"yellow\"}, {\"ID\": 416, \"Gemeente\": \"GRACE-HOLLOGNE\", \"Bevolking\": 22775, \"niscode\": 62118, \"DATE\": \"2020-03-31\", \"COUNT\": 2, \"color\": \"yellow\"}, {\"ID\": 417, \"Gemeente\": \"BLEGNY\", \"Bevolking\": 13376, \"niscode\": 62119, \"DATE\": \"2020-03-31\", \"COUNT\": 2, \"color\": \"green\"}, {\"ID\": 418, \"Gemeente\": \"FLEMALLE\", \"Bevolking\": 26408, \"niscode\": 62120, \"DATE\": \"2020-03-31\", \"COUNT\": 12, \"color\": \"red\"}, {\"ID\": 419, \"Gemeente\": \"NEUPRE\", \"Bevolking\": 9965, \"niscode\": 62121, \"DATE\": \"2020-03-31\", \"COUNT\": 3, \"color\": \"blue\"}, {\"ID\": 420, \"Gemeente\": \"TROOZ\", \"Bevolking\": 8263, \"niscode\": 62122, \"DATE\": \"2020-03-31\", \"COUNT\": 4, \"color\": \"blue\"}, {\"ID\": 421, \"Gemeente\": \"AMEL\", \"Bevolking\": 5479, \"niscode\": 63001, \"DATE\": \"2020-03-31\", \"COUNT\": 1, \"color\": \"red\"}, {\"ID\": 422, \"Gemeente\": \"AUBEL\", \"Bevolking\": 4253, \"niscode\": 63003, \"DATE\": \"2020-03-31\", \"COUNT\": 0, \"color\": \"yellow\"}, {\"ID\": 423, \"Gemeente\": \"BAELEN\", \"Bevolking\": 4486, \"niscode\": 63004, \"DATE\": \"2020-03-31\", \"COUNT\": 0, \"color\": \"blue\"}, {\"ID\": 424, \"Gemeente\": \"B\\u00dcLLINGEN\", \"Bevolking\": 5457, \"niscode\": 63012, \"DATE\": \"2020-03-31\", \"COUNT\": 1, \"color\": \"blue\"}, {\"ID\": 425, \"Gemeente\": \"B\\u00dcTGENBACH\", \"Bevolking\": 5626, \"niscode\": 63013, \"DATE\": \"2020-03-31\", \"COUNT\": 0, \"color\": \"green\"}, {\"ID\": 426, \"Gemeente\": \"DISON\", \"Bevolking\": 15230, \"niscode\": 63020, \"DATE\": \"2020-03-31\", \"COUNT\": 1, \"color\": \"yellow\"}, {\"ID\": 427, \"Gemeente\": \"EUPEN\", \"Bevolking\": 19726, \"niscode\": 63023, \"DATE\": \"2020-03-31\", \"COUNT\": 0, \"color\": \"green\"}, {\"ID\": 428, \"Gemeente\": \"HERVE\", \"Bevolking\": 17628, \"niscode\": 63035, \"DATE\": \"2020-03-31\", \"COUNT\": 3, \"color\": \"blue\"}, {\"ID\": 429, \"Gemeente\": \"JALHAY\", \"Bevolking\": 8737, \"niscode\": 63038, \"DATE\": \"2020-03-31\", \"COUNT\": 1, \"color\": \"yellow\"}, {\"ID\": 430, \"Gemeente\": \"KELMIS\", \"Bevolking\": 11184, \"niscode\": 63040, \"DATE\": \"2020-03-31\", \"COUNT\": 4, \"color\": \"yellow\"}, {\"ID\": 431, \"Gemeente\": \"LIERNEUX\", \"Bevolking\": 3565, \"niscode\": 63045, \"DATE\": \"2020-03-31\", \"COUNT\": 0, \"color\": \"green\"}, {\"ID\": 432, \"Gemeente\": \"LIMBURG\", \"Bevolking\": 5902, \"niscode\": 63046, \"DATE\": \"2020-03-31\", \"COUNT\": 3, \"color\": \"green\"}, {\"ID\": 433, \"Gemeente\": \"LONTZEN\", \"Bevolking\": 5834, \"niscode\": 63048, \"DATE\": \"2020-03-31\", \"COUNT\": 0, \"color\": \"blue\"}, {\"ID\": 434, \"Gemeente\": \"MALMEDY\", \"Bevolking\": 12785, \"niscode\": 63049, \"DATE\": \"2020-03-31\", \"COUNT\": 1, \"color\": \"yellow\"}, {\"ID\": 435, \"Gemeente\": \"OLNE\", \"Bevolking\": 4038, \"niscode\": 63057, \"DATE\": \"2020-03-31\", \"COUNT\": 0, \"color\": \"green\"}, {\"ID\": 436, \"Gemeente\": \"PEPINSTER\", \"Bevolking\": 9711, \"niscode\": 63058, \"DATE\": \"2020-03-31\", \"COUNT\": 1, \"color\": \"blue\"}, {\"ID\": 437, \"Gemeente\": \"RAEREN\", \"Bevolking\": 10796, \"niscode\": 63061, \"DATE\": \"2020-03-31\", \"COUNT\": 4, \"color\": \"green\"}, {\"ID\": 438, \"Gemeente\": \"SANKT VITH\", \"Bevolking\": 9770, \"niscode\": 63067, \"DATE\": \"2020-03-31\", \"COUNT\": 0, \"color\": \"blue\"}, {\"ID\": 439, \"Gemeente\": \"SPA\", \"Bevolking\": 10156, \"niscode\": 63072, \"DATE\": \"2020-03-31\", \"COUNT\": 2, \"color\": \"red\"}, {\"ID\": 440, \"Gemeente\": \"STAVELOT\", \"Bevolking\": 7142, \"niscode\": 63073, \"DATE\": \"2020-03-31\", \"COUNT\": 0, \"color\": \"red\"}, {\"ID\": 441, \"Gemeente\": \"STOUMONT\", \"Bevolking\": 3172, \"niscode\": 63075, \"DATE\": \"2020-03-31\", \"COUNT\": 0, \"color\": \"red\"}, {\"ID\": 442, \"Gemeente\": \"THEUX\", \"Bevolking\": 12007, \"niscode\": 63076, \"DATE\": \"2020-03-31\", \"COUNT\": 3, \"color\": \"blue\"}, {\"ID\": 443, \"Gemeente\": \"VERVIERS\", \"Bevolking\": 55111, \"niscode\": 63079, \"DATE\": \"2020-03-31\", \"COUNT\": 2, \"color\": \"green\"}, {\"ID\": 444, \"Gemeente\": \"WEISMES\", \"Bevolking\": 7380, \"niscode\": 63080, \"DATE\": \"2020-03-31\", \"COUNT\": 0, \"color\": \"blue\"}, {\"ID\": 445, \"Gemeente\": \"WELKENRAEDT\", \"Bevolking\": 10060, \"niscode\": 63084, \"DATE\": \"2020-03-31\", \"COUNT\": 0, \"color\": \"red\"}, {\"ID\": 446, \"Gemeente\": \"TROIS-PONTS\", \"Bevolking\": 2560, \"niscode\": 63086, \"DATE\": \"2020-03-31\", \"COUNT\": 0, \"color\": \"yellow\"}, {\"ID\": 447, \"Gemeente\": \"BURG-REULAND\", \"Bevolking\": 3973, \"niscode\": 63087, \"DATE\": \"2020-03-31\", \"COUNT\": 0, \"color\": \"green\"}, {\"ID\": 448, \"Gemeente\": \"PLOMBIERES\", \"Bevolking\": 10510, \"niscode\": 63088, \"DATE\": \"2020-03-31\", \"COUNT\": 2, \"color\": \"blue\"}, {\"ID\": 449, \"Gemeente\": \"THIMISTER-CLERMONT\", \"Bevolking\": 5684, \"niscode\": 63089, \"DATE\": \"2020-03-31\", \"COUNT\": 0, \"color\": \"green\"}, {\"ID\": 450, \"Gemeente\": \"BERLOZ\", \"Bevolking\": 3141, \"niscode\": 64008, \"DATE\": \"2020-03-31\", \"COUNT\": 0, \"color\": \"blue\"}, {\"ID\": 451, \"Gemeente\": \"BRAIVES\", \"Bevolking\": 6382, \"niscode\": 64015, \"DATE\": \"2020-03-31\", \"COUNT\": 2, \"color\": \"green\"}, {\"ID\": 452, \"Gemeente\": \"CRISNEE\", \"Bevolking\": 3464, \"niscode\": 64021, \"DATE\": \"2020-03-31\", \"COUNT\": 0, \"color\": \"red\"}, {\"ID\": 453, \"Gemeente\": \"DONCEEL\", \"Bevolking\": 3089, \"niscode\": 64023, \"DATE\": \"2020-03-31\", \"COUNT\": 0, \"color\": \"blue\"}, {\"ID\": 454, \"Gemeente\": \"FEXHE-LE-HAUT-CLOCHER\", \"Bevolking\": 3205, \"niscode\": 64025, \"DATE\": \"2020-03-31\", \"COUNT\": 0, \"color\": \"blue\"}, {\"ID\": 455, \"Gemeente\": \"GEER\", \"Bevolking\": 3480, \"niscode\": 64029, \"DATE\": \"2020-03-31\", \"COUNT\": 0, \"color\": \"blue\"}, {\"ID\": 456, \"Gemeente\": \"HANNUIT\", \"Bevolking\": 16636, \"niscode\": 64034, \"DATE\": \"2020-03-31\", \"COUNT\": 0, \"color\": \"blue\"}, {\"ID\": 457, \"Gemeente\": \"LIJSEM\", \"Bevolking\": 3281, \"niscode\": 64047, \"DATE\": \"2020-03-31\", \"COUNT\": 0, \"color\": \"green\"}, {\"ID\": 458, \"Gemeente\": \"OERLE\", \"Bevolking\": 3902, \"niscode\": 64056, \"DATE\": \"2020-03-31\", \"COUNT\": 0, \"color\": \"green\"}, {\"ID\": 459, \"Gemeente\": \"REMICOURT\", \"Bevolking\": 5974, \"niscode\": 64063, \"DATE\": \"2020-03-31\", \"COUNT\": 0, \"color\": \"blue\"}, {\"ID\": 460, \"Gemeente\": \"SAINT-GEORGES-SUR-MEUSE\", \"Bevolking\": 6910, \"niscode\": 64065, \"DATE\": \"2020-03-31\", \"COUNT\": 0, \"color\": \"red\"}, {\"ID\": 461, \"Gemeente\": \"BORGWORM\", \"Bevolking\": 15436, \"niscode\": 64074, \"DATE\": \"2020-03-31\", \"COUNT\": 2, \"color\": \"yellow\"}, {\"ID\": 462, \"Gemeente\": \"WASSEIGES\", \"Bevolking\": 2960, \"niscode\": 64075, \"DATE\": \"2020-03-31\", \"COUNT\": 0, \"color\": \"red\"}, {\"ID\": 463, \"Gemeente\": \"FAIMES\", \"Bevolking\": 3953, \"niscode\": 64076, \"DATE\": \"2020-03-31\", \"COUNT\": 0, \"color\": \"blue\"}, {\"ID\": 464, \"Gemeente\": \"AS\", \"Bevolking\": 8241, \"niscode\": 71002, \"DATE\": \"2020-03-31\", \"COUNT\": 1, \"color\": \"red\"}, {\"ID\": 465, \"Gemeente\": \"BERINGEN\", \"Bevolking\": 46558, \"niscode\": 71004, \"DATE\": \"2020-03-31\", \"COUNT\": 6, \"color\": \"yellow\"}, {\"ID\": 466, \"Gemeente\": \"DIEPENBEEK\", \"Bevolking\": 19076, \"niscode\": 71011, \"DATE\": \"2020-03-31\", \"COUNT\": 6, \"color\": \"yellow\"}, {\"ID\": 467, \"Gemeente\": \"GENK\", \"Bevolking\": 66349, \"niscode\": 71016, \"DATE\": \"2020-03-31\", \"COUNT\": 17, \"color\": \"green\"}, {\"ID\": 468, \"Gemeente\": \"GINGELOM\", \"Bevolking\": 8368, \"niscode\": 71017, \"DATE\": \"2020-03-31\", \"COUNT\": 2, \"color\": \"yellow\"}, {\"ID\": 469, \"Gemeente\": \"HALEN\", \"Bevolking\": 9488, \"niscode\": 71020, \"DATE\": \"2020-03-31\", \"COUNT\": 1, \"color\": \"yellow\"}, {\"ID\": 470, \"Gemeente\": \"HASSELT\", \"Bevolking\": 78619, \"niscode\": 71022, \"DATE\": \"2020-03-31\", \"COUNT\": 8, \"color\": \"blue\"}, {\"ID\": 471, \"Gemeente\": \"HERK-DE-STAD\", \"Bevolking\": 12647, \"niscode\": 71024, \"DATE\": \"2020-03-31\", \"COUNT\": 1, \"color\": \"blue\"}, {\"ID\": 472, \"Gemeente\": \"LEOPOLDSBURG\", \"Bevolking\": 15835, \"niscode\": 71034, \"DATE\": \"2020-03-31\", \"COUNT\": 1, \"color\": \"blue\"}, {\"ID\": 473, \"Gemeente\": \"LUMMEN\", \"Bevolking\": 14967, \"niscode\": 71037, \"DATE\": \"2020-03-31\", \"COUNT\": 0, \"color\": \"blue\"}, {\"ID\": 474, \"Gemeente\": \"NIEUWERKERKEN\", \"Bevolking\": 6994, \"niscode\": 71045, \"DATE\": \"2020-03-31\", \"COUNT\": 0, \"color\": \"yellow\"}, {\"ID\": 475, \"Gemeente\": \"OPGLABBEEK\", \"Bevolking\": 10332, \"niscode\": 71047, \"DATE\": \"2020-03-31\", \"COUNT\": 3, \"color\": \"blue\"}, {\"ID\": 476, \"Gemeente\": \"SINT-TRUIDEN\", \"Bevolking\": 40637, \"niscode\": 71053, \"DATE\": \"2020-03-31\", \"COUNT\": 18, \"color\": \"red\"}, {\"ID\": 477, \"Gemeente\": \"TESSENDERLO\", \"Bevolking\": 18730, \"niscode\": 71057, \"DATE\": \"2020-03-31\", \"COUNT\": 5, \"color\": \"blue\"}, {\"ID\": 478, \"Gemeente\": \"ZONHOVEN\", \"Bevolking\": 21324, \"niscode\": 71066, \"DATE\": \"2020-03-31\", \"COUNT\": 5, \"color\": \"yellow\"}, {\"ID\": 479, \"Gemeente\": \"ZUTENDAAL\", \"Bevolking\": 7275, \"niscode\": 71067, \"DATE\": \"2020-03-31\", \"COUNT\": 2, \"color\": \"green\"}, {\"ID\": 480, \"Gemeente\": \"HAM\", \"Bevolking\": 10970, \"niscode\": 71069, \"DATE\": \"2020-03-31\", \"COUNT\": 4, \"color\": \"yellow\"}, {\"ID\": 481, \"Gemeente\": \"HEUSDEN-ZOLDER\", \"Bevolking\": 33874, \"niscode\": 71070, \"DATE\": \"2020-03-31\", \"COUNT\": 5, \"color\": \"blue\"}, {\"ID\": 482, \"Gemeente\": \"BOCHOLT\", \"Bevolking\": 13148, \"niscode\": 72003, \"DATE\": \"2020-03-31\", \"COUNT\": 1, \"color\": \"red\"}, {\"ID\": 483, \"Gemeente\": \"BREE\", \"Bevolking\": 16160, \"niscode\": 72004, \"DATE\": \"2020-03-31\", \"COUNT\": 2, \"color\": \"green\"}, {\"ID\": 484, \"Gemeente\": \"KINROOI\", \"Bevolking\": 12189, \"niscode\": 72018, \"DATE\": \"2020-03-31\", \"COUNT\": 1, \"color\": \"yellow\"}, {\"ID\": 485, \"Gemeente\": \"LOMMEL\", \"Bevolking\": 34218, \"niscode\": 72020, \"DATE\": \"2020-03-31\", \"COUNT\": 4, \"color\": \"green\"}, {\"ID\": 486, \"Gemeente\": \"MAASEIK\", \"Bevolking\": 25284, \"niscode\": 72021, \"DATE\": \"2020-03-31\", \"COUNT\": 3, \"color\": \"red\"}, {\"ID\": 487, \"Gemeente\": \"NEERPELT\", \"Bevolking\": 17174, \"niscode\": 72025, \"DATE\": \"2020-03-31\", \"COUNT\": 3, \"color\": \"yellow\"}, {\"ID\": 488, \"Gemeente\": \"OVERPELT\", \"Bevolking\": 15478, \"niscode\": 72029, \"DATE\": \"2020-03-31\", \"COUNT\": 2, \"color\": \"red\"}, {\"ID\": 489, \"Gemeente\": \"PEER\", \"Bevolking\": 16285, \"niscode\": 72030, \"DATE\": \"2020-03-31\", \"COUNT\": 3, \"color\": \"red\"}, {\"ID\": 490, \"Gemeente\": \"HAMONT-ACHEL\", \"Bevolking\": 14294, \"niscode\": 72037, \"DATE\": \"2020-03-31\", \"COUNT\": 1, \"color\": \"green\"}, {\"ID\": 491, \"Gemeente\": \"HECHTEL-EKSEL\", \"Bevolking\": 12503, \"niscode\": 72038, \"DATE\": \"2020-03-31\", \"COUNT\": 0, \"color\": \"yellow\"}, {\"ID\": 492, \"Gemeente\": \"HOUTHALEN-HELCHTEREN\", \"Bevolking\": 30540, \"niscode\": 72039, \"DATE\": \"2020-03-31\", \"COUNT\": 2, \"color\": \"blue\"}, {\"ID\": 493, \"Gemeente\": \"MEEUWEN-GRUITRODE\", \"Bevolking\": 13091, \"niscode\": 72040, \"DATE\": \"2020-03-31\", \"COUNT\": 4, \"color\": \"red\"}, {\"ID\": 494, \"Gemeente\": \"DILSEN-STOKKEM\", \"Bevolking\": 20681, \"niscode\": 72041, \"DATE\": \"2020-03-31\", \"COUNT\": 2, \"color\": \"blue\"}, {\"ID\": 495, \"Gemeente\": \"ALKEN\", \"Bevolking\": 11632, \"niscode\": 73001, \"DATE\": \"2020-03-31\", \"COUNT\": 4, \"color\": \"green\"}, {\"ID\": 496, \"Gemeente\": \"BILZEN\", \"Bevolking\": 32465, \"niscode\": 73006, \"DATE\": \"2020-03-31\", \"COUNT\": 8, \"color\": \"red\"}, {\"ID\": 497, \"Gemeente\": \"BORGLOON\", \"Bevolking\": 11010, \"niscode\": 73009, \"DATE\": \"2020-03-31\", \"COUNT\": 4, \"color\": \"red\"}, {\"ID\": 498, \"Gemeente\": \"HEERS\", \"Bevolking\": 7338, \"niscode\": 73022, \"DATE\": \"2020-03-31\", \"COUNT\": 3, \"color\": \"blue\"}, {\"ID\": 499, \"Gemeente\": \"HERSTAPPE\", \"Bevolking\": 79, \"niscode\": 73028, \"DATE\": \"2020-03-31\", \"COUNT\": 0, \"color\": \"red\"}, {\"ID\": 500, \"Gemeente\": \"HOESELT\", \"Bevolking\": 9731, \"niscode\": 73032, \"DATE\": \"2020-03-31\", \"COUNT\": 1, \"color\": \"yellow\"}, {\"ID\": 501, \"Gemeente\": \"KORTESSEM\", \"Bevolking\": 8438, \"niscode\": 73040, \"DATE\": \"2020-03-31\", \"COUNT\": 1, \"color\": \"blue\"}, {\"ID\": 502, \"Gemeente\": \"LANAKEN\", \"Bevolking\": 25875, \"niscode\": 73042, \"DATE\": \"2020-03-31\", \"COUNT\": 10, \"color\": \"green\"}, {\"ID\": 503, \"Gemeente\": \"RIEMST\", \"Bevolking\": 16744, \"niscode\": 73066, \"DATE\": \"2020-03-31\", \"COUNT\": 2, \"color\": \"blue\"}, {\"ID\": 504, \"Gemeente\": \"TONGEREN\", \"Bevolking\": 31139, \"niscode\": 73083, \"DATE\": \"2020-03-31\", \"COUNT\": 2, \"color\": \"yellow\"}, {\"ID\": 505, \"Gemeente\": \"WELLEN\", \"Bevolking\": 7353, \"niscode\": 73098, \"DATE\": \"2020-03-31\", \"COUNT\": 2, \"color\": \"blue\"}, {\"ID\": 506, \"Gemeente\": \"MAASMECHELEN\", \"Bevolking\": 38885, \"niscode\": 73107, \"DATE\": \"2020-03-31\", \"COUNT\": 3, \"color\": \"yellow\"}, {\"ID\": 507, \"Gemeente\": \"VOEREN\", \"Bevolking\": 4177, \"niscode\": 73109, \"DATE\": \"2020-03-31\", \"COUNT\": 0, \"color\": \"blue\"}, {\"ID\": 508, \"Gemeente\": \"AARLEN\", \"Bevolking\": 30047, \"niscode\": 81001, \"DATE\": \"2020-03-31\", \"COUNT\": 5, \"color\": \"blue\"}, {\"ID\": 509, \"Gemeente\": \"ATTERT\", \"Bevolking\": 5647, \"niscode\": 81003, \"DATE\": \"2020-03-31\", \"COUNT\": 0, \"color\": \"yellow\"}, {\"ID\": 510, \"Gemeente\": \"AUBANGE\", \"Bevolking\": 17075, \"niscode\": 81004, \"DATE\": \"2020-03-31\", \"COUNT\": 1, \"color\": \"red\"}, {\"ID\": 511, \"Gemeente\": \"MARTELANGE\", \"Bevolking\": 1857, \"niscode\": 81013, \"DATE\": \"2020-03-31\", \"COUNT\": 0, \"color\": \"yellow\"}, {\"ID\": 512, \"Gemeente\": \"MESSANCY\", \"Bevolking\": 8266, \"niscode\": 81015, \"DATE\": \"2020-03-31\", \"COUNT\": 0, \"color\": \"blue\"}, {\"ID\": 513, \"Gemeente\": \"BASTENAKEN\", \"Bevolking\": 16271, \"niscode\": 82003, \"DATE\": \"2020-03-31\", \"COUNT\": 1, \"color\": \"green\"}, {\"ID\": 514, \"Gemeente\": \"BERTOGNE\", \"Bevolking\": 3657, \"niscode\": 82005, \"DATE\": \"2020-03-31\", \"COUNT\": 0, \"color\": \"green\"}, {\"ID\": 515, \"Gemeente\": \"FAUVILLERS\", \"Bevolking\": 2316, \"niscode\": 82009, \"DATE\": \"2020-03-31\", \"COUNT\": 0, \"color\": \"green\"}, {\"ID\": 516, \"Gemeente\": \"HOUFFALIZE\", \"Bevolking\": 5212, \"niscode\": 82014, \"DATE\": \"2020-03-31\", \"COUNT\": 0, \"color\": \"blue\"}, {\"ID\": 517, \"Gemeente\": \"VIELSALM\", \"Bevolking\": 7892, \"niscode\": 82032, \"DATE\": \"2020-03-31\", \"COUNT\": 0, \"color\": \"blue\"}, {\"ID\": 518, \"Gemeente\": \"VAUX-SUR-SURE\", \"Bevolking\": 5736, \"niscode\": 82036, \"DATE\": \"2020-03-31\", \"COUNT\": 0, \"color\": \"red\"}, {\"ID\": 519, \"Gemeente\": \"GOUVY\", \"Bevolking\": 5393, \"niscode\": 82037, \"DATE\": \"2020-03-31\", \"COUNT\": 0, \"color\": \"green\"}, {\"ID\": 520, \"Gemeente\": \"SAINTE-ODE\", \"Bevolking\": 2599, \"niscode\": 82038, \"DATE\": \"2020-03-31\", \"COUNT\": 0, \"color\": \"yellow\"}, {\"ID\": 521, \"Gemeente\": \"DURBUY\", \"Bevolking\": 11456, \"niscode\": 83012, \"DATE\": \"2020-03-31\", \"COUNT\": 1, \"color\": \"green\"}, {\"ID\": 522, \"Gemeente\": \"EREZEE\", \"Bevolking\": 3262, \"niscode\": 83013, \"DATE\": \"2020-03-31\", \"COUNT\": 0, \"color\": \"green\"}, {\"ID\": 523, \"Gemeente\": \"HOTTON\", \"Bevolking\": 5629, \"niscode\": 83028, \"DATE\": \"2020-03-31\", \"COUNT\": 0, \"color\": \"blue\"}, {\"ID\": 524, \"Gemeente\": \"LA ROCHE-EN-ARDENNE\", \"Bevolking\": 4194, \"niscode\": 83031, \"DATE\": \"2020-03-31\", \"COUNT\": 0, \"color\": \"red\"}, {\"ID\": 525, \"Gemeente\": \"MARCHE-EN-FAMENNE\", \"Bevolking\": 17581, \"niscode\": 83034, \"DATE\": \"2020-03-31\", \"COUNT\": 0, \"color\": \"yellow\"}, {\"ID\": 526, \"Gemeente\": \"NASSOGNE\", \"Bevolking\": 5568, \"niscode\": 83040, \"DATE\": \"2020-03-31\", \"COUNT\": 0, \"color\": \"red\"}, {\"ID\": 527, \"Gemeente\": \"RENDEUX\", \"Bevolking\": 2629, \"niscode\": 83044, \"DATE\": \"2020-03-31\", \"COUNT\": 0, \"color\": \"blue\"}, {\"ID\": 528, \"Gemeente\": \"TENNEVILLE\", \"Bevolking\": 2849, \"niscode\": 83049, \"DATE\": \"2020-03-31\", \"COUNT\": 0, \"color\": \"red\"}, {\"ID\": 529, \"Gemeente\": \"MANHAY\", \"Bevolking\": 3565, \"niscode\": 83055, \"DATE\": \"2020-03-31\", \"COUNT\": 0, \"color\": \"red\"}, {\"ID\": 530, \"Gemeente\": \"BERTRIX\", \"Bevolking\": 8849, \"niscode\": 84009, \"DATE\": \"2020-03-31\", \"COUNT\": 1, \"color\": \"green\"}, {\"ID\": 531, \"Gemeente\": \"BOUILLON\", \"Bevolking\": 5424, \"niscode\": 84010, \"DATE\": \"2020-03-31\", \"COUNT\": 0, \"color\": \"green\"}, {\"ID\": 532, \"Gemeente\": \"DAVERDISSE\", \"Bevolking\": 1385, \"niscode\": 84016, \"DATE\": \"2020-03-31\", \"COUNT\": 0, \"color\": \"green\"}, {\"ID\": 533, \"Gemeente\": \"HERBEUMONT\", \"Bevolking\": 1646, \"niscode\": 84029, \"DATE\": \"2020-03-31\", \"COUNT\": 0, \"color\": \"yellow\"}, {\"ID\": 534, \"Gemeente\": \"LEGLISE\", \"Bevolking\": 5559, \"niscode\": 84033, \"DATE\": \"2020-03-31\", \"COUNT\": 1, \"color\": \"red\"}, {\"ID\": 535, \"Gemeente\": \"LIBIN\", \"Bevolking\": 5247, \"niscode\": 84035, \"DATE\": \"2020-03-31\", \"COUNT\": 0, \"color\": \"red\"}, {\"ID\": 536, \"Gemeente\": \"NEUFCHATEAU\", \"Bevolking\": 7779, \"niscode\": 84043, \"DATE\": \"2020-03-31\", \"COUNT\": 1, \"color\": \"red\"}, {\"ID\": 537, \"Gemeente\": \"PALISEUL\", \"Bevolking\": 5393, \"niscode\": 84050, \"DATE\": \"2020-03-31\", \"COUNT\": 0, \"color\": \"green\"}, {\"ID\": 538, \"Gemeente\": \"SAINT-HUBERT\", \"Bevolking\": 5604, \"niscode\": 84059, \"DATE\": \"2020-03-31\", \"COUNT\": 0, \"color\": \"yellow\"}, {\"ID\": 539, \"Gemeente\": \"TELLIN\", \"Bevolking\": 2447, \"niscode\": 84068, \"DATE\": \"2020-03-31\", \"COUNT\": 0, \"color\": \"blue\"}, {\"ID\": 540, \"Gemeente\": \"WELLIN\", \"Bevolking\": 3113, \"niscode\": 84075, \"DATE\": \"2020-03-31\", \"COUNT\": 0, \"color\": \"yellow\"}, {\"ID\": 541, \"Gemeente\": \"LIBRAMONT-CHEVIGNY\", \"Bevolking\": 11316, \"niscode\": 84077, \"DATE\": \"2020-03-31\", \"COUNT\": 1, \"color\": \"blue\"}, {\"ID\": 542, \"Gemeente\": \"CHINY\", \"Bevolking\": 5228, \"niscode\": 85007, \"DATE\": \"2020-03-31\", \"COUNT\": 0, \"color\": \"yellow\"}, {\"ID\": 543, \"Gemeente\": \"ETALLE\", \"Bevolking\": 5958, \"niscode\": 85009, \"DATE\": \"2020-03-31\", \"COUNT\": 0, \"color\": \"green\"}, {\"ID\": 544, \"Gemeente\": \"FLORENVILLE\", \"Bevolking\": 5585, \"niscode\": 85011, \"DATE\": \"2020-03-31\", \"COUNT\": 0, \"color\": \"yellow\"}, {\"ID\": 545, \"Gemeente\": \"MEIX-DEVANT-VIRTON\", \"Bevolking\": 2805, \"niscode\": 85024, \"DATE\": \"2020-03-31\", \"COUNT\": 0, \"color\": \"red\"}, {\"ID\": 546, \"Gemeente\": \"MUSSON\", \"Bevolking\": 4656, \"niscode\": 85026, \"DATE\": \"2020-03-31\", \"COUNT\": 0, \"color\": \"blue\"}, {\"ID\": 547, \"Gemeente\": \"SAINT-LEGER\", \"Bevolking\": 3661, \"niscode\": 85034, \"DATE\": \"2020-03-31\", \"COUNT\": 0, \"color\": \"blue\"}, {\"ID\": 548, \"Gemeente\": \"TINTIGNY\", \"Bevolking\": 4305, \"niscode\": 85039, \"DATE\": \"2020-03-31\", \"COUNT\": 0, \"color\": \"red\"}, {\"ID\": 549, \"Gemeente\": \"VIRTON\", \"Bevolking\": 11324, \"niscode\": 85045, \"DATE\": \"2020-03-31\", \"COUNT\": 0, \"color\": \"yellow\"}, {\"ID\": 550, \"Gemeente\": \"HABAY\", \"Bevolking\": 8478, \"niscode\": 85046, \"DATE\": \"2020-03-31\", \"COUNT\": 0, \"color\": \"red\"}, {\"ID\": 551, \"Gemeente\": \"ROUVROY\", \"Bevolking\": 2108, \"niscode\": 85047, \"DATE\": \"2020-03-31\", \"COUNT\": 0, \"color\": \"red\"}, {\"ID\": 552, \"Gemeente\": \"ANHEE\", \"Bevolking\": 7142, \"niscode\": 91005, \"DATE\": \"2020-03-31\", \"COUNT\": 0, \"color\": \"green\"}, {\"ID\": 553, \"Gemeente\": \"BEAURAING\", \"Bevolking\": 9093, \"niscode\": 91013, \"DATE\": \"2020-03-31\", \"COUNT\": 0, \"color\": \"yellow\"}, {\"ID\": 554, \"Gemeente\": \"BIEVRE\", \"Bevolking\": 3368, \"niscode\": 91015, \"DATE\": \"2020-03-31\", \"COUNT\": 0, \"color\": \"yellow\"}, {\"ID\": 555, \"Gemeente\": \"CINEY\", \"Bevolking\": 16698, \"niscode\": 91030, \"DATE\": \"2020-03-31\", \"COUNT\": 4, \"color\": \"red\"}, {\"ID\": 556, \"Gemeente\": \"DINANT\", \"Bevolking\": 13382, \"niscode\": 91034, \"DATE\": \"2020-03-31\", \"COUNT\": 0, \"color\": \"red\"}, {\"ID\": 557, \"Gemeente\": \"GEDINNE\", \"Bevolking\": 4651, \"niscode\": 91054, \"DATE\": \"2020-03-31\", \"COUNT\": 0, \"color\": \"red\"}, {\"ID\": 558, \"Gemeente\": \"HAMOIS\", \"Bevolking\": 7375, \"niscode\": 91059, \"DATE\": \"2020-03-31\", \"COUNT\": 0, \"color\": \"yellow\"}, {\"ID\": 559, \"Gemeente\": \"HAVELANGE\", \"Bevolking\": 5240, \"niscode\": 91064, \"DATE\": \"2020-03-31\", \"COUNT\": 0, \"color\": \"blue\"}, {\"ID\": 560, \"Gemeente\": \"HOUYET\", \"Bevolking\": 5003, \"niscode\": 91072, \"DATE\": \"2020-03-31\", \"COUNT\": 0, \"color\": \"yellow\"}, {\"ID\": 561, \"Gemeente\": \"ONHAYE\", \"Bevolking\": 3231, \"niscode\": 91103, \"DATE\": \"2020-03-31\", \"COUNT\": 1, \"color\": \"red\"}, {\"ID\": 562, \"Gemeente\": \"ROCHEFORT\", \"Bevolking\": 12564, \"niscode\": 91114, \"DATE\": \"2020-03-31\", \"COUNT\": 2, \"color\": \"yellow\"}, {\"ID\": 563, \"Gemeente\": \"SOMME-LEUZE\", \"Bevolking\": 5794, \"niscode\": 91120, \"DATE\": \"2020-03-31\", \"COUNT\": 0, \"color\": \"blue\"}, {\"ID\": 564, \"Gemeente\": \"YVOIR\", \"Bevolking\": 9116, \"niscode\": 91141, \"DATE\": \"2020-03-31\", \"COUNT\": 0, \"color\": \"green\"}, {\"ID\": 565, \"Gemeente\": \"HASTIERE\", \"Bevolking\": 6025, \"niscode\": 91142, \"DATE\": \"2020-03-31\", \"COUNT\": 0, \"color\": \"yellow\"}, {\"ID\": 566, \"Gemeente\": \"VRESSE-SUR-SEMOIS\", \"Bevolking\": 2577, \"niscode\": 91143, \"DATE\": \"2020-03-31\", \"COUNT\": 0, \"color\": \"blue\"}, {\"ID\": 567, \"Gemeente\": \"ANDENNE\", \"Bevolking\": 27583, \"niscode\": 92003, \"DATE\": \"2020-03-31\", \"COUNT\": 0, \"color\": \"red\"}, {\"ID\": 568, \"Gemeente\": \"ASSESSE\", \"Bevolking\": 7098, \"niscode\": 92006, \"DATE\": \"2020-03-31\", \"COUNT\": 0, \"color\": \"green\"}, {\"ID\": 569, \"Gemeente\": \"EGHEZEE\", \"Bevolking\": 16440, \"niscode\": 92035, \"DATE\": \"2020-03-31\", \"COUNT\": 2, \"color\": \"yellow\"}, {\"ID\": 570, \"Gemeente\": \"FLOREFFE\", \"Bevolking\": 8145, \"niscode\": 92045, \"DATE\": \"2020-03-31\", \"COUNT\": 0, \"color\": \"yellow\"}, {\"ID\": 571, \"Gemeente\": \"FOSSES-LA-VILLE\", \"Bevolking\": 10467, \"niscode\": 92048, \"DATE\": \"2020-03-31\", \"COUNT\": 1, \"color\": \"green\"}, {\"ID\": 572, \"Gemeente\": \"GESVES\", \"Bevolking\": 7207, \"niscode\": 92054, \"DATE\": \"2020-03-31\", \"COUNT\": 0, \"color\": \"yellow\"}, {\"ID\": 573, \"Gemeente\": \"METTET\", \"Bevolking\": 13157, \"niscode\": 92087, \"DATE\": \"2020-03-31\", \"COUNT\": 0, \"color\": \"green\"}, {\"ID\": 574, \"Gemeente\": \"NAMEN\", \"Bevolking\": 111127, \"niscode\": 92094, \"DATE\": \"2020-03-31\", \"COUNT\": 6, \"color\": \"red\"}, {\"ID\": 575, \"Gemeente\": \"OHEY\", \"Bevolking\": 5136, \"niscode\": 92097, \"DATE\": \"2020-03-31\", \"COUNT\": 0, \"color\": \"red\"}, {\"ID\": 576, \"Gemeente\": \"PROFONDEVILLE\", \"Bevolking\": 12187, \"niscode\": 92101, \"DATE\": \"2020-03-31\", \"COUNT\": 0, \"color\": \"red\"}, {\"ID\": 577, \"Gemeente\": \"SOMBREFFE\", \"Bevolking\": 8493, \"niscode\": 92114, \"DATE\": \"2020-03-31\", \"COUNT\": 0, \"color\": \"yellow\"}, {\"ID\": 578, \"Gemeente\": \"SAMBREVILLE\", \"Bevolking\": 28353, \"niscode\": 92137, \"DATE\": \"2020-03-31\", \"COUNT\": 0, \"color\": \"red\"}, {\"ID\": 579, \"Gemeente\": \"FERNELMONT\", \"Bevolking\": 8066, \"niscode\": 92138, \"DATE\": \"2020-03-31\", \"COUNT\": 0, \"color\": \"red\"}, {\"ID\": 580, \"Gemeente\": \"JEMEPPE-SUR-SAMBRE\", \"Bevolking\": 19123, \"niscode\": 92140, \"DATE\": \"2020-03-31\", \"COUNT\": 0, \"color\": \"blue\"}, {\"ID\": 581, \"Gemeente\": \"LA BRUYERE\", \"Bevolking\": 9242, \"niscode\": 92141, \"DATE\": \"2020-03-31\", \"COUNT\": 2, \"color\": \"blue\"}, {\"ID\": 582, \"Gemeente\": \"GEMBLOUX\", \"Bevolking\": 26127, \"niscode\": 92142, \"DATE\": \"2020-03-31\", \"COUNT\": 0, \"color\": \"yellow\"}, {\"ID\": 583, \"Gemeente\": \"CERFONTAINE\", \"Bevolking\": 4983, \"niscode\": 93010, \"DATE\": \"2020-03-31\", \"COUNT\": 0, \"color\": \"red\"}, {\"ID\": 584, \"Gemeente\": \"COUVIN\", \"Bevolking\": 13826, \"niscode\": 93014, \"DATE\": \"2020-03-31\", \"COUNT\": 0, \"color\": \"yellow\"}, {\"ID\": 585, \"Gemeente\": \"DOISCHE\", \"Bevolking\": 2968, \"niscode\": 93018, \"DATE\": \"2020-03-31\", \"COUNT\": 0, \"color\": \"red\"}, {\"ID\": 586, \"Gemeente\": \"FLORENNES\", \"Bevolking\": 11261, \"niscode\": 93022, \"DATE\": \"2020-03-31\", \"COUNT\": 0, \"color\": \"red\"}, {\"ID\": 587, \"Gemeente\": \"PHILIPPEVILLE\", \"Bevolking\": 9185, \"niscode\": 93056, \"DATE\": \"2020-03-31\", \"COUNT\": 0, \"color\": \"green\"}, {\"ID\": 588, \"Gemeente\": \"WALCOURT\", \"Bevolking\": 18402, \"niscode\": 93088, \"DATE\": \"2020-03-31\", \"COUNT\": 0, \"color\": \"yellow\"}, {\"ID\": 589, \"Gemeente\": \"VIROINVAL\", \"Bevolking\": 5639, \"niscode\": 93090, \"DATE\": \"2020-03-31\", \"COUNT\": 2, \"color\": \"red\"}]}}, {\"mode\": \"vega-lite\"});\n",
       "</script>"
      ],
      "text/plain": [
       "alt.LayerChart(...)"
      ]
     },
     "execution_count": 143,
     "metadata": {},
     "output_type": "execute_result"
    }
   ],
   "source": [
    "create_quantitative_plot(topo_data=topo_municipalities, data=data, column_name='Bevolking',\n",
    "                         tooltips=['Gemeente', 'COUNT'])"
   ]
  },
  {
   "cell_type": "code",
   "execution_count": 144,
   "metadata": {},
   "outputs": [],
   "source": [
    "test_data = pd.read_excel('data/Test-map.xlsx')"
   ]
  },
  {
   "cell_type": "code",
   "execution_count": 145,
   "metadata": {},
   "outputs": [],
   "source": [
    "test_data.rename(columns={'NISCODE': 'niscode'}, inplace=True)"
   ]
  },
  {
   "cell_type": "code",
   "execution_count": 146,
   "metadata": {},
   "outputs": [
    {
     "name": "stdout",
     "output_type": "stream",
     "text": [
      "<class 'pandas.core.frame.DataFrame'>\n",
      "RangeIndex: 589 entries, 0 to 588\n",
      "Data columns (total 2 columns):\n",
      " #   Column   Non-Null Count  Dtype  \n",
      "---  ------   --------------  -----  \n",
      " 0   niscode  589 non-null    int64  \n",
      " 1   Data     425 non-null    float64\n",
      "dtypes: float64(1), int64(1)\n",
      "memory usage: 9.3 KB\n"
     ]
    }
   ],
   "source": [
    "test_data.info()"
   ]
  },
  {
   "cell_type": "code",
   "execution_count": 147,
   "metadata": {},
   "outputs": [
    {
     "data": {
      "text/html": [
       "\n",
       "<div id=\"altair-viz-99a43f97cb88494084e303515f39a031\"></div>\n",
       "<script type=\"text/javascript\">\n",
       "  (function(spec, embedOpt){\n",
       "    let outputDiv = document.currentScript.previousElementSibling;\n",
       "    if (outputDiv.id !== \"altair-viz-99a43f97cb88494084e303515f39a031\") {\n",
       "      outputDiv = document.getElementById(\"altair-viz-99a43f97cb88494084e303515f39a031\");\n",
       "    }\n",
       "    const paths = {\n",
       "      \"vega\": \"https://cdn.jsdelivr.net/npm//vega@5?noext\",\n",
       "      \"vega-lib\": \"https://cdn.jsdelivr.net/npm//vega-lib?noext\",\n",
       "      \"vega-lite\": \"https://cdn.jsdelivr.net/npm//vega-lite@4.8.1?noext\",\n",
       "      \"vega-embed\": \"https://cdn.jsdelivr.net/npm//vega-embed@6?noext\",\n",
       "    };\n",
       "\n",
       "    function loadScript(lib) {\n",
       "      return new Promise(function(resolve, reject) {\n",
       "        var s = document.createElement('script');\n",
       "        s.src = paths[lib];\n",
       "        s.async = true;\n",
       "        s.onload = () => resolve(paths[lib]);\n",
       "        s.onerror = () => reject(`Error loading script: ${paths[lib]}`);\n",
       "        document.getElementsByTagName(\"head\")[0].appendChild(s);\n",
       "      });\n",
       "    }\n",
       "\n",
       "    function showError(err) {\n",
       "      outputDiv.innerHTML = `<div class=\"error\" style=\"color:red;\">${err}</div>`;\n",
       "      throw err;\n",
       "    }\n",
       "\n",
       "    function displayChart(vegaEmbed) {\n",
       "      vegaEmbed(outputDiv, spec, embedOpt)\n",
       "        .catch(err => showError(`Javascript Error: ${err.message}<br>This usually means there's a typo in your chart specification. See the javascript console for the full traceback.`));\n",
       "    }\n",
       "\n",
       "    if(typeof define === \"function\" && define.amd) {\n",
       "      requirejs.config({paths});\n",
       "      require([\"vega-embed\"], displayChart, err => showError(`Error loading script: ${err.message}`));\n",
       "    } else if (typeof vegaEmbed === \"function\") {\n",
       "      displayChart(vegaEmbed);\n",
       "    } else {\n",
       "      loadScript(\"vega\")\n",
       "        .then(() => loadScript(\"vega-lite\"))\n",
       "        .then(() => loadScript(\"vega-embed\"))\n",
       "        .catch(showError)\n",
       "        .then(() => displayChart(vegaEmbed));\n",
       "    }\n",
       "  })({\"config\": {\"view\": {\"continuousWidth\": 400, \"continuousHeight\": 300}}, \"layer\": [{\"mark\": {\"type\": \"geoshape\", \"stroke\": \"black\", \"strokeWidth\": 1.0}, \"encoding\": {\"opacity\": {\"value\": 0.1}}}, {\"mark\": \"geoshape\", \"encoding\": {\"color\": {\"type\": \"quantitative\", \"field\": \"Data\", \"legend\": {\"title\": \"Data\"}, \"scale\": {\"scheme\": \"reds\"}}, \"tooltip\": [{\"type\": \"nominal\", \"field\": \"Data\"}]}, \"transform\": [{\"lookup\": \"properties.CODE_INS\", \"from\": {\"data\": {\"name\": \"data-488c8f4e2cafd902cc4c86ab81bf7be5\"}, \"key\": \"niscode\", \"fields\": [\"Data\"]}}]}], \"data\": {\"url\": \"https://gist.githubusercontent.com/jandot/ba7eff2e15a38c6f809ba5e8bd8b6977/raw/eb49ce8dd2604e558e10e15d9a3806f114744e80/belgium_municipalities_topojson.json\", \"format\": {\"feature\": \"BE_municipalities\", \"type\": \"topojson\"}}, \"$schema\": \"https://vega.github.io/schema/vega-lite/v4.8.1.json\", \"datasets\": {\"data-488c8f4e2cafd902cc4c86ab81bf7be5\": [{\"niscode\": 11001, \"Data\": null}, {\"niscode\": 11002, \"Data\": 0.00016484672097134834}, {\"niscode\": 11004, \"Data\": 0.00029911014731174787}, {\"niscode\": 11005, \"Data\": 0.0002159127712404174}, {\"niscode\": 11007, \"Data\": 9.138261902585931e-05}, {\"niscode\": 11008, \"Data\": 0.00020939119510024473}, {\"niscode\": 11009, \"Data\": 0.0002037766607797878}, {\"niscode\": 11013, \"Data\": 0.0001799289280734126}, {\"niscode\": 11016, \"Data\": 0.00020888819259491306}, {\"niscode\": 11018, \"Data\": 0.0004309601792794396}, {\"niscode\": 11021, \"Data\": 0.0003624501631025734}, {\"niscode\": 11022, \"Data\": 0.0002649287341705102}, {\"niscode\": 11023, \"Data\": 0.00018532246108228512}, {\"niscode\": 11024, \"Data\": 0.00014161631419939633}, {\"niscode\": 11025, \"Data\": null}, {\"niscode\": 11029, \"Data\": 0.00015284677111195716}, {\"niscode\": 11030, \"Data\": 9.499382540135298e-05}, {\"niscode\": 11035, \"Data\": 5.2126772310260444e-05}, {\"niscode\": 11037, \"Data\": null}, {\"niscode\": 11038, \"Data\": 0.00011717834544176103}, {\"niscode\": 11039, \"Data\": 0.000100608682529299}, {\"niscode\": 11040, \"Data\": 0.0004080324094313803}, {\"niscode\": 11044, \"Data\": 0.00015982951518380556}, {\"niscode\": 11050, \"Data\": 0.0005009518084360259}, {\"niscode\": 11052, \"Data\": 7.730364873222151e-05}, {\"niscode\": 11053, \"Data\": 0.000424468235627036}, {\"niscode\": 11054, \"Data\": 7.655209369976379e-05}, {\"niscode\": 11055, \"Data\": 9.063307200797566e-05}, {\"niscode\": 11056, \"Data\": 0.00015669069257286117}, {\"niscode\": 11057, \"Data\": null}, {\"niscode\": 12002, \"Data\": 8.577800651912715e-05}, {\"niscode\": 12005, \"Data\": 0.00026537517415245807}, {\"niscode\": 12007, \"Data\": 0.0001405349697849792}, {\"niscode\": 12009, \"Data\": 0.0001698658060132474}, {\"niscode\": 12014, \"Data\": 9.315974567389307e-05}, {\"niscode\": 12021, \"Data\": 0.00019109497420218002}, {\"niscode\": 12025, \"Data\": 0.00011531631264558723}, {\"niscode\": 12026, \"Data\": null}, {\"niscode\": 12029, \"Data\": 0.0001673080140538706}, {\"niscode\": 12030, \"Data\": 0.00015305731996632932}, {\"niscode\": 12034, \"Data\": 0.00015305731996632932}, {\"niscode\": 12035, \"Data\": 9.515653249595607e-05}, {\"niscode\": 12040, \"Data\": 7.456565505928325e-05}, {\"niscode\": 13001, \"Data\": 0.0007529553497477581}, {\"niscode\": 13002, \"Data\": 0.00035149384885764523}, {\"niscode\": 13003, \"Data\": 0.0005698755041206385}, {\"niscode\": 13004, \"Data\": 0.0002207992934422573}, {\"niscode\": 13006, \"Data\": 0.0007290907197166907}, {\"niscode\": 13008, \"Data\": 0.0003441325401897649}, {\"niscode\": 13010, \"Data\": null}, {\"niscode\": 13011, \"Data\": 7.075388261930729e-05}, {\"niscode\": 13012, \"Data\": 0.00021992522542335288}, {\"niscode\": 13013, \"Data\": 0.0001377505337833186}, {\"niscode\": 13014, \"Data\": 0.00018703824932198715}, {\"niscode\": 13016, \"Data\": 0.00038211692777989983}, {\"niscode\": 13017, \"Data\": 0.00015886464732048355}, {\"niscode\": 13019, \"Data\": 0.000181257930034439}, {\"niscode\": 13021, \"Data\": 0.0004844961240310086}, {\"niscode\": 13023, \"Data\": 0.00046609182008856137}, {\"niscode\": 13025, \"Data\": 0.0012969117289454504}, {\"niscode\": 13029, \"Data\": 0.00047778308647873635}, {\"niscode\": 13031, \"Data\": 0.0002866767003511794}, {\"niscode\": 13035, \"Data\": 0.00013344008540165653}, {\"niscode\": 13036, \"Data\": 0.0003479168478733585}, {\"niscode\": 13037, \"Data\": 0.0006574081682964861}, {\"niscode\": 13040, \"Data\": 0.0002212144674261715}, {\"niscode\": 13044, \"Data\": 0.00025214321734745235}, {\"niscode\": 13046, \"Data\": 8.815232722143851e-05}, {\"niscode\": 13049, \"Data\": 0.00015936254980079834}, {\"niscode\": 13053, \"Data\": 0.0004335707649427041}, {\"niscode\": 21001, \"Data\": 0.00010832520894266118}, {\"niscode\": 21002, \"Data\": null}, {\"niscode\": 21003, \"Data\": 7.826869643486056e-05}, {\"niscode\": 21004, \"Data\": 8.183886473125956e-05}, {\"niscode\": 21005, \"Data\": 6.224841266547904e-05}, {\"niscode\": 21006, \"Data\": 7.068136839129269e-05}, {\"niscode\": 21007, \"Data\": 5.315284987862656e-05}, {\"niscode\": 21008, \"Data\": 0.0002378875584806983}, {\"niscode\": 21009, \"Data\": 8.010528122675414e-05}, {\"niscode\": 21010, \"Data\": 7.625002382813384e-05}, {\"niscode\": 21011, \"Data\": null}, {\"niscode\": 21012, \"Data\": 6.162378678169211e-05}, {\"niscode\": 21013, \"Data\": 8.147635148897381e-05}, {\"niscode\": 21014, \"Data\": null}, {\"niscode\": 21015, \"Data\": 6.84160914647125e-05}, {\"niscode\": 21016, \"Data\": null}, {\"niscode\": 21017, \"Data\": 7.89951812939435e-05}, {\"niscode\": 21018, \"Data\": 6.946494625149902e-05}, {\"niscode\": 21019, \"Data\": null}, {\"niscode\": 23002, \"Data\": 8.968609865470795e-05}, {\"niscode\": 23003, \"Data\": 0.00019744895944398544}, {\"niscode\": 23009, \"Data\": null}, {\"niscode\": 23016, \"Data\": 0.00020708697653014363}, {\"niscode\": 23023, \"Data\": 0.0002262443438914019}, {\"niscode\": 23024, \"Data\": 0.0003269398430688769}, {\"niscode\": 23025, \"Data\": 0.0002637478570486629}, {\"niscode\": 23027, \"Data\": 0.00019911394295385465}, {\"niscode\": 23032, \"Data\": 0.00029859659599880406}, {\"niscode\": 23033, \"Data\": 8.766546857193191e-05}, {\"niscode\": 23038, \"Data\": null}, {\"niscode\": 23039, \"Data\": null}, {\"niscode\": 23044, \"Data\": 0.00029879734070366315}, {\"niscode\": 23045, \"Data\": null}, {\"niscode\": 23047, \"Data\": 6.417661404184427e-05}, {\"niscode\": 23050, \"Data\": 0.00020378012124917105}, {\"niscode\": 23052, \"Data\": 5.96765530822968e-05}, {\"niscode\": 23060, \"Data\": 0.00013567600569838745}, {\"niscode\": 23062, \"Data\": 7.845598619174443e-05}, {\"niscode\": 23064, \"Data\": null}, {\"niscode\": 23077, \"Data\": 5.777508160730721e-05}, {\"niscode\": 23081, \"Data\": null}, {\"niscode\": 23086, \"Data\": 0.00012504689258472507}, {\"niscode\": 23088, \"Data\": null}, {\"niscode\": 23094, \"Data\": 8.641548565502949e-05}, {\"niscode\": 23096, \"Data\": 0.0002579092159559829}, {\"niscode\": 23097, \"Data\": 0.00034299434059337913}, {\"niscode\": 23098, \"Data\": null}, {\"niscode\": 23099, \"Data\": 7.242702976750781e-05}, {\"niscode\": 23100, \"Data\": null}, {\"niscode\": 23101, \"Data\": 5.3986935161690064e-05}, {\"niscode\": 23102, \"Data\": 0.0001786884269462108}, {\"niscode\": 23103, \"Data\": 0.00021052631578948044}, {\"niscode\": 23104, \"Data\": null}, {\"niscode\": 23105, \"Data\": 0.0002996030259905594}, {\"niscode\": 24001, \"Data\": 0.0001657000828500406}, {\"niscode\": 24007, \"Data\": null}, {\"niscode\": 24008, \"Data\": null}, {\"niscode\": 24009, \"Data\": null}, {\"niscode\": 24011, \"Data\": 0.00019698611247907089}, {\"niscode\": 24014, \"Data\": null}, {\"niscode\": 24016, \"Data\": 0.00012144765606024108}, {\"niscode\": 24020, \"Data\": 0.000330564852692037}, {\"niscode\": 24028, \"Data\": null}, {\"niscode\": 24033, \"Data\": 0.0003370635027639228}, {\"niscode\": 24038, \"Data\": null}, {\"niscode\": 24041, \"Data\": 0.0002917578409919776}, {\"niscode\": 24043, \"Data\": null}, {\"niscode\": 24045, \"Data\": 0.00010059350165979308}, {\"niscode\": 24048, \"Data\": 7.714263673532298e-05}, {\"niscode\": 24054, \"Data\": 0.0003801799518438724}, {\"niscode\": 24055, \"Data\": null}, {\"niscode\": 24059, \"Data\": 6.218905472637343e-05}, {\"niscode\": 24062, \"Data\": 7.833460627068578e-05}, {\"niscode\": 24066, \"Data\": 6.867660188173905e-05}, {\"niscode\": 24086, \"Data\": null}, {\"niscode\": 24094, \"Data\": 5.8826989822933357e-05}, {\"niscode\": 24104, \"Data\": null}, {\"niscode\": 24107, \"Data\": 5.667809674950869e-05}, {\"niscode\": 24109, \"Data\": 0.0001341111781666994}, {\"niscode\": 24130, \"Data\": 0.00011657729074376205}, {\"niscode\": 24133, \"Data\": 0.0002753683051080792}, {\"niscode\": 24134, \"Data\": 0.0006501105187881918}, {\"niscode\": 24135, \"Data\": null}, {\"niscode\": 24137, \"Data\": null}, {\"niscode\": 25005, \"Data\": null}, {\"niscode\": 25014, \"Data\": 0.00022405895239991508}, {\"niscode\": 25015, \"Data\": 0.00037957866767887594}, {\"niscode\": 25018, \"Data\": null}, {\"niscode\": 25023, \"Data\": 0.00018901805122389231}, {\"niscode\": 25031, \"Data\": 0.0001930998970133893}, {\"niscode\": 25037, \"Data\": 7.209285559800493e-05}, {\"niscode\": 25043, \"Data\": 0.00036291054255126187}, {\"niscode\": 25044, \"Data\": null}, {\"niscode\": 25048, \"Data\": 6.966699177929359e-05}, {\"niscode\": 25050, \"Data\": 0.00013435442697837252}, {\"niscode\": 25068, \"Data\": null}, {\"niscode\": 25072, \"Data\": 0.00013857132959190638}, {\"niscode\": 25084, \"Data\": 0.00010567473317129455}, {\"niscode\": 25091, \"Data\": null}, {\"niscode\": 25105, \"Data\": 0.00030012004801920067}, {\"niscode\": 25107, \"Data\": null}, {\"niscode\": 25110, \"Data\": 0.00016473379019504159}, {\"niscode\": 25112, \"Data\": 0.00011508473113330114}, {\"niscode\": 25117, \"Data\": null}, {\"niscode\": 25118, \"Data\": null}, {\"niscode\": 25119, \"Data\": 7.018528916338806e-05}, {\"niscode\": 25120, \"Data\": 0.0003340385257766393}, {\"niscode\": 25121, \"Data\": null}, {\"niscode\": 25122, \"Data\": 0.0007630093087135636}, {\"niscode\": 25123, \"Data\": 0.0002745241581259203}, {\"niscode\": 25124, \"Data\": null}, {\"niscode\": 31003, \"Data\": 0.00031617554066017475}, {\"niscode\": 31004, \"Data\": null}, {\"niscode\": 31005, \"Data\": 0.0002530876695687398}, {\"niscode\": 31006, \"Data\": 9.076057360682399e-05}, {\"niscode\": 31012, \"Data\": 0.0006492101276779905}, {\"niscode\": 31022, \"Data\": 0.0004621848739495768}, {\"niscode\": 31033, \"Data\": 0.000342499266073}, {\"niscode\": 31040, \"Data\": 0.0004811267112802345}, {\"niscode\": 31042, \"Data\": 0.0007388252678241572}, {\"niscode\": 31043, \"Data\": 0.0002119734730339426}, {\"niscode\": 32003, \"Data\": 0.00017829549506715933}, {\"niscode\": 32006, \"Data\": 0.00039584364176150494}, {\"niscode\": 32010, \"Data\": 0.00022841480127912261}, {\"niscode\": 32011, \"Data\": 0.00039497590646970365}, {\"niscode\": 32030, \"Data\": null}, {\"niscode\": 33011, \"Data\": 0.00034297473419458296}, {\"niscode\": 33016, \"Data\": 0.0009615384615384651}, {\"niscode\": 33021, \"Data\": 0.0002536397301273266}, {\"niscode\": 33029, \"Data\": 0.0003175947491001474}, {\"niscode\": 33037, \"Data\": 0.00023992322456813792}, {\"niscode\": 33039, \"Data\": 0.001514386673397268}, {\"niscode\": 33040, \"Data\": null}, {\"niscode\": 33041, \"Data\": null}, {\"niscode\": 34002, \"Data\": 0.00040614634806741823}, {\"niscode\": 34003, \"Data\": 0.00039196472317491043}, {\"niscode\": 34009, \"Data\": 0.0008278145695364281}, {\"niscode\": 34013, \"Data\": 0.0002458383086324373}, {\"niscode\": 34022, \"Data\": 0.0006746587783486441}, {\"niscode\": 34023, \"Data\": 0.00021939447125932793}, {\"niscode\": 34025, \"Data\": 0.0001729206294310906}, {\"niscode\": 34027, \"Data\": 0.0004175738956661845}, {\"niscode\": 34040, \"Data\": 0.0004954755261167773}, {\"niscode\": 34041, \"Data\": 0.00047533035459644546}, {\"niscode\": 34042, \"Data\": 0.0005643340857787865}, {\"niscode\": 34043, \"Data\": null}, {\"niscode\": 35002, \"Data\": 0.0001103204809972981}, {\"niscode\": 35005, \"Data\": null}, {\"niscode\": 35006, \"Data\": 0.0003562014675500477}, {\"niscode\": 35011, \"Data\": 0.0002555192150449706}, {\"niscode\": 35013, \"Data\": 0.0001676891044004418}, {\"niscode\": 35014, \"Data\": null}, {\"niscode\": 35029, \"Data\": 0.00023616468550735972}, {\"niscode\": 36006, \"Data\": 0.0003006915906585139}, {\"niscode\": 36007, \"Data\": 0.00044955943175687546}, {\"niscode\": 36008, \"Data\": 0.0004238635159478643}, {\"niscode\": 36010, \"Data\": 0.00041318045656440344}, {\"niscode\": 36011, \"Data\": 0.00011168192986375086}, {\"niscode\": 36012, \"Data\": 0.0003499868754921684}, {\"niscode\": 36015, \"Data\": 0.0003312198353364257}, {\"niscode\": 36019, \"Data\": 0.00017368649587494456}, {\"niscode\": 37002, \"Data\": 0.00011607661056297486}, {\"niscode\": 37007, \"Data\": 0.0003698566805362888}, {\"niscode\": 37010, \"Data\": 0.00012637432073802496}, {\"niscode\": 37011, \"Data\": 0.00044689408610159437}, {\"niscode\": 37012, \"Data\": 0.0001865671641791064}, {\"niscode\": 37015, \"Data\": 0.0007281553398058235}, {\"niscode\": 37017, \"Data\": 0.00020366598778004397}, {\"niscode\": 37018, \"Data\": 0.0005551700208188751}, {\"niscode\": 37020, \"Data\": 0.00044038313332599166}, {\"niscode\": 38002, \"Data\": 0.0004006410256410242}, {\"niscode\": 38008, \"Data\": 0.0002697114087925924}, {\"niscode\": 38014, \"Data\": null}, {\"niscode\": 38016, \"Data\": 0.00017207261464338014}, {\"niscode\": 38025, \"Data\": 8.267195767195853e-05}, {\"niscode\": 41002, \"Data\": 0.0002637493692949841}, {\"niscode\": 41011, \"Data\": 9.740892265731882e-05}, {\"niscode\": 41018, \"Data\": 0.00020856300092363111}, {\"niscode\": 41024, \"Data\": 0.00026925148088314393}, {\"niscode\": 41027, \"Data\": 0.0005502063273727653}, {\"niscode\": 41034, \"Data\": 0.00021204410517387806}, {\"niscode\": 41048, \"Data\": 0.00012737230925996545}, {\"niscode\": 41063, \"Data\": 0.00048090795421756177}, {\"niscode\": 41081, \"Data\": 0.0004496908375491854}, {\"niscode\": 41082, \"Data\": 0.0003974760272271033}, {\"niscode\": 42003, \"Data\": 0.00019880715705765384}, {\"niscode\": 42004, \"Data\": 6.825006825007113e-05}, {\"niscode\": 42006, \"Data\": 0.00019629653863770247}, {\"niscode\": 42008, \"Data\": 0.00048134777376655086}, {\"niscode\": 42010, \"Data\": 8.086035416834947e-05}, {\"niscode\": 42011, \"Data\": 0.00040960524294710726}, {\"niscode\": 42023, \"Data\": 0.00018299935950223667}, {\"niscode\": 42025, \"Data\": 0.0001542257865515123}, {\"niscode\": 42026, \"Data\": 0.0001717770334106264}, {\"niscode\": 42028, \"Data\": 0.0005158990713816716}, {\"niscode\": 43002, \"Data\": 0.00027993561480859144}, {\"niscode\": 43005, \"Data\": 0.0002350065801842438}, {\"niscode\": 43007, \"Data\": null}, {\"niscode\": 43010, \"Data\": 0.0005008974412489021}, {\"niscode\": 43014, \"Data\": null}, {\"niscode\": 43018, \"Data\": null}, {\"niscode\": 44001, \"Data\": 0.0002058601523365136}, {\"niscode\": 44011, \"Data\": 0.0006663909187003061}, {\"niscode\": 44012, \"Data\": 9.192866335723526e-05}, {\"niscode\": 44013, \"Data\": 0.00026990553306342757}, {\"niscode\": 44019, \"Data\": 0.0003650557412035599}, {\"niscode\": 44020, \"Data\": 0.0003874467260751649}, {\"niscode\": 44021, \"Data\": 0.00024657264029983444}, {\"niscode\": 44029, \"Data\": 0.0002058601523365136}, {\"niscode\": 44034, \"Data\": 0.0005308560053085623}, {\"niscode\": 44036, \"Data\": 0.00011432055483575829}, {\"niscode\": 44040, \"Data\": 0.00033889689062102657}, {\"niscode\": 44043, \"Data\": 8.079175924055604e-05}, {\"niscode\": 44045, \"Data\": 0.0003045994517209827}, {\"niscode\": 44048, \"Data\": 0.0005982394667122456}, {\"niscode\": 44049, \"Data\": 0.0006663909187003061}, {\"niscode\": 44052, \"Data\": 0.00021933031144904386}, {\"niscode\": 44064, \"Data\": null}, {\"niscode\": 44072, \"Data\": 0.00011432055483575829}, {\"niscode\": 44073, \"Data\": null}, {\"niscode\": 44080, \"Data\": 0.00011432055483575829}, {\"niscode\": 44081, \"Data\": 0.0007605044679637463}, {\"niscode\": 45017, \"Data\": 6.350415952244282e-05}, {\"niscode\": 45035, \"Data\": 0.0005381960933295363}, {\"niscode\": 45041, \"Data\": 0.0009099526066350741}, {\"niscode\": 45057, \"Data\": 6.350415952244282e-05}, {\"niscode\": 45059, \"Data\": 0.00020257951245863937}, {\"niscode\": 45060, \"Data\": 0.00045689917758148096}, {\"niscode\": 45061, \"Data\": 0.0001563721657544953}, {\"niscode\": 45062, \"Data\": null}, {\"niscode\": 45063, \"Data\": 0.0007606876616461297}, {\"niscode\": 45064, \"Data\": 0.0007890168849613438}, {\"niscode\": 45065, \"Data\": null}, {\"niscode\": 46003, \"Data\": 8.16326530612213e-05}, {\"niscode\": 46013, \"Data\": 5.937537109607094e-05}, {\"niscode\": 46014, \"Data\": 9.517691008160967e-05}, {\"niscode\": 46020, \"Data\": 0.0002053282685693797}, {\"niscode\": 46021, \"Data\": 0.00019103413143147646}, {\"niscode\": 46024, \"Data\": 0.00021416715746640225}, {\"niscode\": 46025, \"Data\": 0.00023204932705695597}, {\"niscode\": 51004, \"Data\": null}, {\"niscode\": 51008, \"Data\": 0.00014249073810203294}, {\"niscode\": 51009, \"Data\": 8.435259384224902e-05}, {\"niscode\": 51012, \"Data\": null}, {\"niscode\": 51014, \"Data\": null}, {\"niscode\": 51017, \"Data\": 0.0005004170141784808}, {\"niscode\": 51019, \"Data\": null}, {\"niscode\": 51065, \"Data\": 0.0004272895598917553}, {\"niscode\": 52010, \"Data\": null}, {\"niscode\": 52011, \"Data\": 0.00017294540854646823}, {\"niscode\": 52012, \"Data\": 0.0001122964626614209}, {\"niscode\": 52015, \"Data\": 9.636386997302626e-05}, {\"niscode\": 52018, \"Data\": null}, {\"niscode\": 52021, \"Data\": 0.00030405698896708577}, {\"niscode\": 52022, \"Data\": 0.00022471910112359383}, {\"niscode\": 52025, \"Data\": 0.0002344665885111452}, {\"niscode\": 52043, \"Data\": null}, {\"niscode\": 52048, \"Data\": 9.877518767284488e-05}, {\"niscode\": 52055, \"Data\": 0.00011606987406417857}, {\"niscode\": 52063, \"Data\": null}, {\"niscode\": 52074, \"Data\": null}, {\"niscode\": 52075, \"Data\": null}, {\"niscode\": 53014, \"Data\": 0.00015113350125944836}, {\"niscode\": 53020, \"Data\": 0.00012110202845896922}, {\"niscode\": 53028, \"Data\": null}, {\"niscode\": 53039, \"Data\": null}, {\"niscode\": 53044, \"Data\": 9.489466691971898e-05}, {\"niscode\": 53046, \"Data\": 0.0010919414719371065}, {\"niscode\": 53053, \"Data\": null}, {\"niscode\": 53065, \"Data\": null}, {\"niscode\": 53068, \"Data\": null}, {\"niscode\": 53070, \"Data\": null}, {\"niscode\": 53082, \"Data\": null}, {\"niscode\": 53083, \"Data\": 0.00019383601473153822}, {\"niscode\": 53084, \"Data\": null}, {\"niscode\": 54007, \"Data\": 0.00011923011412025286}, {\"niscode\": 54010, \"Data\": 0.00016663889351775651}, {\"niscode\": 55004, \"Data\": 0.00013608528010886772}, {\"niscode\": 55010, \"Data\": 8.464533604198021e-05}, {\"niscode\": 55022, \"Data\": 7.414180856585295e-05}, {\"niscode\": 55023, \"Data\": 0.00016012810248198367}, {\"niscode\": 55035, \"Data\": 0.00022859755400617132}, {\"niscode\": 55039, \"Data\": 0.00024003840614498367}, {\"niscode\": 55040, \"Data\": 0.0002828154275815731}, {\"niscode\": 55050, \"Data\": 0.0002681204754669819}, {\"niscode\": 56001, \"Data\": 8.084074373485017e-05}, {\"niscode\": 56005, \"Data\": null}, {\"niscode\": 56011, \"Data\": 0.0002090862929000209}, {\"niscode\": 56016, \"Data\": 0.0002055921052631568}, {\"niscode\": 56022, \"Data\": 0.0001002807862013691}, {\"niscode\": 56029, \"Data\": 0.00025050100200400827}, {\"niscode\": 56044, \"Data\": 0.0003433476394849866}, {\"niscode\": 56049, \"Data\": 0.00023736055067646866}, {\"niscode\": 56051, \"Data\": 0.00018726591760299255}, {\"niscode\": 56078, \"Data\": 0.00013606367780120976}, {\"niscode\": 56085, \"Data\": null}, {\"niscode\": 56086, \"Data\": 0.0003668916935720551}, {\"niscode\": 56087, \"Data\": 0.000209128457154803}, {\"niscode\": 56088, \"Data\": 0.00020872469213106815}, {\"niscode\": 57003, \"Data\": null}, {\"niscode\": 57018, \"Data\": 0.0012291483757682214}, {\"niscode\": 57027, \"Data\": 9.472387989012399e-05}, {\"niscode\": 57062, \"Data\": null}, {\"niscode\": 57064, \"Data\": null}, {\"niscode\": 57072, \"Data\": null}, {\"niscode\": 57081, \"Data\": 5.8009687617835426e-05}, {\"niscode\": 57093, \"Data\": 0.00024712714691708937}, {\"niscode\": 57094, \"Data\": 0.0001435647117938449}, {\"niscode\": 57095, \"Data\": 0.0010554089709762515}, {\"niscode\": 61003, \"Data\": 0.0001387154945207414}, {\"niscode\": 61010, \"Data\": 0.0006079027355623129}, {\"niscode\": 61012, \"Data\": null}, {\"niscode\": 61019, \"Data\": null}, {\"niscode\": 61024, \"Data\": null}, {\"niscode\": 61028, \"Data\": 0.00018301610541726632}, {\"niscode\": 61031, \"Data\": 0.00018819101387908266}, {\"niscode\": 61039, \"Data\": 0.0005520794994479244}, {\"niscode\": 61041, \"Data\": null}, {\"niscode\": 61043, \"Data\": null}, {\"niscode\": 61048, \"Data\": null}, {\"niscode\": 61063, \"Data\": null}, {\"niscode\": 61068, \"Data\": 0.0006061524473404967}, {\"niscode\": 61072, \"Data\": 0.00021885030639043346}, {\"niscode\": 61079, \"Data\": null}, {\"niscode\": 61080, \"Data\": null}, {\"niscode\": 61081, \"Data\": null}, {\"niscode\": 62003, \"Data\": 0.00010481814052618055}, {\"niscode\": 62006, \"Data\": 0.00021666125013540538}, {\"niscode\": 62009, \"Data\": 8.076239702793642e-05}, {\"niscode\": 62011, \"Data\": 0.0006718924972004409}, {\"niscode\": 62015, \"Data\": 8.409721638213963e-05}, {\"niscode\": 62022, \"Data\": 0.00033557046979866556}, {\"niscode\": 62026, \"Data\": null}, {\"niscode\": 62027, \"Data\": 0.00013297872340425898}, {\"niscode\": 62032, \"Data\": 0.0003071488904246439}, {\"niscode\": 62038, \"Data\": 6.110228522546168e-05}, {\"niscode\": 62051, \"Data\": 0.00027389074249289935}, {\"niscode\": 62060, \"Data\": 0.0003177629488401723}, {\"niscode\": 62063, \"Data\": 0.0002034349999745777}, {\"niscode\": 62079, \"Data\": 0.0001572079861656972}, {\"niscode\": 62093, \"Data\": 0.0002469643959662482}, {\"niscode\": 62096, \"Data\": null}, {\"niscode\": 62099, \"Data\": 0.0002348520432127743}, {\"niscode\": 62100, \"Data\": 6.70600858369147e-05}, {\"niscode\": 62108, \"Data\": 0.00039108330074305586}, {\"niscode\": 62118, \"Data\": 0.00013172338090010338}, {\"niscode\": 62119, \"Data\": null}, {\"niscode\": 62120, \"Data\": 0.00011360193880642633}, {\"niscode\": 62121, \"Data\": null}, {\"niscode\": 62122, \"Data\": null}, {\"niscode\": 63001, \"Data\": 0.00036503011498448257}, {\"niscode\": 63003, \"Data\": 0.00023512814483893363}, {\"niscode\": 63004, \"Data\": null}, {\"niscode\": 63012, \"Data\": null}, {\"niscode\": 63013, \"Data\": 0.00017774617845715823}, {\"niscode\": 63020, \"Data\": 0.0003282994090610669}, {\"niscode\": 63023, \"Data\": null}, {\"niscode\": 63035, \"Data\": 5.672793283412192e-05}, {\"niscode\": 63038, \"Data\": null}, {\"niscode\": 63040, \"Data\": null}, {\"niscode\": 63045, \"Data\": 0.0005610098176718203}, {\"niscode\": 63046, \"Data\": null}, {\"niscode\": 63048, \"Data\": null}, {\"niscode\": 63049, \"Data\": 0.0005475166210402865}, {\"niscode\": 63057, \"Data\": null}, {\"niscode\": 63058, \"Data\": null}, {\"niscode\": 63061, \"Data\": null}, {\"niscode\": 63067, \"Data\": null}, {\"niscode\": 63072, \"Data\": null}, {\"niscode\": 63073, \"Data\": null}, {\"niscode\": 63075, \"Data\": null}, {\"niscode\": 63076, \"Data\": 8.328475056217088e-05}, {\"niscode\": 63079, \"Data\": 0.00010887118724030309}, {\"niscode\": 63080, \"Data\": 0.0004065040650406554}, {\"niscode\": 63084, \"Data\": null}, {\"niscode\": 63086, \"Data\": 0.00039062500000000555}, {\"niscode\": 63087, \"Data\": null}, {\"niscode\": 63088, \"Data\": null}, {\"niscode\": 63089, \"Data\": 0.0003518648838845978}, {\"niscode\": 64008, \"Data\": null}, {\"niscode\": 64015, \"Data\": 0.0006267627702914447}, {\"niscode\": 64021, \"Data\": null}, {\"niscode\": 64023, \"Data\": 0.00032372936225315285}, {\"niscode\": 64025, \"Data\": null}, {\"niscode\": 64029, \"Data\": null}, {\"niscode\": 64034, \"Data\": 0.00018033181053138392}, {\"niscode\": 64047, \"Data\": 0.0003047851264858237}, {\"niscode\": 64056, \"Data\": 0.0005125576627370565}, {\"niscode\": 64063, \"Data\": 0.0001673920321392658}, {\"niscode\": 64065, \"Data\": 0.00014471780028943448}, {\"niscode\": 64074, \"Data\": 6.47836227001819e-05}, {\"niscode\": 64075, \"Data\": null}, {\"niscode\": 64076, \"Data\": null}, {\"niscode\": 71002, \"Data\": 0.0001213444970270608}, {\"niscode\": 71004, \"Data\": 0.00015035010094935353}, {\"niscode\": 71011, \"Data\": null}, {\"niscode\": 71016, \"Data\": 0.00025622089255301905}, {\"niscode\": 71017, \"Data\": 0.00011950286806883259}, {\"niscode\": 71020, \"Data\": 0.0002107925801011802}, {\"niscode\": 71022, \"Data\": 7.631742962897065e-05}, {\"niscode\": 71024, \"Data\": 7.907013520993406e-05}, {\"niscode\": 71034, \"Data\": 0.0004420587306599305}, {\"niscode\": 71037, \"Data\": null}, {\"niscode\": 71045, \"Data\": null}, {\"niscode\": 71047, \"Data\": 0.00016941256194146978}, {\"niscode\": 71053, \"Data\": null}, {\"niscode\": 71057, \"Data\": 0.0005872931126534968}, {\"niscode\": 71066, \"Data\": 0.00014068655036578517}, {\"niscode\": 71067, \"Data\": 0.0005498281786941589}, {\"niscode\": 71069, \"Data\": 0.0003646308113035568}, {\"niscode\": 71070, \"Data\": 8.856350002951763e-05}, {\"niscode\": 72003, \"Data\": 0.0007605719501064812}, {\"niscode\": 72004, \"Data\": 0.0003094059405940562}, {\"niscode\": 72018, \"Data\": 8.204118467470753e-05}, {\"niscode\": 72020, \"Data\": 0.00014612192413349795}, {\"niscode\": 72021, \"Data\": null}, {\"niscode\": 72025, \"Data\": 0.00015126762267804114}, {\"niscode\": 72029, \"Data\": 0.00015126762267804114}, {\"niscode\": 72030, \"Data\": 0.0001228124040528085}, {\"niscode\": 72037, \"Data\": 0.00020987827060305053}, {\"niscode\": 72038, \"Data\": 7.998080460689533e-05}, {\"niscode\": 72039, \"Data\": 9.823182711198725e-05}, {\"niscode\": 72040, \"Data\": 0.00016941256194146978}, {\"niscode\": 72041, \"Data\": 0.000338474928678497}, {\"niscode\": 73001, \"Data\": 0.00017193947730398396}, {\"niscode\": 73006, \"Data\": 0.00012320961034961025}, {\"niscode\": 73009, \"Data\": null}, {\"niscode\": 73022, \"Data\": 0.00013627691469065423}, {\"niscode\": 73028, \"Data\": null}, {\"niscode\": 73032, \"Data\": 0.00020552872263899027}, {\"niscode\": 73040, \"Data\": null}, {\"niscode\": 73042, \"Data\": 0.00015458937198067554}, {\"niscode\": 73066, \"Data\": 0.00011944577161968062}, {\"niscode\": 73083, \"Data\": 0.00032114069173705406}, {\"niscode\": 73098, \"Data\": 0.00013599891200870295}, {\"niscode\": 73107, \"Data\": 0.00028288543140028016}, {\"niscode\": 73109, \"Data\": null}, {\"niscode\": 81001, \"Data\": 0.0004659366991712974}, {\"niscode\": 81003, \"Data\": 0.00017708517797060397}, {\"niscode\": 81004, \"Data\": 0.00040995607613469875}, {\"niscode\": 81013, \"Data\": null}, {\"niscode\": 81015, \"Data\": 0.00036293249455601057}, {\"niscode\": 82003, \"Data\": 0.0004302132628603017}, {\"niscode\": 82005, \"Data\": null}, {\"niscode\": 82009, \"Data\": 0.00043177892918825483}, {\"niscode\": 82014, \"Data\": null}, {\"niscode\": 82032, \"Data\": 0.0002534211860111546}, {\"niscode\": 82036, \"Data\": null}, {\"niscode\": 82037, \"Data\": null}, {\"niscode\": 82038, \"Data\": 0.00038476337052713305}, {\"niscode\": 83012, \"Data\": 8.729050279329686e-05}, {\"niscode\": 83013, \"Data\": null}, {\"niscode\": 83028, \"Data\": 0.0003553028957185983}, {\"niscode\": 83031, \"Data\": null}, {\"niscode\": 83034, \"Data\": 0.0003981571014163021}, {\"niscode\": 83040, \"Data\": 0.00017959770114943374}, {\"niscode\": 83044, \"Data\": null}, {\"niscode\": 83049, \"Data\": 0.0017550017550017477}, {\"niscode\": 83055, \"Data\": null}, {\"niscode\": 84009, \"Data\": 0.00011300711944852576}, {\"niscode\": 84010, \"Data\": 0.002396755162241887}, {\"niscode\": 84016, \"Data\": null}, {\"niscode\": 84029, \"Data\": null}, {\"niscode\": 84033, \"Data\": 0.0007195538765965154}, {\"niscode\": 84035, \"Data\": 0.0003811701924909469}, {\"niscode\": 84043, \"Data\": null}, {\"niscode\": 84050, \"Data\": 0.0003708511032820272}, {\"niscode\": 84059, \"Data\": 0.00017844396859385825}, {\"niscode\": 84068, \"Data\": 0.000408663669799747}, {\"niscode\": 84075, \"Data\": 0.0003212335367812347}, {\"niscode\": 84077, \"Data\": 0.0001767408978437593}, {\"niscode\": 85007, \"Data\": 0.000191277735271618}, {\"niscode\": 85009, \"Data\": 0.00016784155756965208}, {\"niscode\": 85011, \"Data\": 0.0003581020590868386}, {\"niscode\": 85024, \"Data\": null}, {\"niscode\": 85026, \"Data\": 0.00021477663230241167}, {\"niscode\": 85034, \"Data\": 0.0005462988254575293}, {\"niscode\": 85039, \"Data\": null}, {\"niscode\": 85045, \"Data\": 0.00017661603673613246}, {\"niscode\": 85046, \"Data\": 0.0005897617362585553}, {\"niscode\": 85047, \"Data\": null}, {\"niscode\": 91005, \"Data\": 0.00014001680201625177}, {\"niscode\": 91013, \"Data\": null}, {\"niscode\": 91015, \"Data\": null}, {\"niscode\": 91030, \"Data\": null}, {\"niscode\": 91034, \"Data\": 7.472724555373372e-05}, {\"niscode\": 91054, \"Data\": 0.0008600301010535313}, {\"niscode\": 91059, \"Data\": 0.00013559322033898646}, {\"niscode\": 91064, \"Data\": null}, {\"niscode\": 91072, \"Data\": null}, {\"niscode\": 91103, \"Data\": null}, {\"niscode\": 91114, \"Data\": 0.0006367398917542233}, {\"niscode\": 91120, \"Data\": 0.000172592336900243}, {\"niscode\": 91141, \"Data\": null}, {\"niscode\": 91142, \"Data\": null}, {\"niscode\": 91143, \"Data\": 0.0003880481179666384}, {\"niscode\": 92003, \"Data\": null}, {\"niscode\": 92006, \"Data\": null}, {\"niscode\": 92035, \"Data\": 0.0002433090024330925}, {\"niscode\": 92045, \"Data\": null}, {\"niscode\": 92048, \"Data\": null}, {\"niscode\": 92054, \"Data\": null}, {\"niscode\": 92087, \"Data\": 7.600516835144788e-05}, {\"niscode\": 92094, \"Data\": 0.00017097555049627733}, {\"niscode\": 92097, \"Data\": 0.00038940809968847356}, {\"niscode\": 92101, \"Data\": 0.0001641092967916563}, {\"niscode\": 92114, \"Data\": 0.0002354880489815192}, {\"niscode\": 92137, \"Data\": null}, {\"niscode\": 92138, \"Data\": 0.0002479543763947434}, {\"niscode\": 92140, \"Data\": 0.00010458610050724515}, {\"niscode\": 92141, \"Data\": null}, {\"niscode\": 92142, \"Data\": null}, {\"niscode\": 93010, \"Data\": 0.00020068231988761703}, {\"niscode\": 93014, \"Data\": 7.232749891508683e-05}, {\"niscode\": 93018, \"Data\": null}, {\"niscode\": 93022, \"Data\": null}, {\"niscode\": 93056, \"Data\": null}, {\"niscode\": 93088, \"Data\": 0.0004890772742093263}, {\"niscode\": 93090, \"Data\": null}]}}, {\"mode\": \"vega-lite\"});\n",
       "</script>"
      ],
      "text/plain": [
       "alt.LayerChart(...)"
      ]
     },
     "execution_count": 147,
     "metadata": {},
     "output_type": "execute_result"
    }
   ],
   "source": [
    "create_quantitative_plot(topo_data=topo_municipalities, data=test_data, column_name='Data', stroke='black', strokeWidth=1.0)"
   ]
  },
  {
   "cell_type": "code",
   "execution_count": null,
   "metadata": {},
   "outputs": [],
   "source": []
  },
  {
   "cell_type": "markdown",
   "metadata": {},
   "source": [
    "## Nominal data"
   ]
  },
  {
   "cell_type": "markdown",
   "metadata": {},
   "source": [
    "Parameters would be legend title, color scheme."
   ]
  },
  {
   "cell_type": "code",
   "execution_count": null,
   "metadata": {},
   "outputs": [],
   "source": [
    "def create_nominal_plot(topo_data, data, column_name,\n",
    "                             stroke='lightgrey', strokeWidth=0.5, legend_title=None,\n",
    "                             schema='reds'):\n",
    "    return create_plot(topo_data, data, column_name, 'N',\n",
    "                stroke, strokeWidth, legend_title, schema)"
   ]
  },
  {
   "cell_type": "code",
   "execution_count": null,
   "metadata": {},
   "outputs": [],
   "source": [
    "create_nominal_plot(topo_data=topo_municipalities, data=data.query('DATE == \"2020-03-31\"'),\n",
    "                    column_name='color', legend_title='Kleur', schema='category10')"
   ]
  }
 ],
 "metadata": {
  "kernelspec": {
   "display_name": "Python 3",
   "language": "python",
   "name": "python3"
  },
  "language_info": {
   "codemirror_mode": {
    "name": "ipython",
    "version": 3
   },
   "file_extension": ".py",
   "mimetype": "text/x-python",
   "name": "python",
   "nbconvert_exporter": "python",
   "pygments_lexer": "ipython3",
   "version": "3.8.5"
  }
 },
 "nbformat": 4,
 "nbformat_minor": 4
}
