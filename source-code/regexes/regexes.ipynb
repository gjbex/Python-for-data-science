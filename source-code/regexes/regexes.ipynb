{
 "cells": [
  {
   "cell_type": "markdown",
   "metadata": {},
   "source": [
    "Regular expressions are very useful in many situations, and not exclusive to Python.  In fact, once you grasp the concepts, you'll find them indispensible and use them (or miss) them for many programming and data management tasks.  This notebook intends to give you a flavor of the possibilities, it doesn't intend to be a comprehensive overview."
   ]
  },
  {
   "cell_type": "markdown",
   "metadata": {},
   "source": [
    "# Requirements"
   ]
  },
  {
   "cell_type": "markdown",
   "metadata": {},
   "source": [
    "In Python, regular expressions are implemented in the standard library's `re` module."
   ]
  },
  {
   "cell_type": "code",
   "execution_count": 4,
   "metadata": {
    "tags": []
   },
   "outputs": [],
   "source": [
    "import re"
   ]
  },
  {
   "cell_type": "markdown",
   "metadata": {},
   "source": [
    "# Match making"
   ]
  },
  {
   "cell_type": "markdown",
   "metadata": {},
   "source": [
    "One of the tasks regular expressions are useful for is verifying whether a (collection of) string(s) matches a certain pattern."
   ]
  },
  {
   "cell_type": "markdown",
   "metadata": {},
   "source": [
    "Example: for a list of file names, select only the ones that start with `dev_`, and end with `.txt`."
   ]
  },
  {
   "cell_type": "code",
   "execution_count": null,
   "metadata": {
    "collapsed": false,
    "jupyter": {
     "outputs_hidden": false
    }
   },
   "outputs": [],
   "source": [
    "file_list = ['dev_counter.txt', 'dev_reset.txt', 'shm_counter.txt', 'dev_start.txt']\n",
    "for file_name in file_list:\n",
    "    if re.match(r'dev_.*\\.txt', file_name):\n",
    "        print(file_name)"
   ]
  },
  {
   "cell_type": "markdown",
   "metadata": {},
   "source": [
    "A somewhat more complex example, select file names that have a base name ending in digits, and extension either `.txt`, or `.dat`."
   ]
  },
  {
   "cell_type": "code",
   "execution_count": null,
   "metadata": {
    "collapsed": false,
    "jupyter": {
     "outputs_hidden": false
    }
   },
   "outputs": [],
   "source": [
    "file_list = ['exp_01.txt', 'exp.txt', 'exp_02.dat', 'exp.dat', 'exp05.dat', 'exp_03.jpg']\n",
    "for file_name in file_list:\n",
    "    if re.search(r'\\d+\\.(?:txt|dat)', file_name):\n",
    "        print(file_name)"
   ]
  },
  {
   "cell_type": "markdown",
   "metadata": {},
   "source": [
    "Is this really correct?  Let's try something nasty."
   ]
  },
  {
   "cell_type": "code",
   "execution_count": null,
   "metadata": {
    "collapsed": false,
    "jupyter": {
     "outputs_hidden": false
    }
   },
   "outputs": [],
   "source": [
    "if re.search(r'\\d+\\.(?:txt|dat)', 'exp_09.data'):\n",
    "    print('Oops!')\n",
    "else:\n",
    "    print(\"Yay!\")"
   ]
  },
  {
   "cell_type": "markdown",
   "metadata": {},
   "source": [
    "Let's ensure that the strings have to end with either `.txt`, or `.dat`."
   ]
  },
  {
   "cell_type": "code",
   "execution_count": null,
   "metadata": {
    "collapsed": false,
    "jupyter": {
     "outputs_hidden": false
    }
   },
   "outputs": [],
   "source": [
    "if re.search(r'\\d+\\.(?:txt|dat)$', 'exp_09.data'):\n",
    "    print('Oops!')\n",
    "else:\n",
    "    print(\"Yay!\")"
   ]
  },
  {
   "cell_type": "markdown",
   "metadata": {},
   "source": [
    "# Extracting stuff"
   ]
  },
  {
   "cell_type": "markdown",
   "metadata": {},
   "source": [
    "Regular expressions can also be used to capture parts of a string while matching."
   ]
  },
  {
   "cell_type": "markdown",
   "metadata": {},
   "source": [
    "Suppose we are only interested in the numbers in file names like `exp_01.dat`."
   ]
  },
  {
   "cell_type": "code",
   "execution_count": null,
   "metadata": {
    "collapsed": false,
    "jupyter": {
     "outputs_hidden": false
    }
   },
   "outputs": [],
   "source": [
    "file_list = ['exp_01.dat', 'meta.txt', 'exp_02.dat', 'exp_10.dat', 'exp_05.dat', 'exp_03.jpg']\n",
    "for file_name in file_list:\n",
    "    match = re.search(r'exp_(\\d+)\\.dat', file_name)\n",
    "    if match:\n",
    "        print(match.group(1))"
   ]
  },
  {
   "cell_type": "markdown",
   "metadata": {},
   "source": [
    "Note the difference between grouping brackets such as `(?:txt|dat)`, and capturing brackets such as `(\\d+)`.  Capturing brackets also group, but grouping brackets don't capture."
   ]
  },
  {
   "cell_type": "markdown",
   "metadata": {},
   "source": [
    "# Substitution"
   ]
  },
  {
   "cell_type": "markdown",
   "metadata": {},
   "source": [
    "Regular expressions can also be used to substitute parts of strings that match a given pattern.  For instance, replace all extensions in file names by `.txt`."
   ]
  },
  {
   "cell_type": "code",
   "execution_count": null,
   "metadata": {
    "collapsed": false,
    "jupyter": {
     "outputs_hidden": false
    }
   },
   "outputs": [],
   "source": [
    "file_list = ['exp_01.dat', 'exp_03.txt', 'exp_02.dat', 'exp_10.text']\n",
    "for file_name in file_list:\n",
    "    new_file_name = re.sub(r'\\.\\w+$', '.txt', file_name)\n",
    "    print('{old:15s} -> {new}'.format(old=file_name, new=new_file_name))"
   ]
  },
  {
   "cell_type": "markdown",
   "metadata": {},
   "source": [
    "The substituion can infact include part of the string captured in the regular expression.  We can replace a file name such as `exp_03.txt` by `03_exp.txt`, and `dev_05.dat` by `05_dev.dat`."
   ]
  },
  {
   "cell_type": "code",
   "execution_count": null,
   "metadata": {
    "collapsed": false,
    "jupyter": {
     "outputs_hidden": false
    }
   },
   "outputs": [],
   "source": [
    "file_list = ['exp_01.dat', 'dev_03.txt', 'exp_02.txt', 'exp_10.text']\n",
    "for file_name in file_list:\n",
    "    new_file_name = re.sub(r'(\\w+)_(\\d+)\\.', r'\\2_\\1.', file_name)\n",
    "    print('{old:15s} -> {new}'.format(old=file_name, new=new_file_name))"
   ]
  },
  {
   "cell_type": "markdown",
   "metadata": {},
   "source": [
    "# Composition"
   ]
  },
  {
   "cell_type": "markdown",
   "metadata": {},
   "source": [
    "Sophisticated regular expressions tend to be very hard to read.  There are a couple of things you can do to mitigate that issue.\n",
    "* Use `re.VERBOSE` so that you can add whitespace and comments to the regular expression defintions.\n",
    "* Use composition, i.e., define regular expressions that describe part of the match, and compose those t match the entire expression."
   ]
  },
  {
   "cell_type": "markdown",
   "metadata": {},
   "source": [
    "Consider the following example, a log message.  We want to extract the date-time information, the log level, the process number and the exit value."
   ]
  },
  {
   "cell_type": "code",
   "execution_count": 26,
   "metadata": {},
   "outputs": [],
   "source": [
    "log_entry = '2021-08-25 17:04:23.439405 [info]: end process 1 exited with 2'"
   ]
  },
  {
   "cell_type": "markdown",
   "metadata": {},
   "source": [
    "Rather than writing a regular expression that describes the entire log message, we write expressions that match part of it."
   ]
  },
  {
   "cell_type": "code",
   "execution_count": 33,
   "metadata": {},
   "outputs": [],
   "source": [
    "date = r'\\d{4}-\\d{2}-\\d{2}'\n",
    "time = r'\\d{2}:\\d{2}:\\d{2}\\.\\d+'"
   ]
  },
  {
   "cell_type": "markdown",
   "metadata": {},
   "source": [
    "Let's check that the time matches."
   ]
  },
  {
   "cell_type": "code",
   "execution_count": 34,
   "metadata": {},
   "outputs": [
    {
     "data": {
      "text/plain": [
       "'17:04:23.439405'"
      ]
     },
     "execution_count": 34,
     "metadata": {},
     "output_type": "execute_result"
    }
   ],
   "source": [
    "match = re.search(time, log_entry)\n",
    "match.group(0)"
   ]
  },
  {
   "cell_type": "markdown",
   "metadata": {},
   "source": [
    "We cna now use `date` and `time` to match the entire date-time value."
   ]
  },
  {
   "cell_type": "code",
   "execution_count": 45,
   "metadata": {},
   "outputs": [
    {
     "data": {
      "text/plain": [
       "'2021-08-25 17:04:23.439405'"
      ]
     },
     "execution_count": 45,
     "metadata": {},
     "output_type": "execute_result"
    }
   ],
   "source": [
    "regex = re.compile(r'({date}\\s+{time})'.format(date=date, time=time))\n",
    "match = regex.search(log_entry)\n",
    "match.group(1)"
   ]
  },
  {
   "cell_type": "code",
   "execution_count": 46,
   "metadata": {},
   "outputs": [],
   "source": [
    "level = r'\\[(\\w+)\\]'\n",
    "msg = r'end\\s+process\\s+(\\d+)\\s+exited\\s+with\\s+(\\d+)'"
   ]
  },
  {
   "cell_type": "code",
   "execution_count": 47,
   "metadata": {},
   "outputs": [
    {
     "name": "stdout",
     "output_type": "stream",
     "text": [
      "datetime = 2021-08-25 17:04:23.439405\n",
      "log level: info\n",
      "process = 1\n",
      "exit status = 2\n"
     ]
    }
   ],
   "source": [
    "regex = re.compile(r'({date}\\s+{time})\\s+{level}\\s*:\\s*{msg}'.format(date=date, time=time, level=level, msg=msg))\n",
    "match = regex.match(log_entry)\n",
    "print(f'datetime = {match.group(1)}')\n",
    "print(f'log level: {match.group(2)}')\n",
    "print(f'process = {match.group(3)}')\n",
    "print(f'exit status = {match.group(4)}')"
   ]
  },
  {
   "cell_type": "markdown",
   "metadata": {},
   "source": [
    "Although the final regular expression is still rather long, it is easier to read and to maintain.  Using `re.VERBOSE` and triple-quoted strings helps to further make the regular expression more maintainable."
   ]
  },
  {
   "cell_type": "code",
   "execution_count": 48,
   "metadata": {},
   "outputs": [
    {
     "name": "stdout",
     "output_type": "stream",
     "text": [
      "datetime = 2021-08-25 17:04:23.439405\n",
      "log level: info\n",
      "process = 1\n",
      "exit status = 2\n"
     ]
    }
   ],
   "source": [
    "regex = re.compile(r'''\n",
    "    ({date}\\s+{time})\\s+        # date-time, up to microsecond presision\n",
    "    {level}\\s*:\\s*              # log level of the log message\n",
    "    {msg}                       # actual log message\n",
    "    '''.format(date=date, time=time, level=level, msg=msg), re.VERBOSE)\n",
    "match = regex.match(log_entry)\n",
    "print(f'datetime = {match.group(1)}')\n",
    "print(f'log level: {match.group(2)}')\n",
    "print(f'process = {match.group(3)}')\n",
    "print(f'exit status = {match.group(4)}')"
   ]
  }
 ],
 "metadata": {
  "kernelspec": {
   "display_name": "Python 3",
   "language": "python",
   "name": "python3"
  },
  "language_info": {
   "codemirror_mode": {
    "name": "ipython",
    "version": 3
   },
   "file_extension": ".py",
   "mimetype": "text/x-python",
   "name": "python",
   "nbconvert_exporter": "python",
   "pygments_lexer": "ipython3",
   "version": "3.7.7"
  }
 },
 "nbformat": 4,
 "nbformat_minor": 4
}
