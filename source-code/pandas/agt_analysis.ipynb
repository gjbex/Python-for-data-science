{
 "cells": [
  {
   "cell_type": "markdown",
   "metadata": {},
   "source": [
    "# AGT water level analysis"
   ]
  },
  {
   "cell_type": "markdown",
   "metadata": {},
   "source": [
    "## Module import and configuration"
   ]
  },
  {
   "cell_type": "code",
   "execution_count": 7,
   "metadata": {},
   "outputs": [],
   "source": [
    "from datetime import datetime\n",
    "import matplotlib.pyplot as plt\n",
    "import matplotlib.dates as plt_dates\n",
    "import numpy as np\n",
    "import os\n",
    "import pandas as pd\n",
    "pd.set_option('display.max_rows', 10)"
   ]
  },
  {
   "cell_type": "markdown",
   "metadata": {},
   "source": [
    "The number of rows that are shown when a pandas dataframe is displayed is limited to keep an overview.  We also use magic to ensure that plots are shown inline in the notebook."
   ]
  },
  {
   "cell_type": "markdown",
   "metadata": {},
   "source": [
    "## Reading the data files"
   ]
  },
  {
   "cell_type": "markdown",
   "metadata": {},
   "source": [
    "Read t8303 data from CSV file.  Skip the header information, skip the footer. The parser is not happy with the degrees character, so skip column headers, and assign our own.  Fortunately, the data for t8320 and u9117 is formatted similarly. To encapsulate all parameters, we wrap the `pd.read_csv` in a function.  However, the timestapms in for u9117 is different from that in the other files.  Hence the `read_senson_data` function has an optional timestamp format string.  The default is that for t8303 and t8320, while we call the function with a different version for u9117.\n",
    "\n",
    "Note that reading the CSV data is quite fragile, and *will* break when the metadata format is modified."
   ]
  },
  {
   "cell_type": "code",
   "execution_count": 8,
   "metadata": {},
   "outputs": [],
   "source": [
    "def read_sensor_data(file_name, dt_fmt='%Y/%m/%d %H:%M:%S'):\n",
    "    def dt_conv(dt):\n",
    "        return datetime.strptime(dt, dt_fmt)\n",
    "    return pd.read_csv(file_name, sep=';', skiprows=54,\n",
    "                       skipfooter=1, engine='python',\n",
    "                       names=['timestamp', 'pressure', 'temperature'],\n",
    "                       converters={0: dt_conv})"
   ]
  },
  {
   "cell_type": "code",
   "execution_count": 9,
   "metadata": {},
   "outputs": [
    {
     "data": {
      "text/html": [
       "<div>\n",
       "<style scoped>\n",
       "    .dataframe tbody tr th:only-of-type {\n",
       "        vertical-align: middle;\n",
       "    }\n",
       "\n",
       "    .dataframe tbody tr th {\n",
       "        vertical-align: top;\n",
       "    }\n",
       "\n",
       "    .dataframe thead th {\n",
       "        text-align: right;\n",
       "    }\n",
       "</style>\n",
       "<table border=\"1\" class=\"dataframe\">\n",
       "  <thead>\n",
       "    <tr style=\"text-align: right;\">\n",
       "      <th></th>\n",
       "      <th>timestamp</th>\n",
       "      <th>pressure</th>\n",
       "      <th>temperature</th>\n",
       "    </tr>\n",
       "  </thead>\n",
       "  <tbody>\n",
       "    <tr>\n",
       "      <th>0</th>\n",
       "      <td>2016-03-23 12:00:00</td>\n",
       "      <td>1033.4</td>\n",
       "      <td>20.87</td>\n",
       "    </tr>\n",
       "    <tr>\n",
       "      <th>1</th>\n",
       "      <td>2016-03-23 12:05:00</td>\n",
       "      <td>1034.6</td>\n",
       "      <td>21.13</td>\n",
       "    </tr>\n",
       "    <tr>\n",
       "      <th>2</th>\n",
       "      <td>2016-03-23 12:10:00</td>\n",
       "      <td>1035.1</td>\n",
       "      <td>21.41</td>\n",
       "    </tr>\n",
       "    <tr>\n",
       "      <th>3</th>\n",
       "      <td>2016-03-23 12:15:00</td>\n",
       "      <td>1035.3</td>\n",
       "      <td>21.69</td>\n",
       "    </tr>\n",
       "    <tr>\n",
       "      <th>4</th>\n",
       "      <td>2016-03-23 12:20:00</td>\n",
       "      <td>1035.4</td>\n",
       "      <td>21.91</td>\n",
       "    </tr>\n",
       "    <tr>\n",
       "      <th>...</th>\n",
       "      <td>...</td>\n",
       "      <td>...</td>\n",
       "      <td>...</td>\n",
       "    </tr>\n",
       "    <tr>\n",
       "      <th>16380</th>\n",
       "      <td>2016-05-19 09:00:00</td>\n",
       "      <td>1031.0</td>\n",
       "      <td>13.95</td>\n",
       "    </tr>\n",
       "    <tr>\n",
       "      <th>16381</th>\n",
       "      <td>2016-05-19 09:05:00</td>\n",
       "      <td>1031.1</td>\n",
       "      <td>13.95</td>\n",
       "    </tr>\n",
       "    <tr>\n",
       "      <th>16382</th>\n",
       "      <td>2016-05-19 09:10:00</td>\n",
       "      <td>1031.1</td>\n",
       "      <td>13.95</td>\n",
       "    </tr>\n",
       "    <tr>\n",
       "      <th>16383</th>\n",
       "      <td>2016-05-19 09:15:00</td>\n",
       "      <td>1031.3</td>\n",
       "      <td>18.12</td>\n",
       "    </tr>\n",
       "    <tr>\n",
       "      <th>16384</th>\n",
       "      <td>2016-05-19 09:20:00</td>\n",
       "      <td>1031.3</td>\n",
       "      <td>22.83</td>\n",
       "    </tr>\n",
       "  </tbody>\n",
       "</table>\n",
       "<p>16385 rows × 3 columns</p>\n",
       "</div>"
      ],
      "text/plain": [
       "                timestamp  pressure  temperature\n",
       "0     2016-03-23 12:00:00    1033.4        20.87\n",
       "1     2016-03-23 12:05:00    1034.6        21.13\n",
       "2     2016-03-23 12:10:00    1035.1        21.41\n",
       "3     2016-03-23 12:15:00    1035.3        21.69\n",
       "4     2016-03-23 12:20:00    1035.4        21.91\n",
       "...                   ...       ...          ...\n",
       "16380 2016-05-19 09:00:00    1031.0        13.95\n",
       "16381 2016-05-19 09:05:00    1031.1        13.95\n",
       "16382 2016-05-19 09:10:00    1031.1        13.95\n",
       "16383 2016-05-19 09:15:00    1031.3        18.12\n",
       "16384 2016-05-19 09:20:00    1031.3        22.83\n",
       "\n",
       "[16385 rows x 3 columns]"
      ]
     },
     "execution_count": 9,
     "metadata": {},
     "output_type": "execute_result"
    }
   ],
   "source": [
    "t8303_data = read_sensor_data(os.path.join('agt_data', 'vei_t8303_160519102111_T8303.CSV'))\n",
    "t8303_data"
   ]
  },
  {
   "cell_type": "code",
   "execution_count": 10,
   "metadata": {},
   "outputs": [
    {
     "data": {
      "text/html": [
       "<div>\n",
       "<style scoped>\n",
       "    .dataframe tbody tr th:only-of-type {\n",
       "        vertical-align: middle;\n",
       "    }\n",
       "\n",
       "    .dataframe tbody tr th {\n",
       "        vertical-align: top;\n",
       "    }\n",
       "\n",
       "    .dataframe thead th {\n",
       "        text-align: right;\n",
       "    }\n",
       "</style>\n",
       "<table border=\"1\" class=\"dataframe\">\n",
       "  <thead>\n",
       "    <tr style=\"text-align: right;\">\n",
       "      <th></th>\n",
       "      <th>timestamp</th>\n",
       "      <th>pressure</th>\n",
       "      <th>temperature</th>\n",
       "    </tr>\n",
       "  </thead>\n",
       "  <tbody>\n",
       "    <tr>\n",
       "      <th>0</th>\n",
       "      <td>2016-03-23 12:00:00</td>\n",
       "      <td>1033.3</td>\n",
       "      <td>21.22</td>\n",
       "    </tr>\n",
       "    <tr>\n",
       "      <th>1</th>\n",
       "      <td>2016-03-23 12:05:00</td>\n",
       "      <td>1034.2</td>\n",
       "      <td>21.53</td>\n",
       "    </tr>\n",
       "    <tr>\n",
       "      <th>2</th>\n",
       "      <td>2016-03-23 12:10:00</td>\n",
       "      <td>1034.9</td>\n",
       "      <td>21.87</td>\n",
       "    </tr>\n",
       "    <tr>\n",
       "      <th>3</th>\n",
       "      <td>2016-03-23 12:15:00</td>\n",
       "      <td>1035.2</td>\n",
       "      <td>22.20</td>\n",
       "    </tr>\n",
       "    <tr>\n",
       "      <th>4</th>\n",
       "      <td>2016-03-23 12:20:00</td>\n",
       "      <td>1035.2</td>\n",
       "      <td>22.42</td>\n",
       "    </tr>\n",
       "    <tr>\n",
       "      <th>...</th>\n",
       "      <td>...</td>\n",
       "      <td>...</td>\n",
       "      <td>...</td>\n",
       "    </tr>\n",
       "    <tr>\n",
       "      <th>16411</th>\n",
       "      <td>2016-05-19 11:35:00</td>\n",
       "      <td>1032.3</td>\n",
       "      <td>17.07</td>\n",
       "    </tr>\n",
       "    <tr>\n",
       "      <th>16412</th>\n",
       "      <td>2016-05-19 11:40:00</td>\n",
       "      <td>1032.4</td>\n",
       "      <td>17.07</td>\n",
       "    </tr>\n",
       "    <tr>\n",
       "      <th>16413</th>\n",
       "      <td>2016-05-19 11:45:00</td>\n",
       "      <td>1032.4</td>\n",
       "      <td>17.07</td>\n",
       "    </tr>\n",
       "    <tr>\n",
       "      <th>16414</th>\n",
       "      <td>2016-05-19 11:50:00</td>\n",
       "      <td>1032.4</td>\n",
       "      <td>17.07</td>\n",
       "    </tr>\n",
       "    <tr>\n",
       "      <th>16415</th>\n",
       "      <td>2016-05-19 11:55:00</td>\n",
       "      <td>1032.6</td>\n",
       "      <td>18.79</td>\n",
       "    </tr>\n",
       "  </tbody>\n",
       "</table>\n",
       "<p>16416 rows × 3 columns</p>\n",
       "</div>"
      ],
      "text/plain": [
       "                timestamp  pressure  temperature\n",
       "0     2016-03-23 12:00:00    1033.3        21.22\n",
       "1     2016-03-23 12:05:00    1034.2        21.53\n",
       "2     2016-03-23 12:10:00    1034.9        21.87\n",
       "3     2016-03-23 12:15:00    1035.2        22.20\n",
       "4     2016-03-23 12:20:00    1035.2        22.42\n",
       "...                   ...       ...          ...\n",
       "16411 2016-05-19 11:35:00    1032.3        17.07\n",
       "16412 2016-05-19 11:40:00    1032.4        17.07\n",
       "16413 2016-05-19 11:45:00    1032.4        17.07\n",
       "16414 2016-05-19 11:50:00    1032.4        17.07\n",
       "16415 2016-05-19 11:55:00    1032.6        18.79\n",
       "\n",
       "[16416 rows x 3 columns]"
      ]
     },
     "execution_count": 10,
     "metadata": {},
     "output_type": "execute_result"
    }
   ],
   "source": [
    "t8320_data = read_sensor_data(os.path.join('agt_data', 'vei_t8320_160519125721_T8320.CSV'))\n",
    "t8320_data"
   ]
  },
  {
   "cell_type": "code",
   "execution_count": 11,
   "metadata": {},
   "outputs": [
    {
     "data": {
      "text/html": [
       "<div>\n",
       "<style scoped>\n",
       "    .dataframe tbody tr th:only-of-type {\n",
       "        vertical-align: middle;\n",
       "    }\n",
       "\n",
       "    .dataframe tbody tr th {\n",
       "        vertical-align: top;\n",
       "    }\n",
       "\n",
       "    .dataframe thead th {\n",
       "        text-align: right;\n",
       "    }\n",
       "</style>\n",
       "<table border=\"1\" class=\"dataframe\">\n",
       "  <thead>\n",
       "    <tr style=\"text-align: right;\">\n",
       "      <th></th>\n",
       "      <th>timestamp</th>\n",
       "      <th>pressure</th>\n",
       "      <th>temperature</th>\n",
       "    </tr>\n",
       "  </thead>\n",
       "  <tbody>\n",
       "    <tr>\n",
       "      <th>0</th>\n",
       "      <td>2016-03-23 12:00:00</td>\n",
       "      <td>1031.7</td>\n",
       "      <td>22.12</td>\n",
       "    </tr>\n",
       "    <tr>\n",
       "      <th>1</th>\n",
       "      <td>2016-03-23 12:05:00</td>\n",
       "      <td>1032.4</td>\n",
       "      <td>22.46</td>\n",
       "    </tr>\n",
       "    <tr>\n",
       "      <th>2</th>\n",
       "      <td>2016-03-23 12:10:00</td>\n",
       "      <td>1033.5</td>\n",
       "      <td>22.80</td>\n",
       "    </tr>\n",
       "    <tr>\n",
       "      <th>3</th>\n",
       "      <td>2016-03-23 12:15:00</td>\n",
       "      <td>1033.5</td>\n",
       "      <td>23.10</td>\n",
       "    </tr>\n",
       "    <tr>\n",
       "      <th>4</th>\n",
       "      <td>2016-03-23 12:20:00</td>\n",
       "      <td>1034.0</td>\n",
       "      <td>23.30</td>\n",
       "    </tr>\n",
       "    <tr>\n",
       "      <th>...</th>\n",
       "      <td>...</td>\n",
       "      <td>...</td>\n",
       "      <td>...</td>\n",
       "    </tr>\n",
       "    <tr>\n",
       "      <th>16410</th>\n",
       "      <td>2016-05-19 11:30:00</td>\n",
       "      <td>1313.6</td>\n",
       "      <td>12.54</td>\n",
       "    </tr>\n",
       "    <tr>\n",
       "      <th>16411</th>\n",
       "      <td>2016-05-19 11:35:00</td>\n",
       "      <td>1313.4</td>\n",
       "      <td>12.54</td>\n",
       "    </tr>\n",
       "    <tr>\n",
       "      <th>16412</th>\n",
       "      <td>2016-05-19 11:40:00</td>\n",
       "      <td>1313.6</td>\n",
       "      <td>12.55</td>\n",
       "    </tr>\n",
       "    <tr>\n",
       "      <th>16413</th>\n",
       "      <td>2016-05-19 11:45:00</td>\n",
       "      <td>1312.2</td>\n",
       "      <td>12.54</td>\n",
       "    </tr>\n",
       "    <tr>\n",
       "      <th>16414</th>\n",
       "      <td>2016-05-19 11:50:00</td>\n",
       "      <td>1312.7</td>\n",
       "      <td>12.53</td>\n",
       "    </tr>\n",
       "  </tbody>\n",
       "</table>\n",
       "<p>16415 rows × 3 columns</p>\n",
       "</div>"
      ],
      "text/plain": [
       "                timestamp  pressure  temperature\n",
       "0     2016-03-23 12:00:00    1031.7        22.12\n",
       "1     2016-03-23 12:05:00    1032.4        22.46\n",
       "2     2016-03-23 12:10:00    1033.5        22.80\n",
       "3     2016-03-23 12:15:00    1033.5        23.10\n",
       "4     2016-03-23 12:20:00    1034.0        23.30\n",
       "...                   ...       ...          ...\n",
       "16410 2016-05-19 11:30:00    1313.6        12.54\n",
       "16411 2016-05-19 11:35:00    1313.4        12.54\n",
       "16412 2016-05-19 11:40:00    1313.6        12.55\n",
       "16413 2016-05-19 11:45:00    1312.2        12.54\n",
       "16414 2016-05-19 11:50:00    1312.7        12.53\n",
       "\n",
       "[16415 rows x 3 columns]"
      ]
     },
     "execution_count": 11,
     "metadata": {},
     "output_type": "execute_result"
    }
   ],
   "source": [
    "u9117_data = read_sensor_data(os.path.join('agt_data', 'vei_u9117_p1.1_160519125431_U9117.CSV'),\n",
    "                              dt_fmt='%d/%m/%Y %H:%M')\n",
    "u9117_data"
   ]
  },
  {
   "cell_type": "markdown",
   "metadata": {},
   "source": [
    "## Joining the data"
   ]
  },
  {
   "cell_type": "markdown",
   "metadata": {},
   "source": [
    "The three dataframes share the same index, so they can be joined on that.  However, since these time series do not span the exact same period, this should be an outer join, rarther than the default inner join. The missing data points will be represented by `NaN`. A join in pandas is implemented in the `merge` operation, which works on two dataframes, hence we need an intermediate join for the first two dataframes, t8303 and t8320, and a second join on the result of the first, and u9117.\n",
    "\n",
    "Note that since the dataframes have the same column names, we specify a meaningful suffix in order to distinguish those columns in the first join. This problem doesn't occur for the second join, but we rename the columns for u9117 so that all names are consistent. We do the latter in-place to conserve memory and gain efficiency."
   ]
  },
  {
   "cell_type": "code",
   "execution_count": 12,
   "metadata": {},
   "outputs": [],
   "source": [
    "tmp_data = pd.merge(t8303_data, t8320_data, how='outer', on='timestamp',\n",
    "                    suffixes=('_t8303', '_t8320'))"
   ]
  },
  {
   "cell_type": "code",
   "execution_count": 13,
   "metadata": {},
   "outputs": [],
   "source": [
    "sensor_data = pd.merge(tmp_data, u9117_data, how='outer', on='timestamp')\n",
    "sensor_data.rename(columns={'pressure': 'pressure_u9117', 'temperature': 'temperature_u9117'},\n",
    "                   inplace=True)"
   ]
  },
  {
   "cell_type": "code",
   "execution_count": 14,
   "metadata": {},
   "outputs": [
    {
     "data": {
      "text/html": [
       "<div>\n",
       "<style scoped>\n",
       "    .dataframe tbody tr th:only-of-type {\n",
       "        vertical-align: middle;\n",
       "    }\n",
       "\n",
       "    .dataframe tbody tr th {\n",
       "        vertical-align: top;\n",
       "    }\n",
       "\n",
       "    .dataframe thead th {\n",
       "        text-align: right;\n",
       "    }\n",
       "</style>\n",
       "<table border=\"1\" class=\"dataframe\">\n",
       "  <thead>\n",
       "    <tr style=\"text-align: right;\">\n",
       "      <th></th>\n",
       "      <th>timestamp</th>\n",
       "      <th>pressure_t8303</th>\n",
       "      <th>temperature_t8303</th>\n",
       "      <th>pressure_t8320</th>\n",
       "      <th>temperature_t8320</th>\n",
       "      <th>pressure_u9117</th>\n",
       "      <th>temperature_u9117</th>\n",
       "    </tr>\n",
       "  </thead>\n",
       "  <tbody>\n",
       "    <tr>\n",
       "      <th>0</th>\n",
       "      <td>2016-03-23 12:00:00</td>\n",
       "      <td>1033.4</td>\n",
       "      <td>20.87</td>\n",
       "      <td>1033.3</td>\n",
       "      <td>21.22</td>\n",
       "      <td>1031.7</td>\n",
       "      <td>22.12</td>\n",
       "    </tr>\n",
       "    <tr>\n",
       "      <th>1</th>\n",
       "      <td>2016-03-23 12:05:00</td>\n",
       "      <td>1034.6</td>\n",
       "      <td>21.13</td>\n",
       "      <td>1034.2</td>\n",
       "      <td>21.53</td>\n",
       "      <td>1032.4</td>\n",
       "      <td>22.46</td>\n",
       "    </tr>\n",
       "    <tr>\n",
       "      <th>2</th>\n",
       "      <td>2016-03-23 12:10:00</td>\n",
       "      <td>1035.1</td>\n",
       "      <td>21.41</td>\n",
       "      <td>1034.9</td>\n",
       "      <td>21.87</td>\n",
       "      <td>1033.5</td>\n",
       "      <td>22.80</td>\n",
       "    </tr>\n",
       "    <tr>\n",
       "      <th>3</th>\n",
       "      <td>2016-03-23 12:15:00</td>\n",
       "      <td>1035.3</td>\n",
       "      <td>21.69</td>\n",
       "      <td>1035.2</td>\n",
       "      <td>22.20</td>\n",
       "      <td>1033.5</td>\n",
       "      <td>23.10</td>\n",
       "    </tr>\n",
       "    <tr>\n",
       "      <th>4</th>\n",
       "      <td>2016-03-23 12:20:00</td>\n",
       "      <td>1035.4</td>\n",
       "      <td>21.91</td>\n",
       "      <td>1035.2</td>\n",
       "      <td>22.42</td>\n",
       "      <td>1034.0</td>\n",
       "      <td>23.30</td>\n",
       "    </tr>\n",
       "    <tr>\n",
       "      <th>...</th>\n",
       "      <td>...</td>\n",
       "      <td>...</td>\n",
       "      <td>...</td>\n",
       "      <td>...</td>\n",
       "      <td>...</td>\n",
       "      <td>...</td>\n",
       "      <td>...</td>\n",
       "    </tr>\n",
       "    <tr>\n",
       "      <th>16411</th>\n",
       "      <td>2016-05-19 11:35:00</td>\n",
       "      <td>NaN</td>\n",
       "      <td>NaN</td>\n",
       "      <td>1032.3</td>\n",
       "      <td>17.07</td>\n",
       "      <td>1313.4</td>\n",
       "      <td>12.54</td>\n",
       "    </tr>\n",
       "    <tr>\n",
       "      <th>16412</th>\n",
       "      <td>2016-05-19 11:40:00</td>\n",
       "      <td>NaN</td>\n",
       "      <td>NaN</td>\n",
       "      <td>1032.4</td>\n",
       "      <td>17.07</td>\n",
       "      <td>1313.6</td>\n",
       "      <td>12.55</td>\n",
       "    </tr>\n",
       "    <tr>\n",
       "      <th>16413</th>\n",
       "      <td>2016-05-19 11:45:00</td>\n",
       "      <td>NaN</td>\n",
       "      <td>NaN</td>\n",
       "      <td>1032.4</td>\n",
       "      <td>17.07</td>\n",
       "      <td>1312.2</td>\n",
       "      <td>12.54</td>\n",
       "    </tr>\n",
       "    <tr>\n",
       "      <th>16414</th>\n",
       "      <td>2016-05-19 11:50:00</td>\n",
       "      <td>NaN</td>\n",
       "      <td>NaN</td>\n",
       "      <td>1032.4</td>\n",
       "      <td>17.07</td>\n",
       "      <td>1312.7</td>\n",
       "      <td>12.53</td>\n",
       "    </tr>\n",
       "    <tr>\n",
       "      <th>16415</th>\n",
       "      <td>2016-05-19 11:55:00</td>\n",
       "      <td>NaN</td>\n",
       "      <td>NaN</td>\n",
       "      <td>1032.6</td>\n",
       "      <td>18.79</td>\n",
       "      <td>NaN</td>\n",
       "      <td>NaN</td>\n",
       "    </tr>\n",
       "  </tbody>\n",
       "</table>\n",
       "<p>16416 rows × 7 columns</p>\n",
       "</div>"
      ],
      "text/plain": [
       "                timestamp  pressure_t8303  temperature_t8303  pressure_t8320  \\\n",
       "0     2016-03-23 12:00:00          1033.4              20.87          1033.3   \n",
       "1     2016-03-23 12:05:00          1034.6              21.13          1034.2   \n",
       "2     2016-03-23 12:10:00          1035.1              21.41          1034.9   \n",
       "3     2016-03-23 12:15:00          1035.3              21.69          1035.2   \n",
       "4     2016-03-23 12:20:00          1035.4              21.91          1035.2   \n",
       "...                   ...             ...                ...             ...   \n",
       "16411 2016-05-19 11:35:00             NaN                NaN          1032.3   \n",
       "16412 2016-05-19 11:40:00             NaN                NaN          1032.4   \n",
       "16413 2016-05-19 11:45:00             NaN                NaN          1032.4   \n",
       "16414 2016-05-19 11:50:00             NaN                NaN          1032.4   \n",
       "16415 2016-05-19 11:55:00             NaN                NaN          1032.6   \n",
       "\n",
       "       temperature_t8320  pressure_u9117  temperature_u9117  \n",
       "0                  21.22          1031.7              22.12  \n",
       "1                  21.53          1032.4              22.46  \n",
       "2                  21.87          1033.5              22.80  \n",
       "3                  22.20          1033.5              23.10  \n",
       "4                  22.42          1034.0              23.30  \n",
       "...                  ...             ...                ...  \n",
       "16411              17.07          1313.4              12.54  \n",
       "16412              17.07          1313.6              12.55  \n",
       "16413              17.07          1312.2              12.54  \n",
       "16414              17.07          1312.7              12.53  \n",
       "16415              18.79             NaN                NaN  \n",
       "\n",
       "[16416 rows x 7 columns]"
      ]
     },
     "execution_count": 14,
     "metadata": {},
     "output_type": "execute_result"
    }
   ],
   "source": [
    "sensor_data"
   ]
  },
  {
   "cell_type": "markdown",
   "metadata": {},
   "source": [
    "It is more convenient to have the timestamp as index, so we replace the default by the timestamp column."
   ]
  },
  {
   "cell_type": "code",
   "execution_count": 15,
   "metadata": {},
   "outputs": [],
   "source": [
    "sensor_data.set_index('timestamp', inplace=True)"
   ]
  },
  {
   "cell_type": "markdown",
   "metadata": {},
   "source": [
    "If one of the air pressure sensor has no value for some timestamp, it can be substituted by the vallue of the other.  The same holds for the temperatures."
   ]
  },
  {
   "cell_type": "code",
   "execution_count": 16,
   "metadata": {},
   "outputs": [],
   "source": [
    "sensor_data['pressure_t8303'].fillna(sensor_data['pressure_t8320'], inplace=True)\n",
    "sensor_data['pressure_t8320'].fillna(sensor_data['pressure_t8303'], inplace=True)\n",
    "sensor_data['temperature_t8303'].fillna(sensor_data['temperature_t8320'], inplace=True)\n",
    "sensor_data['temperature_t8320'].fillna(sensor_data['temperature_t8303'], inplace=True)"
   ]
  },
  {
   "cell_type": "code",
   "execution_count": 17,
   "metadata": {},
   "outputs": [
    {
     "data": {
      "text/html": [
       "<div>\n",
       "<style scoped>\n",
       "    .dataframe tbody tr th:only-of-type {\n",
       "        vertical-align: middle;\n",
       "    }\n",
       "\n",
       "    .dataframe tbody tr th {\n",
       "        vertical-align: top;\n",
       "    }\n",
       "\n",
       "    .dataframe thead th {\n",
       "        text-align: right;\n",
       "    }\n",
       "</style>\n",
       "<table border=\"1\" class=\"dataframe\">\n",
       "  <thead>\n",
       "    <tr style=\"text-align: right;\">\n",
       "      <th></th>\n",
       "      <th>pressure_t8303</th>\n",
       "      <th>temperature_t8303</th>\n",
       "      <th>pressure_t8320</th>\n",
       "      <th>temperature_t8320</th>\n",
       "      <th>pressure_u9117</th>\n",
       "      <th>temperature_u9117</th>\n",
       "    </tr>\n",
       "    <tr>\n",
       "      <th>timestamp</th>\n",
       "      <th></th>\n",
       "      <th></th>\n",
       "      <th></th>\n",
       "      <th></th>\n",
       "      <th></th>\n",
       "      <th></th>\n",
       "    </tr>\n",
       "  </thead>\n",
       "  <tbody>\n",
       "    <tr>\n",
       "      <th>2016-03-23 12:00:00</th>\n",
       "      <td>1033.4</td>\n",
       "      <td>20.87</td>\n",
       "      <td>1033.3</td>\n",
       "      <td>21.22</td>\n",
       "      <td>1031.7</td>\n",
       "      <td>22.12</td>\n",
       "    </tr>\n",
       "    <tr>\n",
       "      <th>2016-03-23 12:05:00</th>\n",
       "      <td>1034.6</td>\n",
       "      <td>21.13</td>\n",
       "      <td>1034.2</td>\n",
       "      <td>21.53</td>\n",
       "      <td>1032.4</td>\n",
       "      <td>22.46</td>\n",
       "    </tr>\n",
       "    <tr>\n",
       "      <th>2016-03-23 12:10:00</th>\n",
       "      <td>1035.1</td>\n",
       "      <td>21.41</td>\n",
       "      <td>1034.9</td>\n",
       "      <td>21.87</td>\n",
       "      <td>1033.5</td>\n",
       "      <td>22.80</td>\n",
       "    </tr>\n",
       "    <tr>\n",
       "      <th>2016-03-23 12:15:00</th>\n",
       "      <td>1035.3</td>\n",
       "      <td>21.69</td>\n",
       "      <td>1035.2</td>\n",
       "      <td>22.20</td>\n",
       "      <td>1033.5</td>\n",
       "      <td>23.10</td>\n",
       "    </tr>\n",
       "    <tr>\n",
       "      <th>2016-03-23 12:20:00</th>\n",
       "      <td>1035.4</td>\n",
       "      <td>21.91</td>\n",
       "      <td>1035.2</td>\n",
       "      <td>22.42</td>\n",
       "      <td>1034.0</td>\n",
       "      <td>23.30</td>\n",
       "    </tr>\n",
       "    <tr>\n",
       "      <th>...</th>\n",
       "      <td>...</td>\n",
       "      <td>...</td>\n",
       "      <td>...</td>\n",
       "      <td>...</td>\n",
       "      <td>...</td>\n",
       "      <td>...</td>\n",
       "    </tr>\n",
       "    <tr>\n",
       "      <th>2016-05-19 11:35:00</th>\n",
       "      <td>1032.3</td>\n",
       "      <td>17.07</td>\n",
       "      <td>1032.3</td>\n",
       "      <td>17.07</td>\n",
       "      <td>1313.4</td>\n",
       "      <td>12.54</td>\n",
       "    </tr>\n",
       "    <tr>\n",
       "      <th>2016-05-19 11:40:00</th>\n",
       "      <td>1032.4</td>\n",
       "      <td>17.07</td>\n",
       "      <td>1032.4</td>\n",
       "      <td>17.07</td>\n",
       "      <td>1313.6</td>\n",
       "      <td>12.55</td>\n",
       "    </tr>\n",
       "    <tr>\n",
       "      <th>2016-05-19 11:45:00</th>\n",
       "      <td>1032.4</td>\n",
       "      <td>17.07</td>\n",
       "      <td>1032.4</td>\n",
       "      <td>17.07</td>\n",
       "      <td>1312.2</td>\n",
       "      <td>12.54</td>\n",
       "    </tr>\n",
       "    <tr>\n",
       "      <th>2016-05-19 11:50:00</th>\n",
       "      <td>1032.4</td>\n",
       "      <td>17.07</td>\n",
       "      <td>1032.4</td>\n",
       "      <td>17.07</td>\n",
       "      <td>1312.7</td>\n",
       "      <td>12.53</td>\n",
       "    </tr>\n",
       "    <tr>\n",
       "      <th>2016-05-19 11:55:00</th>\n",
       "      <td>1032.6</td>\n",
       "      <td>18.79</td>\n",
       "      <td>1032.6</td>\n",
       "      <td>18.79</td>\n",
       "      <td>NaN</td>\n",
       "      <td>NaN</td>\n",
       "    </tr>\n",
       "  </tbody>\n",
       "</table>\n",
       "<p>16416 rows × 6 columns</p>\n",
       "</div>"
      ],
      "text/plain": [
       "                     pressure_t8303  temperature_t8303  pressure_t8320  \\\n",
       "timestamp                                                                \n",
       "2016-03-23 12:00:00          1033.4              20.87          1033.3   \n",
       "2016-03-23 12:05:00          1034.6              21.13          1034.2   \n",
       "2016-03-23 12:10:00          1035.1              21.41          1034.9   \n",
       "2016-03-23 12:15:00          1035.3              21.69          1035.2   \n",
       "2016-03-23 12:20:00          1035.4              21.91          1035.2   \n",
       "...                             ...                ...             ...   \n",
       "2016-05-19 11:35:00          1032.3              17.07          1032.3   \n",
       "2016-05-19 11:40:00          1032.4              17.07          1032.4   \n",
       "2016-05-19 11:45:00          1032.4              17.07          1032.4   \n",
       "2016-05-19 11:50:00          1032.4              17.07          1032.4   \n",
       "2016-05-19 11:55:00          1032.6              18.79          1032.6   \n",
       "\n",
       "                     temperature_t8320  pressure_u9117  temperature_u9117  \n",
       "timestamp                                                                  \n",
       "2016-03-23 12:00:00              21.22          1031.7              22.12  \n",
       "2016-03-23 12:05:00              21.53          1032.4              22.46  \n",
       "2016-03-23 12:10:00              21.87          1033.5              22.80  \n",
       "2016-03-23 12:15:00              22.20          1033.5              23.10  \n",
       "2016-03-23 12:20:00              22.42          1034.0              23.30  \n",
       "...                                ...             ...                ...  \n",
       "2016-05-19 11:35:00              17.07          1313.4              12.54  \n",
       "2016-05-19 11:40:00              17.07          1313.6              12.55  \n",
       "2016-05-19 11:45:00              17.07          1312.2              12.54  \n",
       "2016-05-19 11:50:00              17.07          1312.7              12.53  \n",
       "2016-05-19 11:55:00              18.79             NaN                NaN  \n",
       "\n",
       "[16416 rows x 6 columns]"
      ]
     },
     "execution_count": 17,
     "metadata": {},
     "output_type": "execute_result"
    }
   ],
   "source": [
    "sensor_data"
   ]
  },
  {
   "cell_type": "markdown",
   "metadata": {},
   "source": [
    "## Computation of derived columns"
   ]
  },
  {
   "cell_type": "markdown",
   "metadata": {},
   "source": [
    "Now we add the derived columns `avg_baro_pressure`, `pressure_without_baro_u9117` and `water_level_u9117`."
   ]
  },
  {
   "cell_type": "code",
   "execution_count": 18,
   "metadata": {
    "tags": []
   },
   "outputs": [],
   "source": [
    "depth_u9117 = 4.7735"
   ]
  },
  {
   "cell_type": "code",
   "execution_count": 19,
   "metadata": {},
   "outputs": [],
   "source": [
    "sensor_data['avg_baro_pressure'] = (sensor_data['pressure_t8303'] + sensor_data['pressure_t8320'])/(2*100)\n",
    "sensor_data['pressure_without_baro_u9117'] = sensor_data['pressure_u9117']/100.0 - sensor_data['avg_baro_pressure']\n",
    "sensor_data['water_level_u9117'] = depth_u9117 - sensor_data['pressure_without_baro_u9117']"
   ]
  },
  {
   "cell_type": "code",
   "execution_count": 20,
   "metadata": {},
   "outputs": [
    {
     "data": {
      "text/html": [
       "<div>\n",
       "<style scoped>\n",
       "    .dataframe tbody tr th:only-of-type {\n",
       "        vertical-align: middle;\n",
       "    }\n",
       "\n",
       "    .dataframe tbody tr th {\n",
       "        vertical-align: top;\n",
       "    }\n",
       "\n",
       "    .dataframe thead th {\n",
       "        text-align: right;\n",
       "    }\n",
       "</style>\n",
       "<table border=\"1\" class=\"dataframe\">\n",
       "  <thead>\n",
       "    <tr style=\"text-align: right;\">\n",
       "      <th></th>\n",
       "      <th>pressure_t8303</th>\n",
       "      <th>temperature_t8303</th>\n",
       "      <th>pressure_t8320</th>\n",
       "      <th>temperature_t8320</th>\n",
       "      <th>pressure_u9117</th>\n",
       "      <th>temperature_u9117</th>\n",
       "      <th>avg_baro_pressure</th>\n",
       "      <th>pressure_without_baro_u9117</th>\n",
       "      <th>water_level_u9117</th>\n",
       "    </tr>\n",
       "    <tr>\n",
       "      <th>timestamp</th>\n",
       "      <th></th>\n",
       "      <th></th>\n",
       "      <th></th>\n",
       "      <th></th>\n",
       "      <th></th>\n",
       "      <th></th>\n",
       "      <th></th>\n",
       "      <th></th>\n",
       "      <th></th>\n",
       "    </tr>\n",
       "  </thead>\n",
       "  <tbody>\n",
       "    <tr>\n",
       "      <th>2016-03-23 12:00:00</th>\n",
       "      <td>1033.4</td>\n",
       "      <td>20.87</td>\n",
       "      <td>1033.3</td>\n",
       "      <td>21.22</td>\n",
       "      <td>1031.7</td>\n",
       "      <td>22.12</td>\n",
       "      <td>10.3335</td>\n",
       "      <td>-0.0165</td>\n",
       "      <td>4.7900</td>\n",
       "    </tr>\n",
       "    <tr>\n",
       "      <th>2016-03-23 12:05:00</th>\n",
       "      <td>1034.6</td>\n",
       "      <td>21.13</td>\n",
       "      <td>1034.2</td>\n",
       "      <td>21.53</td>\n",
       "      <td>1032.4</td>\n",
       "      <td>22.46</td>\n",
       "      <td>10.3440</td>\n",
       "      <td>-0.0200</td>\n",
       "      <td>4.7935</td>\n",
       "    </tr>\n",
       "    <tr>\n",
       "      <th>2016-03-23 12:10:00</th>\n",
       "      <td>1035.1</td>\n",
       "      <td>21.41</td>\n",
       "      <td>1034.9</td>\n",
       "      <td>21.87</td>\n",
       "      <td>1033.5</td>\n",
       "      <td>22.80</td>\n",
       "      <td>10.3500</td>\n",
       "      <td>-0.0150</td>\n",
       "      <td>4.7885</td>\n",
       "    </tr>\n",
       "    <tr>\n",
       "      <th>2016-03-23 12:15:00</th>\n",
       "      <td>1035.3</td>\n",
       "      <td>21.69</td>\n",
       "      <td>1035.2</td>\n",
       "      <td>22.20</td>\n",
       "      <td>1033.5</td>\n",
       "      <td>23.10</td>\n",
       "      <td>10.3525</td>\n",
       "      <td>-0.0175</td>\n",
       "      <td>4.7910</td>\n",
       "    </tr>\n",
       "    <tr>\n",
       "      <th>2016-03-23 12:20:00</th>\n",
       "      <td>1035.4</td>\n",
       "      <td>21.91</td>\n",
       "      <td>1035.2</td>\n",
       "      <td>22.42</td>\n",
       "      <td>1034.0</td>\n",
       "      <td>23.30</td>\n",
       "      <td>10.3530</td>\n",
       "      <td>-0.0130</td>\n",
       "      <td>4.7865</td>\n",
       "    </tr>\n",
       "    <tr>\n",
       "      <th>...</th>\n",
       "      <td>...</td>\n",
       "      <td>...</td>\n",
       "      <td>...</td>\n",
       "      <td>...</td>\n",
       "      <td>...</td>\n",
       "      <td>...</td>\n",
       "      <td>...</td>\n",
       "      <td>...</td>\n",
       "      <td>...</td>\n",
       "    </tr>\n",
       "    <tr>\n",
       "      <th>2016-05-19 11:35:00</th>\n",
       "      <td>1032.3</td>\n",
       "      <td>17.07</td>\n",
       "      <td>1032.3</td>\n",
       "      <td>17.07</td>\n",
       "      <td>1313.4</td>\n",
       "      <td>12.54</td>\n",
       "      <td>10.3230</td>\n",
       "      <td>2.8110</td>\n",
       "      <td>1.9625</td>\n",
       "    </tr>\n",
       "    <tr>\n",
       "      <th>2016-05-19 11:40:00</th>\n",
       "      <td>1032.4</td>\n",
       "      <td>17.07</td>\n",
       "      <td>1032.4</td>\n",
       "      <td>17.07</td>\n",
       "      <td>1313.6</td>\n",
       "      <td>12.55</td>\n",
       "      <td>10.3240</td>\n",
       "      <td>2.8120</td>\n",
       "      <td>1.9615</td>\n",
       "    </tr>\n",
       "    <tr>\n",
       "      <th>2016-05-19 11:45:00</th>\n",
       "      <td>1032.4</td>\n",
       "      <td>17.07</td>\n",
       "      <td>1032.4</td>\n",
       "      <td>17.07</td>\n",
       "      <td>1312.2</td>\n",
       "      <td>12.54</td>\n",
       "      <td>10.3240</td>\n",
       "      <td>2.7980</td>\n",
       "      <td>1.9755</td>\n",
       "    </tr>\n",
       "    <tr>\n",
       "      <th>2016-05-19 11:50:00</th>\n",
       "      <td>1032.4</td>\n",
       "      <td>17.07</td>\n",
       "      <td>1032.4</td>\n",
       "      <td>17.07</td>\n",
       "      <td>1312.7</td>\n",
       "      <td>12.53</td>\n",
       "      <td>10.3240</td>\n",
       "      <td>2.8030</td>\n",
       "      <td>1.9705</td>\n",
       "    </tr>\n",
       "    <tr>\n",
       "      <th>2016-05-19 11:55:00</th>\n",
       "      <td>1032.6</td>\n",
       "      <td>18.79</td>\n",
       "      <td>1032.6</td>\n",
       "      <td>18.79</td>\n",
       "      <td>NaN</td>\n",
       "      <td>NaN</td>\n",
       "      <td>10.3260</td>\n",
       "      <td>NaN</td>\n",
       "      <td>NaN</td>\n",
       "    </tr>\n",
       "  </tbody>\n",
       "</table>\n",
       "<p>16416 rows × 9 columns</p>\n",
       "</div>"
      ],
      "text/plain": [
       "                     pressure_t8303  temperature_t8303  pressure_t8320  \\\n",
       "timestamp                                                                \n",
       "2016-03-23 12:00:00          1033.4              20.87          1033.3   \n",
       "2016-03-23 12:05:00          1034.6              21.13          1034.2   \n",
       "2016-03-23 12:10:00          1035.1              21.41          1034.9   \n",
       "2016-03-23 12:15:00          1035.3              21.69          1035.2   \n",
       "2016-03-23 12:20:00          1035.4              21.91          1035.2   \n",
       "...                             ...                ...             ...   \n",
       "2016-05-19 11:35:00          1032.3              17.07          1032.3   \n",
       "2016-05-19 11:40:00          1032.4              17.07          1032.4   \n",
       "2016-05-19 11:45:00          1032.4              17.07          1032.4   \n",
       "2016-05-19 11:50:00          1032.4              17.07          1032.4   \n",
       "2016-05-19 11:55:00          1032.6              18.79          1032.6   \n",
       "\n",
       "                     temperature_t8320  pressure_u9117  temperature_u9117  \\\n",
       "timestamp                                                                   \n",
       "2016-03-23 12:00:00              21.22          1031.7              22.12   \n",
       "2016-03-23 12:05:00              21.53          1032.4              22.46   \n",
       "2016-03-23 12:10:00              21.87          1033.5              22.80   \n",
       "2016-03-23 12:15:00              22.20          1033.5              23.10   \n",
       "2016-03-23 12:20:00              22.42          1034.0              23.30   \n",
       "...                                ...             ...                ...   \n",
       "2016-05-19 11:35:00              17.07          1313.4              12.54   \n",
       "2016-05-19 11:40:00              17.07          1313.6              12.55   \n",
       "2016-05-19 11:45:00              17.07          1312.2              12.54   \n",
       "2016-05-19 11:50:00              17.07          1312.7              12.53   \n",
       "2016-05-19 11:55:00              18.79             NaN                NaN   \n",
       "\n",
       "                     avg_baro_pressure  pressure_without_baro_u9117  \\\n",
       "timestamp                                                             \n",
       "2016-03-23 12:00:00            10.3335                      -0.0165   \n",
       "2016-03-23 12:05:00            10.3440                      -0.0200   \n",
       "2016-03-23 12:10:00            10.3500                      -0.0150   \n",
       "2016-03-23 12:15:00            10.3525                      -0.0175   \n",
       "2016-03-23 12:20:00            10.3530                      -0.0130   \n",
       "...                                ...                          ...   \n",
       "2016-05-19 11:35:00            10.3230                       2.8110   \n",
       "2016-05-19 11:40:00            10.3240                       2.8120   \n",
       "2016-05-19 11:45:00            10.3240                       2.7980   \n",
       "2016-05-19 11:50:00            10.3240                       2.8030   \n",
       "2016-05-19 11:55:00            10.3260                          NaN   \n",
       "\n",
       "                     water_level_u9117  \n",
       "timestamp                               \n",
       "2016-03-23 12:00:00             4.7900  \n",
       "2016-03-23 12:05:00             4.7935  \n",
       "2016-03-23 12:10:00             4.7885  \n",
       "2016-03-23 12:15:00             4.7910  \n",
       "2016-03-23 12:20:00             4.7865  \n",
       "...                                ...  \n",
       "2016-05-19 11:35:00             1.9625  \n",
       "2016-05-19 11:40:00             1.9615  \n",
       "2016-05-19 11:45:00             1.9755  \n",
       "2016-05-19 11:50:00             1.9705  \n",
       "2016-05-19 11:55:00                NaN  \n",
       "\n",
       "[16416 rows x 9 columns]"
      ]
     },
     "execution_count": 20,
     "metadata": {},
     "output_type": "execute_result"
    }
   ],
   "source": [
    "sensor_data"
   ]
  },
  {
   "cell_type": "markdown",
   "metadata": {},
   "source": [
    "## Plots in data_divers worksheet"
   ]
  },
  {
   "cell_type": "markdown",
   "metadata": {},
   "source": [
    "Plot the waterlevel for u9117 as a function of time."
   ]
  },
  {
   "cell_type": "code",
   "execution_count": 21,
   "metadata": {},
   "outputs": [
    {
     "data": {
      "image/png": "[encoded data removed]",
      "text/plain": [
       "<Figure size 864x504 with 1 Axes>"
      ]
     },
     "metadata": {
      "needs_background": "light"
     },
     "output_type": "display_data"
    }
   ],
   "source": [
    "%matplotlib inline\n",
    "sensor_data['water_level_u9117'].plot(title='u9117 water level [m-pb]',\n",
    "                                      figsize=(12, 7), rot=45);"
   ]
  },
  {
   "cell_type": "markdown",
   "metadata": {},
   "source": [
    "It is clear that there is an anomally in the data, filter out all data for which the water level exceeds 3.0, and plot again to verify."
   ]
  },
  {
   "cell_type": "code",
   "execution_count": 22,
   "metadata": {
    "tags": []
   },
   "outputs": [],
   "source": [
    "sensor_data = sensor_data[sensor_data['water_level_u9117'] < 3.0].copy()"
   ]
  },
  {
   "cell_type": "code",
   "execution_count": 23,
   "metadata": {},
   "outputs": [
    {
     "data": {
      "image/png": "[encoded data removed]",
      "text/plain": [
       "<Figure size 864x504 with 1 Axes>"
      ]
     },
     "metadata": {
      "needs_background": "light"
     },
     "output_type": "display_data"
    }
   ],
   "source": [
    "%matplotlib inline\n",
    "sensor_data['water_level_u9117'].plot(title='u9117 water level [m-pb]',\n",
    "                                      figsize=(12, 7), rot=45);"
   ]
  },
  {
   "cell_type": "markdown",
   "metadata": {},
   "source": [
    "Plot the air pressure measured by t8303 and t8320 as a function of time."
   ]
  },
  {
   "cell_type": "code",
   "execution_count": 24,
   "metadata": {},
   "outputs": [
    {
     "data": {
      "image/png": "[encoded data removed]",
      "text/plain": [
       "<Figure size 864x504 with 1 Axes>"
      ]
     },
     "metadata": {
      "needs_background": "light"
     },
     "output_type": "display_data"
    }
   ],
   "source": [
    "%matplotlib inline\n",
    "sensor_data[['pressure_t8303', 'pressure_t8320']].plot(figsize=(12, 7), rot=45);"
   ]
  },
  {
   "cell_type": "markdown",
   "metadata": {},
   "source": [
    "This data can also be presented differently to highlight deviations."
   ]
  },
  {
   "cell_type": "code",
   "execution_count": 25,
   "metadata": {},
   "outputs": [
    {
     "data": {
      "image/png": "[encoded data removed]",
      "text/plain": [
       "<Figure size 576x576 with 1 Axes>"
      ]
     },
     "metadata": {
      "needs_background": "light"
     },
     "output_type": "display_data"
    }
   ],
   "source": [
    "%matplotlib inline\n",
    "plt.figure(figsize=(8.0, 8.0))\n",
    "plt.plot(sensor_data['pressure_t8303'], sensor_data['pressure_t8320'],\n",
    "         '.', markersize=0.5)\n",
    "plt.xlabel('pressure t8303')\n",
    "plt.ylabel('pressure t8320');"
   ]
  },
  {
   "cell_type": "markdown",
   "metadata": {},
   "source": [
    "## Main plot"
   ]
  },
  {
   "cell_type": "markdown",
   "metadata": {},
   "source": [
    "A few constants need to be defined before the actual water level can be computed."
   ]
  },
  {
   "cell_type": "code",
   "execution_count": 26,
   "metadata": {
    "tags": []
   },
   "outputs": [],
   "source": [
    "z_field = 5.69\n",
    "probe_level = 5.58"
   ]
  },
  {
   "cell_type": "code",
   "execution_count": 27,
   "metadata": {},
   "outputs": [],
   "source": [
    "sensor_data['water_level_TAW'] = probe_level - sensor_data['water_level_u9117']\n",
    "sensor_data['water_level_mv'] = z_field - sensor_data['water_level_TAW']"
   ]
  },
  {
   "cell_type": "markdown",
   "metadata": {},
   "source": [
    "Since the `plot_date` function is totally brain dead, i.e., expecting a *number of days* since the start of the epoch as a floating point number, some arithmetic is required."
   ]
  },
  {
   "cell_type": "code",
   "execution_count": 33,
   "metadata": {},
   "outputs": [],
   "source": [
    "times = [plt_dates.datestr2num(str(date_time)) for date_time in sensor_data.index.tolist()]"
   ]
  },
  {
   "cell_type": "markdown",
   "metadata": {},
   "source": [
    "The manual measurements should be defined as well."
   ]
  },
  {
   "cell_type": "code",
   "execution_count": 35,
   "metadata": {},
   "outputs": [],
   "source": [
    "manual_date_times = [\n",
    "            '2016-03-23 16:22:00',\n",
    "            '2016-04-04 15:49:00',\n",
    "            '2016-05-19 12:52:00',\n",
    "]\n",
    "manual_times = [plt_dates.datestr2num(date_time) for date_time in manual_date_times]\n",
    "manual_TAW = [3.72, 3.79, 3.61]\n",
    "manual_mv = [1.97, 1.9, 2.08]"
   ]
  },
  {
   "cell_type": "markdown",
   "metadata": {},
   "source": [
    "Now we can create the plot."
   ]
  },
  {
   "cell_type": "code",
   "execution_count": 36,
   "metadata": {
    "scrolled": true
   },
   "outputs": [
    {
     "data": {
      "image/png": "[encoded data removed]",
      "text/plain": [
       "<Figure size 576x432 with 2 Axes>"
      ]
     },
     "metadata": {
      "needs_background": "light"
     },
     "output_type": "display_data"
    }
   ],
   "source": [
    "%matplotlib inline\n",
    "figure, axes = plt.subplots()\n",
    "figure.set_figwidth(8.0)\n",
    "figure.set_figheight(6.0)\n",
    "axes.set_ylim(3.55, 4.0)\n",
    "axes.set_xlabel('timestamp')\n",
    "axes.set_ylabel('water level (TAW)')\n",
    "axes.plot_date(times, sensor_data['water_level_TAW'], '-')\n",
    "axes.plot_date(manual_times, manual_TAW, 'ro')\n",
    "axes2 = axes.twinx()\n",
    "axes2.set_ylabel('water level (mv)')\n",
    "axes2.set_ylim(z_field - 3.55, z_field - 4.0)\n",
    "axes2.plot_date(times, sensor_data['water_level_mv'], '-', label='high frequency measurements')\n",
    "axes2.plot_date(manual_times, manual_mv, 'ro', markersize=8, label='Manual measurements')\n",
    "for tick_label in axes.get_xticklabels():\n",
    "    tick_label.set_rotation(45)\n",
    "axes2.legend(loc='upper right');"
   ]
  },
  {
   "cell_type": "markdown",
   "metadata": {},
   "source": [
    "## Acknowledgement"
   ]
  },
  {
   "cell_type": "markdown",
   "metadata": {},
   "source": [
    "Thanks to [A.G.T. n.v.](http://www.agt.be/) for making this data set available, and for the inspiration to create this notebook as a pandas example."
   ]
  }
 ],
 "metadata": {
  "kernelspec": {
   "display_name": "Python 3",
   "language": "python",
   "name": "python3"
  },
  "language_info": {
   "codemirror_mode": {
    "name": "ipython",
    "version": 3
   },
   "file_extension": ".py",
   "mimetype": "text/x-python",
   "name": "python",
   "nbconvert_exporter": "python",
   "pygments_lexer": "ipython3",
   "version": "3.7.7"
  }
 },
 "nbformat": 4,
 "nbformat_minor": 4
}
