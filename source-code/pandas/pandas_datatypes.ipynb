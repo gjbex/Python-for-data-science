{
 "cells": [
  {
   "cell_type": "markdown",
   "metadata": {},
   "source": [
    "# pandas and data types"
   ]
  },
  {
   "cell_type": "markdown",
   "metadata": {},
   "source": [
    "It is worth looking into how pandas stores data internally by default, and how that behaviour can be modified if necessary.\n",
    "\n",
    "In general, pandas is rather liberal with respect to the data types it uses, i.e., integers are by default represented by 64 bit, and floating point values as double precision numbers.  Since one of the performance bottlenecks is often memory bandwidth, and memory may be at a premium when dealing with large datasets, it is often required to ensure that the columns of dataframes have more appropriate types for the data they have to store."
   ]
  },
  {
   "cell_type": "markdown",
   "metadata": {},
   "source": [
    "# Data generation"
   ]
  },
  {
   "cell_type": "markdown",
   "metadata": {},
   "source": [
    "In order to do some experiments, we generate a data set.  We want to experiment with various types of floating point numbers, integers and categorical data, so we will create a text file that has some columns of each of those types."
   ]
  },
  {
   "cell_type": "code",
   "execution_count": 1,
   "metadata": {
    "ExecuteTime": {
     "end_time": "2019-12-18T05:48:14.919153Z",
     "start_time": "2019-12-18T05:48:14.908715Z"
    }
   },
   "outputs": [],
   "source": [
    "import pathlib\n",
    "import random"
   ]
  },
  {
   "cell_type": "code",
   "execution_count": 2,
   "metadata": {
    "ExecuteTime": {
     "end_time": "2019-12-18T06:04:55.554953Z",
     "start_time": "2019-12-18T06:04:55.547464Z"
    }
   },
   "outputs": [],
   "source": [
    "file_path = pathlib.Path('random_data_to_remove.csv')\n",
    "nr_lines = 100_000"
   ]
  },
  {
   "cell_type": "code",
   "execution_count": 3,
   "metadata": {
    "ExecuteTime": {
     "end_time": "2019-12-18T06:05:00.341081Z",
     "start_time": "2019-12-18T06:04:57.802601Z"
    }
   },
   "outputs": [],
   "source": [
    "with open(file_path, 'w') as file:\n",
    "    categories = ''.join(chr(ord('A') + i) for i in range(26))\n",
    "    print('float1,float2,int1,int2,binary1,binary2,cat1,cat2',\n",
    "          file=file)\n",
    "    for _ in range(nr_lines):\n",
    "        print(f'{random.random()},{random.random()},'\n",
    "              f'{random.randrange(0, 255)},{random.randrange(0, 255)},'\n",
    "              f'{random.randint(0, 1)},{random.randint(0, 1)},'\n",
    "              f'{random.choice(categories)},{random.choice(categories)}',\n",
    "              file=file)"
   ]
  },
  {
   "cell_type": "markdown",
   "metadata": {},
   "source": [
    "# Tailoring dataframes"
   ]
  },
  {
   "cell_type": "code",
   "execution_count": 4,
   "metadata": {
    "ExecuteTime": {
     "end_time": "2019-12-18T06:13:06.514271Z",
     "start_time": "2019-12-18T06:13:06.500519Z"
    }
   },
   "outputs": [],
   "source": [
    "import numpy as np\n",
    "import pandas as pd"
   ]
  },
  {
   "cell_type": "markdown",
   "metadata": {},
   "source": [
    "When simply using defaults to read the CSV file, pandas will use 64-bit floating point and integer values, even though that might not be required."
   ]
  },
  {
   "cell_type": "code",
   "execution_count": 5,
   "metadata": {
    "ExecuteTime": {
     "end_time": "2019-12-18T07:45:49.759782Z",
     "start_time": "2019-12-18T07:45:49.351006Z"
    }
   },
   "outputs": [],
   "source": [
    "data = pd.read_csv(file_path)"
   ]
  },
  {
   "cell_type": "code",
   "execution_count": 6,
   "metadata": {
    "ExecuteTime": {
     "end_time": "2019-12-18T07:45:50.305526Z",
     "start_time": "2019-12-18T07:45:50.246243Z"
    }
   },
   "outputs": [
    {
     "name": "stdout",
     "output_type": "stream",
     "text": [
      "<class 'pandas.core.frame.DataFrame'>\n",
      "RangeIndex: 100000 entries, 0 to 99999\n",
      "Data columns (total 8 columns):\n",
      " #   Column   Non-Null Count   Dtype  \n",
      "---  ------   --------------   -----  \n",
      " 0   float1   100000 non-null  float64\n",
      " 1   float2   100000 non-null  float64\n",
      " 2   int1     100000 non-null  int64  \n",
      " 3   int2     100000 non-null  int64  \n",
      " 4   binary1  100000 non-null  int64  \n",
      " 5   binary2  100000 non-null  int64  \n",
      " 6   cat1     100000 non-null  object \n",
      " 7   cat2     100000 non-null  object \n",
      "dtypes: float64(2), int64(4), object(2)\n",
      "memory usage: 6.1+ MB\n"
     ]
    }
   ],
   "source": [
    "data.info()"
   ]
  },
  {
   "cell_type": "markdown",
   "metadata": {},
   "source": [
    "Of course one can convert columns of an existing dataframe info more frugal data types, e.g.,"
   ]
  },
  {
   "cell_type": "code",
   "execution_count": 7,
   "metadata": {
    "ExecuteTime": {
     "end_time": "2019-12-18T07:46:09.376399Z",
     "start_time": "2019-12-18T07:46:09.366193Z"
    }
   },
   "outputs": [],
   "source": [
    "data['float1'] = data['float1'].astype(np.float32)"
   ]
  },
  {
   "cell_type": "code",
   "execution_count": 8,
   "metadata": {
    "ExecuteTime": {
     "end_time": "2019-12-18T07:46:21.456107Z",
     "start_time": "2019-12-18T07:46:21.341030Z"
    },
    "scrolled": true
   },
   "outputs": [
    {
     "name": "stdout",
     "output_type": "stream",
     "text": [
      "<class 'pandas.core.frame.DataFrame'>\n",
      "RangeIndex: 100000 entries, 0 to 99999\n",
      "Data columns (total 8 columns):\n",
      " #   Column   Non-Null Count   Dtype  \n",
      "---  ------   --------------   -----  \n",
      " 0   float1   100000 non-null  float32\n",
      " 1   float2   100000 non-null  float64\n",
      " 2   int1     100000 non-null  int64  \n",
      " 3   int2     100000 non-null  int64  \n",
      " 4   binary1  100000 non-null  int64  \n",
      " 5   binary2  100000 non-null  int64  \n",
      " 6   cat1     100000 non-null  object \n",
      " 7   cat2     100000 non-null  object \n",
      "dtypes: float32(1), float64(1), int64(4), object(2)\n",
      "memory usage: 5.7+ MB\n"
     ]
    }
   ],
   "source": [
    "data.info()"
   ]
  },
  {
   "cell_type": "markdown",
   "metadata": {},
   "source": [
    "However, it is faster to specify a dictionary of data types when reading the file. Not only will this reduce the execution time, but it will also allow to deal with larger data sets since they do not require the initial (overlarge) memory footprint."
   ]
  },
  {
   "cell_type": "markdown",
   "metadata": {},
   "source": [
    "Specifying the type of the floating point values as single precesion reduces the size of the dataframe considerably."
   ]
  },
  {
   "cell_type": "code",
   "execution_count": 9,
   "metadata": {
    "ExecuteTime": {
     "end_time": "2019-12-18T06:13:16.918569Z",
     "start_time": "2019-12-18T06:13:16.583615Z"
    }
   },
   "outputs": [],
   "source": [
    "data = pd.read_csv(file_path,\n",
    "                   dtype={\n",
    "                       'float1': np.float32,\n",
    "                       'float2': np.float32,\n",
    "                   })"
   ]
  },
  {
   "cell_type": "code",
   "execution_count": 10,
   "metadata": {
    "ExecuteTime": {
     "end_time": "2019-12-18T06:13:17.832093Z",
     "start_time": "2019-12-18T06:13:17.771427Z"
    }
   },
   "outputs": [
    {
     "name": "stdout",
     "output_type": "stream",
     "text": [
      "<class 'pandas.core.frame.DataFrame'>\n",
      "RangeIndex: 100000 entries, 0 to 99999\n",
      "Data columns (total 8 columns):\n",
      " #   Column   Non-Null Count   Dtype  \n",
      "---  ------   --------------   -----  \n",
      " 0   float1   100000 non-null  float32\n",
      " 1   float2   100000 non-null  float32\n",
      " 2   int1     100000 non-null  int64  \n",
      " 3   int2     100000 non-null  int64  \n",
      " 4   binary1  100000 non-null  int64  \n",
      " 5   binary2  100000 non-null  int64  \n",
      " 6   cat1     100000 non-null  object \n",
      " 7   cat2     100000 non-null  object \n",
      "dtypes: float32(2), int64(4), object(2)\n",
      "memory usage: 5.3+ MB\n"
     ]
    }
   ],
   "source": [
    "data.info()"
   ]
  },
  {
   "cell_type": "markdown",
   "metadata": {},
   "source": [
    "Similarly, the type of the integer data can be reduced to `np.uint8`, further reducing the size of the dataframe."
   ]
  },
  {
   "cell_type": "code",
   "execution_count": 11,
   "metadata": {
    "ExecuteTime": {
     "end_time": "2019-12-18T07:47:17.362142Z",
     "start_time": "2019-12-18T07:47:16.038397Z"
    }
   },
   "outputs": [],
   "source": [
    "data = pd.read_csv(file_path,\n",
    "                   dtype={\n",
    "                       'float1': np.float32, 'float2': np.float32,\n",
    "                       'int1': np.uint8, 'int2': np.uint8,\n",
    "                   })"
   ]
  },
  {
   "cell_type": "code",
   "execution_count": 12,
   "metadata": {
    "ExecuteTime": {
     "end_time": "2019-12-18T07:47:19.823447Z",
     "start_time": "2019-12-18T07:47:19.631797Z"
    },
    "scrolled": true
   },
   "outputs": [
    {
     "name": "stdout",
     "output_type": "stream",
     "text": [
      "<class 'pandas.core.frame.DataFrame'>\n",
      "RangeIndex: 100000 entries, 0 to 99999\n",
      "Data columns (total 8 columns):\n",
      " #   Column   Non-Null Count   Dtype  \n",
      "---  ------   --------------   -----  \n",
      " 0   float1   100000 non-null  float32\n",
      " 1   float2   100000 non-null  float32\n",
      " 2   int1     100000 non-null  uint8  \n",
      " 3   int2     100000 non-null  uint8  \n",
      " 4   binary1  100000 non-null  int64  \n",
      " 5   binary2  100000 non-null  int64  \n",
      " 6   cat1     100000 non-null  object \n",
      " 7   cat2     100000 non-null  object \n",
      "dtypes: float32(2), int64(2), object(2), uint8(2)\n",
      "memory usage: 4.0+ MB\n"
     ]
    }
   ],
   "source": [
    "data.info()"
   ]
  },
  {
   "cell_type": "markdown",
   "metadata": {},
   "source": [
    "Futhermore, both the columns with binary data and the categorical data can be explicitly represented as such, further reducing the memory footprint of the dataframe."
   ]
  },
  {
   "cell_type": "code",
   "execution_count": 13,
   "metadata": {
    "ExecuteTime": {
     "end_time": "2019-12-18T07:26:16.613180Z",
     "start_time": "2019-12-18T07:26:16.278759Z"
    }
   },
   "outputs": [],
   "source": [
    "data = pd.read_csv(file_path,\n",
    "                   dtype={\n",
    "                       'float1': np.float32, 'float2': np.float32,\n",
    "                       'int1': np.uint8, 'int2': np.uint8,\n",
    "                       'binary1': 'category', 'binary2': 'category',\n",
    "                       'cat1': 'category', 'cat2': 'category',\n",
    "                   })"
   ]
  },
  {
   "cell_type": "code",
   "execution_count": 14,
   "metadata": {
    "ExecuteTime": {
     "end_time": "2019-12-18T07:26:17.495934Z",
     "start_time": "2019-12-18T07:26:17.430303Z"
    },
    "scrolled": true
   },
   "outputs": [
    {
     "name": "stdout",
     "output_type": "stream",
     "text": [
      "<class 'pandas.core.frame.DataFrame'>\n",
      "RangeIndex: 100000 entries, 0 to 99999\n",
      "Data columns (total 8 columns):\n",
      " #   Column   Non-Null Count   Dtype   \n",
      "---  ------   --------------   -----   \n",
      " 0   float1   100000 non-null  float32 \n",
      " 1   float2   100000 non-null  float32 \n",
      " 2   int1     100000 non-null  uint8   \n",
      " 3   int2     100000 non-null  uint8   \n",
      " 4   binary1  100000 non-null  category\n",
      " 5   binary2  100000 non-null  category\n",
      " 6   cat1     100000 non-null  category\n",
      " 7   cat2     100000 non-null  category\n",
      "dtypes: category(4), float32(2), uint8(2)\n",
      "memory usage: 1.3 MB\n"
     ]
    }
   ],
   "source": [
    "data.info()"
   ]
  },
  {
   "cell_type": "markdown",
   "metadata": {},
   "source": [
    "Just to see how efficiently categories are represented, we load only a single binary column, and check the size of the dataframe."
   ]
  },
  {
   "cell_type": "code",
   "execution_count": 15,
   "metadata": {
    "ExecuteTime": {
     "end_time": "2019-12-18T07:29:24.138213Z",
     "start_time": "2019-12-18T07:29:23.874220Z"
    }
   },
   "outputs": [],
   "source": [
    "data = pd.read_csv(file_path,\n",
    "                   usecols=('binary1',),\n",
    "                   dtype={\n",
    "                       'float1': np.float32, 'float2': np.float32,\n",
    "                       'int1': np.uint8, 'int2': np.uint8,\n",
    "                       'binary1': 'category', 'binary2': 'category',\n",
    "                       'cat1': 'category', 'cat2': 'category',\n",
    "                   })"
   ]
  },
  {
   "cell_type": "code",
   "execution_count": 16,
   "metadata": {
    "ExecuteTime": {
     "end_time": "2019-12-18T07:29:29.802312Z",
     "start_time": "2019-12-18T07:29:29.764378Z"
    }
   },
   "outputs": [
    {
     "name": "stdout",
     "output_type": "stream",
     "text": [
      "<class 'pandas.core.frame.DataFrame'>\n",
      "RangeIndex: 100000 entries, 0 to 99999\n",
      "Data columns (total 1 columns):\n",
      " #   Column   Non-Null Count   Dtype   \n",
      "---  ------   --------------   -----   \n",
      " 0   binary1  100000 non-null  category\n",
      "dtypes: category(1)\n",
      "memory usage: 97.8 KB\n"
     ]
    }
   ],
   "source": [
    "data.info()"
   ]
  },
  {
   "cell_type": "markdown",
   "metadata": {},
   "source": [
    "The memory footprint of a dataframe with a single categorical column is similar."
   ]
  },
  {
   "cell_type": "code",
   "execution_count": 17,
   "metadata": {
    "ExecuteTime": {
     "end_time": "2019-12-18T07:39:58.016156Z",
     "start_time": "2019-12-18T07:39:57.722857Z"
    }
   },
   "outputs": [],
   "source": [
    "data = pd.read_csv(file_path,\n",
    "                   usecols=('cat1',),\n",
    "                   dtype={\n",
    "                       'float1': np.float32, 'float2': np.float32,\n",
    "                       'int1': np.uint8, 'int2': np.uint8,\n",
    "                       'binary1': 'category', 'binary2': 'category',\n",
    "                       'cat1': 'category', 'cat2': 'category',\n",
    "                   })"
   ]
  },
  {
   "cell_type": "code",
   "execution_count": 18,
   "metadata": {
    "ExecuteTime": {
     "end_time": "2019-12-18T07:39:58.091033Z",
     "start_time": "2019-12-18T07:39:58.031243Z"
    }
   },
   "outputs": [
    {
     "name": "stdout",
     "output_type": "stream",
     "text": [
      "<class 'pandas.core.frame.DataFrame'>\n",
      "RangeIndex: 100000 entries, 0 to 99999\n",
      "Data columns (total 1 columns):\n",
      " #   Column  Non-Null Count   Dtype   \n",
      "---  ------  --------------   -----   \n",
      " 0   cat1    100000 non-null  category\n",
      "dtypes: category(1)\n",
      "memory usage: 99.0 KB\n"
     ]
    }
   ],
   "source": [
    "data.info()"
   ]
  },
  {
   "cell_type": "markdown",
   "metadata": {},
   "source": [
    "Loading just an integer column as `np.uint8` shows that again, the memory footprint is the same, so this is the data type used to represent categorical data with less than 256 categories."
   ]
  },
  {
   "cell_type": "code",
   "execution_count": 19,
   "metadata": {
    "ExecuteTime": {
     "end_time": "2019-12-18T07:40:33.758112Z",
     "start_time": "2019-12-18T07:40:33.210016Z"
    }
   },
   "outputs": [],
   "source": [
    "data = pd.read_csv(file_path,\n",
    "                   usecols=('int1',),\n",
    "                   dtype={\n",
    "                       'float1': np.float32, 'float2': np.float32,\n",
    "                       'int1': np.uint8, 'int2': np.uint8,\n",
    "                       'binary1': 'category', 'binary2': 'category',\n",
    "                       'cat1': 'category', 'cat2': 'category',\n",
    "                   })"
   ]
  },
  {
   "cell_type": "code",
   "execution_count": 20,
   "metadata": {
    "ExecuteTime": {
     "end_time": "2019-12-18T07:40:34.814479Z",
     "start_time": "2019-12-18T07:40:34.770900Z"
    }
   },
   "outputs": [
    {
     "name": "stdout",
     "output_type": "stream",
     "text": [
      "<class 'pandas.core.frame.DataFrame'>\n",
      "RangeIndex: 100000 entries, 0 to 99999\n",
      "Data columns (total 1 columns):\n",
      " #   Column  Non-Null Count   Dtype\n",
      "---  ------  --------------   -----\n",
      " 0   int1    100000 non-null  uint8\n",
      "dtypes: uint8(1)\n",
      "memory usage: 97.8 KB\n"
     ]
    }
   ],
   "source": [
    "data.info()"
   ]
  },
  {
   "cell_type": "code",
   "execution_count": 21,
   "metadata": {},
   "outputs": [],
   "source": [
    "file_path.unlink()"
   ]
  },
  {
   "cell_type": "markdown",
   "metadata": {},
   "source": [
    "# Failures"
   ]
  },
  {
   "cell_type": "markdown",
   "metadata": {},
   "source": [
    "You should note that when you specify the data types to read data and this doesn't correspond to the data, failures will be silent.  For instance, integers will overflow.\n",
    "\n",
    "Consider the following dataframe that has two integer and a floating point column.  Column `B` contains integers that can not be represented as 8-bit integers, and column `C` contains values that can not be represented as single precision numbers."
   ]
  },
  {
   "cell_type": "code",
   "execution_count": 22,
   "metadata": {},
   "outputs": [],
   "source": [
    "df = pd.DataFrame({\n",
    "    'A': [3, 19, 5, 7],\n",
    "    'B': [9, 7, 283, -1],\n",
    "    'C': [4.59, 21.49e57, -4.8, -1.495e-103]\n",
    "})"
   ]
  },
  {
   "cell_type": "code",
   "execution_count": 23,
   "metadata": {},
   "outputs": [
    {
     "name": "stdout",
     "output_type": "stream",
     "text": [
      "<class 'pandas.core.frame.DataFrame'>\n",
      "RangeIndex: 4 entries, 0 to 3\n",
      "Data columns (total 3 columns):\n",
      " #   Column  Non-Null Count  Dtype  \n",
      "---  ------  --------------  -----  \n",
      " 0   A       4 non-null      int64  \n",
      " 1   B       4 non-null      int64  \n",
      " 2   C       4 non-null      float64\n",
      "dtypes: float64(1), int64(2)\n",
      "memory usage: 224.0 bytes\n"
     ]
    }
   ],
   "source": [
    "df.info()"
   ]
  },
  {
   "cell_type": "markdown",
   "metadata": {},
   "source": [
    "We write this dataframe as a CSV file."
   ]
  },
  {
   "cell_type": "code",
   "execution_count": 24,
   "metadata": {},
   "outputs": [],
   "source": [
    "file_path = pathlib.Path('overflow_to_remove.csv')"
   ]
  },
  {
   "cell_type": "code",
   "execution_count": 25,
   "metadata": {},
   "outputs": [],
   "source": [
    "df.to_csv(file_path)"
   ]
  },
  {
   "cell_type": "markdown",
   "metadata": {},
   "source": [
    "When we read it back in, we specify the bypes of columns `A` and `B` as `np.uint8` and `C` as `np.float32`."
   ]
  },
  {
   "cell_type": "code",
   "execution_count": 26,
   "metadata": {},
   "outputs": [],
   "source": [
    "df_typed = pd.read_csv(file_path,\n",
    "                       dtype={\n",
    "                           'A': np.uint8,\n",
    "                           'B': np.uint8,\n",
    "                           'C': np.float32\n",
    "                       },\n",
    "                       index_col=0)"
   ]
  },
  {
   "cell_type": "code",
   "execution_count": 27,
   "metadata": {},
   "outputs": [
    {
     "name": "stdout",
     "output_type": "stream",
     "text": [
      "<class 'pandas.core.frame.DataFrame'>\n",
      "Int64Index: 4 entries, 0 to 3\n",
      "Data columns (total 3 columns):\n",
      " #   Column  Non-Null Count  Dtype  \n",
      "---  ------  --------------  -----  \n",
      " 0   A       4 non-null      uint8  \n",
      " 1   B       4 non-null      uint8  \n",
      " 2   C       4 non-null      float32\n",
      "dtypes: float32(1), uint8(2)\n",
      "memory usage: 56.0 bytes\n"
     ]
    }
   ],
   "source": [
    "df_typed.info()"
   ]
  },
  {
   "cell_type": "markdown",
   "metadata": {},
   "source": [
    "Inspecting the values shows that the integer in column `B` silently overflowed, while for column `C` the value that is too large to be represented as a single precision number is infinity, and the value that is too small is 0.  Hence, failure is silent."
   ]
  },
  {
   "cell_type": "code",
   "execution_count": 28,
   "metadata": {},
   "outputs": [
    {
     "data": {
      "text/html": [
       "<div>\n",
       "<style scoped>\n",
       "    .dataframe tbody tr th:only-of-type {\n",
       "        vertical-align: middle;\n",
       "    }\n",
       "\n",
       "    .dataframe tbody tr th {\n",
       "        vertical-align: top;\n",
       "    }\n",
       "\n",
       "    .dataframe thead th {\n",
       "        text-align: right;\n",
       "    }\n",
       "</style>\n",
       "<table border=\"1\" class=\"dataframe\">\n",
       "  <thead>\n",
       "    <tr style=\"text-align: right;\">\n",
       "      <th></th>\n",
       "      <th>A</th>\n",
       "      <th>B</th>\n",
       "      <th>C</th>\n",
       "    </tr>\n",
       "  </thead>\n",
       "  <tbody>\n",
       "    <tr>\n",
       "      <th>0</th>\n",
       "      <td>3</td>\n",
       "      <td>9</td>\n",
       "      <td>4.59</td>\n",
       "    </tr>\n",
       "    <tr>\n",
       "      <th>1</th>\n",
       "      <td>19</td>\n",
       "      <td>7</td>\n",
       "      <td>inf</td>\n",
       "    </tr>\n",
       "    <tr>\n",
       "      <th>2</th>\n",
       "      <td>5</td>\n",
       "      <td>27</td>\n",
       "      <td>-4.80</td>\n",
       "    </tr>\n",
       "    <tr>\n",
       "      <th>3</th>\n",
       "      <td>7</td>\n",
       "      <td>255</td>\n",
       "      <td>-0.00</td>\n",
       "    </tr>\n",
       "  </tbody>\n",
       "</table>\n",
       "</div>"
      ],
      "text/plain": [
       "    A    B     C\n",
       "0   3    9  4.59\n",
       "1  19    7   inf\n",
       "2   5   27 -4.80\n",
       "3   7  255 -0.00"
      ]
     },
     "execution_count": 28,
     "metadata": {},
     "output_type": "execute_result"
    }
   ],
   "source": [
    "df_typed"
   ]
  },
  {
   "cell_type": "code",
   "execution_count": 29,
   "metadata": {},
   "outputs": [],
   "source": [
    "file_path.unlink()"
   ]
  }
 ],
 "metadata": {
  "kernelspec": {
   "display_name": "Python 3 (ipykernel)",
   "language": "python",
   "name": "python3"
  },
  "language_info": {
   "codemirror_mode": {
    "name": "ipython",
    "version": 3
   },
   "file_extension": ".py",
   "mimetype": "text/x-python",
   "name": "python",
   "nbconvert_exporter": "python",
   "pygments_lexer": "ipython3",
   "version": "3.11.0"
  }
 },
 "nbformat": 4,
 "nbformat_minor": 4
}
