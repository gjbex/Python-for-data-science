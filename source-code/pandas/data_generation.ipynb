{
 "cells": [
  {
   "cell_type": "markdown",
   "metadata": {},
   "source": [
    "# Data generation with numpy and pandas"
   ]
  },
  {
   "cell_type": "markdown",
   "metadata": {},
   "source": [
    "Imports and settings:"
   ]
  },
  {
   "cell_type": "code",
   "execution_count": 1,
   "metadata": {
    "collapsed": false,
    "jupyter": {
     "outputs_hidden": false
    }
   },
   "outputs": [],
   "source": [
    "import pandas as pd\n",
    "import numpy as np\n",
    "import matplotlib.pyplot as plt\n",
    "import string\n",
    "%matplotlib inline"
   ]
  },
  {
   "cell_type": "markdown",
   "metadata": {},
   "source": [
    "Generate data, the second array is correlated with the first one, which is random. The third is random, and independent, and the first half of the fourth array is correlated with the first array\n",
    ", the second half with the third array."
   ]
  },
  {
   "cell_type": "code",
   "execution_count": 2,
   "metadata": {
    "tags": []
   },
   "outputs": [],
   "source": [
    "p1 = np.random.uniform(size=20)"
   ]
  },
  {
   "cell_type": "code",
   "execution_count": 3,
   "metadata": {
    "tags": []
   },
   "outputs": [],
   "source": [
    "p2 = p1 + np.random.uniform(-0.05, 0.05, 20)"
   ]
  },
  {
   "cell_type": "code",
   "execution_count": 4,
   "metadata": {
    "tags": []
   },
   "outputs": [],
   "source": [
    "p3 = np.random.uniform(size=20)"
   ]
  },
  {
   "cell_type": "code",
   "execution_count": 5,
   "metadata": {
    "tags": []
   },
   "outputs": [],
   "source": [
    "p4 = np.append(p1[:10] + np.random.uniform(-0.1, 0.1, 10), p3[10:] + np.random.uniform(-0.05, 0.05, 10))"
   ]
  },
  {
   "cell_type": "code",
   "execution_count": 6,
   "metadata": {
    "collapsed": false,
    "jupyter": {
     "outputs_hidden": false
    }
   },
   "outputs": [
    {
     "data": {
      "image/png": "[encoded data removed]",
      "text/plain": [
       "<Figure size 432x288 with 1 Axes>"
      ]
     },
     "metadata": {
      "needs_background": "light"
     },
     "output_type": "display_data"
    }
   ],
   "source": [
    "plt.plot(p1, p2, 'o');"
   ]
  },
  {
   "cell_type": "code",
   "execution_count": 7,
   "metadata": {
    "collapsed": false,
    "jupyter": {
     "outputs_hidden": false
    }
   },
   "outputs": [
    {
     "data": {
      "image/png": "[encoded data removed]",
      "text/plain": [
       "<Figure size 432x288 with 1 Axes>"
      ]
     },
     "metadata": {
      "needs_background": "light"
     },
     "output_type": "display_data"
    }
   ],
   "source": [
    "plt.plot(p1, p4, 'o');"
   ]
  },
  {
   "cell_type": "code",
   "execution_count": 8,
   "metadata": {
    "collapsed": false,
    "jupyter": {
     "outputs_hidden": false
    }
   },
   "outputs": [
    {
     "data": {
      "image/png": "[encoded data removed]",
      "text/plain": [
       "<Figure size 432x288 with 1 Axes>"
      ]
     },
     "metadata": {
      "needs_background": "light"
     },
     "output_type": "display_data"
    }
   ],
   "source": [
    "plt.plot(p3, p4, 'o');"
   ]
  },
  {
   "cell_type": "markdown",
   "metadata": {},
   "source": [
    "Create a data frame out of the arrays, the columns are patient IDs."
   ]
  },
  {
   "cell_type": "code",
   "execution_count": 9,
   "metadata": {
    "tags": []
   },
   "outputs": [
    {
     "data": {
      "text/html": [
       "<div>\n",
       "<style scoped>\n",
       "    .dataframe tbody tr th:only-of-type {\n",
       "        vertical-align: middle;\n",
       "    }\n",
       "\n",
       "    .dataframe tbody tr th {\n",
       "        vertical-align: top;\n",
       "    }\n",
       "\n",
       "    .dataframe thead th {\n",
       "        text-align: right;\n",
       "    }\n",
       "</style>\n",
       "<table border=\"1\" class=\"dataframe\">\n",
       "  <thead>\n",
       "    <tr style=\"text-align: right;\">\n",
       "      <th></th>\n",
       "      <th>1</th>\n",
       "      <th>2</th>\n",
       "      <th>3</th>\n",
       "      <th>4</th>\n",
       "    </tr>\n",
       "  </thead>\n",
       "  <tbody>\n",
       "    <tr>\n",
       "      <th>0</th>\n",
       "      <td>0.955373</td>\n",
       "      <td>0.935352</td>\n",
       "      <td>0.809234</td>\n",
       "      <td>0.997836</td>\n",
       "    </tr>\n",
       "    <tr>\n",
       "      <th>1</th>\n",
       "      <td>0.689451</td>\n",
       "      <td>0.710868</td>\n",
       "      <td>0.346082</td>\n",
       "      <td>0.782627</td>\n",
       "    </tr>\n",
       "    <tr>\n",
       "      <th>2</th>\n",
       "      <td>0.912893</td>\n",
       "      <td>0.931485</td>\n",
       "      <td>0.422240</td>\n",
       "      <td>0.963826</td>\n",
       "    </tr>\n",
       "    <tr>\n",
       "      <th>3</th>\n",
       "      <td>0.221345</td>\n",
       "      <td>0.232774</td>\n",
       "      <td>0.402941</td>\n",
       "      <td>0.145487</td>\n",
       "    </tr>\n",
       "    <tr>\n",
       "      <th>4</th>\n",
       "      <td>0.102350</td>\n",
       "      <td>0.113941</td>\n",
       "      <td>0.300842</td>\n",
       "      <td>0.036570</td>\n",
       "    </tr>\n",
       "    <tr>\n",
       "      <th>5</th>\n",
       "      <td>0.837442</td>\n",
       "      <td>0.806408</td>\n",
       "      <td>0.371920</td>\n",
       "      <td>0.766827</td>\n",
       "    </tr>\n",
       "    <tr>\n",
       "      <th>6</th>\n",
       "      <td>0.024444</td>\n",
       "      <td>0.011604</td>\n",
       "      <td>0.709951</td>\n",
       "      <td>-0.050962</td>\n",
       "    </tr>\n",
       "    <tr>\n",
       "      <th>7</th>\n",
       "      <td>0.180591</td>\n",
       "      <td>0.201728</td>\n",
       "      <td>0.252682</td>\n",
       "      <td>0.271899</td>\n",
       "    </tr>\n",
       "    <tr>\n",
       "      <th>8</th>\n",
       "      <td>0.292851</td>\n",
       "      <td>0.312187</td>\n",
       "      <td>0.875279</td>\n",
       "      <td>0.224139</td>\n",
       "    </tr>\n",
       "    <tr>\n",
       "      <th>9</th>\n",
       "      <td>0.360338</td>\n",
       "      <td>0.357624</td>\n",
       "      <td>0.442461</td>\n",
       "      <td>0.412927</td>\n",
       "    </tr>\n",
       "    <tr>\n",
       "      <th>10</th>\n",
       "      <td>0.102630</td>\n",
       "      <td>0.077594</td>\n",
       "      <td>0.038859</td>\n",
       "      <td>0.032690</td>\n",
       "    </tr>\n",
       "    <tr>\n",
       "      <th>11</th>\n",
       "      <td>0.597012</td>\n",
       "      <td>0.639799</td>\n",
       "      <td>0.254389</td>\n",
       "      <td>0.227014</td>\n",
       "    </tr>\n",
       "    <tr>\n",
       "      <th>12</th>\n",
       "      <td>0.893836</td>\n",
       "      <td>0.876787</td>\n",
       "      <td>0.063776</td>\n",
       "      <td>0.103216</td>\n",
       "    </tr>\n",
       "    <tr>\n",
       "      <th>13</th>\n",
       "      <td>0.571871</td>\n",
       "      <td>0.591168</td>\n",
       "      <td>0.572076</td>\n",
       "      <td>0.599921</td>\n",
       "    </tr>\n",
       "    <tr>\n",
       "      <th>14</th>\n",
       "      <td>0.542442</td>\n",
       "      <td>0.562332</td>\n",
       "      <td>0.384640</td>\n",
       "      <td>0.416206</td>\n",
       "    </tr>\n",
       "    <tr>\n",
       "      <th>15</th>\n",
       "      <td>0.712622</td>\n",
       "      <td>0.756501</td>\n",
       "      <td>0.386684</td>\n",
       "      <td>0.423539</td>\n",
       "    </tr>\n",
       "    <tr>\n",
       "      <th>16</th>\n",
       "      <td>0.865881</td>\n",
       "      <td>0.826413</td>\n",
       "      <td>0.846863</td>\n",
       "      <td>0.828484</td>\n",
       "    </tr>\n",
       "    <tr>\n",
       "      <th>17</th>\n",
       "      <td>0.738694</td>\n",
       "      <td>0.786587</td>\n",
       "      <td>0.969319</td>\n",
       "      <td>0.936403</td>\n",
       "    </tr>\n",
       "    <tr>\n",
       "      <th>18</th>\n",
       "      <td>0.324734</td>\n",
       "      <td>0.294151</td>\n",
       "      <td>0.299478</td>\n",
       "      <td>0.298715</td>\n",
       "    </tr>\n",
       "    <tr>\n",
       "      <th>19</th>\n",
       "      <td>0.328694</td>\n",
       "      <td>0.281038</td>\n",
       "      <td>0.004778</td>\n",
       "      <td>-0.022209</td>\n",
       "    </tr>\n",
       "  </tbody>\n",
       "</table>\n",
       "</div>"
      ],
      "text/plain": [
       "           1         2         3         4\n",
       "0   0.955373  0.935352  0.809234  0.997836\n",
       "1   0.689451  0.710868  0.346082  0.782627\n",
       "2   0.912893  0.931485  0.422240  0.963826\n",
       "3   0.221345  0.232774  0.402941  0.145487\n",
       "4   0.102350  0.113941  0.300842  0.036570\n",
       "5   0.837442  0.806408  0.371920  0.766827\n",
       "6   0.024444  0.011604  0.709951 -0.050962\n",
       "7   0.180591  0.201728  0.252682  0.271899\n",
       "8   0.292851  0.312187  0.875279  0.224139\n",
       "9   0.360338  0.357624  0.442461  0.412927\n",
       "10  0.102630  0.077594  0.038859  0.032690\n",
       "11  0.597012  0.639799  0.254389  0.227014\n",
       "12  0.893836  0.876787  0.063776  0.103216\n",
       "13  0.571871  0.591168  0.572076  0.599921\n",
       "14  0.542442  0.562332  0.384640  0.416206\n",
       "15  0.712622  0.756501  0.386684  0.423539\n",
       "16  0.865881  0.826413  0.846863  0.828484\n",
       "17  0.738694  0.786587  0.969319  0.936403\n",
       "18  0.324734  0.294151  0.299478  0.298715\n",
       "19  0.328694  0.281038  0.004778 -0.022209"
      ]
     },
     "execution_count": 9,
     "metadata": {},
     "output_type": "execute_result"
    }
   ],
   "source": [
    "ge = pd.DataFrame({1: p1, 2: p2, 3: p3, 4: p4})\n",
    "ge"
   ]
  },
  {
   "cell_type": "markdown",
   "metadata": {},
   "source": [
    "As an index, random gene names are generated."
   ]
  },
  {
   "cell_type": "code",
   "execution_count": 10,
   "metadata": {
    "collapsed": false,
    "jupyter": {
     "outputs_hidden": false
    }
   },
   "outputs": [
    {
     "data": {
      "text/plain": [
       "['UBSZ',\n",
       " 'HGDI',\n",
       " 'JDQU',\n",
       " 'NBLW',\n",
       " 'BDEO',\n",
       " 'ZIVN',\n",
       " 'FVFQ',\n",
       " 'UFYW',\n",
       " 'YVTO',\n",
       " 'QSJF',\n",
       " 'TAEV',\n",
       " 'AZDU',\n",
       " 'XTZH',\n",
       " 'TNET',\n",
       " 'SLRM',\n",
       " 'IGFH',\n",
       " 'LTZH',\n",
       " 'BYIH',\n",
       " 'IIJQ',\n",
       " 'VTFX']"
      ]
     },
     "execution_count": 10,
     "metadata": {},
     "output_type": "execute_result"
    }
   ],
   "source": [
    "letters = [a for a in string.ascii_uppercase]\n",
    "name_chars = np.random.choice(letters, size=(20, 4))\n",
    "names = [''.join(x) for x in name_chars]\n",
    "names"
   ]
  },
  {
   "cell_type": "code",
   "execution_count": 11,
   "metadata": {
    "collapsed": false,
    "jupyter": {
     "outputs_hidden": false
    }
   },
   "outputs": [
    {
     "data": {
      "text/html": [
       "<div>\n",
       "<style scoped>\n",
       "    .dataframe tbody tr th:only-of-type {\n",
       "        vertical-align: middle;\n",
       "    }\n",
       "\n",
       "    .dataframe tbody tr th {\n",
       "        vertical-align: top;\n",
       "    }\n",
       "\n",
       "    .dataframe thead th {\n",
       "        text-align: right;\n",
       "    }\n",
       "</style>\n",
       "<table border=\"1\" class=\"dataframe\">\n",
       "  <thead>\n",
       "    <tr style=\"text-align: right;\">\n",
       "      <th></th>\n",
       "      <th>1</th>\n",
       "      <th>2</th>\n",
       "      <th>3</th>\n",
       "      <th>4</th>\n",
       "    </tr>\n",
       "  </thead>\n",
       "  <tbody>\n",
       "    <tr>\n",
       "      <th>UBSZ</th>\n",
       "      <td>0.955373</td>\n",
       "      <td>0.935352</td>\n",
       "      <td>0.809234</td>\n",
       "      <td>0.997836</td>\n",
       "    </tr>\n",
       "    <tr>\n",
       "      <th>HGDI</th>\n",
       "      <td>0.689451</td>\n",
       "      <td>0.710868</td>\n",
       "      <td>0.346082</td>\n",
       "      <td>0.782627</td>\n",
       "    </tr>\n",
       "    <tr>\n",
       "      <th>JDQU</th>\n",
       "      <td>0.912893</td>\n",
       "      <td>0.931485</td>\n",
       "      <td>0.422240</td>\n",
       "      <td>0.963826</td>\n",
       "    </tr>\n",
       "    <tr>\n",
       "      <th>NBLW</th>\n",
       "      <td>0.221345</td>\n",
       "      <td>0.232774</td>\n",
       "      <td>0.402941</td>\n",
       "      <td>0.145487</td>\n",
       "    </tr>\n",
       "    <tr>\n",
       "      <th>BDEO</th>\n",
       "      <td>0.102350</td>\n",
       "      <td>0.113941</td>\n",
       "      <td>0.300842</td>\n",
       "      <td>0.036570</td>\n",
       "    </tr>\n",
       "    <tr>\n",
       "      <th>ZIVN</th>\n",
       "      <td>0.837442</td>\n",
       "      <td>0.806408</td>\n",
       "      <td>0.371920</td>\n",
       "      <td>0.766827</td>\n",
       "    </tr>\n",
       "    <tr>\n",
       "      <th>FVFQ</th>\n",
       "      <td>0.024444</td>\n",
       "      <td>0.011604</td>\n",
       "      <td>0.709951</td>\n",
       "      <td>-0.050962</td>\n",
       "    </tr>\n",
       "    <tr>\n",
       "      <th>UFYW</th>\n",
       "      <td>0.180591</td>\n",
       "      <td>0.201728</td>\n",
       "      <td>0.252682</td>\n",
       "      <td>0.271899</td>\n",
       "    </tr>\n",
       "    <tr>\n",
       "      <th>YVTO</th>\n",
       "      <td>0.292851</td>\n",
       "      <td>0.312187</td>\n",
       "      <td>0.875279</td>\n",
       "      <td>0.224139</td>\n",
       "    </tr>\n",
       "    <tr>\n",
       "      <th>QSJF</th>\n",
       "      <td>0.360338</td>\n",
       "      <td>0.357624</td>\n",
       "      <td>0.442461</td>\n",
       "      <td>0.412927</td>\n",
       "    </tr>\n",
       "    <tr>\n",
       "      <th>TAEV</th>\n",
       "      <td>0.102630</td>\n",
       "      <td>0.077594</td>\n",
       "      <td>0.038859</td>\n",
       "      <td>0.032690</td>\n",
       "    </tr>\n",
       "    <tr>\n",
       "      <th>AZDU</th>\n",
       "      <td>0.597012</td>\n",
       "      <td>0.639799</td>\n",
       "      <td>0.254389</td>\n",
       "      <td>0.227014</td>\n",
       "    </tr>\n",
       "    <tr>\n",
       "      <th>XTZH</th>\n",
       "      <td>0.893836</td>\n",
       "      <td>0.876787</td>\n",
       "      <td>0.063776</td>\n",
       "      <td>0.103216</td>\n",
       "    </tr>\n",
       "    <tr>\n",
       "      <th>TNET</th>\n",
       "      <td>0.571871</td>\n",
       "      <td>0.591168</td>\n",
       "      <td>0.572076</td>\n",
       "      <td>0.599921</td>\n",
       "    </tr>\n",
       "    <tr>\n",
       "      <th>SLRM</th>\n",
       "      <td>0.542442</td>\n",
       "      <td>0.562332</td>\n",
       "      <td>0.384640</td>\n",
       "      <td>0.416206</td>\n",
       "    </tr>\n",
       "    <tr>\n",
       "      <th>IGFH</th>\n",
       "      <td>0.712622</td>\n",
       "      <td>0.756501</td>\n",
       "      <td>0.386684</td>\n",
       "      <td>0.423539</td>\n",
       "    </tr>\n",
       "    <tr>\n",
       "      <th>LTZH</th>\n",
       "      <td>0.865881</td>\n",
       "      <td>0.826413</td>\n",
       "      <td>0.846863</td>\n",
       "      <td>0.828484</td>\n",
       "    </tr>\n",
       "    <tr>\n",
       "      <th>BYIH</th>\n",
       "      <td>0.738694</td>\n",
       "      <td>0.786587</td>\n",
       "      <td>0.969319</td>\n",
       "      <td>0.936403</td>\n",
       "    </tr>\n",
       "    <tr>\n",
       "      <th>IIJQ</th>\n",
       "      <td>0.324734</td>\n",
       "      <td>0.294151</td>\n",
       "      <td>0.299478</td>\n",
       "      <td>0.298715</td>\n",
       "    </tr>\n",
       "    <tr>\n",
       "      <th>VTFX</th>\n",
       "      <td>0.328694</td>\n",
       "      <td>0.281038</td>\n",
       "      <td>0.004778</td>\n",
       "      <td>-0.022209</td>\n",
       "    </tr>\n",
       "  </tbody>\n",
       "</table>\n",
       "</div>"
      ],
      "text/plain": [
       "             1         2         3         4\n",
       "UBSZ  0.955373  0.935352  0.809234  0.997836\n",
       "HGDI  0.689451  0.710868  0.346082  0.782627\n",
       "JDQU  0.912893  0.931485  0.422240  0.963826\n",
       "NBLW  0.221345  0.232774  0.402941  0.145487\n",
       "BDEO  0.102350  0.113941  0.300842  0.036570\n",
       "ZIVN  0.837442  0.806408  0.371920  0.766827\n",
       "FVFQ  0.024444  0.011604  0.709951 -0.050962\n",
       "UFYW  0.180591  0.201728  0.252682  0.271899\n",
       "YVTO  0.292851  0.312187  0.875279  0.224139\n",
       "QSJF  0.360338  0.357624  0.442461  0.412927\n",
       "TAEV  0.102630  0.077594  0.038859  0.032690\n",
       "AZDU  0.597012  0.639799  0.254389  0.227014\n",
       "XTZH  0.893836  0.876787  0.063776  0.103216\n",
       "TNET  0.571871  0.591168  0.572076  0.599921\n",
       "SLRM  0.542442  0.562332  0.384640  0.416206\n",
       "IGFH  0.712622  0.756501  0.386684  0.423539\n",
       "LTZH  0.865881  0.826413  0.846863  0.828484\n",
       "BYIH  0.738694  0.786587  0.969319  0.936403\n",
       "IIJQ  0.324734  0.294151  0.299478  0.298715\n",
       "VTFX  0.328694  0.281038  0.004778 -0.022209"
      ]
     },
     "execution_count": 11,
     "metadata": {},
     "output_type": "execute_result"
    }
   ],
   "source": [
    "ge.index = names\n",
    "ge"
   ]
  },
  {
   "cell_type": "markdown",
   "metadata": {},
   "source": [
    "For the fun, save this as HTML."
   ]
  },
  {
   "cell_type": "code",
   "execution_count": 12,
   "metadata": {
    "tags": []
   },
   "outputs": [],
   "source": [
    "ge.to_html('genes_table.html')"
   ]
  },
  {
   "cell_type": "markdown",
   "metadata": {},
   "source": [
    "Show data as scatter matrix."
   ]
  },
  {
   "cell_type": "code",
   "execution_count": 14,
   "metadata": {
    "collapsed": false,
    "jupyter": {
     "outputs_hidden": false
    }
   },
   "outputs": [
    {
     "data": {
      "image/png": "[encoded data removed]",
      "text/plain": [
       "<Figure size 1008x720 with 16 Axes>"
      ]
     },
     "metadata": {
      "needs_background": "light"
     },
     "output_type": "display_data"
    }
   ],
   "source": [
    "pd.plotting.scatter_matrix(ge, figsize=(14,10));"
   ]
  }
 ],
 "metadata": {
  "kernelspec": {
   "display_name": "Python 3",
   "language": "python",
   "name": "python3"
  },
  "language_info": {
   "codemirror_mode": {
    "name": "ipython",
    "version": 3
   },
   "file_extension": ".py",
   "mimetype": "text/x-python",
   "name": "python",
   "nbconvert_exporter": "python",
   "pygments_lexer": "ipython3",
   "version": "3.7.7"
  }
 },
 "nbformat": 4,
 "nbformat_minor": 4
}
