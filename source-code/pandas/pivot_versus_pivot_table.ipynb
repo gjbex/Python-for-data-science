{
 "cells": [
  {
   "cell_type": "markdown",
   "metadata": {},
   "source": [
    "# pivot versus pivot_table"
   ]
  },
  {
   "cell_type": "code",
   "execution_count": 1,
   "metadata": {},
   "outputs": [],
   "source": [
    "import numpy as np\n",
    "import pandas as pd"
   ]
  },
  {
   "cell_type": "markdown",
   "metadata": {},
   "source": [
    "pandas has two function to restructure dataframes.  Although they are similar, each has its won applications."
   ]
  },
  {
   "cell_type": "markdown",
   "metadata": {},
   "source": [
    "## Data"
   ]
  },
  {
   "cell_type": "markdown",
   "metadata": {},
   "source": [
    "To experiment with them, we use the patient data set, consisting of the experimental numerical data, and the categorical metadata."
   ]
  },
  {
   "cell_type": "code",
   "execution_count": 2,
   "metadata": {},
   "outputs": [],
   "source": [
    "experiment = pd.read_excel('data/patient_experiment.xlsx',\n",
    "                           dtype={'dose': np.float32,\n",
    "                                  'temperature': np.float32})"
   ]
  },
  {
   "cell_type": "code",
   "execution_count": 3,
   "metadata": {},
   "outputs": [],
   "source": [
    "metadata = pd.read_excel('data/patient_metadata.xlsx',\n",
    "                         dtype={'gender': 'category',\n",
    "                                'condition': 'category'})"
   ]
  },
  {
   "cell_type": "markdown",
   "metadata": {},
   "source": [
    "We merge the dataframes. There will be missing data in each data column."
   ]
  },
  {
   "cell_type": "code",
   "execution_count": 4,
   "metadata": {},
   "outputs": [],
   "source": [
    "data = pd.merge(experiment, metadata, how='left', on='patient')"
   ]
  },
  {
   "cell_type": "code",
   "execution_count": 5,
   "metadata": {},
   "outputs": [
    {
     "name": "stdout",
     "output_type": "stream",
     "text": [
      "<class 'pandas.core.frame.DataFrame'>\n",
      "RangeIndex: 62 entries, 0 to 61\n",
      "Data columns (total 6 columns):\n",
      " #   Column       Non-Null Count  Dtype         \n",
      "---  ------       --------------  -----         \n",
      " 0   patient      62 non-null     int64         \n",
      " 1   dose         61 non-null     float32       \n",
      " 2   date         62 non-null     datetime64[ns]\n",
      " 3   temperature  61 non-null     float32       \n",
      " 4   gender       55 non-null     category      \n",
      " 5   condition    55 non-null     category      \n",
      "dtypes: category(2), datetime64[ns](1), float32(2), int64(1)\n",
      "memory usage: 1.8 KB\n"
     ]
    }
   ],
   "source": [
    "data.info()"
   ]
  },
  {
   "cell_type": "code",
   "execution_count": 6,
   "metadata": {},
   "outputs": [
    {
     "data": {
      "text/html": [
       "<div>\n",
       "<style scoped>\n",
       "    .dataframe tbody tr th:only-of-type {\n",
       "        vertical-align: middle;\n",
       "    }\n",
       "\n",
       "    .dataframe tbody tr th {\n",
       "        vertical-align: top;\n",
       "    }\n",
       "\n",
       "    .dataframe thead th {\n",
       "        text-align: right;\n",
       "    }\n",
       "</style>\n",
       "<table border=\"1\" class=\"dataframe\">\n",
       "  <thead>\n",
       "    <tr style=\"text-align: right;\">\n",
       "      <th></th>\n",
       "      <th>patient</th>\n",
       "      <th>dose</th>\n",
       "      <th>date</th>\n",
       "      <th>temperature</th>\n",
       "      <th>gender</th>\n",
       "      <th>condition</th>\n",
       "    </tr>\n",
       "  </thead>\n",
       "  <tbody>\n",
       "    <tr>\n",
       "      <th>0</th>\n",
       "      <td>1</td>\n",
       "      <td>0.0</td>\n",
       "      <td>2012-10-02 10:00:00</td>\n",
       "      <td>38.299999</td>\n",
       "      <td>M</td>\n",
       "      <td>A</td>\n",
       "    </tr>\n",
       "    <tr>\n",
       "      <th>1</th>\n",
       "      <td>1</td>\n",
       "      <td>2.0</td>\n",
       "      <td>2012-10-02 11:00:00</td>\n",
       "      <td>38.500000</td>\n",
       "      <td>M</td>\n",
       "      <td>A</td>\n",
       "    </tr>\n",
       "    <tr>\n",
       "      <th>2</th>\n",
       "      <td>1</td>\n",
       "      <td>2.0</td>\n",
       "      <td>2012-10-02 12:00:00</td>\n",
       "      <td>38.099998</td>\n",
       "      <td>M</td>\n",
       "      <td>A</td>\n",
       "    </tr>\n",
       "    <tr>\n",
       "      <th>3</th>\n",
       "      <td>1</td>\n",
       "      <td>2.0</td>\n",
       "      <td>2012-10-02 13:00:00</td>\n",
       "      <td>37.299999</td>\n",
       "      <td>M</td>\n",
       "      <td>A</td>\n",
       "    </tr>\n",
       "    <tr>\n",
       "      <th>4</th>\n",
       "      <td>1</td>\n",
       "      <td>0.0</td>\n",
       "      <td>2012-10-02 14:00:00</td>\n",
       "      <td>37.500000</td>\n",
       "      <td>M</td>\n",
       "      <td>A</td>\n",
       "    </tr>\n",
       "  </tbody>\n",
       "</table>\n",
       "</div>"
      ],
      "text/plain": [
       "   patient  dose                date  temperature gender condition\n",
       "0        1   0.0 2012-10-02 10:00:00    38.299999      M         A\n",
       "1        1   2.0 2012-10-02 11:00:00    38.500000      M         A\n",
       "2        1   2.0 2012-10-02 12:00:00    38.099998      M         A\n",
       "3        1   2.0 2012-10-02 13:00:00    37.299999      M         A\n",
       "4        1   0.0 2012-10-02 14:00:00    37.500000      M         A"
      ]
     },
     "execution_count": 6,
     "metadata": {},
     "output_type": "execute_result"
    }
   ],
   "source": [
    "data.head()"
   ]
  },
  {
   "cell_type": "markdown",
   "metadata": {},
   "source": [
    "## pivot"
   ]
  },
  {
   "cell_type": "markdown",
   "metadata": {},
   "source": [
    "Using the `pivot` method, all columns are taken into accout, so when using the `'date'` column as the new index, and `'patient'` as second level column, we get a new dataframe with $4 \\times 9$ columns, the first level columns will be `'dose'`, `'temperature'`, `'gender'` and `'condition'`, the second level the `'patient'` ID."
   ]
  },
  {
   "cell_type": "code",
   "execution_count": 7,
   "metadata": {},
   "outputs": [],
   "source": [
    "time_series = data.pivot(index='date', columns='patient')"
   ]
  },
  {
   "cell_type": "code",
   "execution_count": 8,
   "metadata": {},
   "outputs": [
    {
     "name": "stdout",
     "output_type": "stream",
     "text": [
      "<class 'pandas.core.frame.DataFrame'>\n",
      "DatetimeIndex: 7 entries, 2012-10-02 10:00:00 to 2012-10-02 16:00:00\n",
      "Data columns (total 36 columns):\n",
      " #   Column            Non-Null Count  Dtype   \n",
      "---  ------            --------------  -----   \n",
      " 0   (dose, 1)         7 non-null      float32 \n",
      " 1   (dose, 2)         7 non-null      float32 \n",
      " 2   (dose, 3)         7 non-null      float32 \n",
      " 3   (dose, 4)         6 non-null      float32 \n",
      " 4   (dose, 5)         7 non-null      float32 \n",
      " 5   (dose, 6)         6 non-null      float32 \n",
      " 6   (dose, 7)         7 non-null      float32 \n",
      " 7   (dose, 8)         7 non-null      float32 \n",
      " 8   (dose, 9)         7 non-null      float32 \n",
      " 9   (temperature, 1)  7 non-null      float32 \n",
      " 10  (temperature, 2)  7 non-null      float32 \n",
      " 11  (temperature, 3)  6 non-null      float32 \n",
      " 12  (temperature, 4)  7 non-null      float32 \n",
      " 13  (temperature, 5)  7 non-null      float32 \n",
      " 14  (temperature, 6)  6 non-null      float32 \n",
      " 15  (temperature, 7)  7 non-null      float32 \n",
      " 16  (temperature, 8)  7 non-null      float32 \n",
      " 17  (temperature, 9)  7 non-null      float32 \n",
      " 18  (gender, 1)       7 non-null      category\n",
      " 19  (gender, 2)       7 non-null      category\n",
      " 20  (gender, 3)       7 non-null      category\n",
      " 21  (gender, 4)       0 non-null      category\n",
      " 22  (gender, 5)       7 non-null      category\n",
      " 23  (gender, 6)       6 non-null      category\n",
      " 24  (gender, 7)       7 non-null      category\n",
      " 25  (gender, 8)       7 non-null      category\n",
      " 26  (gender, 9)       7 non-null      category\n",
      " 27  (condition, 1)    7 non-null      category\n",
      " 28  (condition, 2)    7 non-null      category\n",
      " 29  (condition, 3)    7 non-null      category\n",
      " 30  (condition, 4)    0 non-null      category\n",
      " 31  (condition, 5)    7 non-null      category\n",
      " 32  (condition, 6)    6 non-null      category\n",
      " 33  (condition, 7)    7 non-null      category\n",
      " 34  (condition, 8)    7 non-null      category\n",
      " 35  (condition, 9)    7 non-null      category\n",
      "dtypes: category(18), float32(18)\n",
      "memory usage: 1.9 KB\n"
     ]
    }
   ],
   "source": [
    "time_series.info()"
   ]
  },
  {
   "cell_type": "markdown",
   "metadata": {},
   "source": [
    "The `'gender'` and `'condition'` column in this dataframe will contain identical values for each row."
   ]
  },
  {
   "cell_type": "markdown",
   "metadata": {},
   "source": [
    "The optional `values` argument can be used to select only the columns of interest, e.g., we can discard `'dose'` and `'condition'`."
   ]
  },
  {
   "cell_type": "code",
   "execution_count": 9,
   "metadata": {},
   "outputs": [],
   "source": [
    "temp_gender_data = data.pivot(index='date', columns='patient',\n",
    "                              values=['temperature', 'gender'])"
   ]
  },
  {
   "cell_type": "code",
   "execution_count": 10,
   "metadata": {},
   "outputs": [
    {
     "name": "stdout",
     "output_type": "stream",
     "text": [
      "<class 'pandas.core.frame.DataFrame'>\n",
      "DatetimeIndex: 7 entries, 2012-10-02 10:00:00 to 2012-10-02 16:00:00\n",
      "Data columns (total 18 columns):\n",
      " #   Column            Non-Null Count  Dtype \n",
      "---  ------            --------------  ----- \n",
      " 0   (temperature, 1)  7 non-null      object\n",
      " 1   (temperature, 2)  7 non-null      object\n",
      " 2   (temperature, 3)  6 non-null      object\n",
      " 3   (temperature, 4)  7 non-null      object\n",
      " 4   (temperature, 5)  7 non-null      object\n",
      " 5   (temperature, 6)  6 non-null      object\n",
      " 6   (temperature, 7)  7 non-null      object\n",
      " 7   (temperature, 8)  7 non-null      object\n",
      " 8   (temperature, 9)  7 non-null      object\n",
      " 9   (gender, 1)       7 non-null      object\n",
      " 10  (gender, 2)       7 non-null      object\n",
      " 11  (gender, 3)       7 non-null      object\n",
      " 12  (gender, 4)       0 non-null      object\n",
      " 13  (gender, 5)       7 non-null      object\n",
      " 14  (gender, 6)       6 non-null      object\n",
      " 15  (gender, 7)       7 non-null      object\n",
      " 16  (gender, 8)       7 non-null      object\n",
      " 17  (gender, 9)       7 non-null      object\n",
      "dtypes: object(18)\n",
      "memory usage: 1.0+ KB\n"
     ]
    }
   ],
   "source": [
    "temp_gender_data.info()"
   ]
  },
  {
   "cell_type": "markdown",
   "metadata": {},
   "source": [
    "## pivot_table"
   ]
  },
  {
   "cell_type": "markdown",
   "metadata": {},
   "source": [
    "The `pivot_table` method on the other hand will only take the numerical columns into account.  Hence it will not work on this dataframe since it contains categorical data as well."
   ]
  },
  {
   "cell_type": "code",
   "execution_count": 11,
   "metadata": {},
   "outputs": [],
   "source": [
    "time_series_table = data.pivot_table(index='date', columns='patient', values=['dose', 'temperature'])"
   ]
  },
  {
   "cell_type": "markdown",
   "metadata": {},
   "source": [
    "This dataframe has just $2 \\times 9$ columns, two top level columns `'dose'` and `'temperature'`, and the `'patient'` ID as second level."
   ]
  },
  {
   "cell_type": "code",
   "execution_count": 12,
   "metadata": {},
   "outputs": [
    {
     "name": "stdout",
     "output_type": "stream",
     "text": [
      "<class 'pandas.core.frame.DataFrame'>\n",
      "DatetimeIndex: 7 entries, 2012-10-02 10:00:00 to 2012-10-02 16:00:00\n",
      "Data columns (total 18 columns):\n",
      " #   Column            Non-Null Count  Dtype  \n",
      "---  ------            --------------  -----  \n",
      " 0   (dose, 1)         7 non-null      float32\n",
      " 1   (dose, 2)         7 non-null      float32\n",
      " 2   (dose, 3)         7 non-null      float32\n",
      " 3   (dose, 4)         6 non-null      float32\n",
      " 4   (dose, 5)         7 non-null      float32\n",
      " 5   (dose, 6)         6 non-null      float32\n",
      " 6   (dose, 7)         7 non-null      float32\n",
      " 7   (dose, 8)         7 non-null      float32\n",
      " 8   (dose, 9)         7 non-null      float32\n",
      " 9   (temperature, 1)  7 non-null      float32\n",
      " 10  (temperature, 2)  7 non-null      float32\n",
      " 11  (temperature, 3)  6 non-null      float32\n",
      " 12  (temperature, 4)  7 non-null      float32\n",
      " 13  (temperature, 5)  7 non-null      float32\n",
      " 14  (temperature, 6)  6 non-null      float32\n",
      " 15  (temperature, 7)  7 non-null      float32\n",
      " 16  (temperature, 8)  7 non-null      float32\n",
      " 17  (temperature, 9)  7 non-null      float32\n",
      "dtypes: float32(18)\n",
      "memory usage: 560.0 bytes\n"
     ]
    }
   ],
   "source": [
    "time_series_table.info()"
   ]
  },
  {
   "cell_type": "markdown",
   "metadata": {},
   "source": [
    "The motivation for this implementation is that `pivot_table` is mainly inteneded to aggregate data.  For instance, the cumulative dose can be computed."
   ]
  },
  {
   "cell_type": "code",
   "execution_count": 13,
   "metadata": {},
   "outputs": [],
   "source": [
    "dose_table = data.pivot_table(index='date',\n",
    "                              values=['dose'],\n",
    "                              columns='patient',\n",
    "                              aggfunc='sum',\n",
    "                              margins=True,)"
   ]
  },
  {
   "cell_type": "code",
   "execution_count": 14,
   "metadata": {},
   "outputs": [
    {
     "data": {
      "text/html": [
       "<div>\n",
       "<style scoped>\n",
       "    .dataframe tbody tr th:only-of-type {\n",
       "        vertical-align: middle;\n",
       "    }\n",
       "\n",
       "    .dataframe tbody tr th {\n",
       "        vertical-align: top;\n",
       "    }\n",
       "\n",
       "    .dataframe thead tr th {\n",
       "        text-align: left;\n",
       "    }\n",
       "\n",
       "    .dataframe thead tr:last-of-type th {\n",
       "        text-align: right;\n",
       "    }\n",
       "</style>\n",
       "<table border=\"1\" class=\"dataframe\">\n",
       "  <thead>\n",
       "    <tr>\n",
       "      <th></th>\n",
       "      <th colspan=\"10\" halign=\"left\">dose</th>\n",
       "    </tr>\n",
       "    <tr>\n",
       "      <th>patient</th>\n",
       "      <th>1</th>\n",
       "      <th>2</th>\n",
       "      <th>3</th>\n",
       "      <th>4</th>\n",
       "      <th>5</th>\n",
       "      <th>6</th>\n",
       "      <th>7</th>\n",
       "      <th>8</th>\n",
       "      <th>9</th>\n",
       "      <th>All</th>\n",
       "    </tr>\n",
       "    <tr>\n",
       "      <th>date</th>\n",
       "      <th></th>\n",
       "      <th></th>\n",
       "      <th></th>\n",
       "      <th></th>\n",
       "      <th></th>\n",
       "      <th></th>\n",
       "      <th></th>\n",
       "      <th></th>\n",
       "      <th></th>\n",
       "      <th></th>\n",
       "    </tr>\n",
       "  </thead>\n",
       "  <tbody>\n",
       "    <tr>\n",
       "      <th>2012-10-02 10:00:00</th>\n",
       "      <td>0.0</td>\n",
       "      <td>0.0</td>\n",
       "      <td>0.0</td>\n",
       "      <td>0.0</td>\n",
       "      <td>0.0</td>\n",
       "      <td>0.0</td>\n",
       "      <td>0.0</td>\n",
       "      <td>0.0</td>\n",
       "      <td>0.0</td>\n",
       "      <td>0.0</td>\n",
       "    </tr>\n",
       "    <tr>\n",
       "      <th>2012-10-02 11:00:00</th>\n",
       "      <td>2.0</td>\n",
       "      <td>5.0</td>\n",
       "      <td>2.0</td>\n",
       "      <td>5.0</td>\n",
       "      <td>3.0</td>\n",
       "      <td>2.0</td>\n",
       "      <td>10.0</td>\n",
       "      <td>0.0</td>\n",
       "      <td>10.0</td>\n",
       "      <td>39.0</td>\n",
       "    </tr>\n",
       "    <tr>\n",
       "      <th>2012-10-02 12:00:00</th>\n",
       "      <td>2.0</td>\n",
       "      <td>5.0</td>\n",
       "      <td>5.0</td>\n",
       "      <td>5.0</td>\n",
       "      <td>7.0</td>\n",
       "      <td>3.0</td>\n",
       "      <td>5.0</td>\n",
       "      <td>0.0</td>\n",
       "      <td>12.0</td>\n",
       "      <td>44.0</td>\n",
       "    </tr>\n",
       "    <tr>\n",
       "      <th>2012-10-02 13:00:00</th>\n",
       "      <td>2.0</td>\n",
       "      <td>5.0</td>\n",
       "      <td>2.0</td>\n",
       "      <td>0.0</td>\n",
       "      <td>5.0</td>\n",
       "      <td>2.0</td>\n",
       "      <td>8.0</td>\n",
       "      <td>0.0</td>\n",
       "      <td>4.0</td>\n",
       "      <td>28.0</td>\n",
       "    </tr>\n",
       "    <tr>\n",
       "      <th>2012-10-02 14:00:00</th>\n",
       "      <td>0.0</td>\n",
       "      <td>0.0</td>\n",
       "      <td>2.0</td>\n",
       "      <td>0.0</td>\n",
       "      <td>9.0</td>\n",
       "      <td>1.0</td>\n",
       "      <td>3.0</td>\n",
       "      <td>0.0</td>\n",
       "      <td>4.0</td>\n",
       "      <td>19.0</td>\n",
       "    </tr>\n",
       "    <tr>\n",
       "      <th>2012-10-02 15:00:00</th>\n",
       "      <td>0.0</td>\n",
       "      <td>0.0</td>\n",
       "      <td>2.0</td>\n",
       "      <td>0.0</td>\n",
       "      <td>3.0</td>\n",
       "      <td>0.0</td>\n",
       "      <td>3.0</td>\n",
       "      <td>0.0</td>\n",
       "      <td>0.0</td>\n",
       "      <td>8.0</td>\n",
       "    </tr>\n",
       "    <tr>\n",
       "      <th>2012-10-02 16:00:00</th>\n",
       "      <td>0.0</td>\n",
       "      <td>0.0</td>\n",
       "      <td>0.0</td>\n",
       "      <td>0.0</td>\n",
       "      <td>0.0</td>\n",
       "      <td>NaN</td>\n",
       "      <td>1.0</td>\n",
       "      <td>0.0</td>\n",
       "      <td>0.0</td>\n",
       "      <td>1.0</td>\n",
       "    </tr>\n",
       "    <tr>\n",
       "      <th>All</th>\n",
       "      <td>6.0</td>\n",
       "      <td>15.0</td>\n",
       "      <td>13.0</td>\n",
       "      <td>10.0</td>\n",
       "      <td>27.0</td>\n",
       "      <td>8.0</td>\n",
       "      <td>30.0</td>\n",
       "      <td>0.0</td>\n",
       "      <td>30.0</td>\n",
       "      <td>139.0</td>\n",
       "    </tr>\n",
       "  </tbody>\n",
       "</table>\n",
       "</div>"
      ],
      "text/plain": [
       "                    dose                                                     \n",
       "patient                1     2     3     4     5    6     7    8     9    All\n",
       "date                                                                         \n",
       "2012-10-02 10:00:00  0.0   0.0   0.0   0.0   0.0  0.0   0.0  0.0   0.0    0.0\n",
       "2012-10-02 11:00:00  2.0   5.0   2.0   5.0   3.0  2.0  10.0  0.0  10.0   39.0\n",
       "2012-10-02 12:00:00  2.0   5.0   5.0   5.0   7.0  3.0   5.0  0.0  12.0   44.0\n",
       "2012-10-02 13:00:00  2.0   5.0   2.0   0.0   5.0  2.0   8.0  0.0   4.0   28.0\n",
       "2012-10-02 14:00:00  0.0   0.0   2.0   0.0   9.0  1.0   3.0  0.0   4.0   19.0\n",
       "2012-10-02 15:00:00  0.0   0.0   2.0   0.0   3.0  0.0   3.0  0.0   0.0    8.0\n",
       "2012-10-02 16:00:00  0.0   0.0   0.0   0.0   0.0  NaN   1.0  0.0   0.0    1.0\n",
       "All                  6.0  15.0  13.0  10.0  27.0  8.0  30.0  0.0  30.0  139.0"
      ]
     },
     "execution_count": 14,
     "metadata": {},
     "output_type": "execute_result"
    }
   ],
   "source": [
    "dose_table"
   ]
  },
  {
   "cell_type": "markdown",
   "metadata": {},
   "source": [
    "Note that the `margins` argument results in the computation of totals for rows and colomns (according to the aggregation function)."
   ]
  },
  {
   "cell_type": "markdown",
   "metadata": {},
   "source": [
    "Compute the maximum temperature for each gender/condition."
   ]
  },
  {
   "cell_type": "code",
   "execution_count": 15,
   "metadata": {},
   "outputs": [
    {
     "data": {
      "text/html": [
       "<div>\n",
       "<style scoped>\n",
       "    .dataframe tbody tr th:only-of-type {\n",
       "        vertical-align: middle;\n",
       "    }\n",
       "\n",
       "    .dataframe tbody tr th {\n",
       "        vertical-align: top;\n",
       "    }\n",
       "\n",
       "    .dataframe thead th {\n",
       "        text-align: right;\n",
       "    }\n",
       "</style>\n",
       "<table border=\"1\" class=\"dataframe\">\n",
       "  <thead>\n",
       "    <tr style=\"text-align: right;\">\n",
       "      <th></th>\n",
       "      <th></th>\n",
       "      <th>temperature</th>\n",
       "    </tr>\n",
       "    <tr>\n",
       "      <th>gender</th>\n",
       "      <th>condition</th>\n",
       "      <th></th>\n",
       "    </tr>\n",
       "  </thead>\n",
       "  <tbody>\n",
       "    <tr>\n",
       "      <th rowspan=\"2\" valign=\"top\">F</th>\n",
       "      <th>A</th>\n",
       "      <td>39.400002</td>\n",
       "    </tr>\n",
       "    <tr>\n",
       "      <th>B</th>\n",
       "      <td>38.099998</td>\n",
       "    </tr>\n",
       "    <tr>\n",
       "      <th rowspan=\"2\" valign=\"top\">M</th>\n",
       "      <th>A</th>\n",
       "      <td>39.500000</td>\n",
       "    </tr>\n",
       "    <tr>\n",
       "      <th>B</th>\n",
       "      <td>40.700001</td>\n",
       "    </tr>\n",
       "  </tbody>\n",
       "</table>\n",
       "</div>"
      ],
      "text/plain": [
       "                  temperature\n",
       "gender condition             \n",
       "F      A            39.400002\n",
       "       B            38.099998\n",
       "M      A            39.500000\n",
       "       B            40.700001"
      ]
     },
     "execution_count": 15,
     "metadata": {},
     "output_type": "execute_result"
    }
   ],
   "source": [
    "data.pivot_table(index=['gender', 'condition'],\n",
    "                 values='temperature',\n",
    "                 aggfunc='max',)"
   ]
  },
  {
   "cell_type": "markdown",
   "metadata": {},
   "source": [
    "Compute the total dose and the maximum temperature for each patient grouped by gender."
   ]
  },
  {
   "cell_type": "code",
   "execution_count": 16,
   "metadata": {},
   "outputs": [
    {
     "data": {
      "text/html": [
       "<div>\n",
       "<style scoped>\n",
       "    .dataframe tbody tr th:only-of-type {\n",
       "        vertical-align: middle;\n",
       "    }\n",
       "\n",
       "    .dataframe tbody tr th {\n",
       "        vertical-align: top;\n",
       "    }\n",
       "\n",
       "    .dataframe thead th {\n",
       "        text-align: right;\n",
       "    }\n",
       "</style>\n",
       "<table border=\"1\" class=\"dataframe\">\n",
       "  <thead>\n",
       "    <tr style=\"text-align: right;\">\n",
       "      <th></th>\n",
       "      <th></th>\n",
       "      <th>dose</th>\n",
       "      <th>temperature</th>\n",
       "    </tr>\n",
       "    <tr>\n",
       "      <th>gender</th>\n",
       "      <th>patient</th>\n",
       "      <th></th>\n",
       "      <th></th>\n",
       "    </tr>\n",
       "  </thead>\n",
       "  <tbody>\n",
       "    <tr>\n",
       "      <th rowspan=\"9\" valign=\"top\">F</th>\n",
       "      <th>1</th>\n",
       "      <td>0.0</td>\n",
       "      <td>NaN</td>\n",
       "    </tr>\n",
       "    <tr>\n",
       "      <th>2</th>\n",
       "      <td>15.0</td>\n",
       "      <td>39.400002</td>\n",
       "    </tr>\n",
       "    <tr>\n",
       "      <th>3</th>\n",
       "      <td>0.0</td>\n",
       "      <td>NaN</td>\n",
       "    </tr>\n",
       "    <tr>\n",
       "      <th>4</th>\n",
       "      <td>0.0</td>\n",
       "      <td>NaN</td>\n",
       "    </tr>\n",
       "    <tr>\n",
       "      <th>5</th>\n",
       "      <td>0.0</td>\n",
       "      <td>NaN</td>\n",
       "    </tr>\n",
       "    <tr>\n",
       "      <th>6</th>\n",
       "      <td>8.0</td>\n",
       "      <td>38.099998</td>\n",
       "    </tr>\n",
       "    <tr>\n",
       "      <th>7</th>\n",
       "      <td>0.0</td>\n",
       "      <td>NaN</td>\n",
       "    </tr>\n",
       "    <tr>\n",
       "      <th>8</th>\n",
       "      <td>0.0</td>\n",
       "      <td>37.900002</td>\n",
       "    </tr>\n",
       "    <tr>\n",
       "      <th>9</th>\n",
       "      <td>0.0</td>\n",
       "      <td>NaN</td>\n",
       "    </tr>\n",
       "    <tr>\n",
       "      <th rowspan=\"9\" valign=\"top\">M</th>\n",
       "      <th>1</th>\n",
       "      <td>6.0</td>\n",
       "      <td>38.500000</td>\n",
       "    </tr>\n",
       "    <tr>\n",
       "      <th>2</th>\n",
       "      <td>0.0</td>\n",
       "      <td>NaN</td>\n",
       "    </tr>\n",
       "    <tr>\n",
       "      <th>3</th>\n",
       "      <td>13.0</td>\n",
       "      <td>39.500000</td>\n",
       "    </tr>\n",
       "    <tr>\n",
       "      <th>4</th>\n",
       "      <td>0.0</td>\n",
       "      <td>NaN</td>\n",
       "    </tr>\n",
       "    <tr>\n",
       "      <th>5</th>\n",
       "      <td>27.0</td>\n",
       "      <td>39.500000</td>\n",
       "    </tr>\n",
       "    <tr>\n",
       "      <th>6</th>\n",
       "      <td>0.0</td>\n",
       "      <td>NaN</td>\n",
       "    </tr>\n",
       "    <tr>\n",
       "      <th>7</th>\n",
       "      <td>30.0</td>\n",
       "      <td>40.700001</td>\n",
       "    </tr>\n",
       "    <tr>\n",
       "      <th>8</th>\n",
       "      <td>0.0</td>\n",
       "      <td>NaN</td>\n",
       "    </tr>\n",
       "    <tr>\n",
       "      <th>9</th>\n",
       "      <td>30.0</td>\n",
       "      <td>40.200001</td>\n",
       "    </tr>\n",
       "  </tbody>\n",
       "</table>\n",
       "</div>"
      ],
      "text/plain": [
       "                dose  temperature\n",
       "gender patient                   \n",
       "F      1         0.0          NaN\n",
       "       2        15.0    39.400002\n",
       "       3         0.0          NaN\n",
       "       4         0.0          NaN\n",
       "       5         0.0          NaN\n",
       "       6         8.0    38.099998\n",
       "       7         0.0          NaN\n",
       "       8         0.0    37.900002\n",
       "       9         0.0          NaN\n",
       "M      1         6.0    38.500000\n",
       "       2         0.0          NaN\n",
       "       3        13.0    39.500000\n",
       "       4         0.0          NaN\n",
       "       5        27.0    39.500000\n",
       "       6         0.0          NaN\n",
       "       7        30.0    40.700001\n",
       "       8         0.0          NaN\n",
       "       9        30.0    40.200001"
      ]
     },
     "execution_count": 16,
     "metadata": {},
     "output_type": "execute_result"
    }
   ],
   "source": [
    "data.pivot_table(index=['gender', 'patient'],\n",
    "                 values=['temperature', 'dose'],\n",
    "                 aggfunc={\n",
    "                     'temperature': 'max',\n",
    "                     'dose': 'sum',\n",
    "                 },)"
   ]
  }
 ],
 "metadata": {
  "kernelspec": {
   "display_name": "Python 3 (ipykernel)",
   "language": "python",
   "name": "python3"
  },
  "language_info": {
   "codemirror_mode": {
    "name": "ipython",
    "version": 3
   },
   "file_extension": ".py",
   "mimetype": "text/x-python",
   "name": "python",
   "nbconvert_exporter": "python",
   "pygments_lexer": "ipython3",
   "version": "3.12.0"
  }
 },
 "nbformat": 4,
 "nbformat_minor": 4
}
